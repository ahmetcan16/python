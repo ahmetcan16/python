{
 "cells": [
  {
   "attachments": {},
   "cell_type": "markdown",
   "metadata": {},
   "source": [
    "### FOR\n",
    "LOOPS - DÖGÜLER\n"
   ]
  },
  {
   "attachments": {},
   "cell_type": "markdown",
   "metadata": {},
   "source": [
    "[sum() - toplama](#1)\n",
    "\n",
    "[zip() ](#2)"
   ]
  },
  {
   "cell_type": "code",
   "execution_count": 1,
   "metadata": {},
   "outputs": [
    {
     "name": "stdout",
     "output_type": "stream",
     "text": [
      "t\n",
      "e\n",
      "c\n",
      "h\n",
      "p\n",
      "r\n",
      "o\n"
     ]
    }
   ],
   "source": [
    "for i in \"techpro\":\n",
    "    print(i)"
   ]
  },
  {
   "cell_type": "code",
   "execution_count": 19,
   "metadata": {},
   "outputs": [
    {
     "name": "stdout",
     "output_type": "stream",
     "text": [
      "1-2-3-4-5\n"
     ]
    }
   ],
   "source": [
    "a = \"\"\n",
    "for i in [1, 2, 3, 4, 5]:\n",
    "    a += str(i) + \"-\"\n",
    "print(a.rstrip(\"-\"))"
   ]
  },
  {
   "cell_type": "code",
   "execution_count": 28,
   "metadata": {},
   "outputs": [
    {
     "data": {
      "text/plain": [
       "'t-e-c-h-p-r-o'"
      ]
     },
     "execution_count": 28,
     "metadata": {},
     "output_type": "execute_result"
    }
   ],
   "source": [
    "liste2 = []\n",
    "for i in \"techpro\":\n",
    "    liste2.append(i)\n",
    "\"-\".join(liste2)"
   ]
  },
  {
   "cell_type": "code",
   "execution_count": 5,
   "metadata": {},
   "outputs": [
    {
     "name": "stdout",
     "output_type": "stream",
     "text": [
      "adem\n",
      "ahmet\n",
      "filiz\n"
     ]
    }
   ],
   "source": [
    "for name in (\"adem\", \"ahmet\", \"filiz\"):\n",
    "    print(name)"
   ]
  },
  {
   "cell_type": "code",
   "execution_count": 7,
   "metadata": {},
   "outputs": [
    {
     "name": "stdout",
     "output_type": "stream",
     "text": [
      "[1, 4, 9, 16, 25]\n"
     ]
    }
   ],
   "source": [
    "# karelerinin listesinin oluşturun\n",
    "liste_1 = [1, 2, 3, 4, 5]\n",
    "\n",
    "liste_kareler = []\n",
    "for i in liste_1:\n",
    "    liste_kareler.append(i ** 2)\n",
    "print(liste_kareler)"
   ]
  },
  {
   "cell_type": "code",
   "execution_count": 36,
   "metadata": {},
   "outputs": [
    {
     "name": "stdout",
     "output_type": "stream",
     "text": [
      "1*2*3*4*5*"
     ]
    }
   ],
   "source": [
    "a = tuple(\"12345\")\n",
    "\n",
    "for i in a:\n",
    "    print(i, end=\"*\")"
   ]
  },
  {
   "cell_type": "code",
   "execution_count": 35,
   "metadata": {},
   "outputs": [
    {
     "name": "stdout",
     "output_type": "stream",
     "text": [
      "b-n-t-h-a-i-s-"
     ]
    }
   ],
   "source": [
    "b = set(\"sabahattin\")\n",
    "\n",
    "for i in b:\n",
    "    print(i, end=\"-\")"
   ]
  },
  {
   "cell_type": "code",
   "execution_count": 46,
   "metadata": {},
   "outputs": [
    {
     "name": "stdout",
     "output_type": "stream",
     "text": [
      "name\n",
      "job\n",
      "age\n",
      "\n",
      "İsmet\n",
      "Data scientist\n",
      "25\n",
      "\n",
      "name : İsmet\n",
      "job : Data scientist\n",
      "age : 25\n"
     ]
    }
   ],
   "source": [
    "dict_1 = {\"name\": \"İsmet\", \"job\" : \"Data scientist\", \"age\": 25}\n",
    "\n",
    "#keyleri döndürür\n",
    "\n",
    "for i in dict_1:\n",
    "    print(i)\n",
    "print(\"\")\n",
    "for i in dict_1.values():\n",
    "    print(i)\n",
    "print(\"\")\n",
    "for i, j in dict_1.items():\n",
    "    print(f\"{i} : {j}\")"
   ]
  },
  {
   "cell_type": "code",
   "execution_count": 51,
   "metadata": {},
   "outputs": [
    {
     "name": "stdout",
     "output_type": "stream",
     "text": [
      "key : name       \tvalue : ismet               \n",
      "key : surname    \tvalue : yılmaz              \n",
      "key : age        \tvalue : 25                  \n"
     ]
    }
   ],
   "source": [
    "dict_2 = {\"name\": \"ismet\", \"surname\": \"yılmaz\", \"age\": 25}\n",
    "\n",
    "for i, j in dict_2.items():\n",
    "    print(f\"key : {i:<10} \\tvalue : {j:<20}\")"
   ]
  },
  {
   "cell_type": "code",
   "execution_count": 3,
   "metadata": {},
   "outputs": [
    {
     "name": "stdout",
     "output_type": "stream",
     "text": [
      "ceza\n",
      "ceza\n",
      "ceza\n",
      "ceza\n",
      "ceza\n",
      "ceza\n",
      "ceza\n",
      "ceza\n",
      "ceza\n",
      "ceza\n"
     ]
    }
   ],
   "source": [
    "for i in range(10):\n",
    "    print(\"ceza\")"
   ]
  },
  {
   "cell_type": "code",
   "execution_count": 85,
   "metadata": {},
   "outputs": [
    {
     "name": "stdout",
     "output_type": "stream",
     "text": [
      "5 x  0 =   0\n",
      "5 x  1 =   5\n",
      "5 x  2 =  10\n",
      "5 x  3 =  15\n",
      "5 x  4 =  20\n",
      "5 x  5 =  25\n",
      "5 x  6 =  30\n",
      "5 x  7 =  35\n",
      "5 x  8 =  40\n",
      "5 x  9 =  45\n",
      "5 x 10 =  50\n"
     ]
    }
   ],
   "source": [
    "#çarpım tablosu\n",
    "x = int(input(\"enter a figure\")) \n",
    "\n",
    "if x in range(10):\n",
    "    for i in range(11):\n",
    "        print(f\"{x} x {i:>2} = {x * i:>3}\")\n",
    "else:\n",
    "    print(f\"{x} is not a figure\")"
   ]
  },
  {
   "cell_type": "code",
   "execution_count": 10,
   "metadata": {},
   "outputs": [
    {
     "name": "stdout",
     "output_type": "stream",
     "text": [
      "5 x  0 =   0\n",
      "5 x  1 =   5\n",
      "5 x  2 =  10\n",
      "5 x  3 =  15\n",
      "5 x  4 =  20\n",
      "5 x  5 =  25\n",
      "5 x  6 =  30\n",
      "5 x  7 =  35\n",
      "5 x  8 =  40\n",
      "5 x  9 =  45\n",
      "5 x 10 =  50\n"
     ]
    }
   ],
   "source": [
    "# rakam verilene kadar giriş istiyor\n",
    "while 1:\n",
    "    x = int(input(\"enter a figure\")) \n",
    "\n",
    "    if x not in range(10):\n",
    "        print(\"figüre must be among 0 and 10\")\n",
    "\n",
    "    else:\n",
    "        for i in range(11):\n",
    "            print(f\"{x} x {i:>2} = {x * i:>3}\")\n",
    "        break"
   ]
  },
  {
   "cell_type": "code",
   "execution_count": 22,
   "metadata": {},
   "outputs": [
    {
     "name": "stdout",
     "output_type": "stream",
     "text": [
      "figüre must be among 0 and 10\n",
      "figüre must be among 0 and 10\n",
      "5 x  0 =   0\n",
      "5 x  1 =   5\n",
      "5 x  2 =  10\n",
      "5 x  3 =  15\n",
      "5 x  4 =  20\n",
      "5 x  5 =  25\n",
      "5 x  6 =  30\n",
      "5 x  7 =  35\n",
      "5 x  8 =  40\n",
      "5 x  9 =  45\n",
      "5 x 10 =  50\n"
     ]
    }
   ],
   "source": [
    "count = 0\n",
    "while count < 3:\n",
    "    x = input(\"enter a figure\")\n",
    "\n",
    "    if not x.isdigit() or int(x) not in range(10):\n",
    "        print(\"figüre must be among 0 and 10\")\n",
    "        count += 1\n",
    "\n",
    "    else:\n",
    "        for i in range(11):\n",
    "            print(f\"{x} x {i:>2} = {int(x) * i:>3}\")\n",
    "        break"
   ]
  },
  {
   "cell_type": "code",
   "execution_count": 24,
   "metadata": {},
   "outputs": [
    {
     "name": "stdout",
     "output_type": "stream",
     "text": [
      "1275\n"
     ]
    }
   ],
   "source": [
    "# 1 den 50 kadar olan sayıların toplamını veren algoritma\n",
    "toplam = 0\n",
    "for i in range(51):\n",
    "    toplam += i\n",
    "print(toplam)"
   ]
  },
  {
   "cell_type": "code",
   "execution_count": 26,
   "metadata": {},
   "outputs": [
    {
     "name": "stdout",
     "output_type": "stream",
     "text": [
      "1085\n"
     ]
    }
   ],
   "source": [
    "# 20 den 50 kadar olan sayıların toplamını veren algoritma\n",
    "toplam = 0\n",
    "for i in range(20, 51):\n",
    "    toplam += i\n",
    "print(toplam)"
   ]
  },
  {
   "cell_type": "code",
   "execution_count": 27,
   "metadata": {},
   "outputs": [
    {
     "name": "stdout",
     "output_type": "stream",
     "text": [
      "650\n"
     ]
    }
   ],
   "source": [
    "# 1 den 50 kadar olan çift sayıların toplamını veren algoritma\n",
    "toplam = 0\n",
    "for i in range(0, 51, 2):\n",
    "    toplam += i\n",
    "print(toplam)"
   ]
  },
  {
   "cell_type": "code",
   "execution_count": 29,
   "metadata": {},
   "outputs": [
    {
     "name": "stdout",
     "output_type": "stream",
     "text": [
      "625\n"
     ]
    }
   ],
   "source": [
    "# 1 den 50 kadar olan tek sayıların toplamını veren algoritma\n",
    "toplam = 0\n",
    "for i in range(1, 51, 2):\n",
    "    toplam += i\n",
    "print(toplam)"
   ]
  },
  {
   "attachments": {},
   "cell_type": "markdown",
   "metadata": {},
   "source": [
    "<a id =\"1\"></a>\n",
    "#### sum()"
   ]
  },
  {
   "cell_type": "code",
   "execution_count": 36,
   "metadata": {},
   "outputs": [
    {
     "data": {
      "text/plain": [
       "1275"
      ]
     },
     "execution_count": 36,
     "metadata": {},
     "output_type": "execute_result"
    }
   ],
   "source": [
    "sum(range(51))"
   ]
  },
  {
   "cell_type": "code",
   "execution_count": 38,
   "metadata": {},
   "outputs": [
    {
     "data": {
      "text/plain": [
       "39"
      ]
     },
     "execution_count": 38,
     "metadata": {},
     "output_type": "execute_result"
    }
   ],
   "source": [
    "sum((4, 5, 6, 7, 8, 9))"
   ]
  },
  {
   "cell_type": "code",
   "execution_count": 41,
   "metadata": {},
   "outputs": [
    {
     "data": {
      "text/plain": [
       "139"
      ]
     },
     "execution_count": 41,
     "metadata": {},
     "output_type": "execute_result"
    }
   ],
   "source": [
    "sum((4, 5, 6, 7, 8, 9), start=100) #100 ekledi"
   ]
  },
  {
   "cell_type": "code",
   "execution_count": 42,
   "metadata": {},
   "outputs": [
    {
     "data": {
      "text/plain": [
       "40"
      ]
     },
     "execution_count": 42,
     "metadata": {},
     "output_type": "execute_result"
    }
   ],
   "source": [
    "sum((4, 5, 6, 7, 8, 9), True) # startı True yani 1 aldı"
   ]
  },
  {
   "attachments": {},
   "cell_type": "markdown",
   "metadata": {},
   "source": [
    "break, continue"
   ]
  },
  {
   "cell_type": "code",
   "execution_count": 45,
   "metadata": {},
   "outputs": [
    {
     "name": "stdout",
     "output_type": "stream",
     "text": [
      "1-2-3-4-5-6-7-8-9-"
     ]
    }
   ],
   "source": [
    "for i in range(1, 10):\n",
    "    print(i, end= \"-\")"
   ]
  },
  {
   "cell_type": "code",
   "execution_count": 52,
   "metadata": {},
   "outputs": [
    {
     "name": "stdout",
     "output_type": "stream",
     "text": [
      "1\n",
      "2\n",
      "3\n",
      "9\n"
     ]
    }
   ],
   "source": [
    "for i in [1, 2, 3, 4, 5, 6, 7, 8, 9]:\n",
    "    print(i)\n",
    "    if i % 3 == 0:\n",
    "        print(i ** 2)\n",
    "        break"
   ]
  },
  {
   "cell_type": "code",
   "execution_count": 2,
   "metadata": {},
   "outputs": [
    {
     "name": "stdout",
     "output_type": "stream",
     "text": [
      "40\n"
     ]
    },
    {
     "data": {
      "text/plain": [
       "45"
      ]
     },
     "execution_count": 2,
     "metadata": {},
     "output_type": "execute_result"
    }
   ],
   "source": [
    "k = 0\n",
    "for i in range(10):\n",
    "    if i == 5:\n",
    "        continue\n",
    "    k += i\n",
    "print(k)\n",
    "sum(range(10))"
   ]
  },
  {
   "cell_type": "code",
   "execution_count": 12,
   "metadata": {},
   "outputs": [
    {
     "name": "stdout",
     "output_type": "stream",
     "text": [
      "153\n"
     ]
    },
    {
     "data": {
      "text/plain": [
       "208"
      ]
     },
     "execution_count": 12,
     "metadata": {},
     "output_type": "execute_result"
    }
   ],
   "source": [
    "#üçe bölünebilenleri topla\n",
    "k = 0\n",
    "for i in [1, 4, 6, 8, 9, 5 ,4, 7, 27, 26, 30, 33, 48]:\n",
    "    if i % 3 != 0:\n",
    "        continue\n",
    "    k += i\n",
    "print(k)\n",
    "sum([1, 4, 6, 8, 9, 5 ,4, 7, 27, 26, 30, 33, 48])"
   ]
  },
  {
   "attachments": {},
   "cell_type": "markdown",
   "metadata": {},
   "source": [
    "<a id = \"2\"></a>\n",
    "#### zip()"
   ]
  },
  {
   "cell_type": "code",
   "execution_count": 14,
   "metadata": {},
   "outputs": [
    {
     "data": {
      "text/plain": [
       "[('apple', 1), ('orange', 2), ('banana', 3)]"
      ]
     },
     "execution_count": 14,
     "metadata": {},
     "output_type": "execute_result"
    }
   ],
   "source": [
    "a = [\"apple\", \"orange\", \"banana\"]\n",
    "b = [1, 2, 3]\n",
    "list(zip(a,b))"
   ]
  },
  {
   "cell_type": "code",
   "execution_count": 17,
   "metadata": {},
   "outputs": [
    {
     "data": {
      "text/plain": [
       "[('t', 's', 'a'), ('e', 'e', 'l'), ('c', 'd', 'i')]"
      ]
     },
     "execution_count": 17,
     "metadata": {},
     "output_type": "execute_result"
    }
   ],
   "source": [
    "x = \"techpro\"\n",
    "y = \"sedat\"\n",
    "z = \"ali\"\n",
    "list(zip(x, y, z)) # en kısaya göre oluşturur."
   ]
  }
 ],
 "metadata": {
  "kernelspec": {
   "display_name": "Python 3",
   "language": "python",
   "name": "python3"
  },
  "language_info": {
   "codemirror_mode": {
    "name": "ipython",
    "version": 3
   },
   "file_extension": ".py",
   "mimetype": "text/x-python",
   "name": "python",
   "nbconvert_exporter": "python",
   "pygments_lexer": "ipython3",
   "version": "3.11.1"
  },
  "orig_nbformat": 4,
  "vscode": {
   "interpreter": {
    "hash": "55cfa1d2dc12e3e5fc2931afa7a5a4f86432dfdad9e2fda08df56b7572964520"
   }
  }
 },
 "nbformat": 4,
 "nbformat_minor": 2
}
