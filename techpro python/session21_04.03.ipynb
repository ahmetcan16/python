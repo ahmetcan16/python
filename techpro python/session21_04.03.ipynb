{
 "cells": [
  {
   "attachments": {},
   "cell_type": "markdown",
   "metadata": {},
   "source": [
    "TRY EXCEPT: hata varsa çalışmaya devam ettirme\n",
    "\n",
    "try\n",
    "except\n",
    "else\n",
    "finally\n",
    "\n",
    "except'e error ismini yazmazsak bütün hatalarda çalışır.\n",
    "\n",
    "except'e error ismi yazarsak sadece o hata varsa çalışır"
   ]
  },
  {
   "cell_type": "code",
   "execution_count": 1,
   "metadata": {},
   "outputs": [
    {
     "ename": "TypeError",
     "evalue": "can only concatenate str (not \"int\") to str",
     "output_type": "error",
     "traceback": [
      "\u001b[1;31m---------------------------------------------------------------------------\u001b[0m",
      "\u001b[1;31mTypeError\u001b[0m                                 Traceback (most recent call last)",
      "Cell \u001b[1;32mIn[1], line 1\u001b[0m\n\u001b[1;32m----> 1\u001b[0m \u001b[39m\"\u001b[39;49m\u001b[39m4\u001b[39;49m\u001b[39m\"\u001b[39;49m \u001b[39m+\u001b[39;49m \u001b[39m5\u001b[39;49m\n",
      "\u001b[1;31mTypeError\u001b[0m: can only concatenate str (not \"int\") to str"
     ]
    }
   ],
   "source": [
    "\"4\" + 5"
   ]
  },
  {
   "cell_type": "code",
   "execution_count": 3,
   "metadata": {},
   "outputs": [
    {
     "name": "stdout",
     "output_type": "stream",
     "text": [
      "hatayı gösterme çalışmaya devam et\n"
     ]
    }
   ],
   "source": [
    "try:\n",
    "    \"4\" + 5\n",
    "except:\n",
    "    print(\"hatayı gösterme çalışmaya devam et\")\n"
   ]
  },
  {
   "cell_type": "code",
   "execution_count": 4,
   "metadata": {},
   "outputs": [
    {
     "name": "stdout",
     "output_type": "stream",
     "text": [
      "16\n"
     ]
    }
   ],
   "source": [
    "try:\n",
    "    print(4 ** 2)\n",
    "except:\n",
    "    print(\"hata vermezse burayı göstermez\")"
   ]
  },
  {
   "cell_type": "code",
   "execution_count": 5,
   "metadata": {},
   "outputs": [
    {
     "name": "stdout",
     "output_type": "stream",
     "text": [
      "hatayı gösterme çalışmaya devam et\n"
     ]
    }
   ],
   "source": [
    "try:\n",
    "    \"4\" + 5\n",
    "except TypeError: #sadece bu tip error varsa bu satır çalışır.\n",
    "    print(\"hatayı gösterme çalışmaya devam et\")"
   ]
  },
  {
   "cell_type": "code",
   "execution_count": 6,
   "metadata": {},
   "outputs": [
    {
     "ename": "TypeError",
     "evalue": "can only concatenate str (not \"int\") to str",
     "output_type": "error",
     "traceback": [
      "\u001b[1;31m---------------------------------------------------------------------------\u001b[0m",
      "\u001b[1;31mTypeError\u001b[0m                                 Traceback (most recent call last)",
      "Cell \u001b[1;32mIn[6], line 2\u001b[0m\n\u001b[0;32m      1\u001b[0m \u001b[39mtry\u001b[39;00m:\n\u001b[1;32m----> 2\u001b[0m     \u001b[39m\"\u001b[39;49m\u001b[39m4\u001b[39;49m\u001b[39m\"\u001b[39;49m \u001b[39m+\u001b[39;49m \u001b[39m5\u001b[39;49m\n\u001b[0;32m      3\u001b[0m \u001b[39mexcept\u001b[39;00m \u001b[39mNameError\u001b[39;00m:\n\u001b[0;32m      4\u001b[0m     \u001b[39mprint\u001b[39m(\u001b[39m\"\u001b[39m\u001b[39mhatayı gösterme çalışmaya devam et\u001b[39m\u001b[39m\"\u001b[39m)\n",
      "\u001b[1;31mTypeError\u001b[0m: can only concatenate str (not \"int\") to str"
     ]
    }
   ],
   "source": [
    "try:\n",
    "    \"4\" + 5\n",
    "except NameError: #hata Typeerror olduğu için except satırı çaışmadı\n",
    "    print(\"hatayı gösterme çalışmaya devam et\")"
   ]
  },
  {
   "cell_type": "code",
   "execution_count": 12,
   "metadata": {},
   "outputs": [
    {
     "name": "stdout",
     "output_type": "stream",
     "text": [
      "Bu yazıyı görüryorsanız; girdiğiniz sayılarda hata var demektir\n"
     ]
    }
   ],
   "source": [
    "#bu şekilde str ifadeler girince hata vermez. \n",
    "x = input(\"Bir sayı girin\")\n",
    "y = input(\"Bir sayı girin\")\n",
    "\n",
    "try:\n",
    "    print(int(x) / int(y))\n",
    "except:\n",
    "    print(\"Bu yazıyı görüryorsanız; girdiğiniz sayı(larda) hata var demektir\")"
   ]
  },
  {
   "cell_type": "code",
   "execution_count": 15,
   "metadata": {},
   "outputs": [
    {
     "name": "stdout",
     "output_type": "stream",
     "text": [
      "Bu yazıyı görüryorsanız; girdiğiniz ikinci sayı 0 demektir. Bir sayı sıfıra bölünemez\n"
     ]
    }
   ],
   "source": [
    "x = input(\"Bir sayı girin\")\n",
    "y = input(\"Bir sayı girin\")\n",
    "\n",
    "try:\n",
    "    print(int(x) / int(y))\n",
    "except ValueError:\n",
    "    print(\"Bu yazıyı görüryorsanız; girdiğiniz sayı(larda) hata var demektir\")\n",
    "except ZeroDivisionError:\n",
    "    print(\"Bu yazıyı görüryorsanız; girdiğiniz ikinci sayı 0 demektir. Bir sayı sıfıra bölünemez\")"
   ]
  },
  {
   "cell_type": "code",
   "execution_count": 20,
   "metadata": {},
   "outputs": [
    {
     "name": "stdout",
     "output_type": "stream",
     "text": [
      "100\n"
     ]
    }
   ],
   "source": [
    "\n",
    "x = input(\"Bir sayı girin\")\n",
    "y = input(\"Bir sayı girin\")\n",
    "\n",
    "try:\n",
    "    a = int(x) * int(y)\n",
    "    \n",
    "except (ValueError, ZeroDivisionError):\n",
    "    a = 100\n",
    "    \n",
    "print(a)"
   ]
  },
  {
   "cell_type": "code",
   "execution_count": 23,
   "metadata": {},
   "outputs": [
    {
     "name": "stdout",
     "output_type": "stream",
     "text": [
      "15\n",
      "45\n",
      "48\n"
     ]
    }
   ],
   "source": [
    "liste = [\"15\", \"aa\", \"45\", \"asdasdd48\", \"48\" ]\n",
    "\n",
    "for i in liste:\n",
    "    try:\n",
    "        print(int(i))\n",
    "    except:\n",
    "        continue"
   ]
  },
  {
   "cell_type": "code",
   "execution_count": 24,
   "metadata": {},
   "outputs": [
    {
     "name": "stdout",
     "output_type": "stream",
     "text": [
      "sayıları doğru girin\n",
      "sayıları doğru girin\n",
      "25\n"
     ]
    }
   ],
   "source": [
    "while True:\n",
    "    x = input(\"Bir sayı girin\")\n",
    "    y = input(\"Bir sayı girin\")\n",
    "\n",
    "    try:\n",
    "        a = int(x) * int(y)\n",
    "        print(a)\n",
    "        break\n",
    "    except (ValueError, ZeroDivisionError):\n",
    "         print(\"sayıları doğru girin\")"
   ]
  },
  {
   "cell_type": "code",
   "execution_count": 28,
   "metadata": {},
   "outputs": [
    {
     "name": "stdout",
     "output_type": "stream",
     "text": [
      "hadi başlayalım\n",
      "64\n",
      "Bu yazıyı görüryorsanız; girdiğiniz ikinci sayı 0 demektir. Bir sayı sıfıra bölünemez\n",
      "beni kimse durduramaz. her halükarda çalışırım\n"
     ]
    }
   ],
   "source": [
    "x = input(\"Bir sayı girin\")\n",
    "y = input(\"Bir sayı girin\")\n",
    "\n",
    "try:\n",
    "    print(\"hadi başlayalım\")\n",
    "    print(4 ** 3)\n",
    "    a = int(x) / int(y)\n",
    "\n",
    "except ValueError:\n",
    "    print(\"Bu yazıyı görüryorsanız; girdiğiniz sayı(larda) hata var demektir\")\n",
    "except ZeroDivisionError:\n",
    "    print(\"Bu yazıyı görüryorsanız; girdiğiniz ikinci sayı 0 demektir. Bir sayı sıfıra bölünemez\")\n",
    "else:\n",
    "    print(a ** 2)\n",
    "finally:\n",
    "    print(\"beni kimse durduramaz. her halükarda çalışırım\")"
   ]
  },
  {
   "attachments": {},
   "cell_type": "markdown",
   "metadata": {},
   "source": [
    "moduls"
   ]
  },
  {
   "cell_type": "code",
   "execution_count": 29,
   "metadata": {},
   "outputs": [],
   "source": [
    "import random"
   ]
  },
  {
   "cell_type": "code",
   "execution_count": 47,
   "metadata": {},
   "outputs": [
    {
     "data": {
      "text/plain": [
       "9"
      ]
     },
     "execution_count": 47,
     "metadata": {},
     "output_type": "execute_result"
    }
   ],
   "source": [
    "random.choice([1, 2, 3, 4, 5, 6, 7, 8, 9])"
   ]
  },
  {
   "cell_type": "code",
   "execution_count": 49,
   "metadata": {},
   "outputs": [
    {
     "data": {
      "text/plain": [
       "[2, 4, 8, 6, 7, 5, 3, 1, 9]"
      ]
     },
     "execution_count": 49,
     "metadata": {},
     "output_type": "execute_result"
    }
   ],
   "source": [
    "liste1 = [1, 2, 3, 4, 5, 6, 7, 8, 9]\n",
    "random.shuffle(liste1)\n",
    "liste1"
   ]
  },
  {
   "cell_type": "code",
   "execution_count": 60,
   "metadata": {},
   "outputs": [
    {
     "data": {
      "text/plain": [
       "[1, 5]"
      ]
     },
     "execution_count": 60,
     "metadata": {},
     "output_type": "execute_result"
    }
   ],
   "source": [
    "random.sample(liste1, 2)"
   ]
  },
  {
   "cell_type": "code",
   "execution_count": 59,
   "metadata": {},
   "outputs": [],
   "source": [
    "import string"
   ]
  },
  {
   "cell_type": "code",
   "execution_count": 61,
   "metadata": {},
   "outputs": [
    {
     "data": {
      "text/plain": [
       "'0123456789'"
      ]
     },
     "execution_count": 61,
     "metadata": {},
     "output_type": "execute_result"
    }
   ],
   "source": [
    "string.digits"
   ]
  },
  {
   "cell_type": "code",
   "execution_count": 62,
   "metadata": {},
   "outputs": [
    {
     "data": {
      "text/plain": [
       "'abcdefghijklmnopqrstuvwxyzABCDEFGHIJKLMNOPQRSTUVWXYZ'"
      ]
     },
     "execution_count": 62,
     "metadata": {},
     "output_type": "execute_result"
    }
   ],
   "source": [
    "string.ascii_letters"
   ]
  },
  {
   "cell_type": "code",
   "execution_count": 63,
   "metadata": {},
   "outputs": [
    {
     "ename": "ModuleNotFoundError",
     "evalue": "No module named 'pyautogui'",
     "output_type": "error",
     "traceback": [
      "\u001b[1;31m---------------------------------------------------------------------------\u001b[0m",
      "\u001b[1;31mModuleNotFoundError\u001b[0m                       Traceback (most recent call last)",
      "Cell \u001b[1;32mIn[63], line 1\u001b[0m\n\u001b[1;32m----> 1\u001b[0m \u001b[39mimport\u001b[39;00m \u001b[39mpyautogui\u001b[39;00m\n",
      "\u001b[1;31mModuleNotFoundError\u001b[0m: No module named 'pyautogui'"
     ]
    }
   ],
   "source": [
    "import pyautogui"
   ]
  },
  {
   "cell_type": "code",
   "execution_count": null,
   "metadata": {},
   "outputs": [],
   "source": [
    "pip install pyautogui"
   ]
  },
  {
   "cell_type": "code",
   "execution_count": 65,
   "metadata": {},
   "outputs": [],
   "source": [
    "import pyautogui"
   ]
  },
  {
   "cell_type": "code",
   "execution_count": 68,
   "metadata": {},
   "outputs": [
    {
     "data": {
      "text/plain": [
       "Point(x=832, y=531)"
      ]
     },
     "execution_count": 68,
     "metadata": {},
     "output_type": "execute_result"
    }
   ],
   "source": [
    "pyautogui.position() #imcelecin koorinatlarını verdi"
   ]
  },
  {
   "attachments": {},
   "cell_type": "markdown",
   "metadata": {},
   "source": [
    "Create Modul "
   ]
  },
  {
   "cell_type": "code",
   "execution_count": 1,
   "metadata": {},
   "outputs": [
    {
     "data": {
      "text/plain": [
       "'c:\\\\Users\\\\ertek\\\\Desktop\\\\data science 2023\\\\python 2023\\\\Python\\\\techpro python'"
      ]
     },
     "execution_count": 1,
     "metadata": {},
     "output_type": "execute_result"
    }
   ],
   "source": [
    "pwd #bulunduğumuz ipynb nin konumunu gösterdi"
   ]
  },
  {
   "cell_type": "code",
   "execution_count": null,
   "metadata": {},
   "outputs": [],
   "source": []
  }
 ],
 "metadata": {
  "kernelspec": {
   "display_name": "Python 3",
   "language": "python",
   "name": "python3"
  },
  "language_info": {
   "codemirror_mode": {
    "name": "ipython",
    "version": 3
   },
   "file_extension": ".py",
   "mimetype": "text/x-python",
   "name": "python",
   "nbconvert_exporter": "python",
   "pygments_lexer": "ipython3",
   "version": "3.11.1"
  },
  "orig_nbformat": 4
 },
 "nbformat": 4,
 "nbformat_minor": 2
}
