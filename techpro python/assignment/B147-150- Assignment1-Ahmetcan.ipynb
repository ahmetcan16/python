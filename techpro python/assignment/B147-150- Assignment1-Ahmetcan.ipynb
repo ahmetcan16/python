{
 "cells": [
  {
   "cell_type": "markdown",
   "id": "386239ff",
   "metadata": {},
   "source": [
    "___\n",
    "\n",
    "<p style=\"text-align: center;\"><img src=\"https://techproeducation.com/wp-content/uploads/2022/01/Calisma-Yuzeyi-1-kopya-5-1-768x126.png\" class=\"img-fluid\" alt=\"TECHPRO\"></p>\n",
    "\n",
    "___"
   ]
  },
  {
   "attachments": {},
   "cell_type": "markdown",
   "id": "aa93b12c",
   "metadata": {},
   "source": [
    "### Python Functions Assignment"
   ]
  },
  {
   "attachments": {},
   "cell_type": "markdown",
   "id": "57c9c596",
   "metadata": {},
   "source": [
    "#### 1. Write a Python function to find the maximum of three numbers."
   ]
  },
  {
   "cell_type": "code",
   "execution_count": 1,
   "id": "9655e704",
   "metadata": {},
   "outputs": [
    {
     "data": {
      "text/plain": [
       "[3, 15, 50]"
      ]
     },
     "execution_count": 1,
     "metadata": {},
     "output_type": "execute_result"
    }
   ],
   "source": [
    "def max_three(*args):\n",
    "    return sorted([i for i in args])[-3:]\n",
    "max_three(0, 50, 15, 0, 1, 2, 3)\n"
   ]
  },
  {
   "attachments": {},
   "cell_type": "markdown",
   "id": "d6d0667d",
   "metadata": {},
   "source": [
    "#### 2. Write a Python function to sum all the numbers in a list.\n",
    "\n",
    "#### Sample List : (8, 2, 3, 0, 7)\n",
    "\n",
    "#### Expected Output : 20"
   ]
  },
  {
   "cell_type": "code",
   "execution_count": 27,
   "id": "28fb6939",
   "metadata": {},
   "outputs": [
    {
     "data": {
      "text/plain": [
       "20"
      ]
     },
     "execution_count": 27,
     "metadata": {},
     "output_type": "execute_result"
    }
   ],
   "source": [
    "def my_sum(liste):\n",
    "    a = 0\n",
    "    for i in liste:\n",
    "        a += i \n",
    "    return a\n",
    "my_sum((8, 2, 3, 0, 7))\n"
   ]
  },
  {
   "attachments": {},
   "cell_type": "markdown",
   "id": "8991e3fe",
   "metadata": {},
   "source": [
    "#### 3. Write a Python function to multiply all the numbers in a list.\n",
    "#### Sample List : (8, 2, 3, -1, 7)\n",
    "#### Expected Output : -336\n"
   ]
  },
  {
   "cell_type": "code",
   "execution_count": 28,
   "id": "325e7de4",
   "metadata": {},
   "outputs": [
    {
     "data": {
      "text/plain": [
       "-336"
      ]
     },
     "execution_count": 28,
     "metadata": {},
     "output_type": "execute_result"
    }
   ],
   "source": [
    "def multiply(liste):\n",
    "    a = 1\n",
    "    for i in liste:\n",
    "        a *= i \n",
    "    return a\n",
    "multiply((8, 2, 3, -1, 7))"
   ]
  },
  {
   "attachments": {},
   "cell_type": "markdown",
   "id": "d0397d6a",
   "metadata": {},
   "source": [
    "#### 4. Write a Python program to reverse a string.\n",
    "#### Sample String : \"1234abcd\"\n",
    "#### Expected Output : \"dcba4321\""
   ]
  },
  {
   "cell_type": "code",
   "execution_count": 29,
   "id": "e6a79379",
   "metadata": {},
   "outputs": [
    {
     "data": {
      "text/plain": [
       "'dcba4321'"
      ]
     },
     "execution_count": 29,
     "metadata": {},
     "output_type": "execute_result"
    }
   ],
   "source": [
    "def my_reverse(string):\n",
    "    return string[::-1]\n",
    "my_reverse(\"1234abcd\")"
   ]
  },
  {
   "attachments": {},
   "cell_type": "markdown",
   "id": "c7a633ba",
   "metadata": {},
   "source": [
    "#### 5. Write a Python function to calculate the factorial of a number (a non-negative integer).\n",
    "#### The function accepts the number as an argument."
   ]
  },
  {
   "cell_type": "code",
   "execution_count": 118,
   "id": "29d849d6",
   "metadata": {},
   "outputs": [
    {
     "data": {
      "text/plain": [
       "1"
      ]
     },
     "execution_count": 118,
     "metadata": {},
     "output_type": "execute_result"
    }
   ],
   "source": [
    "def faktoriyel(sayı):\n",
    "    try:\n",
    "        if sayı == 1 or sayı == 0:\n",
    "            return 1\n",
    "        elif sayı < 0:\n",
    "            return \"lütfen pozitif tamsayı giriniz\" \n",
    "        return sayı * (sayı - 1)\n",
    "    \n",
    "    except:\n",
    "        return \"lütfen bir sayı giriniz\"\n",
    "faktoriyel(1)"
   ]
  },
  {
   "attachments": {},
   "cell_type": "markdown",
   "id": "81f0c3d5",
   "metadata": {},
   "source": [
    "#### 6. Write a Python function to check whether a number falls within a given range."
   ]
  },
  {
   "cell_type": "code",
   "execution_count": 122,
   "id": "bf393352",
   "metadata": {},
   "outputs": [
    {
     "data": {
      "text/plain": [
       "'5 sayısı 4 ve 12 arasında bir sayı mıdır : True'"
      ]
     },
     "execution_count": 122,
     "metadata": {},
     "output_type": "execute_result"
    }
   ],
   "source": [
    "def check_range(sayı, başlangıç, bitiş):\n",
    "    return f\"{sayı} sayısı {başlangıç} ve {bitiş} arasında bir sayı mıdır : {sayı in range(başlangıç + 1, bitiş)}\"\n",
    "check_range(5, 4, 12)"
   ]
  },
  {
   "attachments": {},
   "cell_type": "markdown",
   "id": "46d9792b",
   "metadata": {},
   "source": [
    "#### 7. Write a Python function that accepts a string and counts the number of upper and lower case letters.\n",
    "Sample String : 'The quick Brow Fox'\n",
    "\n",
    "Expected Output :\n",
    "\n",
    "No. of Upper case characters : 3\n",
    "\n",
    "No. of Lower case Characters : 12"
   ]
  },
  {
   "cell_type": "code",
   "execution_count": 136,
   "id": "195a965b",
   "metadata": {},
   "outputs": [
    {
     "data": {
      "text/plain": [
       "{'No. of Upper case characters': 3, 'No. of Lower case Characters': 12}"
      ]
     },
     "execution_count": 136,
     "metadata": {},
     "output_type": "execute_result"
    }
   ],
   "source": [
    "def counter(string):\n",
    "    sözlük = {\"No. of Upper case characters\" : 0,\n",
    "              \"No. of Lower case Characters\" : 0}\n",
    "    for i in \"\".join(string.split()):\n",
    "        if i.islower():\n",
    "            sözlük[\"No. of Lower case Characters\"] += 1\n",
    "        elif i.isupper():\n",
    "            sözlük[\"No. of Upper case characters\"] += 1\n",
    "    return sözlük\n",
    "\n",
    "\n",
    "counter(\"The quick Brow Fox\")"
   ]
  },
  {
   "attachments": {},
   "cell_type": "markdown",
   "id": "be714b42",
   "metadata": {},
   "source": [
    "## 8. Write a Python function that takes a list and returns a new list with distinct elements from the first list.\n",
    "### Sample List : [1,2,3,3,3,3,4,5]\n",
    "### Unique List : [1, 2, 3, 4, 5]   "
   ]
  },
  {
   "cell_type": "code",
   "execution_count": 138,
   "id": "4f2a7f66",
   "metadata": {},
   "outputs": [
    {
     "data": {
      "text/plain": [
       "[1, 2, 3, 4, 5]"
      ]
     },
     "execution_count": 138,
     "metadata": {},
     "output_type": "execute_result"
    }
   ],
   "source": [
    "def unique_list(liste):\n",
    "    return list(set(liste)) \n",
    "unique_list([1, 2, 3, 3, 3, 3, 4, 5])"
   ]
  },
  {
   "attachments": {},
   "cell_type": "markdown",
   "id": "b3400547",
   "metadata": {},
   "source": [
    "#### 9. Write a Python function that takes a number as a parameter and checks whether the number is prime or not.\n",
    "### Note : A prime number (or a prime) is a natural number greater than 1 and that has no positive divisors other than 1 and itself."
   ]
  },
  {
   "cell_type": "code",
   "execution_count": 1,
   "id": "9179b32b",
   "metadata": {},
   "outputs": [
    {
     "data": {
      "text/plain": [
       "False"
      ]
     },
     "execution_count": 1,
     "metadata": {},
     "output_type": "execute_result"
    }
   ],
   "source": [
    "def asal_sayimi(sayı):\n",
    "    sayaç = 0\n",
    "    for i in range(2, sayı):\n",
    "        if sayı % i == 0:\n",
    "            sayaç += 1\n",
    "    return sayı >= 2 and sayaç == 0\n",
    "asal_sayimi(10)"
   ]
  },
  {
   "cell_type": "markdown",
   "id": "9743a8c3",
   "metadata": {},
   "source": [
    "## 10. Write a Python program to print the even numbers from a given list.\n",
    "### Sample List : [1, 2, 3, 4, 5, 6, 7, 8, 9]\n",
    "### Expected Result : [2, 4, 6, 8]"
   ]
  },
  {
   "cell_type": "code",
   "execution_count": 150,
   "id": "039185d2",
   "metadata": {},
   "outputs": [
    {
     "data": {
      "text/plain": [
       "[2, 4, 6, 8]"
      ]
     },
     "execution_count": 150,
     "metadata": {},
     "output_type": "execute_result"
    }
   ],
   "source": [
    "def çiftler(liste):\n",
    "    return [i for i in liste if i % 2 == 0]\n",
    "çiftler([1, 2, 3, 4, 5, 6, 7, 8, 9])"
   ]
  },
  {
   "cell_type": "markdown",
   "id": "6c80fb99",
   "metadata": {},
   "source": [
    "## 11. Write a Python function to check whether a number is \"Perfect\" or not.\n",
    "### According to Wikipedia : In number theory, a perfect number is a positive integer that is equal to the sum of its proper positive divisors, that is, the sum of its positive divisors excluding the number itself (also known as its aliquot sum). Equivalently, a perfect number is a number that is half the sum of all of its positive divisors (including itself).\n",
    "### Example : The first perfect number is 6, because 1, 2, and 3 are its proper positive divisors, and 1 + 2 + 3 = 6. Equivalently, the number 6 is equal to half the sum of all its positive divisors: ( 1 + 2 + 3 + 6 ) / 2 = 6. The next perfect number is 28 = 1 + 2 + 4 + 7 + 14. This is followed by the perfect numbers 496 and 8128."
   ]
  },
  {
   "cell_type": "code",
   "execution_count": 169,
   "id": "39ffa501",
   "metadata": {},
   "outputs": [
    {
     "data": {
      "text/plain": [
       "True"
      ]
     },
     "execution_count": 169,
     "metadata": {},
     "output_type": "execute_result"
    }
   ],
   "source": [
    "def isperfectnumber(sayı):\n",
    "    return sum([i for i in range(1, sayı) if sayı % i == 0]) == sayı and sayı > 0\n",
    "isperfectnumber(8128)"
   ]
  },
  {
   "cell_type": "markdown",
   "id": "795dc6b0",
   "metadata": {},
   "source": [
    "## 12. Write a Python function that checks whether a passed string is a palindrome or not.\n",
    "### Note: A palindrome is a word, phrase, or sequence that reads the same backward as forward, e.g., madam or nurses run."
   ]
  },
  {
   "cell_type": "code",
   "execution_count": 174,
   "id": "dd3ceb6f",
   "metadata": {},
   "outputs": [
    {
     "data": {
      "text/plain": [
       "True"
      ]
     },
     "execution_count": 174,
     "metadata": {},
     "output_type": "execute_result"
    }
   ],
   "source": [
    "def ispalindrome(string):\n",
    "    return \"\".join(string.lower().split()) == \"\".join(string[::-1].lower().split())\n",
    "ispalindrome(\"Nurses run\")"
   ]
  },
  {
   "cell_type": "markdown",
   "id": "1e155158",
   "metadata": {},
   "source": [
    "## 13. Write a Python function that prints out the first n rows of Pascal's triangle.\n",
    "### Note : Pascal's triangle is an arithmetic and geometric figure first imagined by Blaise Pascal.\n",
    "### Sample Pascal's triangle :\n",
    "### Each number is the two numbers above it added together"
   ]
  },
  {
   "cell_type": "code",
   "execution_count": 2,
   "id": "353ffc64",
   "metadata": {},
   "outputs": [
    {
     "name": "stdout",
     "output_type": "stream",
     "text": [
      "                         1                         \n",
      "                       1    1                      \n",
      "                    1    2    1                    \n",
      "                  1    3    3    1                 \n",
      "               1    4    6    4    1               \n",
      "            1    5    10    10    5    1           \n",
      "         1    6    15    20    15    6    1        \n",
      "      1    7    21    35    35    21    7    1     \n",
      "   1    8    28    56    70    56    28    8    1  \n",
      "1    9    36    84    126    126    84    36    9    1\n"
     ]
    }
   ],
   "source": [
    "def pascal(sayı):\n",
    "    liste = []\n",
    "\n",
    "    for i in range(1, sayı + 1):\n",
    "        for j in range(1, i + 1):\n",
    "            if j == 1:\n",
    "                liste.append(1)\n",
    "            elif j == i:\n",
    "                liste.append(1)                \n",
    "            else:\n",
    "                liste.append(liste[-i + 1] + liste[-i])\n",
    "            \n",
    "                        \n",
    "        #print(liste[-i:])\n",
    "        print((\"    \".join(map(str, liste[-i:]))).center(5 * sayı + 1))\n",
    "            \n",
    " \n",
    "pascal(10)\n"
   ]
  },
  {
   "cell_type": "markdown",
   "id": "b89febf6",
   "metadata": {},
   "source": [
    "## 14. Write a Python function to check whether a string is a pangram or not.\n",
    "### Note : Pangrams are words or sentences containing every letter of the alphabet at least once.\n",
    "### For example : \"The quick brown fox jumps over the lazy dog\""
   ]
  },
  {
   "cell_type": "code",
   "execution_count": 2,
   "id": "8d0e796a",
   "metadata": {},
   "outputs": [
    {
     "data": {
      "text/plain": [
       "True"
      ]
     },
     "execution_count": 2,
     "metadata": {},
     "output_type": "execute_result"
    }
   ],
   "source": [
    "import string\n",
    "alfabe = set(map(str, string.ascii_lowercase))\n",
    "def ispangram(ifade):\n",
    "    return set(\"\".join(ifade.lower().split())) == alfabe\n",
    "ispangram(\"The quick brown fox jumps over the lazy dog\")\n",
    "        "
   ]
  },
  {
   "cell_type": "markdown",
   "id": "d45e3b07",
   "metadata": {},
   "source": [
    "## 15. Write a Python program that accepts a hyphen-separated sequence of words as input and prints the words in a hyphen-separated sequence after sorting them alphabetically.\n",
    "### Sample Items : green-red-yellow-black-white\n",
    "### Expected Result : black-green-red-white-yellow"
   ]
  },
  {
   "cell_type": "code",
   "execution_count": 401,
   "id": "131ce2fd",
   "metadata": {},
   "outputs": [
    {
     "data": {
      "text/plain": [
       "'black green red white yellow'"
      ]
     },
     "execution_count": 401,
     "metadata": {},
     "output_type": "execute_result"
    }
   ],
   "source": [
    "def sıralama(ifade):\n",
    "    liste = sorted(ifade.split(\"-\"), key = str.lower)\n",
    "    return \" \".join(liste)\n",
    "sıralama(\"green-red-yellow-black-white\")\n"
   ]
  },
  {
   "cell_type": "markdown",
   "id": "12d7472a",
   "metadata": {},
   "source": [
    "## 16. Write a Python function to create and print a list where the values are the squares of numbers between 1 and 30 (both included)."
   ]
  },
  {
   "cell_type": "code",
   "execution_count": 403,
   "id": "76dfd6cd",
   "metadata": {},
   "outputs": [
    {
     "name": "stdout",
     "output_type": "stream",
     "text": [
      "[1, 4, 9, 16, 25, 36, 49, 64, 81, 100, 121, 144, 169, 196, 225, 256, 289, 324, 361, 400, 441, 484, 529, 576, 625, 676, 729, 784, 841, 900]\n"
     ]
    }
   ],
   "source": [
    "print([i ** 2 for i in range(1, 31)])"
   ]
  },
  {
   "cell_type": "markdown",
   "id": "5f116f5d",
   "metadata": {},
   "source": [
    "## 17. Write a Python program to create a chain of function decorators (bold, italic, underline etc.).\n"
   ]
  },
  {
   "cell_type": "code",
   "execution_count": 26,
   "id": "e879fd9c",
   "metadata": {},
   "outputs": [
    {
     "name": "stdout",
     "output_type": "stream",
     "text": [
      "<b>hello</b>\n",
      "<i>merhaba</i>\n",
      "<u>ahmet</u>\n"
     ]
    }
   ],
   "source": [
    "def makebold(fn):\n",
    "    def wrapper(ifade):\n",
    "        return \"<b>\" + fn(ifade) + \"</b>\"\n",
    "    return wrapper\n",
    "\n",
    "def makeitalic(fn):\n",
    "    def wrapper(ifade):\n",
    "        return \"<i>\" + fn(ifade) + \"</i>\"\n",
    "    return wrapper\n",
    "\n",
    "def makeunderline(fn):\n",
    "    def wrapper(ifade):\n",
    "        return \"<u>\" + fn(ifade) + \"</u>\"\n",
    "    return wrapper\n",
    "def change(a):\n",
    "    return a\n",
    "\n",
    "print(makebold(change)(\"hello\"))\n",
    "\n",
    "@makeitalic\n",
    "def change2(a):\n",
    "    return a\n",
    "\n",
    "print(change2(\"merhaba\"))\n",
    "\n",
    "def change3(a):\n",
    "    return a\n",
    "\n",
    "change4 = makeunderline(change3)\n",
    "print(change4(\"ahmet\"))"
   ]
  },
  {
   "cell_type": "markdown",
   "id": "e44f734a",
   "metadata": {},
   "source": [
    "## 18. Write a Python program to execute a string containing Python code."
   ]
  },
  {
   "cell_type": "code",
   "execution_count": 33,
   "id": "a635119a",
   "metadata": {},
   "outputs": [
    {
     "name": "stdout",
     "output_type": "stream",
     "text": [
      "ahmet\n",
      "8\n"
     ]
    }
   ],
   "source": [
    "ifade = \"\"\"print(\"ahmet\")\"\"\"\n",
    "exec(ifade)\n",
    "ifade2 = \"5 + 3\"\n",
    "print(eval(ifade2))"
   ]
  },
  {
   "cell_type": "markdown",
   "id": "323501dc",
   "metadata": {},
   "source": [
    "## 19. Write a Python program to access a function inside a function."
   ]
  },
  {
   "cell_type": "code",
   "execution_count": 35,
   "id": "9272d6d6",
   "metadata": {},
   "outputs": [
    {
     "data": {
      "text/plain": [
       "1"
      ]
     },
     "execution_count": 35,
     "metadata": {},
     "output_type": "execute_result"
    }
   ],
   "source": [
    "def fonx(a):\n",
    "    def nested(b):\n",
    "        nonlocal a\n",
    "        return a - b\n",
    "    return nested\n",
    "fonx(5)(4)"
   ]
  },
  {
   "cell_type": "markdown",
   "id": "ad42d26f",
   "metadata": {},
   "source": [
    "## 20. Write a Python program to detect the number of local variables declared in a function.\n",
    "### Sample Output:\n",
    "### 3"
   ]
  },
  {
   "cell_type": "code",
   "execution_count": 42,
   "id": "d7fff293",
   "metadata": {},
   "outputs": [
    {
     "name": "stdout",
     "output_type": "stream",
     "text": [
      "13 the number of the local variables: 3\n"
     ]
    }
   ],
   "source": [
    "def numberoflocals(fonk):\n",
    "    return fonk.__code__.co_nlocals\n",
    "\n",
    "def örnekfunk(a, b):\n",
    "    c = 5\n",
    "    return a + b + c\n",
    "print(örnekfunk(5,3), \"the number of the local variables:\", numberoflocals(örnekfunk))\n",
    "\n"
   ]
  },
  {
   "cell_type": "markdown",
   "id": "d9df7ef3",
   "metadata": {},
   "source": [
    "## 21. Write a Python program that invokes a function after a specified period of time.\n",
    "### Sample Output:\n",
    "### Square root after specific miliseconds:\n",
    "### 4.0\n",
    "### 10.0\n",
    "### 158.42979517754858 (edited) "
   ]
  },
  {
   "cell_type": "code",
   "execution_count": 45,
   "id": "34f77a91",
   "metadata": {},
   "outputs": [
    {
     "name": "stdout",
     "output_type": "stream",
     "text": [
      "sayınız: 4\n",
      "sayının karekökü: 2.0\n",
      "ayrıca sayının karesi : 16\n"
     ]
    }
   ],
   "source": [
    "import time\n",
    "a = int(input(\"bir sayı giriniz\"))\n",
    "time.sleep(2)\n",
    "print(\"sayınız:\", a)\n",
    "time.sleep(2)\n",
    "print(\"sayının karekökü:\", a ** 0.5)\n",
    "time.sleep(2)\n",
    "print(\"ayrıca sayının karesi :\", a ** 2)"
   ]
  },
  {
   "cell_type": "markdown",
   "id": "49c0309b",
   "metadata": {},
   "source": [
    "___\n",
    "\n",
    "<p style=\"text-align: center;\"><img src=\"https://techproeducation.com/wp-content/uploads/2022/01/Calisma-Yuzeyi-1-kopya-5-1-768x126.png\" class=\"img-fluid\" alt=\"TECHPRO\"></p>\n",
    "\n",
    "___"
   ]
  }
 ],
 "metadata": {
  "kernelspec": {
   "display_name": "Python 3",
   "language": "python",
   "name": "python3"
  },
  "language_info": {
   "codemirror_mode": {
    "name": "ipython",
    "version": 3
   },
   "file_extension": ".py",
   "mimetype": "text/x-python",
   "name": "python",
   "nbconvert_exporter": "python",
   "pygments_lexer": "ipython3",
   "version": "3.11.1"
  }
 },
 "nbformat": 4,
 "nbformat_minor": 5
}
