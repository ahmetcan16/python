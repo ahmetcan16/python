{
 "cells": [
  {
   "cell_type": "code",
   "execution_count": 1,
   "id": "938ebe33",
   "metadata": {
    "ExecuteTime": {
     "end_time": "2023-04-14T15:36:06.861014Z",
     "start_time": "2023-04-14T15:36:06.573980Z"
    }
   },
   "outputs": [],
   "source": [
    "import numpy as np\n",
    "import pandas as pd"
   ]
  },
  {
   "cell_type": "code",
   "execution_count": 13,
   "id": "2c1975f6",
   "metadata": {
    "ExecuteTime": {
     "end_time": "2023-04-14T15:40:14.847686Z",
     "start_time": "2023-04-14T15:40:14.836074Z"
    }
   },
   "outputs": [
    {
     "data": {
      "text/html": [
       "<div>\n",
       "<style scoped>\n",
       "    .dataframe tbody tr th:only-of-type {\n",
       "        vertical-align: middle;\n",
       "    }\n",
       "\n",
       "    .dataframe tbody tr th {\n",
       "        vertical-align: top;\n",
       "    }\n",
       "\n",
       "    .dataframe thead th {\n",
       "        text-align: right;\n",
       "    }\n",
       "</style>\n",
       "<table border=\"1\" class=\"dataframe\">\n",
       "  <thead>\n",
       "    <tr style=\"text-align: right;\">\n",
       "      <th></th>\n",
       "      <th>id</th>\n",
       "      <th>gender</th>\n",
       "      <th>status</th>\n",
       "      <th>dept</th>\n",
       "      <th>var1</th>\n",
       "      <th>var2</th>\n",
       "      <th>salary</th>\n",
       "    </tr>\n",
       "  </thead>\n",
       "  <tbody>\n",
       "    <tr>\n",
       "      <th>0</th>\n",
       "      <td>P001</td>\n",
       "      <td>M</td>\n",
       "      <td>FT</td>\n",
       "      <td>DS</td>\n",
       "      <td>2</td>\n",
       "      <td>8.0</td>\n",
       "      <td>NaN</td>\n",
       "    </tr>\n",
       "    <tr>\n",
       "      <th>1</th>\n",
       "      <td>P002</td>\n",
       "      <td>F</td>\n",
       "      <td>PT</td>\n",
       "      <td>FS</td>\n",
       "      <td>3</td>\n",
       "      <td>NaN</td>\n",
       "      <td>54</td>\n",
       "    </tr>\n",
       "    <tr>\n",
       "      <th>2</th>\n",
       "      <td>P003</td>\n",
       "      <td>M</td>\n",
       "      <td>-</td>\n",
       "      <td>AWS</td>\n",
       "      <td>5</td>\n",
       "      <td>5.0</td>\n",
       "      <td>59</td>\n",
       "    </tr>\n",
       "    <tr>\n",
       "      <th>3</th>\n",
       "      <td>P004</td>\n",
       "      <td>F</td>\n",
       "      <td>FT</td>\n",
       "      <td>AWS</td>\n",
       "      <td>nan</td>\n",
       "      <td>8.0</td>\n",
       "      <td>120</td>\n",
       "    </tr>\n",
       "    <tr>\n",
       "      <th>4</th>\n",
       "      <td>P005</td>\n",
       "      <td>M</td>\n",
       "      <td>PT</td>\n",
       "      <td>DS</td>\n",
       "      <td>7</td>\n",
       "      <td>11.0</td>\n",
       "      <td>58</td>\n",
       "    </tr>\n",
       "    <tr>\n",
       "      <th>5</th>\n",
       "      <td>P006</td>\n",
       "      <td>F</td>\n",
       "      <td>PT</td>\n",
       "      <td>None</td>\n",
       "      <td>1</td>\n",
       "      <td>NaN</td>\n",
       "      <td>75</td>\n",
       "    </tr>\n",
       "    <tr>\n",
       "      <th>6</th>\n",
       "      <td>P007</td>\n",
       "      <td>M</td>\n",
       "      <td>FT</td>\n",
       "      <td>FS</td>\n",
       "      <td>nan</td>\n",
       "      <td>NaN</td>\n",
       "      <td>None</td>\n",
       "    </tr>\n",
       "    <tr>\n",
       "      <th>7</th>\n",
       "      <td>P008</td>\n",
       "      <td>F</td>\n",
       "      <td>-</td>\n",
       "      <td>FS</td>\n",
       "      <td>10</td>\n",
       "      <td>2.0</td>\n",
       "      <td>136</td>\n",
       "    </tr>\n",
       "    <tr>\n",
       "      <th>8</th>\n",
       "      <td>P009</td>\n",
       "      <td>M</td>\n",
       "      <td>PT</td>\n",
       "      <td>NaN</td>\n",
       "      <td>14</td>\n",
       "      <td>3.0</td>\n",
       "      <td>60</td>\n",
       "    </tr>\n",
       "    <tr>\n",
       "      <th>9</th>\n",
       "      <td>P010</td>\n",
       "      <td>F</td>\n",
       "      <td>FT</td>\n",
       "      <td>DS</td>\n",
       "      <td>a</td>\n",
       "      <td>7.0</td>\n",
       "      <td>125</td>\n",
       "    </tr>\n",
       "    <tr>\n",
       "      <th>10</th>\n",
       "      <td>P011</td>\n",
       "      <td>M</td>\n",
       "      <td>NaN</td>\n",
       "      <td>AWS</td>\n",
       "      <td>6</td>\n",
       "      <td>9.0</td>\n",
       "      <td>NaN</td>\n",
       "    </tr>\n",
       "  </tbody>\n",
       "</table>\n",
       "</div>"
      ],
      "text/plain": [
       "      id gender status  dept var1  var2 salary\n",
       "0   P001      M     FT    DS    2   8.0    NaN\n",
       "1   P002      F     PT    FS    3   NaN     54\n",
       "2   P003      M      -   AWS    5   5.0     59\n",
       "3   P004      F     FT   AWS  nan   8.0    120\n",
       "4   P005      M     PT    DS    7  11.0     58\n",
       "5   P006      F     PT  None    1   NaN     75\n",
       "6   P007      M     FT    FS  nan   NaN   None\n",
       "7   P008      F      -    FS   10   2.0    136\n",
       "8   P009      M     PT   NaN   14   3.0     60\n",
       "9   P010      F     FT    DS    a   7.0    125\n",
       "10  P011      M    NaN   AWS    6   9.0    NaN"
      ]
     },
     "execution_count": 13,
     "metadata": {},
     "output_type": "execute_result"
    }
   ],
   "source": [
    "id_no = [\"P001\", \"P002\", \"P003\", \"P004\", \"P005\", \"P006\", \"P007\", \"P008\", \"P009\", \"P010\", \"P011\"]\n",
    "gender = [\"M\", \"F\", \"M\", \"F\", \"M\", \"F\", \"M\", \"F\", \"M\", \"F\", \"M\"]\n",
    "status = [\"FT\", \"PT\", \"-\", \"FT\", \"PT\", \"PT\", \"FT\", \"-\", \"PT\", \"FT\", np.nan]\n",
    "dept = [\"DS\", \"FS\", \"AWS\", \"AWS\", \"DS\", None, \"FS\", \"FS\", np.nan, \"DS\", \"AWS\"]\n",
    "V1 = np.array([2, 3, 5, np.nan, 7, 1, \"nan\", 10, 14, \"a\", 6])\n",
    "V2 = np.array([8, np.nan, 5, 8, 11, np.nan, np.nan, 2, 3, 7, 9])\n",
    "salary = np.array([np.nan, 54, 59, 120, 58, 75, None, 136, 60, 125, np.nan])\n",
    "\n",
    "df0 = pd.DataFrame({\n",
    "                   \"id\" : id_no,\n",
    "                   \"gender\": gender,\n",
    "                   \"status\": status,\n",
    "                   \"dept\": dept,\n",
    "                   \"var1\" : V1,\n",
    "                   \"var2\" : V2,\n",
    "                   \"salary\" : salary\n",
    "                  })\n",
    "df = df0.copy() # original veriyi korumuş olduk\n",
    "df"
   ]
  },
  {
   "cell_type": "code",
   "execution_count": 26,
   "id": "937f4393",
   "metadata": {
    "ExecuteTime": {
     "end_time": "2023-04-14T15:49:47.323431Z",
     "start_time": "2023-04-14T15:49:47.315810Z"
    }
   },
   "outputs": [
    {
     "data": {
      "text/html": [
       "<div>\n",
       "<style scoped>\n",
       "    .dataframe tbody tr th:only-of-type {\n",
       "        vertical-align: middle;\n",
       "    }\n",
       "\n",
       "    .dataframe tbody tr th {\n",
       "        vertical-align: top;\n",
       "    }\n",
       "\n",
       "    .dataframe thead th {\n",
       "        text-align: right;\n",
       "    }\n",
       "</style>\n",
       "<table border=\"1\" class=\"dataframe\">\n",
       "  <thead>\n",
       "    <tr style=\"text-align: right;\">\n",
       "      <th></th>\n",
       "      <th>status</th>\n",
       "      <th>var1</th>\n",
       "    </tr>\n",
       "  </thead>\n",
       "  <tbody>\n",
       "    <tr>\n",
       "      <th>0</th>\n",
       "      <td>10</td>\n",
       "      <td>2</td>\n",
       "    </tr>\n",
       "    <tr>\n",
       "      <th>1</th>\n",
       "      <td>FT</td>\n",
       "      <td>3</td>\n",
       "    </tr>\n",
       "    <tr>\n",
       "      <th>2</th>\n",
       "      <td>PT</td>\n",
       "      <td>5</td>\n",
       "    </tr>\n",
       "    <tr>\n",
       "      <th>3</th>\n",
       "      <td>-</td>\n",
       "      <td>NaN</td>\n",
       "    </tr>\n",
       "    <tr>\n",
       "      <th>4</th>\n",
       "      <td>FT</td>\n",
       "      <td>7</td>\n",
       "    </tr>\n",
       "    <tr>\n",
       "      <th>5</th>\n",
       "      <td>PT</td>\n",
       "      <td>1</td>\n",
       "    </tr>\n",
       "    <tr>\n",
       "      <th>6</th>\n",
       "      <td>PT</td>\n",
       "      <td>NaN</td>\n",
       "    </tr>\n",
       "    <tr>\n",
       "      <th>7</th>\n",
       "      <td>FT</td>\n",
       "      <td>10</td>\n",
       "    </tr>\n",
       "    <tr>\n",
       "      <th>8</th>\n",
       "      <td>-</td>\n",
       "      <td>14</td>\n",
       "    </tr>\n",
       "    <tr>\n",
       "      <th>9</th>\n",
       "      <td>nan</td>\n",
       "      <td>-</td>\n",
       "    </tr>\n",
       "    <tr>\n",
       "      <th>10</th>\n",
       "      <td>PT</td>\n",
       "      <td>6</td>\n",
       "    </tr>\n",
       "  </tbody>\n",
       "</table>\n",
       "</div>"
      ],
      "text/plain": [
       "   status var1\n",
       "0      10    2\n",
       "1      FT    3\n",
       "2      PT    5\n",
       "3       -  NaN\n",
       "4      FT    7\n",
       "5      PT    1\n",
       "6      PT  NaN\n",
       "7      FT   10\n",
       "8       -   14\n",
       "9     nan    -\n",
       "10     PT    6"
      ]
     },
     "execution_count": 26,
     "metadata": {},
     "output_type": "execute_result"
    }
   ],
   "source": [
    "\n",
    "status = np.array([10, \"FT\", \"PT\", \"-\", \"FT\", \"PT\", \"PT\", \"FT\", \"-\", np.nan, \"PT\"])\n",
    "\n",
    "V1 = [2, 3, 5, np.nan, 7, 1, np.nan, 10, 14, \"-\", 6]\n",
    "\n",
    "\n",
    "df0 = pd.DataFrame({\n",
    "                   \n",
    "                   \n",
    "                   \"status\": status,\n",
    "                   \n",
    "                   \"var1\" : V1\n",
    "                   \n",
    "                  })\n",
    "df = df0.copy() # original veriyi korumuş olduk\n",
    "df"
   ]
  },
  {
   "cell_type": "code",
   "execution_count": 19,
   "id": "166cf87c",
   "metadata": {
    "ExecuteTime": {
     "end_time": "2023-04-14T15:46:25.052598Z",
     "start_time": "2023-04-14T15:46:25.042023Z"
    }
   },
   "outputs": [
    {
     "name": "stdout",
     "output_type": "stream",
     "text": [
      "<class 'pandas.core.frame.DataFrame'>\n",
      "RangeIndex: 11 entries, 0 to 10\n",
      "Data columns (total 2 columns):\n",
      " #   Column  Non-Null Count  Dtype \n",
      "---  ------  --------------  ----- \n",
      " 0   status  10 non-null     object\n",
      " 1   var1    11 non-null     object\n",
      "dtypes: object(2)\n",
      "memory usage: 304.0+ bytes\n"
     ]
    }
   ],
   "source": [
    "df.info()"
   ]
  },
  {
   "cell_type": "code",
   "execution_count": 28,
   "id": "5f8b15c2",
   "metadata": {
    "ExecuteTime": {
     "end_time": "2023-04-14T15:50:24.033875Z",
     "start_time": "2023-04-14T15:50:24.027266Z"
    }
   },
   "outputs": [
    {
     "data": {
      "text/html": [
       "<div>\n",
       "<style scoped>\n",
       "    .dataframe tbody tr th:only-of-type {\n",
       "        vertical-align: middle;\n",
       "    }\n",
       "\n",
       "    .dataframe tbody tr th {\n",
       "        vertical-align: top;\n",
       "    }\n",
       "\n",
       "    .dataframe thead th {\n",
       "        text-align: right;\n",
       "    }\n",
       "</style>\n",
       "<table border=\"1\" class=\"dataframe\">\n",
       "  <thead>\n",
       "    <tr style=\"text-align: right;\">\n",
       "      <th></th>\n",
       "      <th>0</th>\n",
       "    </tr>\n",
       "  </thead>\n",
       "  <tbody>\n",
       "    <tr>\n",
       "      <th>0</th>\n",
       "      <td>NaN</td>\n",
       "    </tr>\n",
       "    <tr>\n",
       "      <th>1</th>\n",
       "      <td>-</td>\n",
       "    </tr>\n",
       "    <tr>\n",
       "      <th>2</th>\n",
       "      <td>1</td>\n",
       "    </tr>\n",
       "  </tbody>\n",
       "</table>\n",
       "</div>"
      ],
      "text/plain": [
       "     0\n",
       "0  NaN\n",
       "1    -\n",
       "2    1"
      ]
     },
     "execution_count": 28,
     "metadata": {},
     "output_type": "execute_result"
    }
   ],
   "source": [
    "pd.DataFrame([np.nan, \"-\", 1])"
   ]
  },
  {
   "cell_type": "code",
   "execution_count": null,
   "id": "69987460",
   "metadata": {},
   "outputs": [],
   "source": []
  }
 ],
 "metadata": {
  "kernelspec": {
   "display_name": "Python 3 (ipykernel)",
   "language": "python",
   "name": "python3"
  },
  "language_info": {
   "codemirror_mode": {
    "name": "ipython",
    "version": 3
   },
   "file_extension": ".py",
   "mimetype": "text/x-python",
   "name": "python",
   "nbconvert_exporter": "python",
   "pygments_lexer": "ipython3",
   "version": "3.10.9"
  },
  "toc": {
   "base_numbering": 1,
   "nav_menu": {},
   "number_sections": true,
   "sideBar": true,
   "skip_h1_title": false,
   "title_cell": "Table of Contents",
   "title_sidebar": "Contents",
   "toc_cell": false,
   "toc_position": {},
   "toc_section_display": true,
   "toc_window_display": false
  },
  "varInspector": {
   "cols": {
    "lenName": 16,
    "lenType": 16,
    "lenVar": 40
   },
   "kernels_config": {
    "python": {
     "delete_cmd_postfix": "",
     "delete_cmd_prefix": "del ",
     "library": "var_list.py",
     "varRefreshCmd": "print(var_dic_list())"
    },
    "r": {
     "delete_cmd_postfix": ") ",
     "delete_cmd_prefix": "rm(",
     "library": "var_list.r",
     "varRefreshCmd": "cat(var_dic_list()) "
    }
   },
   "types_to_exclude": [
    "module",
    "function",
    "builtin_function_or_method",
    "instance",
    "_Feature"
   ],
   "window_display": false
  }
 },
 "nbformat": 4,
 "nbformat_minor": 5
}
