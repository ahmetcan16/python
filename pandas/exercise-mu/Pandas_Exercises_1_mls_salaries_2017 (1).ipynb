{
 "cells": [
  {
   "cell_type": "markdown",
   "id": "4051b630-c630-4b19-b0e1-dce35470914c",
   "metadata": {},
   "source": [
    "## Pandas Veri Analizi - U.S Major League Soccer Salaries Veri Analizi"
   ]
  },
  {
   "cell_type": "code",
   "execution_count": 1,
   "id": "f9174950-f765-4ce7-9c9f-cea6a319c385",
   "metadata": {
    "ExecuteTime": {
     "end_time": "2023-04-19T15:28:08.474067Z",
     "start_time": "2023-04-19T15:28:08.223675Z"
    }
   },
   "outputs": [],
   "source": [
    "import numpy as np\n",
    "import pandas as pd"
   ]
  },
  {
   "cell_type": "markdown",
   "id": "9f1864ee-3208-4d12-82e0-667ad218c878",
   "metadata": {},
   "source": [
    "#### VeriSetini Okuyun"
   ]
  },
  {
   "cell_type": "code",
   "execution_count": 2,
   "id": "11544af8-1fdf-403f-b5cd-bb6ed4611e72",
   "metadata": {
    "ExecuteTime": {
     "end_time": "2023-04-19T15:28:13.099836Z",
     "start_time": "2023-04-19T15:28:13.069610Z"
    }
   },
   "outputs": [
    {
     "data": {
      "text/html": [
       "<div>\n",
       "<style scoped>\n",
       "    .dataframe tbody tr th:only-of-type {\n",
       "        vertical-align: middle;\n",
       "    }\n",
       "\n",
       "    .dataframe tbody tr th {\n",
       "        vertical-align: top;\n",
       "    }\n",
       "\n",
       "    .dataframe thead th {\n",
       "        text-align: right;\n",
       "    }\n",
       "</style>\n",
       "<table border=\"1\" class=\"dataframe\">\n",
       "  <thead>\n",
       "    <tr style=\"text-align: right;\">\n",
       "      <th></th>\n",
       "      <th>club</th>\n",
       "      <th>last_name</th>\n",
       "      <th>first_name</th>\n",
       "      <th>position</th>\n",
       "      <th>base_salary</th>\n",
       "      <th>guaranteed_compensation</th>\n",
       "    </tr>\n",
       "  </thead>\n",
       "  <tbody>\n",
       "    <tr>\n",
       "      <th>0</th>\n",
       "      <td>ATL</td>\n",
       "      <td>Almiron</td>\n",
       "      <td>Miguel</td>\n",
       "      <td>M</td>\n",
       "      <td>1912500.0</td>\n",
       "      <td>2297000.00</td>\n",
       "    </tr>\n",
       "    <tr>\n",
       "      <th>1</th>\n",
       "      <td>ATL</td>\n",
       "      <td>Ambrose</td>\n",
       "      <td>Mikey</td>\n",
       "      <td>D</td>\n",
       "      <td>65625.0</td>\n",
       "      <td>65625.00</td>\n",
       "    </tr>\n",
       "    <tr>\n",
       "      <th>2</th>\n",
       "      <td>ATL</td>\n",
       "      <td>Asad</td>\n",
       "      <td>Yamil</td>\n",
       "      <td>M</td>\n",
       "      <td>150000.0</td>\n",
       "      <td>150000.00</td>\n",
       "    </tr>\n",
       "    <tr>\n",
       "      <th>3</th>\n",
       "      <td>ATL</td>\n",
       "      <td>Bloom</td>\n",
       "      <td>Mark</td>\n",
       "      <td>D</td>\n",
       "      <td>99225.0</td>\n",
       "      <td>106573.89</td>\n",
       "    </tr>\n",
       "    <tr>\n",
       "      <th>4</th>\n",
       "      <td>ATL</td>\n",
       "      <td>Carleton</td>\n",
       "      <td>Andrew</td>\n",
       "      <td>F</td>\n",
       "      <td>65000.0</td>\n",
       "      <td>77400.00</td>\n",
       "    </tr>\n",
       "  </tbody>\n",
       "</table>\n",
       "</div>"
      ],
      "text/plain": [
       "  club last_name first_name position  base_salary  guaranteed_compensation\n",
       "0  ATL   Almiron     Miguel        M    1912500.0               2297000.00\n",
       "1  ATL   Ambrose      Mikey        D      65625.0                 65625.00\n",
       "2  ATL      Asad      Yamil        M     150000.0                150000.00\n",
       "3  ATL     Bloom       Mark        D      99225.0                106573.89\n",
       "4  ATL  Carleton     Andrew        F      65000.0                 77400.00"
      ]
     },
     "execution_count": 2,
     "metadata": {},
     "output_type": "execute_result"
    }
   ],
   "source": [
    "df = pd.read_csv(\"mls-salaries-2017 (1).csv\")\n",
    "df.head()"
   ]
  },
  {
   "cell_type": "code",
   "execution_count": 3,
   "id": "bfb4fa5f-4142-464c-83f9-b588fd88b633",
   "metadata": {
    "ExecuteTime": {
     "end_time": "2023-04-19T15:28:15.476938Z",
     "start_time": "2023-04-19T15:28:15.469903Z"
    }
   },
   "outputs": [
    {
     "name": "stdout",
     "output_type": "stream",
     "text": [
      "<class 'pandas.core.frame.DataFrame'>\n",
      "RangeIndex: 616 entries, 0 to 615\n",
      "Data columns (total 6 columns):\n",
      " #   Column                   Non-Null Count  Dtype  \n",
      "---  ------                   --------------  -----  \n",
      " 0   club                     614 non-null    object \n",
      " 1   last_name                616 non-null    object \n",
      " 2   first_name               612 non-null    object \n",
      " 3   position                 616 non-null    object \n",
      " 4   base_salary              616 non-null    float64\n",
      " 5   guaranteed_compensation  616 non-null    float64\n",
      "dtypes: float64(2), object(4)\n",
      "memory usage: 29.0+ KB\n"
     ]
    }
   ],
   "source": [
    "df.info()"
   ]
  },
  {
   "cell_type": "markdown",
   "id": "eb8fce19-e53b-4bbb-9d5a-dfa0975ca3dc",
   "metadata": {},
   "source": [
    "#### Eksik veri kontrolü yapın"
   ]
  },
  {
   "cell_type": "code",
   "execution_count": 6,
   "id": "7efae1ec-09d2-4114-9125-3c410da62225",
   "metadata": {
    "ExecuteTime": {
     "end_time": "2023-04-19T15:28:40.604674Z",
     "start_time": "2023-04-19T15:28:40.599325Z"
    }
   },
   "outputs": [
    {
     "data": {
      "text/plain": [
       "club                       2\n",
       "last_name                  0\n",
       "first_name                 4\n",
       "position                   0\n",
       "base_salary                0\n",
       "guaranteed_compensation    0\n",
       "dtype: int64"
      ]
     },
     "execution_count": 6,
     "metadata": {},
     "output_type": "execute_result"
    }
   ],
   "source": [
    "# eksik verilerin doldurulması hakkında yorum yapın\n",
    "df.isnull().sum()"
   ]
  },
  {
   "cell_type": "markdown",
   "id": "701e3570-40fa-41ad-b235-1d2138a7263c",
   "metadata": {},
   "source": [
    "#### İlk 10 Veriyi Okuyun / Rastgele 5 veriyi getirin"
   ]
  },
  {
   "cell_type": "code",
   "execution_count": 44,
   "id": "ae02eca1-8314-4a88-afcb-a4acde60f077",
   "metadata": {
    "ExecuteTime": {
     "end_time": "2023-04-19T12:56:04.414890Z",
     "start_time": "2023-04-19T12:56:04.400820Z"
    }
   },
   "outputs": [
    {
     "data": {
      "text/html": [
       "<div>\n",
       "<style scoped>\n",
       "    .dataframe tbody tr th:only-of-type {\n",
       "        vertical-align: middle;\n",
       "    }\n",
       "\n",
       "    .dataframe tbody tr th {\n",
       "        vertical-align: top;\n",
       "    }\n",
       "\n",
       "    .dataframe thead th {\n",
       "        text-align: right;\n",
       "    }\n",
       "</style>\n",
       "<table border=\"1\" class=\"dataframe\">\n",
       "  <thead>\n",
       "    <tr style=\"text-align: right;\">\n",
       "      <th></th>\n",
       "      <th>club</th>\n",
       "      <th>last_name</th>\n",
       "      <th>first_name</th>\n",
       "      <th>position</th>\n",
       "      <th>base_salary</th>\n",
       "      <th>guaranteed_compensation</th>\n",
       "    </tr>\n",
       "  </thead>\n",
       "  <tbody>\n",
       "    <tr>\n",
       "      <th>0</th>\n",
       "      <td>ATL</td>\n",
       "      <td>Almiron</td>\n",
       "      <td>Miguel</td>\n",
       "      <td>M</td>\n",
       "      <td>1912500.0</td>\n",
       "      <td>2297000.00</td>\n",
       "    </tr>\n",
       "    <tr>\n",
       "      <th>1</th>\n",
       "      <td>ATL</td>\n",
       "      <td>Ambrose</td>\n",
       "      <td>Mikey</td>\n",
       "      <td>D</td>\n",
       "      <td>65625.0</td>\n",
       "      <td>65625.00</td>\n",
       "    </tr>\n",
       "    <tr>\n",
       "      <th>2</th>\n",
       "      <td>ATL</td>\n",
       "      <td>Asad</td>\n",
       "      <td>Yamil</td>\n",
       "      <td>M</td>\n",
       "      <td>150000.0</td>\n",
       "      <td>150000.00</td>\n",
       "    </tr>\n",
       "    <tr>\n",
       "      <th>3</th>\n",
       "      <td>ATL</td>\n",
       "      <td>Bloom</td>\n",
       "      <td>Mark</td>\n",
       "      <td>D</td>\n",
       "      <td>99225.0</td>\n",
       "      <td>106573.89</td>\n",
       "    </tr>\n",
       "    <tr>\n",
       "      <th>4</th>\n",
       "      <td>ATL</td>\n",
       "      <td>Carleton</td>\n",
       "      <td>Andrew</td>\n",
       "      <td>F</td>\n",
       "      <td>65000.0</td>\n",
       "      <td>77400.00</td>\n",
       "    </tr>\n",
       "    <tr>\n",
       "      <th>5</th>\n",
       "      <td>ATL</td>\n",
       "      <td>Carmona</td>\n",
       "      <td>Carlos</td>\n",
       "      <td>M</td>\n",
       "      <td>675000.0</td>\n",
       "      <td>725000.00</td>\n",
       "    </tr>\n",
       "    <tr>\n",
       "      <th>6</th>\n",
       "      <td>ATL</td>\n",
       "      <td>Garza</td>\n",
       "      <td>Greg</td>\n",
       "      <td>D</td>\n",
       "      <td>150000.0</td>\n",
       "      <td>150000.00</td>\n",
       "    </tr>\n",
       "    <tr>\n",
       "      <th>7</th>\n",
       "      <td>ATL</td>\n",
       "      <td>Gonzalez Pirez</td>\n",
       "      <td>Leandro</td>\n",
       "      <td>D</td>\n",
       "      <td>250008.0</td>\n",
       "      <td>285008.00</td>\n",
       "    </tr>\n",
       "    <tr>\n",
       "      <th>8</th>\n",
       "      <td>ATL</td>\n",
       "      <td>Goslin</td>\n",
       "      <td>Chris</td>\n",
       "      <td>M</td>\n",
       "      <td>70000.0</td>\n",
       "      <td>74000.00</td>\n",
       "    </tr>\n",
       "    <tr>\n",
       "      <th>9</th>\n",
       "      <td>ATL</td>\n",
       "      <td>Gressel</td>\n",
       "      <td>Julian</td>\n",
       "      <td>M</td>\n",
       "      <td>75000.0</td>\n",
       "      <td>93750.00</td>\n",
       "    </tr>\n",
       "  </tbody>\n",
       "</table>\n",
       "</div>"
      ],
      "text/plain": [
       "  club       last_name first_name position  base_salary  \\\n",
       "0  ATL         Almiron     Miguel        M    1912500.0   \n",
       "1  ATL         Ambrose      Mikey        D      65625.0   \n",
       "2  ATL            Asad      Yamil        M     150000.0   \n",
       "3  ATL           Bloom       Mark        D      99225.0   \n",
       "4  ATL        Carleton     Andrew        F      65000.0   \n",
       "5  ATL         Carmona     Carlos        M     675000.0   \n",
       "6  ATL           Garza       Greg        D     150000.0   \n",
       "7  ATL  Gonzalez Pirez    Leandro        D     250008.0   \n",
       "8  ATL          Goslin      Chris        M      70000.0   \n",
       "9  ATL         Gressel     Julian        M      75000.0   \n",
       "\n",
       "   guaranteed_compensation  \n",
       "0               2297000.00  \n",
       "1                 65625.00  \n",
       "2                150000.00  \n",
       "3                106573.89  \n",
       "4                 77400.00  \n",
       "5                725000.00  \n",
       "6                150000.00  \n",
       "7                285008.00  \n",
       "8                 74000.00  \n",
       "9                 93750.00  "
      ]
     },
     "execution_count": 44,
     "metadata": {},
     "output_type": "execute_result"
    }
   ],
   "source": [
    "df.head(10)"
   ]
  },
  {
   "cell_type": "code",
   "execution_count": 45,
   "id": "b8461d29-b947-456f-87f3-09015490cdaa",
   "metadata": {
    "ExecuteTime": {
     "end_time": "2023-04-19T12:56:04.430436Z",
     "start_time": "2023-04-19T12:56:04.415882Z"
    }
   },
   "outputs": [
    {
     "data": {
      "text/html": [
       "<div>\n",
       "<style scoped>\n",
       "    .dataframe tbody tr th:only-of-type {\n",
       "        vertical-align: middle;\n",
       "    }\n",
       "\n",
       "    .dataframe tbody tr th {\n",
       "        vertical-align: top;\n",
       "    }\n",
       "\n",
       "    .dataframe thead th {\n",
       "        text-align: right;\n",
       "    }\n",
       "</style>\n",
       "<table border=\"1\" class=\"dataframe\">\n",
       "  <thead>\n",
       "    <tr style=\"text-align: right;\">\n",
       "      <th></th>\n",
       "      <th>club</th>\n",
       "      <th>last_name</th>\n",
       "      <th>first_name</th>\n",
       "      <th>position</th>\n",
       "      <th>base_salary</th>\n",
       "      <th>guaranteed_compensation</th>\n",
       "    </tr>\n",
       "  </thead>\n",
       "  <tbody>\n",
       "    <tr>\n",
       "      <th>134</th>\n",
       "      <td>DAL</td>\n",
       "      <td>Lamah</td>\n",
       "      <td>Roland</td>\n",
       "      <td>M</td>\n",
       "      <td>630000.00</td>\n",
       "      <td>773500.00</td>\n",
       "    </tr>\n",
       "    <tr>\n",
       "      <th>490</th>\n",
       "      <td>RSL</td>\n",
       "      <td>Plata</td>\n",
       "      <td>Joao</td>\n",
       "      <td>F</td>\n",
       "      <td>350000.04</td>\n",
       "      <td>400000.04</td>\n",
       "    </tr>\n",
       "    <tr>\n",
       "      <th>423</th>\n",
       "      <td>PHI</td>\n",
       "      <td>Edu</td>\n",
       "      <td>Maurice</td>\n",
       "      <td>M</td>\n",
       "      <td>750000.00</td>\n",
       "      <td>818750.00</td>\n",
       "    </tr>\n",
       "    <tr>\n",
       "      <th>449</th>\n",
       "      <td>POR</td>\n",
       "      <td>Arboleda</td>\n",
       "      <td>Victor</td>\n",
       "      <td>M-F</td>\n",
       "      <td>65000.04</td>\n",
       "      <td>65000.04</td>\n",
       "    </tr>\n",
       "    <tr>\n",
       "      <th>501</th>\n",
       "      <td>SEA</td>\n",
       "      <td>Adekoya</td>\n",
       "      <td>Seyi</td>\n",
       "      <td>F</td>\n",
       "      <td>53004.00</td>\n",
       "      <td>53004.00</td>\n",
       "    </tr>\n",
       "  </tbody>\n",
       "</table>\n",
       "</div>"
      ],
      "text/plain": [
       "    club last_name first_name position  base_salary  guaranteed_compensation\n",
       "134  DAL     Lamah     Roland        M    630000.00                773500.00\n",
       "490  RSL     Plata       Joao        F    350000.04                400000.04\n",
       "423  PHI       Edu    Maurice        M    750000.00                818750.00\n",
       "449  POR  Arboleda     Victor      M-F     65000.04                 65000.04\n",
       "501  SEA   Adekoya       Seyi        F     53004.00                 53004.00"
      ]
     },
     "execution_count": 45,
     "metadata": {},
     "output_type": "execute_result"
    }
   ],
   "source": [
    "df.sample(5)"
   ]
  },
  {
   "cell_type": "markdown",
   "id": "de3e37d6-b4a8-4ecc-8dd2-678fe0e3eeba",
   "metadata": {},
   "source": [
    "#### Satır ve Sütun sayısını yazdırın / Sütun isimlerini yazdırın"
   ]
  },
  {
   "cell_type": "code",
   "execution_count": 46,
   "id": "0b61ecce-727f-45d2-9852-37b95997f70b",
   "metadata": {
    "ExecuteTime": {
     "end_time": "2023-04-19T12:56:04.445670Z",
     "start_time": "2023-04-19T12:56:04.432447Z"
    }
   },
   "outputs": [
    {
     "data": {
      "text/plain": [
       "(616, 6)"
      ]
     },
     "execution_count": 46,
     "metadata": {},
     "output_type": "execute_result"
    }
   ],
   "source": [
    "df.shape    "
   ]
  },
  {
   "cell_type": "code",
   "execution_count": 47,
   "id": "e3184a09",
   "metadata": {
    "ExecuteTime": {
     "end_time": "2023-04-19T12:56:04.461626Z",
     "start_time": "2023-04-19T12:56:04.446680Z"
    }
   },
   "outputs": [
    {
     "data": {
      "text/plain": [
       "RangeIndex(start=0, stop=616, step=1)"
      ]
     },
     "execution_count": 47,
     "metadata": {},
     "output_type": "execute_result"
    }
   ],
   "source": [
    "df.index"
   ]
  },
  {
   "cell_type": "code",
   "execution_count": 7,
   "id": "c6ddf04d",
   "metadata": {
    "ExecuteTime": {
     "end_time": "2023-04-19T15:29:10.275278Z",
     "start_time": "2023-04-19T15:29:10.270346Z"
    }
   },
   "outputs": [
    {
     "data": {
      "text/plain": [
       "616"
      ]
     },
     "execution_count": 7,
     "metadata": {},
     "output_type": "execute_result"
    }
   ],
   "source": [
    "len(df.index)"
   ]
  },
  {
   "cell_type": "code",
   "execution_count": 8,
   "id": "2326141a-e4fd-4d38-b518-203fa2089c77",
   "metadata": {
    "ExecuteTime": {
     "end_time": "2023-04-19T15:29:11.194223Z",
     "start_time": "2023-04-19T15:29:11.188651Z"
    }
   },
   "outputs": [
    {
     "data": {
      "text/plain": [
       "616"
      ]
     },
     "execution_count": 8,
     "metadata": {},
     "output_type": "execute_result"
    }
   ],
   "source": [
    "df.shape[0]    "
   ]
  },
  {
   "cell_type": "code",
   "execution_count": 9,
   "id": "f3963379",
   "metadata": {
    "ExecuteTime": {
     "end_time": "2023-04-19T15:29:12.457141Z",
     "start_time": "2023-04-19T15:29:12.453200Z"
    }
   },
   "outputs": [
    {
     "data": {
      "text/plain": [
       "Index(['club', 'last_name', 'first_name', 'position', 'base_salary',\n",
       "       'guaranteed_compensation'],\n",
       "      dtype='object')"
      ]
     },
     "execution_count": 9,
     "metadata": {},
     "output_type": "execute_result"
    }
   ],
   "source": [
    "df.columns"
   ]
  },
  {
   "cell_type": "code",
   "execution_count": 10,
   "id": "dfbc4a47",
   "metadata": {
    "ExecuteTime": {
     "end_time": "2023-04-19T15:29:22.379368Z",
     "start_time": "2023-04-19T15:29:22.374857Z"
    }
   },
   "outputs": [
    {
     "data": {
      "text/plain": [
       "6"
      ]
     },
     "execution_count": 10,
     "metadata": {},
     "output_type": "execute_result"
    }
   ],
   "source": [
    "len(df.columns)"
   ]
  },
  {
   "cell_type": "code",
   "execution_count": 11,
   "id": "52646125",
   "metadata": {
    "ExecuteTime": {
     "end_time": "2023-04-19T15:29:34.178533Z",
     "start_time": "2023-04-19T15:29:34.175005Z"
    }
   },
   "outputs": [
    {
     "data": {
      "text/plain": [
       "6"
      ]
     },
     "execution_count": 11,
     "metadata": {},
     "output_type": "execute_result"
    }
   ],
   "source": [
    "df.shape[1]"
   ]
  },
  {
   "cell_type": "code",
   "execution_count": 12,
   "id": "5a54bdf9",
   "metadata": {
    "ExecuteTime": {
     "end_time": "2023-04-19T15:29:52.154875Z",
     "start_time": "2023-04-19T15:29:52.150364Z"
    }
   },
   "outputs": [
    {
     "data": {
      "text/plain": [
       "VAN      32\n",
       "PHI      31\n",
       "ATL      31\n",
       "CLB      30\n",
       "ORL      30\n",
       "DAL      29\n",
       "SJ       29\n",
       "NYCFC    28\n",
       "HOU      28\n",
       "NYRB     28\n",
       "TOR      27\n",
       "RSL      27\n",
       "POR      27\n",
       "MTL      27\n",
       "CHI      27\n",
       "MNUFC    27\n",
       "LA       27\n",
       "DC       27\n",
       "KC       26\n",
       "COL      26\n",
       "SEA      25\n",
       "NE       23\n",
       "LAFC      2\n",
       "Name: club, dtype: int64"
      ]
     },
     "execution_count": 12,
     "metadata": {},
     "output_type": "execute_result"
    }
   ],
   "source": [
    "df.club.value_counts()"
   ]
  },
  {
   "cell_type": "markdown",
   "id": "8866fe7c-656f-436f-8f2e-7d90c668e10b",
   "metadata": {},
   "source": [
    "#### Tüm Maaşların Ortalaması Bulun."
   ]
  },
  {
   "cell_type": "code",
   "execution_count": 52,
   "id": "6c61dabd",
   "metadata": {
    "ExecuteTime": {
     "end_time": "2023-04-19T12:56:04.540946Z",
     "start_time": "2023-04-19T12:56:04.527896Z"
    }
   },
   "outputs": [
    {
     "data": {
      "text/plain": [
       "296977.7368668831"
      ]
     },
     "execution_count": 52,
     "metadata": {},
     "output_type": "execute_result"
    }
   ],
   "source": [
    "df[\"base_salary\"].mean()"
   ]
  },
  {
   "cell_type": "markdown",
   "id": "eecd6ede-0049-404f-b213-879ad6515eda",
   "metadata": {},
   "source": [
    "#### En yüksek maaşı bulun"
   ]
  },
  {
   "cell_type": "code",
   "execution_count": 53,
   "id": "913f4a26",
   "metadata": {
    "ExecuteTime": {
     "end_time": "2023-04-19T12:56:04.556998Z",
     "start_time": "2023-04-19T12:56:04.542128Z"
    }
   },
   "outputs": [
    {
     "data": {
      "text/plain": [
       "6660000.0"
      ]
     },
     "execution_count": 53,
     "metadata": {},
     "output_type": "execute_result"
    }
   ],
   "source": [
    "df[\"base_salary\"].max()"
   ]
  },
  {
   "cell_type": "markdown",
   "id": "31591513-6362-456f-8c36-bcdd2c0a0201",
   "metadata": {},
   "source": [
    "#### Ortalamanın üstünde maaş alanları bulun"
   ]
  },
  {
   "cell_type": "code",
   "execution_count": 21,
   "id": "71aafda7-405b-4221-b3f1-21a3ba4020fe",
   "metadata": {
    "ExecuteTime": {
     "end_time": "2023-04-19T15:32:36.655199Z",
     "start_time": "2023-04-19T15:32:36.645486Z"
    }
   },
   "outputs": [
    {
     "data": {
      "text/html": [
       "<div>\n",
       "<style scoped>\n",
       "    .dataframe tbody tr th:only-of-type {\n",
       "        vertical-align: middle;\n",
       "    }\n",
       "\n",
       "    .dataframe tbody tr th {\n",
       "        vertical-align: top;\n",
       "    }\n",
       "\n",
       "    .dataframe thead th {\n",
       "        text-align: right;\n",
       "    }\n",
       "</style>\n",
       "<table border=\"1\" class=\"dataframe\">\n",
       "  <thead>\n",
       "    <tr style=\"text-align: right;\">\n",
       "      <th></th>\n",
       "      <th>club</th>\n",
       "      <th>last_name</th>\n",
       "      <th>first_name</th>\n",
       "      <th>position</th>\n",
       "      <th>base_salary</th>\n",
       "      <th>guaranteed_compensation</th>\n",
       "    </tr>\n",
       "  </thead>\n",
       "  <tbody>\n",
       "    <tr>\n",
       "      <th>0</th>\n",
       "      <td>ATL</td>\n",
       "      <td>Almiron</td>\n",
       "      <td>Miguel</td>\n",
       "      <td>M</td>\n",
       "      <td>1912500.00</td>\n",
       "      <td>2297000.00</td>\n",
       "    </tr>\n",
       "    <tr>\n",
       "      <th>5</th>\n",
       "      <td>ATL</td>\n",
       "      <td>Carmona</td>\n",
       "      <td>Carlos</td>\n",
       "      <td>M</td>\n",
       "      <td>675000.00</td>\n",
       "      <td>725000.00</td>\n",
       "    </tr>\n",
       "    <tr>\n",
       "      <th>11</th>\n",
       "      <td>ATL</td>\n",
       "      <td>Jones</td>\n",
       "      <td>Kenwyne</td>\n",
       "      <td>F</td>\n",
       "      <td>390000.00</td>\n",
       "      <td>413333.33</td>\n",
       "    </tr>\n",
       "    <tr>\n",
       "      <th>16</th>\n",
       "      <td>ATL</td>\n",
       "      <td>Martinez</td>\n",
       "      <td>Josef</td>\n",
       "      <td>F</td>\n",
       "      <td>924000.00</td>\n",
       "      <td>1041310.00</td>\n",
       "    </tr>\n",
       "    <tr>\n",
       "      <th>17</th>\n",
       "      <td>ATL</td>\n",
       "      <td>McCann</td>\n",
       "      <td>Chris</td>\n",
       "      <td>M</td>\n",
       "      <td>540000.00</td>\n",
       "      <td>568000.00</td>\n",
       "    </tr>\n",
       "    <tr>\n",
       "      <th>...</th>\n",
       "      <td>...</td>\n",
       "      <td>...</td>\n",
       "      <td>...</td>\n",
       "      <td>...</td>\n",
       "      <td>...</td>\n",
       "      <td>...</td>\n",
       "    </tr>\n",
       "    <tr>\n",
       "      <th>603</th>\n",
       "      <td>VAN</td>\n",
       "      <td>Reyna</td>\n",
       "      <td>Yordy</td>\n",
       "      <td>M-F</td>\n",
       "      <td>440000.04</td>\n",
       "      <td>533700.04</td>\n",
       "    </tr>\n",
       "    <tr>\n",
       "      <th>607</th>\n",
       "      <td>VAN</td>\n",
       "      <td>Shea</td>\n",
       "      <td>Brek</td>\n",
       "      <td>M-D</td>\n",
       "      <td>625000.00</td>\n",
       "      <td>670000.00</td>\n",
       "    </tr>\n",
       "    <tr>\n",
       "      <th>609</th>\n",
       "      <td>VAN</td>\n",
       "      <td>Techera</td>\n",
       "      <td>Cristian</td>\n",
       "      <td>M</td>\n",
       "      <td>352000.00</td>\n",
       "      <td>377000.00</td>\n",
       "    </tr>\n",
       "    <tr>\n",
       "      <th>612</th>\n",
       "      <td>VAN</td>\n",
       "      <td>Waston</td>\n",
       "      <td>Kendall</td>\n",
       "      <td>D</td>\n",
       "      <td>350000.00</td>\n",
       "      <td>368125.00</td>\n",
       "    </tr>\n",
       "    <tr>\n",
       "      <th>615</th>\n",
       "      <td>NaN</td>\n",
       "      <td>Ramajo</td>\n",
       "      <td>David Mateos</td>\n",
       "      <td>D</td>\n",
       "      <td>420000.00</td>\n",
       "      <td>453333.33</td>\n",
       "    </tr>\n",
       "  </tbody>\n",
       "</table>\n",
       "<p>133 rows × 6 columns</p>\n",
       "</div>"
      ],
      "text/plain": [
       "    club last_name    first_name position  base_salary  \\\n",
       "0    ATL   Almiron        Miguel        M   1912500.00   \n",
       "5    ATL   Carmona        Carlos        M    675000.00   \n",
       "11   ATL     Jones       Kenwyne        F    390000.00   \n",
       "16   ATL  Martinez         Josef        F    924000.00   \n",
       "17   ATL    McCann         Chris        M    540000.00   \n",
       "..   ...       ...           ...      ...          ...   \n",
       "603  VAN     Reyna         Yordy      M-F    440000.04   \n",
       "607  VAN      Shea          Brek      M-D    625000.00   \n",
       "609  VAN   Techera      Cristian        M    352000.00   \n",
       "612  VAN    Waston       Kendall        D    350000.00   \n",
       "615  NaN    Ramajo  David Mateos        D    420000.00   \n",
       "\n",
       "     guaranteed_compensation  \n",
       "0                 2297000.00  \n",
       "5                  725000.00  \n",
       "11                 413333.33  \n",
       "16                1041310.00  \n",
       "17                 568000.00  \n",
       "..                       ...  \n",
       "603                533700.04  \n",
       "607                670000.00  \n",
       "609                377000.00  \n",
       "612                368125.00  \n",
       "615                453333.33  \n",
       "\n",
       "[133 rows x 6 columns]"
      ]
     },
     "execution_count": 21,
     "metadata": {},
     "output_type": "execute_result"
    }
   ],
   "source": [
    "df[df.base_salary > df.base_salary.mean()]"
   ]
  },
  {
   "cell_type": "markdown",
   "id": "60f537a1-2a22-41fa-a951-e406d5e4ba0c",
   "metadata": {},
   "source": [
    "#### En yüksek tazminata sahip futbolcunun soyadını bulun"
   ]
  },
  {
   "cell_type": "code",
   "execution_count": 31,
   "id": "39f089e7-1b16-4ddb-b31b-3d681ada7e1d",
   "metadata": {
    "ExecuteTime": {
     "end_time": "2023-04-19T15:35:27.088578Z",
     "start_time": "2023-04-19T15:35:27.084344Z"
    }
   },
   "outputs": [
    {
     "data": {
      "text/plain": [
       "'Kaka'"
      ]
     },
     "execution_count": 31,
     "metadata": {},
     "output_type": "execute_result"
    }
   ],
   "source": [
    "df[df.guaranteed_compensation == df.guaranteed_compensation.max()][\"last_name\"].iloc[0]\n"
   ]
  },
  {
   "cell_type": "markdown",
   "id": "6f51ea8d-92c5-4c2c-ba02-708cdb5d9a4e",
   "metadata": {},
   "source": [
    "#### \"Gonzalez Pirez\" isimli futbolcunun oynadığı mevkiyi bulun."
   ]
  },
  {
   "cell_type": "code",
   "execution_count": 34,
   "id": "126a7cf9-7412-4171-b3e0-e3d2b78759d8",
   "metadata": {
    "ExecuteTime": {
     "end_time": "2023-04-19T15:35:54.881423Z",
     "start_time": "2023-04-19T15:35:54.877339Z"
    }
   },
   "outputs": [
    {
     "data": {
      "text/plain": [
       "'D'"
      ]
     },
     "execution_count": 34,
     "metadata": {},
     "output_type": "execute_result"
    }
   ],
   "source": [
    "df[df.last_name == \"Gonzalez Pirez\"].position.iloc[0]"
   ]
  },
  {
   "cell_type": "markdown",
   "id": "cfcdf34f-57a8-4e66-b03d-2505c61b720d",
   "metadata": {},
   "source": [
    "#### Mevkilere göre futbolcuları gruplayarak mevkilerde ortalama maaşları bulun"
   ]
  },
  {
   "cell_type": "code",
   "execution_count": 36,
   "id": "045cc7fd",
   "metadata": {
    "ExecuteTime": {
     "end_time": "2023-04-19T15:37:56.653725Z",
     "start_time": "2023-04-19T15:37:56.646445Z"
    }
   },
   "outputs": [
    {
     "data": {
      "text/html": [
       "<div>\n",
       "<style scoped>\n",
       "    .dataframe tbody tr th:only-of-type {\n",
       "        vertical-align: middle;\n",
       "    }\n",
       "\n",
       "    .dataframe tbody tr th {\n",
       "        vertical-align: top;\n",
       "    }\n",
       "\n",
       "    .dataframe thead th {\n",
       "        text-align: right;\n",
       "    }\n",
       "</style>\n",
       "<table border=\"1\" class=\"dataframe\">\n",
       "  <thead>\n",
       "    <tr style=\"text-align: right;\">\n",
       "      <th></th>\n",
       "      <th>base_salary</th>\n",
       "    </tr>\n",
       "    <tr>\n",
       "      <th>position</th>\n",
       "      <th></th>\n",
       "    </tr>\n",
       "  </thead>\n",
       "  <tbody>\n",
       "    <tr>\n",
       "      <th>D</th>\n",
       "      <td>166574.093784</td>\n",
       "    </tr>\n",
       "    <tr>\n",
       "      <th>D-M</th>\n",
       "      <td>134930.000000</td>\n",
       "    </tr>\n",
       "    <tr>\n",
       "      <th>F</th>\n",
       "      <td>489588.598349</td>\n",
       "    </tr>\n",
       "    <tr>\n",
       "      <th>F-M</th>\n",
       "      <td>335834.000000</td>\n",
       "    </tr>\n",
       "    <tr>\n",
       "      <th>F/M</th>\n",
       "      <td>125000.000000</td>\n",
       "    </tr>\n",
       "    <tr>\n",
       "      <th>GK</th>\n",
       "      <td>146472.515538</td>\n",
       "    </tr>\n",
       "    <tr>\n",
       "      <th>M</th>\n",
       "      <td>376106.218632</td>\n",
       "    </tr>\n",
       "    <tr>\n",
       "      <th>M-D</th>\n",
       "      <td>219032.250000</td>\n",
       "    </tr>\n",
       "    <tr>\n",
       "      <th>M-F</th>\n",
       "      <td>212975.604211</td>\n",
       "    </tr>\n",
       "    <tr>\n",
       "      <th>M/F</th>\n",
       "      <td>550000.000000</td>\n",
       "    </tr>\n",
       "  </tbody>\n",
       "</table>\n",
       "</div>"
      ],
      "text/plain": [
       "            base_salary\n",
       "position               \n",
       "D         166574.093784\n",
       "D-M       134930.000000\n",
       "F         489588.598349\n",
       "F-M       335834.000000\n",
       "F/M       125000.000000\n",
       "GK        146472.515538\n",
       "M         376106.218632\n",
       "M-D       219032.250000\n",
       "M-F       212975.604211\n",
       "M/F       550000.000000"
      ]
     },
     "execution_count": 36,
     "metadata": {},
     "output_type": "execute_result"
    }
   ],
   "source": [
    "df.groupby(\"position\")[[\"base_salary\"]].apply(\"mean\")"
   ]
  },
  {
   "cell_type": "markdown",
   "id": "8b6b2f4d-8762-4a1c-880f-692f095cfa00",
   "metadata": {},
   "source": [
    "#### Verisetinde kaç farklı mevki olduğunu yazdırın ve sayısını gösterin."
   ]
  },
  {
   "cell_type": "code",
   "execution_count": 38,
   "id": "fb634e1b",
   "metadata": {
    "ExecuteTime": {
     "end_time": "2023-04-19T15:38:12.825527Z",
     "start_time": "2023-04-19T15:38:12.820994Z"
    }
   },
   "outputs": [
    {
     "data": {
      "text/plain": [
       "array(['M', 'D', 'F', 'GK', 'M-F', 'F-M', 'D-M', 'M-D', 'M/F', 'F/M'],\n",
       "      dtype=object)"
      ]
     },
     "execution_count": 38,
     "metadata": {},
     "output_type": "execute_result"
    }
   ],
   "source": [
    "df.position.unique()"
   ]
  },
  {
   "cell_type": "code",
   "execution_count": 59,
   "id": "814b81df-e8d2-4e88-9bee-df7b6a6945bf",
   "metadata": {
    "ExecuteTime": {
     "end_time": "2023-04-19T12:56:04.650079Z",
     "start_time": "2023-04-19T12:56:04.635647Z"
    }
   },
   "outputs": [
    {
     "data": {
      "text/plain": [
       "10"
      ]
     },
     "execution_count": 59,
     "metadata": {},
     "output_type": "execute_result"
    }
   ],
   "source": [
    "df.position.nunique()"
   ]
  },
  {
   "cell_type": "code",
   "execution_count": 39,
   "id": "b37b8ee0",
   "metadata": {
    "ExecuteTime": {
     "end_time": "2023-04-19T15:38:19.369749Z",
     "start_time": "2023-04-19T15:38:19.366026Z"
    }
   },
   "outputs": [
    {
     "data": {
      "text/plain": [
       "10"
      ]
     },
     "execution_count": 39,
     "metadata": {},
     "output_type": "execute_result"
    }
   ],
   "source": [
    "len(df.position.unique())"
   ]
  },
  {
   "cell_type": "markdown",
   "id": "dde6a5e8-f560-44c4-93ab-f61468b6ad8b",
   "metadata": {},
   "source": [
    "#### Her mevkide kaç oyuncunun olduğunu hesaplayın"
   ]
  },
  {
   "cell_type": "code",
   "execution_count": 75,
   "id": "2f32cf8a",
   "metadata": {
    "ExecuteTime": {
     "end_time": "2023-04-19T12:59:22.877705Z",
     "start_time": "2023-04-19T12:59:22.870378Z"
    }
   },
   "outputs": [
    {
     "data": {
      "text/plain": [
       "M      212\n",
       "D      185\n",
       "F      109\n",
       "GK      65\n",
       "M-F     19\n",
       "D-M     14\n",
       "F-M      6\n",
       "M-D      4\n",
       "M/F      1\n",
       "F/M      1\n",
       "Name: position, dtype: int64"
      ]
     },
     "execution_count": 75,
     "metadata": {},
     "output_type": "execute_result"
    }
   ],
   "source": [
    "df[\"position\"].value_counts()"
   ]
  },
  {
   "cell_type": "code",
   "execution_count": 46,
   "id": "536bd726",
   "metadata": {
    "ExecuteTime": {
     "end_time": "2023-04-19T15:40:34.074709Z",
     "start_time": "2023-04-19T15:40:34.068316Z"
    }
   },
   "outputs": [
    {
     "data": {
      "text/plain": [
       "position\n",
       "M      212\n",
       "D      185\n",
       "F      109\n",
       "GK      65\n",
       "M-F     19\n",
       "D-M     14\n",
       "F-M      6\n",
       "M-D      4\n",
       "F/M      1\n",
       "M/F      1\n",
       "Name: position, dtype: int64"
      ]
     },
     "execution_count": 46,
     "metadata": {},
     "output_type": "execute_result"
    }
   ],
   "source": [
    "df.groupby(\"position\")[\"position\"].agg(\"count\").sort_values(ascending=False)"
   ]
  },
  {
   "cell_type": "code",
   "execution_count": 43,
   "id": "055be5fa",
   "metadata": {
    "ExecuteTime": {
     "end_time": "2023-04-19T15:39:30.229571Z",
     "start_time": "2023-04-19T15:39:30.221256Z"
    }
   },
   "outputs": [
    {
     "data": {
      "text/plain": [
       "M      34.415584\n",
       "D      30.032468\n",
       "F      17.694805\n",
       "GK     10.551948\n",
       "M-F     3.084416\n",
       "D-M     2.272727\n",
       "F-M     0.974026\n",
       "M-D     0.649351\n",
       "M/F     0.162338\n",
       "F/M     0.162338\n",
       "Name: position, dtype: float64"
      ]
     },
     "execution_count": 43,
     "metadata": {},
     "output_type": "execute_result"
    }
   ],
   "source": [
    "df[\"position\"].value_counts(normalize = True) * 100"
   ]
  },
  {
   "cell_type": "markdown",
   "id": "2bc6f8c2-02fe-46c7-997c-1622220455e0",
   "metadata": {},
   "source": [
    "#### Her takımda kaç kişinin oynadığını hesaplayın."
   ]
  },
  {
   "cell_type": "code",
   "execution_count": 47,
   "id": "19d07220",
   "metadata": {
    "ExecuteTime": {
     "end_time": "2023-04-19T15:41:05.715609Z",
     "start_time": "2023-04-19T15:41:05.709482Z"
    }
   },
   "outputs": [
    {
     "data": {
      "text/plain": [
       "VAN      32\n",
       "PHI      31\n",
       "ATL      31\n",
       "CLB      30\n",
       "ORL      30\n",
       "DAL      29\n",
       "SJ       29\n",
       "NYCFC    28\n",
       "HOU      28\n",
       "NYRB     28\n",
       "TOR      27\n",
       "RSL      27\n",
       "POR      27\n",
       "MTL      27\n",
       "CHI      27\n",
       "MNUFC    27\n",
       "LA       27\n",
       "DC       27\n",
       "KC       26\n",
       "COL      26\n",
       "SEA      25\n",
       "NE       23\n",
       "LAFC      2\n",
       "Name: club, dtype: int64"
      ]
     },
     "execution_count": 47,
     "metadata": {},
     "output_type": "execute_result"
    }
   ],
   "source": [
    "df.club.value_counts()"
   ]
  },
  {
   "cell_type": "code",
   "execution_count": 48,
   "id": "dcc62abf",
   "metadata": {
    "ExecuteTime": {
     "end_time": "2023-04-19T15:41:17.972331Z",
     "start_time": "2023-04-19T15:41:17.965763Z"
    }
   },
   "outputs": [
    {
     "data": {
      "text/plain": [
       "club\n",
       "VAN      32\n",
       "PHI      31\n",
       "ATL      31\n",
       "CLB      30\n",
       "ORL      30\n",
       "DAL      29\n",
       "SJ       29\n",
       "NYCFC    28\n",
       "HOU      28\n",
       "NYRB     28\n",
       "TOR      27\n",
       "RSL      27\n",
       "POR      27\n",
       "MTL      27\n",
       "CHI      27\n",
       "MNUFC    27\n",
       "LA       27\n",
       "DC       27\n",
       "KC       26\n",
       "COL      26\n",
       "SEA      25\n",
       "NE       23\n",
       "LAFC      2\n",
       "Name: club, dtype: int64"
      ]
     },
     "execution_count": 48,
     "metadata": {},
     "output_type": "execute_result"
    }
   ],
   "source": [
    "  df.groupby(\"club\")[\"club\"].agg(\"count\").sort_values(ascending=False)"
   ]
  },
  {
   "cell_type": "markdown",
   "id": "50199b6d-eb98-4a7c-a015-e41ae6bfc22d",
   "metadata": {},
   "source": [
    "#### Soyadlarının içinde \"son\" geçen futbolcuları bulun"
   ]
  },
  {
   "cell_type": "code",
   "execution_count": 82,
   "id": "e1938436-cf3f-451f-809e-585a00639cf3",
   "metadata": {
    "ExecuteTime": {
     "end_time": "2023-04-19T13:02:52.619671Z",
     "start_time": "2023-04-19T13:02:52.609092Z"
    }
   },
   "outputs": [
    {
     "data": {
      "text/plain": [
       "0      False\n",
       "1      False\n",
       "2      False\n",
       "3      False\n",
       "4      False\n",
       "       ...  \n",
       "611    False\n",
       "612    False\n",
       "613    False\n",
       "614    False\n",
       "615    False\n",
       "Name: last_name, Length: 616, dtype: bool"
      ]
     },
     "execution_count": 82,
     "metadata": {},
     "output_type": "execute_result"
    }
   ],
   "source": [
    "def re_find(last_name):\n",
    "    if \"son\" in last_name.lower():\n",
    "        return True\n",
    "    return False\n",
    "df[\"last_name\"].apply(re_find)"
   ]
  },
  {
   "cell_type": "code",
   "execution_count": 83,
   "id": "498fca8a",
   "metadata": {
    "ExecuteTime": {
     "end_time": "2023-04-19T13:03:09.637100Z",
     "start_time": "2023-04-19T13:03:09.626151Z"
    }
   },
   "outputs": [
    {
     "data": {
      "text/html": [
       "<div>\n",
       "<style scoped>\n",
       "    .dataframe tbody tr th:only-of-type {\n",
       "        vertical-align: middle;\n",
       "    }\n",
       "\n",
       "    .dataframe tbody tr th {\n",
       "        vertical-align: top;\n",
       "    }\n",
       "\n",
       "    .dataframe thead th {\n",
       "        text-align: right;\n",
       "    }\n",
       "</style>\n",
       "<table border=\"1\" class=\"dataframe\">\n",
       "  <thead>\n",
       "    <tr style=\"text-align: right;\">\n",
       "      <th></th>\n",
       "      <th>club</th>\n",
       "      <th>last_name</th>\n",
       "      <th>first_name</th>\n",
       "      <th>position</th>\n",
       "      <th>base_salary</th>\n",
       "      <th>guaranteed_compensation</th>\n",
       "    </tr>\n",
       "  </thead>\n",
       "  <tbody>\n",
       "    <tr>\n",
       "      <th>21</th>\n",
       "      <td>ATL</td>\n",
       "      <td>Peterson</td>\n",
       "      <td>Jacob</td>\n",
       "      <td>F</td>\n",
       "      <td>165300.00</td>\n",
       "      <td>165300.00</td>\n",
       "    </tr>\n",
       "    <tr>\n",
       "      <th>23</th>\n",
       "      <td>ATL</td>\n",
       "      <td>Robinson</td>\n",
       "      <td>Miles</td>\n",
       "      <td>D</td>\n",
       "      <td>125000.04</td>\n",
       "      <td>195000.04</td>\n",
       "    </tr>\n",
       "    <tr>\n",
       "      <th>45</th>\n",
       "      <td>CHI</td>\n",
       "      <td>Johnson</td>\n",
       "      <td>Daniel</td>\n",
       "      <td>M</td>\n",
       "      <td>65004.00</td>\n",
       "      <td>65004.00</td>\n",
       "    </tr>\n",
       "    <tr>\n",
       "      <th>48</th>\n",
       "      <td>CHI</td>\n",
       "      <td>Lampson</td>\n",
       "      <td>Matt</td>\n",
       "      <td>GK</td>\n",
       "      <td>76000.00</td>\n",
       "      <td>81375.00</td>\n",
       "    </tr>\n",
       "    <tr>\n",
       "      <th>85</th>\n",
       "      <td>CLB</td>\n",
       "      <td>Swanson</td>\n",
       "      <td>Ben</td>\n",
       "      <td>M</td>\n",
       "      <td>85000.00</td>\n",
       "      <td>105416.67</td>\n",
       "    </tr>\n",
       "    <tr>\n",
       "      <th>163</th>\n",
       "      <td>DC</td>\n",
       "      <td>Robinson</td>\n",
       "      <td>Jalen</td>\n",
       "      <td>D</td>\n",
       "      <td>69996.00</td>\n",
       "      <td>69996.00</td>\n",
       "    </tr>\n",
       "    <tr>\n",
       "      <th>233</th>\n",
       "      <td>LA</td>\n",
       "      <td>Jamieson</td>\n",
       "      <td>Bradford</td>\n",
       "      <td>F</td>\n",
       "      <td>66150.00</td>\n",
       "      <td>66150.00</td>\n",
       "    </tr>\n",
       "    <tr>\n",
       "      <th>265</th>\n",
       "      <td>MNUFC</td>\n",
       "      <td>Ibson</td>\n",
       "      <td>NaN</td>\n",
       "      <td>M</td>\n",
       "      <td>200004.00</td>\n",
       "      <td>210337.40</td>\n",
       "    </tr>\n",
       "    <tr>\n",
       "      <th>276</th>\n",
       "      <td>MNUFC</td>\n",
       "      <td>Thiesson</td>\n",
       "      <td>Jerome</td>\n",
       "      <td>D</td>\n",
       "      <td>171000.00</td>\n",
       "      <td>210166.67</td>\n",
       "    </tr>\n",
       "    <tr>\n",
       "      <th>295</th>\n",
       "      <td>MTL</td>\n",
       "      <td>Jackson-Hamel</td>\n",
       "      <td>Anthony</td>\n",
       "      <td>F</td>\n",
       "      <td>66150.00</td>\n",
       "      <td>66150.00</td>\n",
       "    </tr>\n",
       "    <tr>\n",
       "      <th>327</th>\n",
       "      <td>NE</td>\n",
       "      <td>Watson</td>\n",
       "      <td>Je-Vaughn</td>\n",
       "      <td>D-M</td>\n",
       "      <td>150000.00</td>\n",
       "      <td>155666.67</td>\n",
       "    </tr>\n",
       "    <tr>\n",
       "      <th>338</th>\n",
       "      <td>NYCFC</td>\n",
       "      <td>Harrison</td>\n",
       "      <td>Jack</td>\n",
       "      <td>M</td>\n",
       "      <td>130000.00</td>\n",
       "      <td>165500.00</td>\n",
       "    </tr>\n",
       "    <tr>\n",
       "      <th>341</th>\n",
       "      <td>NYCFC</td>\n",
       "      <td>Johnson</td>\n",
       "      <td>Sean</td>\n",
       "      <td>GK</td>\n",
       "      <td>220008.00</td>\n",
       "      <td>220008.00</td>\n",
       "    </tr>\n",
       "    <tr>\n",
       "      <th>400</th>\n",
       "      <td>ORL</td>\n",
       "      <td>Johnson</td>\n",
       "      <td>Will</td>\n",
       "      <td>M</td>\n",
       "      <td>414000.00</td>\n",
       "      <td>450000.00</td>\n",
       "    </tr>\n",
       "    <tr>\n",
       "      <th>442</th>\n",
       "      <td>PHI</td>\n",
       "      <td>Simpson</td>\n",
       "      <td>Jay</td>\n",
       "      <td>F</td>\n",
       "      <td>465000.00</td>\n",
       "      <td>508333.33</td>\n",
       "    </tr>\n",
       "    <tr>\n",
       "      <th>459</th>\n",
       "      <td>POR</td>\n",
       "      <td>Gleeson</td>\n",
       "      <td>Jake</td>\n",
       "      <td>GK</td>\n",
       "      <td>110000.00</td>\n",
       "      <td>115166.67</td>\n",
       "    </tr>\n",
       "    <tr>\n",
       "      <th>522</th>\n",
       "      <td>SEA</td>\n",
       "      <td>Svensson</td>\n",
       "      <td>Gustav</td>\n",
       "      <td>M</td>\n",
       "      <td>170000.04</td>\n",
       "      <td>170000.04</td>\n",
       "    </tr>\n",
       "    <tr>\n",
       "      <th>550</th>\n",
       "      <td>SJ</td>\n",
       "      <td>Thompson</td>\n",
       "      <td>Tommy</td>\n",
       "      <td>M</td>\n",
       "      <td>150000.00</td>\n",
       "      <td>155000.00</td>\n",
       "    </tr>\n",
       "    <tr>\n",
       "      <th>594</th>\n",
       "      <td>VAN</td>\n",
       "      <td>Jacobson</td>\n",
       "      <td>Andrew</td>\n",
       "      <td>M</td>\n",
       "      <td>150000.00</td>\n",
       "      <td>175000.00</td>\n",
       "    </tr>\n",
       "  </tbody>\n",
       "</table>\n",
       "</div>"
      ],
      "text/plain": [
       "      club      last_name first_name position  base_salary  \\\n",
       "21     ATL       Peterson      Jacob        F    165300.00   \n",
       "23     ATL       Robinson      Miles        D    125000.04   \n",
       "45     CHI        Johnson     Daniel        M     65004.00   \n",
       "48     CHI        Lampson       Matt       GK     76000.00   \n",
       "85     CLB        Swanson        Ben        M     85000.00   \n",
       "163     DC       Robinson      Jalen        D     69996.00   \n",
       "233     LA       Jamieson   Bradford        F     66150.00   \n",
       "265  MNUFC          Ibson        NaN        M    200004.00   \n",
       "276  MNUFC       Thiesson     Jerome        D    171000.00   \n",
       "295    MTL  Jackson-Hamel    Anthony        F     66150.00   \n",
       "327     NE         Watson  Je-Vaughn      D-M    150000.00   \n",
       "338  NYCFC       Harrison       Jack        M    130000.00   \n",
       "341  NYCFC        Johnson       Sean       GK    220008.00   \n",
       "400    ORL        Johnson       Will        M    414000.00   \n",
       "442    PHI        Simpson        Jay        F    465000.00   \n",
       "459    POR        Gleeson       Jake       GK    110000.00   \n",
       "522    SEA       Svensson     Gustav        M    170000.04   \n",
       "550     SJ       Thompson      Tommy        M    150000.00   \n",
       "594    VAN       Jacobson     Andrew        M    150000.00   \n",
       "\n",
       "     guaranteed_compensation  \n",
       "21                 165300.00  \n",
       "23                 195000.04  \n",
       "45                  65004.00  \n",
       "48                  81375.00  \n",
       "85                 105416.67  \n",
       "163                 69996.00  \n",
       "233                 66150.00  \n",
       "265                210337.40  \n",
       "276                210166.67  \n",
       "295                 66150.00  \n",
       "327                155666.67  \n",
       "338                165500.00  \n",
       "341                220008.00  \n",
       "400                450000.00  \n",
       "442                508333.33  \n",
       "459                115166.67  \n",
       "522                170000.04  \n",
       "550                155000.00  \n",
       "594                175000.00  "
      ]
     },
     "execution_count": 83,
     "metadata": {},
     "output_type": "execute_result"
    }
   ],
   "source": [
    "df[df[\"last_name\"].apply(re_find)]"
   ]
  },
  {
   "cell_type": "code",
   "execution_count": 85,
   "id": "8baf02ab",
   "metadata": {
    "ExecuteTime": {
     "end_time": "2023-04-19T13:04:02.608307Z",
     "start_time": "2023-04-19T13:04:02.584689Z"
    }
   },
   "outputs": [
    {
     "data": {
      "text/html": [
       "<div>\n",
       "<style scoped>\n",
       "    .dataframe tbody tr th:only-of-type {\n",
       "        vertical-align: middle;\n",
       "    }\n",
       "\n",
       "    .dataframe tbody tr th {\n",
       "        vertical-align: top;\n",
       "    }\n",
       "\n",
       "    .dataframe thead th {\n",
       "        text-align: right;\n",
       "    }\n",
       "</style>\n",
       "<table border=\"1\" class=\"dataframe\">\n",
       "  <thead>\n",
       "    <tr style=\"text-align: right;\">\n",
       "      <th></th>\n",
       "      <th>club</th>\n",
       "      <th>last_name</th>\n",
       "      <th>first_name</th>\n",
       "      <th>position</th>\n",
       "      <th>base_salary</th>\n",
       "      <th>guaranteed_compensation</th>\n",
       "    </tr>\n",
       "  </thead>\n",
       "  <tbody>\n",
       "    <tr>\n",
       "      <th>21</th>\n",
       "      <td>ATL</td>\n",
       "      <td>Peterson</td>\n",
       "      <td>Jacob</td>\n",
       "      <td>F</td>\n",
       "      <td>165300.00</td>\n",
       "      <td>165300.00</td>\n",
       "    </tr>\n",
       "    <tr>\n",
       "      <th>23</th>\n",
       "      <td>ATL</td>\n",
       "      <td>Robinson</td>\n",
       "      <td>Miles</td>\n",
       "      <td>D</td>\n",
       "      <td>125000.04</td>\n",
       "      <td>195000.04</td>\n",
       "    </tr>\n",
       "    <tr>\n",
       "      <th>45</th>\n",
       "      <td>CHI</td>\n",
       "      <td>Johnson</td>\n",
       "      <td>Daniel</td>\n",
       "      <td>M</td>\n",
       "      <td>65004.00</td>\n",
       "      <td>65004.00</td>\n",
       "    </tr>\n",
       "    <tr>\n",
       "      <th>48</th>\n",
       "      <td>CHI</td>\n",
       "      <td>Lampson</td>\n",
       "      <td>Matt</td>\n",
       "      <td>GK</td>\n",
       "      <td>76000.00</td>\n",
       "      <td>81375.00</td>\n",
       "    </tr>\n",
       "    <tr>\n",
       "      <th>85</th>\n",
       "      <td>CLB</td>\n",
       "      <td>Swanson</td>\n",
       "      <td>Ben</td>\n",
       "      <td>M</td>\n",
       "      <td>85000.00</td>\n",
       "      <td>105416.67</td>\n",
       "    </tr>\n",
       "    <tr>\n",
       "      <th>163</th>\n",
       "      <td>DC</td>\n",
       "      <td>Robinson</td>\n",
       "      <td>Jalen</td>\n",
       "      <td>D</td>\n",
       "      <td>69996.00</td>\n",
       "      <td>69996.00</td>\n",
       "    </tr>\n",
       "    <tr>\n",
       "      <th>233</th>\n",
       "      <td>LA</td>\n",
       "      <td>Jamieson</td>\n",
       "      <td>Bradford</td>\n",
       "      <td>F</td>\n",
       "      <td>66150.00</td>\n",
       "      <td>66150.00</td>\n",
       "    </tr>\n",
       "    <tr>\n",
       "      <th>265</th>\n",
       "      <td>MNUFC</td>\n",
       "      <td>Ibson</td>\n",
       "      <td>NaN</td>\n",
       "      <td>M</td>\n",
       "      <td>200004.00</td>\n",
       "      <td>210337.40</td>\n",
       "    </tr>\n",
       "    <tr>\n",
       "      <th>276</th>\n",
       "      <td>MNUFC</td>\n",
       "      <td>Thiesson</td>\n",
       "      <td>Jerome</td>\n",
       "      <td>D</td>\n",
       "      <td>171000.00</td>\n",
       "      <td>210166.67</td>\n",
       "    </tr>\n",
       "    <tr>\n",
       "      <th>295</th>\n",
       "      <td>MTL</td>\n",
       "      <td>Jackson-Hamel</td>\n",
       "      <td>Anthony</td>\n",
       "      <td>F</td>\n",
       "      <td>66150.00</td>\n",
       "      <td>66150.00</td>\n",
       "    </tr>\n",
       "    <tr>\n",
       "      <th>327</th>\n",
       "      <td>NE</td>\n",
       "      <td>Watson</td>\n",
       "      <td>Je-Vaughn</td>\n",
       "      <td>D-M</td>\n",
       "      <td>150000.00</td>\n",
       "      <td>155666.67</td>\n",
       "    </tr>\n",
       "    <tr>\n",
       "      <th>338</th>\n",
       "      <td>NYCFC</td>\n",
       "      <td>Harrison</td>\n",
       "      <td>Jack</td>\n",
       "      <td>M</td>\n",
       "      <td>130000.00</td>\n",
       "      <td>165500.00</td>\n",
       "    </tr>\n",
       "    <tr>\n",
       "      <th>341</th>\n",
       "      <td>NYCFC</td>\n",
       "      <td>Johnson</td>\n",
       "      <td>Sean</td>\n",
       "      <td>GK</td>\n",
       "      <td>220008.00</td>\n",
       "      <td>220008.00</td>\n",
       "    </tr>\n",
       "    <tr>\n",
       "      <th>400</th>\n",
       "      <td>ORL</td>\n",
       "      <td>Johnson</td>\n",
       "      <td>Will</td>\n",
       "      <td>M</td>\n",
       "      <td>414000.00</td>\n",
       "      <td>450000.00</td>\n",
       "    </tr>\n",
       "    <tr>\n",
       "      <th>442</th>\n",
       "      <td>PHI</td>\n",
       "      <td>Simpson</td>\n",
       "      <td>Jay</td>\n",
       "      <td>F</td>\n",
       "      <td>465000.00</td>\n",
       "      <td>508333.33</td>\n",
       "    </tr>\n",
       "    <tr>\n",
       "      <th>459</th>\n",
       "      <td>POR</td>\n",
       "      <td>Gleeson</td>\n",
       "      <td>Jake</td>\n",
       "      <td>GK</td>\n",
       "      <td>110000.00</td>\n",
       "      <td>115166.67</td>\n",
       "    </tr>\n",
       "    <tr>\n",
       "      <th>522</th>\n",
       "      <td>SEA</td>\n",
       "      <td>Svensson</td>\n",
       "      <td>Gustav</td>\n",
       "      <td>M</td>\n",
       "      <td>170000.04</td>\n",
       "      <td>170000.04</td>\n",
       "    </tr>\n",
       "    <tr>\n",
       "      <th>550</th>\n",
       "      <td>SJ</td>\n",
       "      <td>Thompson</td>\n",
       "      <td>Tommy</td>\n",
       "      <td>M</td>\n",
       "      <td>150000.00</td>\n",
       "      <td>155000.00</td>\n",
       "    </tr>\n",
       "    <tr>\n",
       "      <th>594</th>\n",
       "      <td>VAN</td>\n",
       "      <td>Jacobson</td>\n",
       "      <td>Andrew</td>\n",
       "      <td>M</td>\n",
       "      <td>150000.00</td>\n",
       "      <td>175000.00</td>\n",
       "    </tr>\n",
       "  </tbody>\n",
       "</table>\n",
       "</div>"
      ],
      "text/plain": [
       "      club      last_name first_name position  base_salary  \\\n",
       "21     ATL       Peterson      Jacob        F    165300.00   \n",
       "23     ATL       Robinson      Miles        D    125000.04   \n",
       "45     CHI        Johnson     Daniel        M     65004.00   \n",
       "48     CHI        Lampson       Matt       GK     76000.00   \n",
       "85     CLB        Swanson        Ben        M     85000.00   \n",
       "163     DC       Robinson      Jalen        D     69996.00   \n",
       "233     LA       Jamieson   Bradford        F     66150.00   \n",
       "265  MNUFC          Ibson        NaN        M    200004.00   \n",
       "276  MNUFC       Thiesson     Jerome        D    171000.00   \n",
       "295    MTL  Jackson-Hamel    Anthony        F     66150.00   \n",
       "327     NE         Watson  Je-Vaughn      D-M    150000.00   \n",
       "338  NYCFC       Harrison       Jack        M    130000.00   \n",
       "341  NYCFC        Johnson       Sean       GK    220008.00   \n",
       "400    ORL        Johnson       Will        M    414000.00   \n",
       "442    PHI        Simpson        Jay        F    465000.00   \n",
       "459    POR        Gleeson       Jake       GK    110000.00   \n",
       "522    SEA       Svensson     Gustav        M    170000.04   \n",
       "550     SJ       Thompson      Tommy        M    150000.00   \n",
       "594    VAN       Jacobson     Andrew        M    150000.00   \n",
       "\n",
       "     guaranteed_compensation  \n",
       "21                 165300.00  \n",
       "23                 195000.04  \n",
       "45                  65004.00  \n",
       "48                  81375.00  \n",
       "85                 105416.67  \n",
       "163                 69996.00  \n",
       "233                 66150.00  \n",
       "265                210337.40  \n",
       "276                210166.67  \n",
       "295                 66150.00  \n",
       "327                155666.67  \n",
       "338                165500.00  \n",
       "341                220008.00  \n",
       "400                450000.00  \n",
       "442                508333.33  \n",
       "459                115166.67  \n",
       "522                170000.04  \n",
       "550                155000.00  \n",
       "594                175000.00  "
      ]
     },
     "execution_count": 85,
     "metadata": {},
     "output_type": "execute_result"
    }
   ],
   "source": [
    "# contains ile daha pratik yöntem\n",
    "df[df.last_name.str.contains(\"son\")]"
   ]
  },
  {
   "cell_type": "markdown",
   "id": "b9b4c7f8-f198-4498-a7f8-85401aa33304",
   "metadata": {},
   "source": [
    "#### Takım ve mevki bilgisinin yer aldığı yeni bir sütun oluşturun"
   ]
  },
  {
   "cell_type": "code",
   "execution_count": 86,
   "id": "f6874dbb-ba36-43fa-9ae4-18a684daad1c",
   "metadata": {
    "ExecuteTime": {
     "end_time": "2023-04-19T13:06:02.782533Z",
     "start_time": "2023-04-19T13:06:02.766756Z"
    }
   },
   "outputs": [],
   "source": [
    "df[\"new_info\"] = df[\"club\"] + \"-\" + df[\"position\"]"
   ]
  },
  {
   "cell_type": "code",
   "execution_count": 87,
   "id": "f90bc6d3-da75-4248-ac0c-25d3482e0fdc",
   "metadata": {
    "ExecuteTime": {
     "end_time": "2023-04-19T13:06:05.235070Z",
     "start_time": "2023-04-19T13:06:05.224636Z"
    }
   },
   "outputs": [
    {
     "data": {
      "text/html": [
       "<div>\n",
       "<style scoped>\n",
       "    .dataframe tbody tr th:only-of-type {\n",
       "        vertical-align: middle;\n",
       "    }\n",
       "\n",
       "    .dataframe tbody tr th {\n",
       "        vertical-align: top;\n",
       "    }\n",
       "\n",
       "    .dataframe thead th {\n",
       "        text-align: right;\n",
       "    }\n",
       "</style>\n",
       "<table border=\"1\" class=\"dataframe\">\n",
       "  <thead>\n",
       "    <tr style=\"text-align: right;\">\n",
       "      <th></th>\n",
       "      <th>club</th>\n",
       "      <th>last_name</th>\n",
       "      <th>first_name</th>\n",
       "      <th>position</th>\n",
       "      <th>base_salary</th>\n",
       "      <th>guaranteed_compensation</th>\n",
       "      <th>new_info</th>\n",
       "    </tr>\n",
       "  </thead>\n",
       "  <tbody>\n",
       "    <tr>\n",
       "      <th>0</th>\n",
       "      <td>ATL</td>\n",
       "      <td>Almiron</td>\n",
       "      <td>Miguel</td>\n",
       "      <td>M</td>\n",
       "      <td>1912500.0</td>\n",
       "      <td>2297000.00</td>\n",
       "      <td>ATL-M</td>\n",
       "    </tr>\n",
       "    <tr>\n",
       "      <th>1</th>\n",
       "      <td>ATL</td>\n",
       "      <td>Ambrose</td>\n",
       "      <td>Mikey</td>\n",
       "      <td>D</td>\n",
       "      <td>65625.0</td>\n",
       "      <td>65625.00</td>\n",
       "      <td>ATL-D</td>\n",
       "    </tr>\n",
       "    <tr>\n",
       "      <th>2</th>\n",
       "      <td>ATL</td>\n",
       "      <td>Asad</td>\n",
       "      <td>Yamil</td>\n",
       "      <td>M</td>\n",
       "      <td>150000.0</td>\n",
       "      <td>150000.00</td>\n",
       "      <td>ATL-M</td>\n",
       "    </tr>\n",
       "    <tr>\n",
       "      <th>3</th>\n",
       "      <td>ATL</td>\n",
       "      <td>Bloom</td>\n",
       "      <td>Mark</td>\n",
       "      <td>D</td>\n",
       "      <td>99225.0</td>\n",
       "      <td>106573.89</td>\n",
       "      <td>ATL-D</td>\n",
       "    </tr>\n",
       "    <tr>\n",
       "      <th>4</th>\n",
       "      <td>ATL</td>\n",
       "      <td>Carleton</td>\n",
       "      <td>Andrew</td>\n",
       "      <td>F</td>\n",
       "      <td>65000.0</td>\n",
       "      <td>77400.00</td>\n",
       "      <td>ATL-F</td>\n",
       "    </tr>\n",
       "  </tbody>\n",
       "</table>\n",
       "</div>"
      ],
      "text/plain": [
       "  club last_name first_name position  base_salary  guaranteed_compensation  \\\n",
       "0  ATL   Almiron     Miguel        M    1912500.0               2297000.00   \n",
       "1  ATL   Ambrose      Mikey        D      65625.0                 65625.00   \n",
       "2  ATL      Asad      Yamil        M     150000.0                150000.00   \n",
       "3  ATL     Bloom       Mark        D      99225.0                106573.89   \n",
       "4  ATL  Carleton     Andrew        F      65000.0                 77400.00   \n",
       "\n",
       "  new_info  \n",
       "0    ATL-M  \n",
       "1    ATL-D  \n",
       "2    ATL-M  \n",
       "3    ATL-D  \n",
       "4    ATL-F  "
      ]
     },
     "execution_count": 87,
     "metadata": {},
     "output_type": "execute_result"
    }
   ],
   "source": [
    "df.head()"
   ]
  },
  {
   "cell_type": "markdown",
   "id": "3cb9c00a-a5fb-4e56-b133-58afa07c5cb4",
   "metadata": {},
   "source": [
    "#### En çok oyuncuya sahip takımın oyucularını yazdır"
   ]
  },
  {
   "cell_type": "code",
   "execution_count": 54,
   "id": "3dc780bb",
   "metadata": {
    "ExecuteTime": {
     "end_time": "2023-04-19T15:44:44.089266Z",
     "start_time": "2023-04-19T15:44:44.084188Z"
    }
   },
   "outputs": [
    {
     "data": {
      "text/plain": [
       "'VAN'"
      ]
     },
     "execution_count": 54,
     "metadata": {},
     "output_type": "execute_result"
    }
   ],
   "source": [
    "df.club.value_counts().index[0]"
   ]
  },
  {
   "cell_type": "code",
   "execution_count": 96,
   "id": "3f6f9559",
   "metadata": {
    "ExecuteTime": {
     "end_time": "2023-04-19T13:07:51.662837Z",
     "start_time": "2023-04-19T13:07:51.647251Z"
    }
   },
   "outputs": [
    {
     "data": {
      "text/plain": [
       "'VAN'"
      ]
     },
     "execution_count": 96,
     "metadata": {},
     "output_type": "execute_result"
    }
   ],
   "source": [
    "df.club.mode().iloc[0]"
   ]
  },
  {
   "cell_type": "code",
   "execution_count": 53,
   "id": "e3aed530",
   "metadata": {
    "ExecuteTime": {
     "end_time": "2023-04-19T15:44:32.721369Z",
     "start_time": "2023-04-19T15:44:32.716284Z"
    }
   },
   "outputs": [
    {
     "data": {
      "text/plain": [
       "'VAN'"
      ]
     },
     "execution_count": 53,
     "metadata": {},
     "output_type": "execute_result"
    }
   ],
   "source": [
    "df.club.value_counts().idxmax()"
   ]
  },
  {
   "cell_type": "code",
   "execution_count": 92,
   "id": "073e44f5",
   "metadata": {
    "ExecuteTime": {
     "end_time": "2023-04-19T13:07:10.539457Z",
     "start_time": "2023-04-19T13:07:10.520346Z"
    }
   },
   "outputs": [
    {
     "data": {
      "text/html": [
       "<div>\n",
       "<style scoped>\n",
       "    .dataframe tbody tr th:only-of-type {\n",
       "        vertical-align: middle;\n",
       "    }\n",
       "\n",
       "    .dataframe tbody tr th {\n",
       "        vertical-align: top;\n",
       "    }\n",
       "\n",
       "    .dataframe thead th {\n",
       "        text-align: right;\n",
       "    }\n",
       "</style>\n",
       "<table border=\"1\" class=\"dataframe\">\n",
       "  <thead>\n",
       "    <tr style=\"text-align: right;\">\n",
       "      <th></th>\n",
       "      <th>club</th>\n",
       "      <th>last_name</th>\n",
       "      <th>first_name</th>\n",
       "      <th>position</th>\n",
       "      <th>base_salary</th>\n",
       "      <th>guaranteed_compensation</th>\n",
       "      <th>new_info</th>\n",
       "    </tr>\n",
       "  </thead>\n",
       "  <tbody>\n",
       "    <tr>\n",
       "      <th>582</th>\n",
       "      <td>VAN</td>\n",
       "      <td>Adekugbe</td>\n",
       "      <td>Samuel</td>\n",
       "      <td>D</td>\n",
       "      <td>80000.00</td>\n",
       "      <td>85000.00</td>\n",
       "      <td>VAN-D</td>\n",
       "    </tr>\n",
       "    <tr>\n",
       "      <th>583</th>\n",
       "      <td>VAN</td>\n",
       "      <td>Bolanos</td>\n",
       "      <td>Christian</td>\n",
       "      <td>M</td>\n",
       "      <td>250000.00</td>\n",
       "      <td>253500.00</td>\n",
       "      <td>VAN-M</td>\n",
       "    </tr>\n",
       "    <tr>\n",
       "      <th>584</th>\n",
       "      <td>VAN</td>\n",
       "      <td>Bustos</td>\n",
       "      <td>Marco</td>\n",
       "      <td>M</td>\n",
       "      <td>65625.00</td>\n",
       "      <td>70475.00</td>\n",
       "      <td>VAN-M</td>\n",
       "    </tr>\n",
       "    <tr>\n",
       "      <th>585</th>\n",
       "      <td>VAN</td>\n",
       "      <td>Davies</td>\n",
       "      <td>Alphonso</td>\n",
       "      <td>M</td>\n",
       "      <td>65000.00</td>\n",
       "      <td>65000.00</td>\n",
       "      <td>VAN-M</td>\n",
       "    </tr>\n",
       "    <tr>\n",
       "      <th>586</th>\n",
       "      <td>VAN</td>\n",
       "      <td>de Jong</td>\n",
       "      <td>Marcel</td>\n",
       "      <td>D-M</td>\n",
       "      <td>140000.00</td>\n",
       "      <td>140000.00</td>\n",
       "      <td>VAN-D-M</td>\n",
       "    </tr>\n",
       "    <tr>\n",
       "      <th>587</th>\n",
       "      <td>VAN</td>\n",
       "      <td>Dean</td>\n",
       "      <td>Christian</td>\n",
       "      <td>D</td>\n",
       "      <td>121000.00</td>\n",
       "      <td>202000.00</td>\n",
       "      <td>VAN-D</td>\n",
       "    </tr>\n",
       "    <tr>\n",
       "      <th>588</th>\n",
       "      <td>VAN</td>\n",
       "      <td>Edgar</td>\n",
       "      <td>David</td>\n",
       "      <td>D</td>\n",
       "      <td>175000.00</td>\n",
       "      <td>183833.33</td>\n",
       "      <td>VAN-D</td>\n",
       "    </tr>\n",
       "    <tr>\n",
       "      <th>589</th>\n",
       "      <td>VAN</td>\n",
       "      <td>Flores</td>\n",
       "      <td>Deybi</td>\n",
       "      <td>M</td>\n",
       "      <td>66000.00</td>\n",
       "      <td>71885.00</td>\n",
       "      <td>VAN-M</td>\n",
       "    </tr>\n",
       "    <tr>\n",
       "      <th>590</th>\n",
       "      <td>VAN</td>\n",
       "      <td>Froese</td>\n",
       "      <td>Kianz</td>\n",
       "      <td>M</td>\n",
       "      <td>69300.00</td>\n",
       "      <td>73800.00</td>\n",
       "      <td>VAN-M</td>\n",
       "    </tr>\n",
       "    <tr>\n",
       "      <th>591</th>\n",
       "      <td>VAN</td>\n",
       "      <td>Greig</td>\n",
       "      <td>Kyle</td>\n",
       "      <td>F</td>\n",
       "      <td>65004.00</td>\n",
       "      <td>66849.00</td>\n",
       "      <td>VAN-F</td>\n",
       "    </tr>\n",
       "    <tr>\n",
       "      <th>592</th>\n",
       "      <td>VAN</td>\n",
       "      <td>Harvey</td>\n",
       "      <td>Jordan</td>\n",
       "      <td>D</td>\n",
       "      <td>180000.00</td>\n",
       "      <td>180000.00</td>\n",
       "      <td>VAN-D</td>\n",
       "    </tr>\n",
       "    <tr>\n",
       "      <th>593</th>\n",
       "      <td>VAN</td>\n",
       "      <td>Hurtado</td>\n",
       "      <td>Erik</td>\n",
       "      <td>F/M</td>\n",
       "      <td>125000.00</td>\n",
       "      <td>131250.00</td>\n",
       "      <td>VAN-F/M</td>\n",
       "    </tr>\n",
       "    <tr>\n",
       "      <th>594</th>\n",
       "      <td>VAN</td>\n",
       "      <td>Jacobson</td>\n",
       "      <td>Andrew</td>\n",
       "      <td>M</td>\n",
       "      <td>150000.00</td>\n",
       "      <td>175000.00</td>\n",
       "      <td>VAN-M</td>\n",
       "    </tr>\n",
       "    <tr>\n",
       "      <th>595</th>\n",
       "      <td>VAN</td>\n",
       "      <td>Laba</td>\n",
       "      <td>Matias</td>\n",
       "      <td>M</td>\n",
       "      <td>725000.00</td>\n",
       "      <td>885500.00</td>\n",
       "      <td>VAN-M</td>\n",
       "    </tr>\n",
       "    <tr>\n",
       "      <th>596</th>\n",
       "      <td>VAN</td>\n",
       "      <td>Levis</td>\n",
       "      <td>Brett</td>\n",
       "      <td>D</td>\n",
       "      <td>65000.00</td>\n",
       "      <td>67500.00</td>\n",
       "      <td>VAN-D</td>\n",
       "    </tr>\n",
       "    <tr>\n",
       "      <th>597</th>\n",
       "      <td>VAN</td>\n",
       "      <td>McKendry</td>\n",
       "      <td>Ben</td>\n",
       "      <td>M</td>\n",
       "      <td>65000.00</td>\n",
       "      <td>65000.00</td>\n",
       "      <td>VAN-M</td>\n",
       "    </tr>\n",
       "    <tr>\n",
       "      <th>598</th>\n",
       "      <td>VAN</td>\n",
       "      <td>Mezquida</td>\n",
       "      <td>Nicolas</td>\n",
       "      <td>M-F</td>\n",
       "      <td>120000.00</td>\n",
       "      <td>120000.00</td>\n",
       "      <td>VAN-M-F</td>\n",
       "    </tr>\n",
       "    <tr>\n",
       "      <th>599</th>\n",
       "      <td>VAN</td>\n",
       "      <td>Montero</td>\n",
       "      <td>Fredy</td>\n",
       "      <td>F</td>\n",
       "      <td>1400000.04</td>\n",
       "      <td>1800000.04</td>\n",
       "      <td>VAN-F</td>\n",
       "    </tr>\n",
       "    <tr>\n",
       "      <th>600</th>\n",
       "      <td>VAN</td>\n",
       "      <td>Nerwinski</td>\n",
       "      <td>Jake</td>\n",
       "      <td>D</td>\n",
       "      <td>65004.00</td>\n",
       "      <td>65004.00</td>\n",
       "      <td>VAN-D</td>\n",
       "    </tr>\n",
       "    <tr>\n",
       "      <th>601</th>\n",
       "      <td>VAN</td>\n",
       "      <td>Ousted</td>\n",
       "      <td>David</td>\n",
       "      <td>GK</td>\n",
       "      <td>360000.00</td>\n",
       "      <td>378933.33</td>\n",
       "      <td>VAN-GK</td>\n",
       "    </tr>\n",
       "    <tr>\n",
       "      <th>602</th>\n",
       "      <td>VAN</td>\n",
       "      <td>Parker</td>\n",
       "      <td>Tim</td>\n",
       "      <td>D</td>\n",
       "      <td>80850.00</td>\n",
       "      <td>99600.00</td>\n",
       "      <td>VAN-D</td>\n",
       "    </tr>\n",
       "    <tr>\n",
       "      <th>603</th>\n",
       "      <td>VAN</td>\n",
       "      <td>Reyna</td>\n",
       "      <td>Yordy</td>\n",
       "      <td>M-F</td>\n",
       "      <td>440000.04</td>\n",
       "      <td>533700.04</td>\n",
       "      <td>VAN-M-F</td>\n",
       "    </tr>\n",
       "    <tr>\n",
       "      <th>604</th>\n",
       "      <td>VAN</td>\n",
       "      <td>Richey</td>\n",
       "      <td>Spencer</td>\n",
       "      <td>GK</td>\n",
       "      <td>65004.00</td>\n",
       "      <td>65004.00</td>\n",
       "      <td>VAN-GK</td>\n",
       "    </tr>\n",
       "    <tr>\n",
       "      <th>605</th>\n",
       "      <td>VAN</td>\n",
       "      <td>Rosales</td>\n",
       "      <td>Mauro</td>\n",
       "      <td>M</td>\n",
       "      <td>65004.00</td>\n",
       "      <td>65004.00</td>\n",
       "      <td>VAN-M</td>\n",
       "    </tr>\n",
       "    <tr>\n",
       "      <th>606</th>\n",
       "      <td>VAN</td>\n",
       "      <td>Seiler</td>\n",
       "      <td>Cole</td>\n",
       "      <td>D</td>\n",
       "      <td>54075.00</td>\n",
       "      <td>54075.00</td>\n",
       "      <td>VAN-D</td>\n",
       "    </tr>\n",
       "    <tr>\n",
       "      <th>607</th>\n",
       "      <td>VAN</td>\n",
       "      <td>Shea</td>\n",
       "      <td>Brek</td>\n",
       "      <td>M-D</td>\n",
       "      <td>625000.00</td>\n",
       "      <td>670000.00</td>\n",
       "      <td>VAN-M-D</td>\n",
       "    </tr>\n",
       "    <tr>\n",
       "      <th>608</th>\n",
       "      <td>VAN</td>\n",
       "      <td>Tchani</td>\n",
       "      <td>Tony</td>\n",
       "      <td>M</td>\n",
       "      <td>275000.00</td>\n",
       "      <td>308333.33</td>\n",
       "      <td>VAN-M</td>\n",
       "    </tr>\n",
       "    <tr>\n",
       "      <th>609</th>\n",
       "      <td>VAN</td>\n",
       "      <td>Techera</td>\n",
       "      <td>Cristian</td>\n",
       "      <td>M</td>\n",
       "      <td>352000.00</td>\n",
       "      <td>377000.00</td>\n",
       "      <td>VAN-M</td>\n",
       "    </tr>\n",
       "    <tr>\n",
       "      <th>610</th>\n",
       "      <td>VAN</td>\n",
       "      <td>Teibert</td>\n",
       "      <td>Russell</td>\n",
       "      <td>M</td>\n",
       "      <td>126500.00</td>\n",
       "      <td>194000.00</td>\n",
       "      <td>VAN-M</td>\n",
       "    </tr>\n",
       "    <tr>\n",
       "      <th>611</th>\n",
       "      <td>VAN</td>\n",
       "      <td>Tornaghi</td>\n",
       "      <td>Paolo</td>\n",
       "      <td>GK</td>\n",
       "      <td>80000.00</td>\n",
       "      <td>80000.00</td>\n",
       "      <td>VAN-GK</td>\n",
       "    </tr>\n",
       "    <tr>\n",
       "      <th>612</th>\n",
       "      <td>VAN</td>\n",
       "      <td>Waston</td>\n",
       "      <td>Kendall</td>\n",
       "      <td>D</td>\n",
       "      <td>350000.00</td>\n",
       "      <td>368125.00</td>\n",
       "      <td>VAN-D</td>\n",
       "    </tr>\n",
       "    <tr>\n",
       "      <th>613</th>\n",
       "      <td>VAN</td>\n",
       "      <td>Williams</td>\n",
       "      <td>Sheanon</td>\n",
       "      <td>D</td>\n",
       "      <td>175000.00</td>\n",
       "      <td>184000.00</td>\n",
       "      <td>VAN-D</td>\n",
       "    </tr>\n",
       "  </tbody>\n",
       "</table>\n",
       "</div>"
      ],
      "text/plain": [
       "    club  last_name first_name position  base_salary  guaranteed_compensation  \\\n",
       "582  VAN   Adekugbe     Samuel        D     80000.00                 85000.00   \n",
       "583  VAN    Bolanos  Christian        M    250000.00                253500.00   \n",
       "584  VAN     Bustos      Marco        M     65625.00                 70475.00   \n",
       "585  VAN     Davies   Alphonso        M     65000.00                 65000.00   \n",
       "586  VAN    de Jong     Marcel      D-M    140000.00                140000.00   \n",
       "587  VAN       Dean  Christian        D    121000.00                202000.00   \n",
       "588  VAN      Edgar      David        D    175000.00                183833.33   \n",
       "589  VAN     Flores      Deybi        M     66000.00                 71885.00   \n",
       "590  VAN     Froese      Kianz        M     69300.00                 73800.00   \n",
       "591  VAN      Greig       Kyle        F     65004.00                 66849.00   \n",
       "592  VAN     Harvey     Jordan        D    180000.00                180000.00   \n",
       "593  VAN    Hurtado       Erik      F/M    125000.00                131250.00   \n",
       "594  VAN   Jacobson     Andrew        M    150000.00                175000.00   \n",
       "595  VAN       Laba     Matias        M    725000.00                885500.00   \n",
       "596  VAN      Levis      Brett        D     65000.00                 67500.00   \n",
       "597  VAN   McKendry        Ben        M     65000.00                 65000.00   \n",
       "598  VAN   Mezquida    Nicolas      M-F    120000.00                120000.00   \n",
       "599  VAN    Montero      Fredy        F   1400000.04               1800000.04   \n",
       "600  VAN  Nerwinski       Jake        D     65004.00                 65004.00   \n",
       "601  VAN     Ousted      David       GK    360000.00                378933.33   \n",
       "602  VAN     Parker        Tim        D     80850.00                 99600.00   \n",
       "603  VAN      Reyna      Yordy      M-F    440000.04                533700.04   \n",
       "604  VAN     Richey    Spencer       GK     65004.00                 65004.00   \n",
       "605  VAN    Rosales      Mauro        M     65004.00                 65004.00   \n",
       "606  VAN     Seiler       Cole        D     54075.00                 54075.00   \n",
       "607  VAN       Shea       Brek      M-D    625000.00                670000.00   \n",
       "608  VAN     Tchani       Tony        M    275000.00                308333.33   \n",
       "609  VAN    Techera   Cristian        M    352000.00                377000.00   \n",
       "610  VAN    Teibert    Russell        M    126500.00                194000.00   \n",
       "611  VAN   Tornaghi      Paolo       GK     80000.00                 80000.00   \n",
       "612  VAN     Waston    Kendall        D    350000.00                368125.00   \n",
       "613  VAN   Williams    Sheanon        D    175000.00                184000.00   \n",
       "\n",
       "    new_info  \n",
       "582    VAN-D  \n",
       "583    VAN-M  \n",
       "584    VAN-M  \n",
       "585    VAN-M  \n",
       "586  VAN-D-M  \n",
       "587    VAN-D  \n",
       "588    VAN-D  \n",
       "589    VAN-M  \n",
       "590    VAN-M  \n",
       "591    VAN-F  \n",
       "592    VAN-D  \n",
       "593  VAN-F/M  \n",
       "594    VAN-M  \n",
       "595    VAN-M  \n",
       "596    VAN-D  \n",
       "597    VAN-M  \n",
       "598  VAN-M-F  \n",
       "599    VAN-F  \n",
       "600    VAN-D  \n",
       "601   VAN-GK  \n",
       "602    VAN-D  \n",
       "603  VAN-M-F  \n",
       "604   VAN-GK  \n",
       "605    VAN-M  \n",
       "606    VAN-D  \n",
       "607  VAN-M-D  \n",
       "608    VAN-M  \n",
       "609    VAN-M  \n",
       "610    VAN-M  \n",
       "611   VAN-GK  \n",
       "612    VAN-D  \n",
       "613    VAN-D  "
      ]
     },
     "execution_count": 92,
     "metadata": {},
     "output_type": "execute_result"
    }
   ],
   "source": [
    "df[df.club == df.club.value_counts().index[0]]"
   ]
  },
  {
   "cell_type": "markdown",
   "id": "75c63f61-1906-48db-a709-10284a10d8ba",
   "metadata": {},
   "source": [
    "#### En çok oyuncuya sahip takımı getir ancak içinden maaşı ortalamanın üstünde olanları yazdır "
   ]
  },
  {
   "cell_type": "code",
   "execution_count": 56,
   "id": "a905c033-1c8a-494e-8234-4928db952452",
   "metadata": {
    "ExecuteTime": {
     "end_time": "2023-04-19T15:45:33.183367Z",
     "start_time": "2023-04-19T15:45:33.173304Z"
    }
   },
   "outputs": [
    {
     "data": {
      "text/html": [
       "<div>\n",
       "<style scoped>\n",
       "    .dataframe tbody tr th:only-of-type {\n",
       "        vertical-align: middle;\n",
       "    }\n",
       "\n",
       "    .dataframe tbody tr th {\n",
       "        vertical-align: top;\n",
       "    }\n",
       "\n",
       "    .dataframe thead th {\n",
       "        text-align: right;\n",
       "    }\n",
       "</style>\n",
       "<table border=\"1\" class=\"dataframe\">\n",
       "  <thead>\n",
       "    <tr style=\"text-align: right;\">\n",
       "      <th></th>\n",
       "      <th>club</th>\n",
       "      <th>last_name</th>\n",
       "      <th>first_name</th>\n",
       "      <th>position</th>\n",
       "      <th>base_salary</th>\n",
       "      <th>guaranteed_compensation</th>\n",
       "    </tr>\n",
       "  </thead>\n",
       "  <tbody>\n",
       "    <tr>\n",
       "      <th>595</th>\n",
       "      <td>VAN</td>\n",
       "      <td>Laba</td>\n",
       "      <td>Matias</td>\n",
       "      <td>M</td>\n",
       "      <td>725000.00</td>\n",
       "      <td>885500.00</td>\n",
       "    </tr>\n",
       "    <tr>\n",
       "      <th>599</th>\n",
       "      <td>VAN</td>\n",
       "      <td>Montero</td>\n",
       "      <td>Fredy</td>\n",
       "      <td>F</td>\n",
       "      <td>1400000.04</td>\n",
       "      <td>1800000.04</td>\n",
       "    </tr>\n",
       "    <tr>\n",
       "      <th>601</th>\n",
       "      <td>VAN</td>\n",
       "      <td>Ousted</td>\n",
       "      <td>David</td>\n",
       "      <td>GK</td>\n",
       "      <td>360000.00</td>\n",
       "      <td>378933.33</td>\n",
       "    </tr>\n",
       "    <tr>\n",
       "      <th>603</th>\n",
       "      <td>VAN</td>\n",
       "      <td>Reyna</td>\n",
       "      <td>Yordy</td>\n",
       "      <td>M-F</td>\n",
       "      <td>440000.04</td>\n",
       "      <td>533700.04</td>\n",
       "    </tr>\n",
       "    <tr>\n",
       "      <th>607</th>\n",
       "      <td>VAN</td>\n",
       "      <td>Shea</td>\n",
       "      <td>Brek</td>\n",
       "      <td>M-D</td>\n",
       "      <td>625000.00</td>\n",
       "      <td>670000.00</td>\n",
       "    </tr>\n",
       "    <tr>\n",
       "      <th>609</th>\n",
       "      <td>VAN</td>\n",
       "      <td>Techera</td>\n",
       "      <td>Cristian</td>\n",
       "      <td>M</td>\n",
       "      <td>352000.00</td>\n",
       "      <td>377000.00</td>\n",
       "    </tr>\n",
       "    <tr>\n",
       "      <th>612</th>\n",
       "      <td>VAN</td>\n",
       "      <td>Waston</td>\n",
       "      <td>Kendall</td>\n",
       "      <td>D</td>\n",
       "      <td>350000.00</td>\n",
       "      <td>368125.00</td>\n",
       "    </tr>\n",
       "  </tbody>\n",
       "</table>\n",
       "</div>"
      ],
      "text/plain": [
       "    club last_name first_name position  base_salary  guaranteed_compensation\n",
       "595  VAN      Laba     Matias        M    725000.00                885500.00\n",
       "599  VAN   Montero      Fredy        F   1400000.04               1800000.04\n",
       "601  VAN    Ousted      David       GK    360000.00                378933.33\n",
       "603  VAN     Reyna      Yordy      M-F    440000.04                533700.04\n",
       "607  VAN      Shea       Brek      M-D    625000.00                670000.00\n",
       "609  VAN   Techera   Cristian        M    352000.00                377000.00\n",
       "612  VAN    Waston    Kendall        D    350000.00                368125.00"
      ]
     },
     "execution_count": 56,
     "metadata": {},
     "output_type": "execute_result"
    }
   ],
   "source": [
    "df[(df.club == df.club.value_counts().index[0]) & (df.base_salary > df.base_salary.mean())]"
   ]
  },
  {
   "cell_type": "markdown",
   "id": "7800fe6d-32af-41de-8294-c2cd0ebe89d2",
   "metadata": {},
   "source": [
    "#### Mevkisi sadece M-D, D-M ve F-M' den birisi olan oyuncuları getir"
   ]
  },
  {
   "cell_type": "code",
   "execution_count": 63,
   "id": "37162a2d-0569-4199-9bf5-1defaae58441",
   "metadata": {
    "ExecuteTime": {
     "end_time": "2023-04-19T15:46:51.817780Z",
     "start_time": "2023-04-19T15:46:51.807736Z"
    }
   },
   "outputs": [
    {
     "data": {
      "text/html": [
       "<div>\n",
       "<style scoped>\n",
       "    .dataframe tbody tr th:only-of-type {\n",
       "        vertical-align: middle;\n",
       "    }\n",
       "\n",
       "    .dataframe tbody tr th {\n",
       "        vertical-align: top;\n",
       "    }\n",
       "\n",
       "    .dataframe thead th {\n",
       "        text-align: right;\n",
       "    }\n",
       "</style>\n",
       "<table border=\"1\" class=\"dataframe\">\n",
       "  <thead>\n",
       "    <tr style=\"text-align: right;\">\n",
       "      <th></th>\n",
       "      <th>club</th>\n",
       "      <th>last_name</th>\n",
       "      <th>first_name</th>\n",
       "      <th>position</th>\n",
       "      <th>base_salary</th>\n",
       "      <th>guaranteed_compensation</th>\n",
       "    </tr>\n",
       "  </thead>\n",
       "  <tbody>\n",
       "    <tr>\n",
       "      <th>31</th>\n",
       "      <td>CHI</td>\n",
       "      <td>Accam</td>\n",
       "      <td>David</td>\n",
       "      <td>F-M</td>\n",
       "      <td>750000.0</td>\n",
       "      <td>820937.50</td>\n",
       "    </tr>\n",
       "    <tr>\n",
       "      <th>50</th>\n",
       "      <td>CHI</td>\n",
       "      <td>Meira</td>\n",
       "      <td>Joao</td>\n",
       "      <td>D-M</td>\n",
       "      <td>150000.0</td>\n",
       "      <td>165000.00</td>\n",
       "    </tr>\n",
       "    <tr>\n",
       "      <th>101</th>\n",
       "      <td>COL</td>\n",
       "      <td>Hairston</td>\n",
       "      <td>Marlon</td>\n",
       "      <td>D-M</td>\n",
       "      <td>110004.0</td>\n",
       "      <td>110004.00</td>\n",
       "    </tr>\n",
       "    <tr>\n",
       "      <th>112</th>\n",
       "      <td>COL</td>\n",
       "      <td>Watts</td>\n",
       "      <td>Jared</td>\n",
       "      <td>D-M</td>\n",
       "      <td>75000.0</td>\n",
       "      <td>75000.00</td>\n",
       "    </tr>\n",
       "    <tr>\n",
       "      <th>115</th>\n",
       "      <td>DAL</td>\n",
       "      <td>Akindele</td>\n",
       "      <td>Tesho</td>\n",
       "      <td>F-M</td>\n",
       "      <td>95000.0</td>\n",
       "      <td>112500.00</td>\n",
       "    </tr>\n",
       "    <tr>\n",
       "      <th>121</th>\n",
       "      <td>DAL</td>\n",
       "      <td>Craft</td>\n",
       "      <td>Coy</td>\n",
       "      <td>F-M</td>\n",
       "      <td>85000.0</td>\n",
       "      <td>102083.33</td>\n",
       "    </tr>\n",
       "    <tr>\n",
       "      <th>132</th>\n",
       "      <td>DAL</td>\n",
       "      <td>Hollingshead</td>\n",
       "      <td>Ryan</td>\n",
       "      <td>M-D</td>\n",
       "      <td>132500.0</td>\n",
       "      <td>132500.00</td>\n",
       "    </tr>\n",
       "    <tr>\n",
       "      <th>148</th>\n",
       "      <td>DC</td>\n",
       "      <td>Durkin</td>\n",
       "      <td>Chris</td>\n",
       "      <td>D-M</td>\n",
       "      <td>70000.0</td>\n",
       "      <td>79166.67</td>\n",
       "    </tr>\n",
       "    <tr>\n",
       "      <th>156</th>\n",
       "      <td>DC</td>\n",
       "      <td>Le Toux</td>\n",
       "      <td>Sebastien</td>\n",
       "      <td>F-M</td>\n",
       "      <td>125004.0</td>\n",
       "      <td>140004.00</td>\n",
       "    </tr>\n",
       "    <tr>\n",
       "      <th>159</th>\n",
       "      <td>DC</td>\n",
       "      <td>Nyarko</td>\n",
       "      <td>Patrick</td>\n",
       "      <td>F-M</td>\n",
       "      <td>235000.0</td>\n",
       "      <td>250750.00</td>\n",
       "    </tr>\n",
       "    <tr>\n",
       "      <th>214</th>\n",
       "      <td>KC</td>\n",
       "      <td>Pasher</td>\n",
       "      <td>Tyler</td>\n",
       "      <td>D-M</td>\n",
       "      <td>53000.0</td>\n",
       "      <td>53000.00</td>\n",
       "    </tr>\n",
       "    <tr>\n",
       "      <th>325</th>\n",
       "      <td>NE</td>\n",
       "      <td>Tierney</td>\n",
       "      <td>Chris</td>\n",
       "      <td>D-M</td>\n",
       "      <td>140000.0</td>\n",
       "      <td>148333.33</td>\n",
       "    </tr>\n",
       "    <tr>\n",
       "      <th>327</th>\n",
       "      <td>NE</td>\n",
       "      <td>Watson</td>\n",
       "      <td>Je-Vaughn</td>\n",
       "      <td>D-M</td>\n",
       "      <td>150000.0</td>\n",
       "      <td>155666.67</td>\n",
       "    </tr>\n",
       "    <tr>\n",
       "      <th>331</th>\n",
       "      <td>NYCFC</td>\n",
       "      <td>Awuah</td>\n",
       "      <td>Kwame</td>\n",
       "      <td>D-M</td>\n",
       "      <td>53004.0</td>\n",
       "      <td>53004.00</td>\n",
       "    </tr>\n",
       "    <tr>\n",
       "      <th>388</th>\n",
       "      <td>ORL</td>\n",
       "      <td>Barnes</td>\n",
       "      <td>Giles</td>\n",
       "      <td>F-M</td>\n",
       "      <td>725000.0</td>\n",
       "      <td>781250.00</td>\n",
       "    </tr>\n",
       "    <tr>\n",
       "      <th>397</th>\n",
       "      <td>ORL</td>\n",
       "      <td>Giro</td>\n",
       "      <td>Victor</td>\n",
       "      <td>D-M</td>\n",
       "      <td>80004.0</td>\n",
       "      <td>85316.50</td>\n",
       "    </tr>\n",
       "    <tr>\n",
       "      <th>467</th>\n",
       "      <td>POR</td>\n",
       "      <td>Okugo</td>\n",
       "      <td>Amobi</td>\n",
       "      <td>D-M</td>\n",
       "      <td>65004.0</td>\n",
       "      <td>187941.50</td>\n",
       "    </tr>\n",
       "    <tr>\n",
       "      <th>507</th>\n",
       "      <td>SEA</td>\n",
       "      <td>Evans</td>\n",
       "      <td>Brad</td>\n",
       "      <td>D-M</td>\n",
       "      <td>300000.0</td>\n",
       "      <td>338501.25</td>\n",
       "    </tr>\n",
       "    <tr>\n",
       "      <th>509</th>\n",
       "      <td>SEA</td>\n",
       "      <td>Fisher</td>\n",
       "      <td>Oniel</td>\n",
       "      <td>M-D</td>\n",
       "      <td>65625.0</td>\n",
       "      <td>65625.00</td>\n",
       "    </tr>\n",
       "    <tr>\n",
       "      <th>525</th>\n",
       "      <td>SEA</td>\n",
       "      <td>Wingo</td>\n",
       "      <td>Henry</td>\n",
       "      <td>D-M</td>\n",
       "      <td>53004.0</td>\n",
       "      <td>53004.00</td>\n",
       "    </tr>\n",
       "    <tr>\n",
       "      <th>542</th>\n",
       "      <td>SJ</td>\n",
       "      <td>Jungwirth</td>\n",
       "      <td>Florian</td>\n",
       "      <td>D-M</td>\n",
       "      <td>450000.0</td>\n",
       "      <td>516667.07</td>\n",
       "    </tr>\n",
       "    <tr>\n",
       "      <th>555</th>\n",
       "      <td>TOR</td>\n",
       "      <td>Alseth</td>\n",
       "      <td>Oyvind</td>\n",
       "      <td>M-D</td>\n",
       "      <td>53004.0</td>\n",
       "      <td>53004.00</td>\n",
       "    </tr>\n",
       "    <tr>\n",
       "      <th>586</th>\n",
       "      <td>VAN</td>\n",
       "      <td>de Jong</td>\n",
       "      <td>Marcel</td>\n",
       "      <td>D-M</td>\n",
       "      <td>140000.0</td>\n",
       "      <td>140000.00</td>\n",
       "    </tr>\n",
       "    <tr>\n",
       "      <th>607</th>\n",
       "      <td>VAN</td>\n",
       "      <td>Shea</td>\n",
       "      <td>Brek</td>\n",
       "      <td>M-D</td>\n",
       "      <td>625000.0</td>\n",
       "      <td>670000.00</td>\n",
       "    </tr>\n",
       "  </tbody>\n",
       "</table>\n",
       "</div>"
      ],
      "text/plain": [
       "      club     last_name first_name position  base_salary  \\\n",
       "31     CHI         Accam      David      F-M     750000.0   \n",
       "50     CHI         Meira       Joao      D-M     150000.0   \n",
       "101    COL      Hairston     Marlon      D-M     110004.0   \n",
       "112    COL         Watts      Jared      D-M      75000.0   \n",
       "115    DAL      Akindele      Tesho      F-M      95000.0   \n",
       "121    DAL         Craft        Coy      F-M      85000.0   \n",
       "132    DAL  Hollingshead       Ryan      M-D     132500.0   \n",
       "148     DC        Durkin      Chris      D-M      70000.0   \n",
       "156     DC       Le Toux  Sebastien      F-M     125004.0   \n",
       "159     DC        Nyarko    Patrick      F-M     235000.0   \n",
       "214     KC        Pasher      Tyler      D-M      53000.0   \n",
       "325     NE       Tierney      Chris      D-M     140000.0   \n",
       "327     NE        Watson  Je-Vaughn      D-M     150000.0   \n",
       "331  NYCFC         Awuah      Kwame      D-M      53004.0   \n",
       "388    ORL        Barnes      Giles      F-M     725000.0   \n",
       "397    ORL          Giro     Victor      D-M      80004.0   \n",
       "467    POR         Okugo      Amobi      D-M      65004.0   \n",
       "507    SEA         Evans       Brad      D-M     300000.0   \n",
       "509    SEA        Fisher      Oniel      M-D      65625.0   \n",
       "525    SEA         Wingo      Henry      D-M      53004.0   \n",
       "542     SJ     Jungwirth    Florian      D-M     450000.0   \n",
       "555    TOR        Alseth     Oyvind      M-D      53004.0   \n",
       "586    VAN       de Jong     Marcel      D-M     140000.0   \n",
       "607    VAN          Shea       Brek      M-D     625000.0   \n",
       "\n",
       "     guaranteed_compensation  \n",
       "31                 820937.50  \n",
       "50                 165000.00  \n",
       "101                110004.00  \n",
       "112                 75000.00  \n",
       "115                112500.00  \n",
       "121                102083.33  \n",
       "132                132500.00  \n",
       "148                 79166.67  \n",
       "156                140004.00  \n",
       "159                250750.00  \n",
       "214                 53000.00  \n",
       "325                148333.33  \n",
       "327                155666.67  \n",
       "331                 53004.00  \n",
       "388                781250.00  \n",
       "397                 85316.50  \n",
       "467                187941.50  \n",
       "507                338501.25  \n",
       "509                 65625.00  \n",
       "525                 53004.00  \n",
       "542                516667.07  \n",
       "555                 53004.00  \n",
       "586                140000.00  \n",
       "607                670000.00  "
      ]
     },
     "execution_count": 63,
     "metadata": {},
     "output_type": "execute_result"
    }
   ],
   "source": [
    "df[df['position'].isin(['M-D' , 'F-M' , 'D-M'])]"
   ]
  },
  {
   "cell_type": "markdown",
   "id": "b392fba1-137d-4f8b-a125-bbf3757651de",
   "metadata": {},
   "source": [
    "#### Mevkisi M olmayan oyuncuları getir"
   ]
  },
  {
   "cell_type": "code",
   "execution_count": 64,
   "id": "dc834c9b-1eca-44ff-a7b4-e4d7d162a2b4",
   "metadata": {
    "ExecuteTime": {
     "end_time": "2023-04-19T15:47:12.504785Z",
     "start_time": "2023-04-19T15:47:12.493616Z"
    }
   },
   "outputs": [
    {
     "data": {
      "text/html": [
       "<div>\n",
       "<style scoped>\n",
       "    .dataframe tbody tr th:only-of-type {\n",
       "        vertical-align: middle;\n",
       "    }\n",
       "\n",
       "    .dataframe tbody tr th {\n",
       "        vertical-align: top;\n",
       "    }\n",
       "\n",
       "    .dataframe thead th {\n",
       "        text-align: right;\n",
       "    }\n",
       "</style>\n",
       "<table border=\"1\" class=\"dataframe\">\n",
       "  <thead>\n",
       "    <tr style=\"text-align: right;\">\n",
       "      <th></th>\n",
       "      <th>club</th>\n",
       "      <th>last_name</th>\n",
       "      <th>first_name</th>\n",
       "      <th>position</th>\n",
       "      <th>base_salary</th>\n",
       "      <th>guaranteed_compensation</th>\n",
       "    </tr>\n",
       "  </thead>\n",
       "  <tbody>\n",
       "    <tr>\n",
       "      <th>0</th>\n",
       "      <td>ATL</td>\n",
       "      <td>Almiron</td>\n",
       "      <td>Miguel</td>\n",
       "      <td>NaN</td>\n",
       "      <td>1912500.0</td>\n",
       "      <td>2297000.00</td>\n",
       "    </tr>\n",
       "    <tr>\n",
       "      <th>1</th>\n",
       "      <td>ATL</td>\n",
       "      <td>Ambrose</td>\n",
       "      <td>Mikey</td>\n",
       "      <td>D</td>\n",
       "      <td>65625.0</td>\n",
       "      <td>65625.00</td>\n",
       "    </tr>\n",
       "    <tr>\n",
       "      <th>2</th>\n",
       "      <td>ATL</td>\n",
       "      <td>Asad</td>\n",
       "      <td>Yamil</td>\n",
       "      <td>NaN</td>\n",
       "      <td>150000.0</td>\n",
       "      <td>150000.00</td>\n",
       "    </tr>\n",
       "    <tr>\n",
       "      <th>3</th>\n",
       "      <td>ATL</td>\n",
       "      <td>Bloom</td>\n",
       "      <td>Mark</td>\n",
       "      <td>D</td>\n",
       "      <td>99225.0</td>\n",
       "      <td>106573.89</td>\n",
       "    </tr>\n",
       "    <tr>\n",
       "      <th>4</th>\n",
       "      <td>ATL</td>\n",
       "      <td>Carleton</td>\n",
       "      <td>Andrew</td>\n",
       "      <td>F</td>\n",
       "      <td>65000.0</td>\n",
       "      <td>77400.00</td>\n",
       "    </tr>\n",
       "    <tr>\n",
       "      <th>...</th>\n",
       "      <td>...</td>\n",
       "      <td>...</td>\n",
       "      <td>...</td>\n",
       "      <td>...</td>\n",
       "      <td>...</td>\n",
       "      <td>...</td>\n",
       "    </tr>\n",
       "    <tr>\n",
       "      <th>611</th>\n",
       "      <td>VAN</td>\n",
       "      <td>Tornaghi</td>\n",
       "      <td>Paolo</td>\n",
       "      <td>GK</td>\n",
       "      <td>80000.0</td>\n",
       "      <td>80000.00</td>\n",
       "    </tr>\n",
       "    <tr>\n",
       "      <th>612</th>\n",
       "      <td>VAN</td>\n",
       "      <td>Waston</td>\n",
       "      <td>Kendall</td>\n",
       "      <td>D</td>\n",
       "      <td>350000.0</td>\n",
       "      <td>368125.00</td>\n",
       "    </tr>\n",
       "    <tr>\n",
       "      <th>613</th>\n",
       "      <td>VAN</td>\n",
       "      <td>Williams</td>\n",
       "      <td>Sheanon</td>\n",
       "      <td>D</td>\n",
       "      <td>175000.0</td>\n",
       "      <td>184000.00</td>\n",
       "    </tr>\n",
       "    <tr>\n",
       "      <th>614</th>\n",
       "      <td>NaN</td>\n",
       "      <td>Babouli</td>\n",
       "      <td>Mo</td>\n",
       "      <td>F</td>\n",
       "      <td>54075.0</td>\n",
       "      <td>54075.00</td>\n",
       "    </tr>\n",
       "    <tr>\n",
       "      <th>615</th>\n",
       "      <td>NaN</td>\n",
       "      <td>Ramajo</td>\n",
       "      <td>David Mateos</td>\n",
       "      <td>D</td>\n",
       "      <td>420000.0</td>\n",
       "      <td>453333.33</td>\n",
       "    </tr>\n",
       "  </tbody>\n",
       "</table>\n",
       "<p>616 rows × 6 columns</p>\n",
       "</div>"
      ],
      "text/plain": [
       "    club last_name    first_name position  base_salary  \\\n",
       "0    ATL   Almiron        Miguel      NaN    1912500.0   \n",
       "1    ATL   Ambrose         Mikey        D      65625.0   \n",
       "2    ATL      Asad         Yamil      NaN     150000.0   \n",
       "3    ATL     Bloom          Mark        D      99225.0   \n",
       "4    ATL  Carleton        Andrew        F      65000.0   \n",
       "..   ...       ...           ...      ...          ...   \n",
       "611  VAN  Tornaghi         Paolo       GK      80000.0   \n",
       "612  VAN    Waston       Kendall        D     350000.0   \n",
       "613  VAN  Williams       Sheanon        D     175000.0   \n",
       "614  NaN   Babouli            Mo        F      54075.0   \n",
       "615  NaN    Ramajo  David Mateos        D     420000.0   \n",
       "\n",
       "     guaranteed_compensation  \n",
       "0                 2297000.00  \n",
       "1                   65625.00  \n",
       "2                  150000.00  \n",
       "3                  106573.89  \n",
       "4                   77400.00  \n",
       "..                       ...  \n",
       "611                 80000.00  \n",
       "612                368125.00  \n",
       "613                184000.00  \n",
       "614                 54075.00  \n",
       "615                453333.33  \n",
       "\n",
       "[616 rows x 6 columns]"
      ]
     },
     "execution_count": 64,
     "metadata": {},
     "output_type": "execute_result"
    }
   ],
   "source": [
    "df[df != \"M\"]"
   ]
  },
  {
   "cell_type": "code",
   "execution_count": 65,
   "id": "86cf6f47",
   "metadata": {
    "ExecuteTime": {
     "end_time": "2023-04-19T15:47:46.166641Z",
     "start_time": "2023-04-19T15:47:46.157087Z"
    }
   },
   "outputs": [
    {
     "data": {
      "text/html": [
       "<div>\n",
       "<style scoped>\n",
       "    .dataframe tbody tr th:only-of-type {\n",
       "        vertical-align: middle;\n",
       "    }\n",
       "\n",
       "    .dataframe tbody tr th {\n",
       "        vertical-align: top;\n",
       "    }\n",
       "\n",
       "    .dataframe thead th {\n",
       "        text-align: right;\n",
       "    }\n",
       "</style>\n",
       "<table border=\"1\" class=\"dataframe\">\n",
       "  <thead>\n",
       "    <tr style=\"text-align: right;\">\n",
       "      <th></th>\n",
       "      <th>club</th>\n",
       "      <th>last_name</th>\n",
       "      <th>first_name</th>\n",
       "      <th>position</th>\n",
       "      <th>base_salary</th>\n",
       "      <th>guaranteed_compensation</th>\n",
       "    </tr>\n",
       "  </thead>\n",
       "  <tbody>\n",
       "    <tr>\n",
       "      <th>1</th>\n",
       "      <td>ATL</td>\n",
       "      <td>Ambrose</td>\n",
       "      <td>Mikey</td>\n",
       "      <td>D</td>\n",
       "      <td>65625.0</td>\n",
       "      <td>65625.00</td>\n",
       "    </tr>\n",
       "    <tr>\n",
       "      <th>3</th>\n",
       "      <td>ATL</td>\n",
       "      <td>Bloom</td>\n",
       "      <td>Mark</td>\n",
       "      <td>D</td>\n",
       "      <td>99225.0</td>\n",
       "      <td>106573.89</td>\n",
       "    </tr>\n",
       "    <tr>\n",
       "      <th>4</th>\n",
       "      <td>ATL</td>\n",
       "      <td>Carleton</td>\n",
       "      <td>Andrew</td>\n",
       "      <td>F</td>\n",
       "      <td>65000.0</td>\n",
       "      <td>77400.00</td>\n",
       "    </tr>\n",
       "    <tr>\n",
       "      <th>6</th>\n",
       "      <td>ATL</td>\n",
       "      <td>Garza</td>\n",
       "      <td>Greg</td>\n",
       "      <td>D</td>\n",
       "      <td>150000.0</td>\n",
       "      <td>150000.00</td>\n",
       "    </tr>\n",
       "    <tr>\n",
       "      <th>7</th>\n",
       "      <td>ATL</td>\n",
       "      <td>Gonzalez Pirez</td>\n",
       "      <td>Leandro</td>\n",
       "      <td>D</td>\n",
       "      <td>250008.0</td>\n",
       "      <td>285008.00</td>\n",
       "    </tr>\n",
       "    <tr>\n",
       "      <th>...</th>\n",
       "      <td>...</td>\n",
       "      <td>...</td>\n",
       "      <td>...</td>\n",
       "      <td>...</td>\n",
       "      <td>...</td>\n",
       "      <td>...</td>\n",
       "    </tr>\n",
       "    <tr>\n",
       "      <th>611</th>\n",
       "      <td>VAN</td>\n",
       "      <td>Tornaghi</td>\n",
       "      <td>Paolo</td>\n",
       "      <td>GK</td>\n",
       "      <td>80000.0</td>\n",
       "      <td>80000.00</td>\n",
       "    </tr>\n",
       "    <tr>\n",
       "      <th>612</th>\n",
       "      <td>VAN</td>\n",
       "      <td>Waston</td>\n",
       "      <td>Kendall</td>\n",
       "      <td>D</td>\n",
       "      <td>350000.0</td>\n",
       "      <td>368125.00</td>\n",
       "    </tr>\n",
       "    <tr>\n",
       "      <th>613</th>\n",
       "      <td>VAN</td>\n",
       "      <td>Williams</td>\n",
       "      <td>Sheanon</td>\n",
       "      <td>D</td>\n",
       "      <td>175000.0</td>\n",
       "      <td>184000.00</td>\n",
       "    </tr>\n",
       "    <tr>\n",
       "      <th>614</th>\n",
       "      <td>NaN</td>\n",
       "      <td>Babouli</td>\n",
       "      <td>Mo</td>\n",
       "      <td>F</td>\n",
       "      <td>54075.0</td>\n",
       "      <td>54075.00</td>\n",
       "    </tr>\n",
       "    <tr>\n",
       "      <th>615</th>\n",
       "      <td>NaN</td>\n",
       "      <td>Ramajo</td>\n",
       "      <td>David Mateos</td>\n",
       "      <td>D</td>\n",
       "      <td>420000.0</td>\n",
       "      <td>453333.33</td>\n",
       "    </tr>\n",
       "  </tbody>\n",
       "</table>\n",
       "<p>404 rows × 6 columns</p>\n",
       "</div>"
      ],
      "text/plain": [
       "    club       last_name    first_name position  base_salary  \\\n",
       "1    ATL         Ambrose         Mikey        D      65625.0   \n",
       "3    ATL           Bloom          Mark        D      99225.0   \n",
       "4    ATL        Carleton        Andrew        F      65000.0   \n",
       "6    ATL           Garza          Greg        D     150000.0   \n",
       "7    ATL  Gonzalez Pirez       Leandro        D     250008.0   \n",
       "..   ...             ...           ...      ...          ...   \n",
       "611  VAN        Tornaghi         Paolo       GK      80000.0   \n",
       "612  VAN          Waston       Kendall        D     350000.0   \n",
       "613  VAN        Williams       Sheanon        D     175000.0   \n",
       "614  NaN         Babouli            Mo        F      54075.0   \n",
       "615  NaN          Ramajo  David Mateos        D     420000.0   \n",
       "\n",
       "     guaranteed_compensation  \n",
       "1                   65625.00  \n",
       "3                  106573.89  \n",
       "4                   77400.00  \n",
       "6                  150000.00  \n",
       "7                  285008.00  \n",
       "..                       ...  \n",
       "611                 80000.00  \n",
       "612                368125.00  \n",
       "613                184000.00  \n",
       "614                 54075.00  \n",
       "615                453333.33  \n",
       "\n",
       "[404 rows x 6 columns]"
      ]
     },
     "execution_count": 65,
     "metadata": {},
     "output_type": "execute_result"
    }
   ],
   "source": [
    "df[~(df.position == \"M\")]         # yukarıdaki ile aynı sonuç"
   ]
  },
  {
   "cell_type": "code",
   "execution_count": null,
   "id": "c6991c34",
   "metadata": {},
   "outputs": [],
   "source": []
  }
 ],
 "metadata": {
  "kernelspec": {
   "display_name": "Python 3 (ipykernel)",
   "language": "python",
   "name": "python3"
  },
  "language_info": {
   "codemirror_mode": {
    "name": "ipython",
    "version": 3
   },
   "file_extension": ".py",
   "mimetype": "text/x-python",
   "name": "python",
   "nbconvert_exporter": "python",
   "pygments_lexer": "ipython3",
   "version": "3.10.9"
  },
  "toc": {
   "base_numbering": 1,
   "nav_menu": {},
   "number_sections": true,
   "sideBar": true,
   "skip_h1_title": false,
   "title_cell": "Table of Contents",
   "title_sidebar": "Contents",
   "toc_cell": false,
   "toc_position": {
    "height": "calc(100% - 180px)",
    "left": "10px",
    "top": "150px",
    "width": "315.969px"
   },
   "toc_section_display": true,
   "toc_window_display": true
  },
  "varInspector": {
   "cols": {
    "lenName": 16,
    "lenType": 16,
    "lenVar": 40
   },
   "kernels_config": {
    "python": {
     "delete_cmd_postfix": "",
     "delete_cmd_prefix": "del ",
     "library": "var_list.py",
     "varRefreshCmd": "print(var_dic_list())"
    },
    "r": {
     "delete_cmd_postfix": ") ",
     "delete_cmd_prefix": "rm(",
     "library": "var_list.r",
     "varRefreshCmd": "cat(var_dic_list()) "
    }
   },
   "types_to_exclude": [
    "module",
    "function",
    "builtin_function_or_method",
    "instance",
    "_Feature"
   ],
   "window_display": false
  }
 },
 "nbformat": 4,
 "nbformat_minor": 5
}
