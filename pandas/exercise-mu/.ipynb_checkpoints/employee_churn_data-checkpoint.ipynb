{
 "cells": [
  {
   "cell_type": "code",
   "execution_count": 1,
   "id": "f233b1d6",
   "metadata": {
    "ExecuteTime": {
     "end_time": "2023-04-24T09:38:03.173250Z",
     "start_time": "2023-04-24T09:38:02.257519Z"
    }
   },
   "outputs": [],
   "source": [
    "import pandas as pd\n",
    "import numpy as np\n",
    "import matplotlib.pyplot as plt\n",
    "import seaborn as sns"
   ]
  },
  {
   "cell_type": "markdown",
   "id": "4a27ae0d",
   "metadata": {
    "ExecuteTime": {
     "end_time": "2023-04-24T08:18:56.591454Z",
     "start_time": "2023-04-24T08:18:56.546866Z"
    }
   },
   "source": [
    "\"department\" - çalışanın ait olduğu departman.\n",
    "\n",
    "\"promoted\" - çalışan önceki 24 ay içinde terfi etmişse 1, aksi takdirde 0.\n",
    "\n",
    "\"review\" - çalışanın son değerlendirmesinde aldığı bileşik puan; 0 ila 1.\n",
    "\n",
    "\"projects\" - çalışanın kaç projede yer aldığı.\n",
    "\n",
    "\"salary\" - gizlilik nedeniyle maaş kademelendirilmiştir: düşük, orta, yüksek.\n",
    "\n",
    "\"tenure\" - çalışanın şirkette kaç yıldır çalıştığı.\n",
    "\n",
    "\"satisfaction\" - anketlere dayalı olarak çalışan memnuniyeti seviyesi; 0 ila 1.\n",
    "\n",
    "\"bonus\" - çalışan bonus almışsa 1, aksi takdirde 0.\n",
    "\n",
    "\"avg_hrs_month\" - çalışanın bir ay içinde çalıştığı ortalama saat.\n",
    "\n",
    "\"left\" - çalışan işten ayrılmışsa \"yes\", aksi takdirde \"no\".\n",
    "\n",
    "target feature is \"left\""
   ]
  },
  {
   "cell_type": "code",
   "execution_count": 2,
   "id": "09c7c8b6",
   "metadata": {
    "ExecuteTime": {
     "end_time": "2023-04-24T09:38:03.196941Z",
     "start_time": "2023-04-24T09:38:03.174291Z"
    }
   },
   "outputs": [
    {
     "data": {
      "text/html": [
       "<div>\n",
       "<style scoped>\n",
       "    .dataframe tbody tr th:only-of-type {\n",
       "        vertical-align: middle;\n",
       "    }\n",
       "\n",
       "    .dataframe tbody tr th {\n",
       "        vertical-align: top;\n",
       "    }\n",
       "\n",
       "    .dataframe thead th {\n",
       "        text-align: right;\n",
       "    }\n",
       "</style>\n",
       "<table border=\"1\" class=\"dataframe\">\n",
       "  <thead>\n",
       "    <tr style=\"text-align: right;\">\n",
       "      <th></th>\n",
       "      <th>department</th>\n",
       "      <th>promoted</th>\n",
       "      <th>review</th>\n",
       "      <th>projects</th>\n",
       "      <th>salary</th>\n",
       "      <th>tenure</th>\n",
       "      <th>satisfaction</th>\n",
       "      <th>bonus</th>\n",
       "      <th>avg_hrs_month</th>\n",
       "      <th>left</th>\n",
       "    </tr>\n",
       "  </thead>\n",
       "  <tbody>\n",
       "    <tr>\n",
       "      <th>2124</th>\n",
       "      <td>engineering</td>\n",
       "      <td>0</td>\n",
       "      <td>0.547420</td>\n",
       "      <td>2</td>\n",
       "      <td>medium</td>\n",
       "      <td>5.0</td>\n",
       "      <td>0.826785</td>\n",
       "      <td>0</td>\n",
       "      <td>181.067405</td>\n",
       "      <td>no</td>\n",
       "    </tr>\n",
       "    <tr>\n",
       "      <th>8966</th>\n",
       "      <td>sales</td>\n",
       "      <td>0</td>\n",
       "      <td>0.761825</td>\n",
       "      <td>3</td>\n",
       "      <td>medium</td>\n",
       "      <td>8.0</td>\n",
       "      <td>0.382051</td>\n",
       "      <td>0</td>\n",
       "      <td>189.866551</td>\n",
       "      <td>yes</td>\n",
       "    </tr>\n",
       "    <tr>\n",
       "      <th>2629</th>\n",
       "      <td>IT</td>\n",
       "      <td>0</td>\n",
       "      <td>0.500108</td>\n",
       "      <td>3</td>\n",
       "      <td>high</td>\n",
       "      <td>6.0</td>\n",
       "      <td>0.682406</td>\n",
       "      <td>0</td>\n",
       "      <td>182.902116</td>\n",
       "      <td>no</td>\n",
       "    </tr>\n",
       "    <tr>\n",
       "      <th>6131</th>\n",
       "      <td>engineering</td>\n",
       "      <td>1</td>\n",
       "      <td>0.775395</td>\n",
       "      <td>4</td>\n",
       "      <td>medium</td>\n",
       "      <td>7.0</td>\n",
       "      <td>0.333136</td>\n",
       "      <td>0</td>\n",
       "      <td>185.660017</td>\n",
       "      <td>no</td>\n",
       "    </tr>\n",
       "    <tr>\n",
       "      <th>8621</th>\n",
       "      <td>operations</td>\n",
       "      <td>0</td>\n",
       "      <td>0.669891</td>\n",
       "      <td>3</td>\n",
       "      <td>medium</td>\n",
       "      <td>8.0</td>\n",
       "      <td>0.540536</td>\n",
       "      <td>0</td>\n",
       "      <td>187.937071</td>\n",
       "      <td>yes</td>\n",
       "    </tr>\n",
       "  </tbody>\n",
       "</table>\n",
       "</div>"
      ],
      "text/plain": [
       "       department  promoted    review  projects  salary  tenure  satisfaction  \\\n",
       "2124  engineering         0  0.547420         2  medium     5.0      0.826785   \n",
       "8966        sales         0  0.761825         3  medium     8.0      0.382051   \n",
       "2629           IT         0  0.500108         3    high     6.0      0.682406   \n",
       "6131  engineering         1  0.775395         4  medium     7.0      0.333136   \n",
       "8621   operations         0  0.669891         3  medium     8.0      0.540536   \n",
       "\n",
       "      bonus  avg_hrs_month left  \n",
       "2124      0     181.067405   no  \n",
       "8966      0     189.866551  yes  \n",
       "2629      0     182.902116   no  \n",
       "6131      0     185.660017   no  \n",
       "8621      0     187.937071  yes  "
      ]
     },
     "execution_count": 2,
     "metadata": {},
     "output_type": "execute_result"
    }
   ],
   "source": [
    "df = pd.read_csv(\"employee_churn_data.csv\")\n",
    "df.sample(5)"
   ]
  },
  {
   "cell_type": "code",
   "execution_count": 3,
   "id": "11a14c0d",
   "metadata": {
    "ExecuteTime": {
     "end_time": "2023-04-24T09:38:03.207921Z",
     "start_time": "2023-04-24T09:38:03.197923Z"
    }
   },
   "outputs": [
    {
     "name": "stdout",
     "output_type": "stream",
     "text": [
      "<class 'pandas.core.frame.DataFrame'>\n",
      "RangeIndex: 9540 entries, 0 to 9539\n",
      "Data columns (total 10 columns):\n",
      " #   Column         Non-Null Count  Dtype  \n",
      "---  ------         --------------  -----  \n",
      " 0   department     9540 non-null   object \n",
      " 1   promoted       9540 non-null   int64  \n",
      " 2   review         9540 non-null   float64\n",
      " 3   projects       9540 non-null   int64  \n",
      " 4   salary         9540 non-null   object \n",
      " 5   tenure         9540 non-null   float64\n",
      " 6   satisfaction   9540 non-null   float64\n",
      " 7   bonus          9540 non-null   int64  \n",
      " 8   avg_hrs_month  9540 non-null   float64\n",
      " 9   left           9540 non-null   object \n",
      "dtypes: float64(4), int64(3), object(3)\n",
      "memory usage: 745.4+ KB\n"
     ]
    }
   ],
   "source": [
    "df.info()"
   ]
  },
  {
   "cell_type": "code",
   "execution_count": 4,
   "id": "d6168b7b",
   "metadata": {
    "ExecuteTime": {
     "end_time": "2023-04-24T09:38:03.215226Z",
     "start_time": "2023-04-24T09:38:03.209616Z"
    }
   },
   "outputs": [
    {
     "data": {
      "text/plain": [
       "no     70.81761\n",
       "yes    29.18239\n",
       "Name: left, dtype: float64"
      ]
     },
     "execution_count": 4,
     "metadata": {},
     "output_type": "execute_result"
    }
   ],
   "source": [
    "df[\"left\"].value_counts(normalize = True) * 100"
   ]
  },
  {
   "cell_type": "markdown",
   "id": "bbb56af1",
   "metadata": {},
   "source": [
    "# key insight - 1\n",
    "Personelin neredeyse %30'u son 24 ay içerisinde değişti"
   ]
  },
  {
   "cell_type": "code",
   "execution_count": 5,
   "id": "b341940c",
   "metadata": {
    "ExecuteTime": {
     "end_time": "2023-04-24T09:38:03.286616Z",
     "start_time": "2023-04-24T09:38:03.216311Z"
    }
   },
   "outputs": [
    {
     "data": {
      "image/png": "[encoded data removed]",
      "text/plain": [
       "<Figure size 640x480 with 1 Axes>"
      ]
     },
     "metadata": {},
     "output_type": "display_data"
    }
   ],
   "source": [
    "plt.pie(x = df[\"left\"].value_counts(), labels = [\"No\", \"Yes\"], autopct = \"%0.1f%%\")\n",
    "plt.title(\"Çalışanların Ayrılma Oranı\", fontsize = 16);"
   ]
  },
  {
   "cell_type": "markdown",
   "id": "b9de4425",
   "metadata": {},
   "source": [
    "# Key insight 2\n",
    "\n",
    "Ayrılan personelin çoğu 5 yıldır şirkette çalışmaktadır ve yeniden eğitilmeleri zaman alan çok değerli becerileri temsil etmektedir"
   ]
  },
  {
   "cell_type": "code",
   "execution_count": 6,
   "id": "798505e5",
   "metadata": {
    "ExecuteTime": {
     "end_time": "2023-04-24T09:38:03.424589Z",
     "start_time": "2023-04-24T09:38:03.286616Z"
    }
   },
   "outputs": [
    {
     "data": {
      "image/png": "[encoded data removed]",
      "text/plain": [
       "<Figure size 640x480 with 1 Axes>"
      ]
     },
     "metadata": {},
     "output_type": "display_data"
    }
   ],
   "source": [
    "sns.countplot(data = df, x = df[\"tenure\"], hue = df[\"left\"]);\n",
    "# plt.legend(loc = 2); # yes ve no yazan kutucuğun yerini ayarladık"
   ]
  },
  {
   "cell_type": "code",
   "execution_count": 7,
   "id": "2196edd8",
   "metadata": {
    "ExecuteTime": {
     "end_time": "2023-04-24T09:38:03.429266Z",
     "start_time": "2023-04-24T09:38:03.425566Z"
    }
   },
   "outputs": [],
   "source": [
    "def left_by_tenure(df, low, high):\n",
    "    df_in = df[(df[\"tenure\"] <= high) & (df[\"tenure\"] >= low)][\"left\"].value_counts()\n",
    "    df_out =df[~((df[\"tenure\"] <= high) & (df[\"tenure\"] >= low))][\"left\"].value_counts()\n",
    "    return (df_in / (df_in + df_out))[\"yes\"]"
   ]
  },
  {
   "cell_type": "code",
   "execution_count": 8,
   "id": "f2a453f6",
   "metadata": {
    "ExecuteTime": {
     "end_time": "2023-04-24T09:38:03.436810Z",
     "start_time": "2023-04-24T09:38:03.430271Z"
    }
   },
   "outputs": [
    {
     "data": {
      "text/plain": [
       "0.9166666666666666"
      ]
     },
     "execution_count": 8,
     "metadata": {},
     "output_type": "execute_result"
    }
   ],
   "source": [
    "left_by_tenure(df, 5, 8)"
   ]
  },
  {
   "cell_type": "code",
   "execution_count": 9,
   "id": "83b4ccf4",
   "metadata": {
    "ExecuteTime": {
     "end_time": "2023-04-24T09:38:03.452544Z",
     "start_time": "2023-04-24T09:38:03.438426Z"
    }
   },
   "outputs": [
    {
     "data": {
      "text/html": [
       "<div>\n",
       "<style scoped>\n",
       "    .dataframe tbody tr th:only-of-type {\n",
       "        vertical-align: middle;\n",
       "    }\n",
       "\n",
       "    .dataframe tbody tr th {\n",
       "        vertical-align: top;\n",
       "    }\n",
       "\n",
       "    .dataframe thead th {\n",
       "        text-align: right;\n",
       "    }\n",
       "</style>\n",
       "<table border=\"1\" class=\"dataframe\">\n",
       "  <thead>\n",
       "    <tr style=\"text-align: right;\">\n",
       "      <th>tenure</th>\n",
       "      <th>2.0</th>\n",
       "      <th>3.0</th>\n",
       "      <th>4.0</th>\n",
       "      <th>5.0</th>\n",
       "      <th>6.0</th>\n",
       "      <th>7.0</th>\n",
       "      <th>8.0</th>\n",
       "      <th>9.0</th>\n",
       "      <th>10.0</th>\n",
       "      <th>11.0</th>\n",
       "      <th>12.0</th>\n",
       "    </tr>\n",
       "    <tr>\n",
       "      <th>left</th>\n",
       "      <th></th>\n",
       "      <th></th>\n",
       "      <th></th>\n",
       "      <th></th>\n",
       "      <th></th>\n",
       "      <th></th>\n",
       "      <th></th>\n",
       "      <th></th>\n",
       "      <th></th>\n",
       "      <th></th>\n",
       "      <th></th>\n",
       "    </tr>\n",
       "  </thead>\n",
       "  <tbody>\n",
       "    <tr>\n",
       "      <th>no</th>\n",
       "      <td>1.0</td>\n",
       "      <td>27.0</td>\n",
       "      <td>332.0</td>\n",
       "      <td>1395.0</td>\n",
       "      <td>1835.0</td>\n",
       "      <td>1386.0</td>\n",
       "      <td>1065.0</td>\n",
       "      <td>564.0</td>\n",
       "      <td>127.0</td>\n",
       "      <td>23.0</td>\n",
       "      <td>1.0</td>\n",
       "    </tr>\n",
       "    <tr>\n",
       "      <th>yes</th>\n",
       "      <td>2.0</td>\n",
       "      <td>30.0</td>\n",
       "      <td>186.0</td>\n",
       "      <td>428.0</td>\n",
       "      <td>478.0</td>\n",
       "      <td>823.0</td>\n",
       "      <td>823.0</td>\n",
       "      <td>14.0</td>\n",
       "      <td>NaN</td>\n",
       "      <td>NaN</td>\n",
       "      <td>NaN</td>\n",
       "    </tr>\n",
       "  </tbody>\n",
       "</table>\n",
       "</div>"
      ],
      "text/plain": [
       "tenure  2.0   3.0    4.0     5.0     6.0     7.0     8.0    9.0    10.0  11.0  \\\n",
       "left                                                                            \n",
       "no       1.0  27.0  332.0  1395.0  1835.0  1386.0  1065.0  564.0  127.0  23.0   \n",
       "yes      2.0  30.0  186.0   428.0   478.0   823.0   823.0   14.0    NaN   NaN   \n",
       "\n",
       "tenure  12.0  \n",
       "left          \n",
       "no       1.0  \n",
       "yes      NaN  "
      ]
     },
     "execution_count": 9,
     "metadata": {},
     "output_type": "execute_result"
    }
   ],
   "source": [
    "df_tenure = df.groupby([\"tenure\", \"left\"]).size().reset_index().pivot(columns = \"tenure\", index = \"left\", values = 0)\n",
    "df_tenure\n",
    "#"
   ]
  },
  {
   "cell_type": "code",
   "execution_count": 10,
   "id": "7aee5793",
   "metadata": {
    "ExecuteTime": {
     "end_time": "2023-04-24T09:38:03.466234Z",
     "start_time": "2023-04-24T09:38:03.454547Z"
    }
   },
   "outputs": [
    {
     "data": {
      "text/html": [
       "<div>\n",
       "<style scoped>\n",
       "    .dataframe tbody tr th:only-of-type {\n",
       "        vertical-align: middle;\n",
       "    }\n",
       "\n",
       "    .dataframe tbody tr th {\n",
       "        vertical-align: top;\n",
       "    }\n",
       "\n",
       "    .dataframe thead th {\n",
       "        text-align: right;\n",
       "    }\n",
       "</style>\n",
       "<table border=\"1\" class=\"dataframe\">\n",
       "  <thead>\n",
       "    <tr style=\"text-align: right;\">\n",
       "      <th>tenure</th>\n",
       "      <th>2.0</th>\n",
       "      <th>3.0</th>\n",
       "      <th>4.0</th>\n",
       "      <th>5.0</th>\n",
       "      <th>6.0</th>\n",
       "      <th>7.0</th>\n",
       "      <th>8.0</th>\n",
       "      <th>9.0</th>\n",
       "      <th>10.0</th>\n",
       "      <th>11.0</th>\n",
       "      <th>12.0</th>\n",
       "    </tr>\n",
       "    <tr>\n",
       "      <th>left</th>\n",
       "      <th></th>\n",
       "      <th></th>\n",
       "      <th></th>\n",
       "      <th></th>\n",
       "      <th></th>\n",
       "      <th></th>\n",
       "      <th></th>\n",
       "      <th></th>\n",
       "      <th></th>\n",
       "      <th></th>\n",
       "      <th></th>\n",
       "    </tr>\n",
       "  </thead>\n",
       "  <tbody>\n",
       "    <tr>\n",
       "      <th>no</th>\n",
       "      <td>1.0</td>\n",
       "      <td>27.0</td>\n",
       "      <td>332.0</td>\n",
       "      <td>1395.0</td>\n",
       "      <td>1835.0</td>\n",
       "      <td>1386.0</td>\n",
       "      <td>1065.0</td>\n",
       "      <td>564.0</td>\n",
       "      <td>127.0</td>\n",
       "      <td>23.0</td>\n",
       "      <td>1.0</td>\n",
       "    </tr>\n",
       "    <tr>\n",
       "      <th>yes</th>\n",
       "      <td>2.0</td>\n",
       "      <td>30.0</td>\n",
       "      <td>186.0</td>\n",
       "      <td>428.0</td>\n",
       "      <td>478.0</td>\n",
       "      <td>823.0</td>\n",
       "      <td>823.0</td>\n",
       "      <td>14.0</td>\n",
       "      <td>NaN</td>\n",
       "      <td>NaN</td>\n",
       "      <td>NaN</td>\n",
       "    </tr>\n",
       "  </tbody>\n",
       "</table>\n",
       "</div>"
      ],
      "text/plain": [
       "tenure  2.0   3.0    4.0     5.0     6.0     7.0     8.0    9.0    10.0  11.0  \\\n",
       "left                                                                            \n",
       "no       1.0  27.0  332.0  1395.0  1835.0  1386.0  1065.0  564.0  127.0  23.0   \n",
       "yes      2.0  30.0  186.0   428.0   478.0   823.0   823.0   14.0    NaN   NaN   \n",
       "\n",
       "tenure  12.0  \n",
       "left          \n",
       "no       1.0  \n",
       "yes      NaN  "
      ]
     },
     "execution_count": 10,
     "metadata": {},
     "output_type": "execute_result"
    }
   ],
   "source": [
    "df.groupby([\"tenure\", \"left\"]).left.agg(\"count\").unstack().T\n",
    "# unstack ile series'i dataframe yaptık"
   ]
  },
  {
   "cell_type": "code",
   "execution_count": 11,
   "id": "1adaacac",
   "metadata": {
    "ExecuteTime": {
     "end_time": "2023-04-24T09:38:03.473222Z",
     "start_time": "2023-04-24T09:38:03.466234Z"
    }
   },
   "outputs": [
    {
     "data": {
      "text/plain": [
       "no     5681\n",
       "yes    2552\n",
       "Name: left, dtype: int64"
      ]
     },
     "execution_count": 11,
     "metadata": {},
     "output_type": "execute_result"
    }
   ],
   "source": [
    "df_in = df[(df[\"tenure\"] <= 8) & (df[\"tenure\"] >= 5)][\"left\"].value_counts()\n",
    "df_in"
   ]
  },
  {
   "cell_type": "code",
   "execution_count": 12,
   "id": "f10c1ac7",
   "metadata": {
    "ExecuteTime": {
     "end_time": "2023-04-24T09:38:03.623473Z",
     "start_time": "2023-04-24T09:38:03.474295Z"
    }
   },
   "outputs": [
    {
     "data": {
      "image/png": "[encoded data removed]",
      "text/plain": [
       "<Figure size 640x480 with 1 Axes>"
      ]
     },
     "metadata": {},
     "output_type": "display_data"
    }
   ],
   "source": [
    "sns.histplot(x = df.tenure, hue = df.left, binwidth = 1, multiple = \"fill\");"
   ]
  },
  {
   "cell_type": "code",
   "execution_count": 13,
   "id": "ff963f6c",
   "metadata": {
    "ExecuteTime": {
     "end_time": "2023-04-24T09:38:03.629122Z",
     "start_time": "2023-04-24T09:38:03.624470Z"
    }
   },
   "outputs": [
    {
     "data": {
      "text/plain": [
       "sales          1883\n",
       "retail         1541\n",
       "operations     1522\n",
       "engineering    1516\n",
       "marketing       802\n",
       "support         735\n",
       "admin           423\n",
       "finance         402\n",
       "logistics       360\n",
       "IT              356\n",
       "Name: department, dtype: int64"
      ]
     },
     "execution_count": 13,
     "metadata": {},
     "output_type": "execute_result"
    }
   ],
   "source": [
    "df.department.value_counts()"
   ]
  },
  {
   "cell_type": "code",
   "execution_count": 14,
   "id": "36bada9a",
   "metadata": {
    "ExecuteTime": {
     "end_time": "2023-04-24T09:38:03.773189Z",
     "start_time": "2023-04-24T09:38:03.630130Z"
    }
   },
   "outputs": [
    {
     "data": {
      "image/png": "[encoded data removed]",
      "text/plain": [
       "<Figure size 640x480 with 1 Axes>"
      ]
     },
     "metadata": {},
     "output_type": "display_data"
    }
   ],
   "source": [
    "sns.countplot(data = df, x = df.department, hue = df.left)\n",
    "plt.xticks(rotation = 45);"
   ]
  },
  {
   "cell_type": "markdown",
   "id": "5ddcecc6",
   "metadata": {},
   "source": [
    "# Key insight 3"
   ]
  },
  {
   "cell_type": "code",
   "execution_count": 15,
   "id": "3cc8da25",
   "metadata": {
    "ExecuteTime": {
     "end_time": "2023-04-24T09:38:03.864547Z",
     "start_time": "2023-04-24T09:38:03.774274Z"
    }
   },
   "outputs": [
    {
     "data": {
      "image/png": "[encoded data removed]",
      "text/plain": [
       "<Figure size 640x480 with 1 Axes>"
      ]
     },
     "metadata": {},
     "output_type": "display_data"
    }
   ],
   "source": [
    "sns.countplot(data = df, x = df.promoted, hue = df.left);"
   ]
  },
  {
   "cell_type": "code",
   "execution_count": 16,
   "id": "29ec9f31",
   "metadata": {
    "ExecuteTime": {
     "end_time": "2023-04-24T09:38:03.951773Z",
     "start_time": "2023-04-24T09:38:03.865540Z"
    }
   },
   "outputs": [
    {
     "data": {
      "image/png": "[encoded data removed]",
      "text/plain": [
       "<Figure size 640x480 with 1 Axes>"
      ]
     },
     "metadata": {},
     "output_type": "display_data"
    }
   ],
   "source": [
    "sns.countplot(data = df, x = df.bonus, hue = df.left);"
   ]
  },
  {
   "cell_type": "code",
   "execution_count": 17,
   "id": "bb3144ea",
   "metadata": {
    "ExecuteTime": {
     "end_time": "2023-04-24T09:38:03.961740Z",
     "start_time": "2023-04-24T09:38:03.953369Z"
    }
   },
   "outputs": [
    {
     "name": "stdout",
     "output_type": "stream",
     "text": [
      "<class 'pandas.core.frame.DataFrame'>\n",
      "RangeIndex: 9540 entries, 0 to 9539\n",
      "Data columns (total 10 columns):\n",
      " #   Column         Non-Null Count  Dtype  \n",
      "---  ------         --------------  -----  \n",
      " 0   department     9540 non-null   object \n",
      " 1   promoted       9540 non-null   int64  \n",
      " 2   review         9540 non-null   float64\n",
      " 3   projects       9540 non-null   int64  \n",
      " 4   salary         9540 non-null   object \n",
      " 5   tenure         9540 non-null   float64\n",
      " 6   satisfaction   9540 non-null   float64\n",
      " 7   bonus          9540 non-null   int64  \n",
      " 8   avg_hrs_month  9540 non-null   float64\n",
      " 9   left           9540 non-null   object \n",
      "dtypes: float64(4), int64(3), object(3)\n",
      "memory usage: 745.4+ KB\n"
     ]
    }
   ],
   "source": [
    "df.info()"
   ]
  },
  {
   "cell_type": "code",
   "execution_count": 23,
   "id": "8f1c956f",
   "metadata": {
    "ExecuteTime": {
     "end_time": "2023-04-24T09:40:31.223984Z",
     "start_time": "2023-04-24T09:40:31.215286Z"
    }
   },
   "outputs": [
    {
     "data": {
      "text/plain": [
       "department       4521\n",
       "promoted         4521\n",
       "review           4521\n",
       "projects         4521\n",
       "salary           4521\n",
       "tenure           4521\n",
       "satisfaction     4521\n",
       "bonus            4521\n",
       "avg_hrs_month    4521\n",
       "left             4521\n",
       "dtype: int64"
      ]
     },
     "execution_count": 23,
     "metadata": {},
     "output_type": "execute_result"
    }
   ],
   "source": [
    "df[df[\"avg_hrs_month\"] > 185].count()"
   ]
  },
  {
   "cell_type": "code",
   "execution_count": 24,
   "id": "5387ef43",
   "metadata": {
    "ExecuteTime": {
     "end_time": "2023-04-24T09:40:43.888457Z",
     "start_time": "2023-04-24T09:40:43.880733Z"
    }
   },
   "outputs": [
    {
     "data": {
      "text/plain": [
       "department       5019\n",
       "promoted         5019\n",
       "review           5019\n",
       "projects         5019\n",
       "salary           5019\n",
       "tenure           5019\n",
       "satisfaction     5019\n",
       "bonus            5019\n",
       "avg_hrs_month    5019\n",
       "left             5019\n",
       "dtype: int64"
      ]
     },
     "execution_count": 24,
     "metadata": {},
     "output_type": "execute_result"
    }
   ],
   "source": [
    "df[df[\"avg_hrs_month\"] <= 185].count()"
   ]
  },
  {
   "cell_type": "code",
   "execution_count": 40,
   "id": "6847266a",
   "metadata": {
    "ExecuteTime": {
     "end_time": "2023-04-24T09:43:13.797440Z",
     "start_time": "2023-04-24T09:43:13.790480Z"
    }
   },
   "outputs": [
    {
     "data": {
      "text/plain": [
       "no     0.765093\n",
       "yes    0.234907\n",
       "Name: left, dtype: float64"
      ]
     },
     "execution_count": 40,
     "metadata": {},
     "output_type": "execute_result"
    }
   ],
   "source": [
    "df[df[\"avg_hrs_month\"] < 185][\"left\"].value_counts(normalize = True)"
   ]
  },
  {
   "cell_type": "code",
   "execution_count": 41,
   "id": "51908595",
   "metadata": {
    "ExecuteTime": {
     "end_time": "2023-04-24T09:43:28.199681Z",
     "start_time": "2023-04-24T09:43:28.193053Z"
    }
   },
   "outputs": [
    {
     "data": {
      "text/plain": [
       "no     0.708176\n",
       "yes    0.291824\n",
       "Name: left, dtype: float64"
      ]
     },
     "execution_count": 41,
     "metadata": {},
     "output_type": "execute_result"
    }
   ],
   "source": [
    "df.left.value_counts(normalize = True)"
   ]
  },
  {
   "cell_type": "code",
   "execution_count": 46,
   "id": "b7eb4661",
   "metadata": {
    "ExecuteTime": {
     "end_time": "2023-04-24T09:45:19.195674Z",
     "start_time": "2023-04-24T09:45:19.184969Z"
    }
   },
   "outputs": [
    {
     "data": {
      "text/html": [
       "<div>\n",
       "<style scoped>\n",
       "    .dataframe tbody tr th:only-of-type {\n",
       "        vertical-align: middle;\n",
       "    }\n",
       "\n",
       "    .dataframe tbody tr th {\n",
       "        vertical-align: top;\n",
       "    }\n",
       "\n",
       "    .dataframe thead th {\n",
       "        text-align: right;\n",
       "    }\n",
       "</style>\n",
       "<table border=\"1\" class=\"dataframe\">\n",
       "  <thead>\n",
       "    <tr style=\"text-align: right;\">\n",
       "      <th></th>\n",
       "      <th>count</th>\n",
       "      <th>unique</th>\n",
       "      <th>top</th>\n",
       "      <th>freq</th>\n",
       "    </tr>\n",
       "  </thead>\n",
       "  <tbody>\n",
       "    <tr>\n",
       "      <th>department</th>\n",
       "      <td>9540</td>\n",
       "      <td>10</td>\n",
       "      <td>sales</td>\n",
       "      <td>1883</td>\n",
       "    </tr>\n",
       "    <tr>\n",
       "      <th>salary</th>\n",
       "      <td>9540</td>\n",
       "      <td>3</td>\n",
       "      <td>medium</td>\n",
       "      <td>6611</td>\n",
       "    </tr>\n",
       "    <tr>\n",
       "      <th>left</th>\n",
       "      <td>9540</td>\n",
       "      <td>2</td>\n",
       "      <td>no</td>\n",
       "      <td>6756</td>\n",
       "    </tr>\n",
       "  </tbody>\n",
       "</table>\n",
       "</div>"
      ],
      "text/plain": [
       "           count unique     top  freq\n",
       "department  9540     10   sales  1883\n",
       "salary      9540      3  medium  6611\n",
       "left        9540      2      no  6756"
      ]
     },
     "execution_count": 46,
     "metadata": {},
     "output_type": "execute_result"
    }
   ],
   "source": [
    "df.select_dtypes(include = object).describe().T"
   ]
  },
  {
   "cell_type": "code",
   "execution_count": 47,
   "id": "c06a7e2f",
   "metadata": {
    "ExecuteTime": {
     "end_time": "2023-04-24T09:47:20.611245Z",
     "start_time": "2023-04-24T09:47:20.605752Z"
    }
   },
   "outputs": [
    {
     "data": {
      "text/plain": [
       "no     6756\n",
       "yes    2784\n",
       "Name: left, dtype: int64"
      ]
     },
     "execution_count": 47,
     "metadata": {},
     "output_type": "execute_result"
    }
   ],
   "source": [
    "df.left.value_counts()"
   ]
  },
  {
   "cell_type": "code",
   "execution_count": 53,
   "id": "ff6a30db",
   "metadata": {
    "ExecuteTime": {
     "end_time": "2023-04-24T09:49:10.652188Z",
     "start_time": "2023-04-24T09:49:10.647096Z"
    }
   },
   "outputs": [
    {
     "name": "stderr",
     "output_type": "stream",
     "text": [
      "C:\\Users\\ertek\\AppData\\Local\\Temp\\ipykernel_18412\\873693257.py:1: SettingWithCopyWarning: \n",
      "A value is trying to be set on a copy of a slice from a DataFrame.\n",
      "Try using .loc[row_indexer,col_indexer] = value instead\n",
      "\n",
      "See the caveats in the documentation: https://pandas.pydata.org/pandas-docs/stable/user_guide/indexing.html#returning-a-view-versus-a-copy\n",
      "  df[df[\"left\"] == \"yes\"][\"left\"] = 1\n"
     ]
    }
   ],
   "source": [
    "df[df[\"left\"] == \"yes\"][\"left\"] = 1"
   ]
  },
  {
   "cell_type": "code",
   "execution_count": null,
   "id": "fa700bf5",
   "metadata": {},
   "outputs": [],
   "source": []
  },
  {
   "cell_type": "code",
   "execution_count": null,
   "id": "7c05c8ba",
   "metadata": {},
   "outputs": [],
   "source": []
  }
 ],
 "metadata": {
  "kernelspec": {
   "display_name": "Python 3 (ipykernel)",
   "language": "python",
   "name": "python3"
  },
  "language_info": {
   "codemirror_mode": {
    "name": "ipython",
    "version": 3
   },
   "file_extension": ".py",
   "mimetype": "text/x-python",
   "name": "python",
   "nbconvert_exporter": "python",
   "pygments_lexer": "ipython3",
   "version": "3.10.9"
  },
  "toc": {
   "base_numbering": 1,
   "nav_menu": {},
   "number_sections": true,
   "sideBar": true,
   "skip_h1_title": false,
   "title_cell": "Table of Contents",
   "title_sidebar": "Contents",
   "toc_cell": false,
   "toc_position": {
    "height": "calc(100% - 180px)",
    "left": "10px",
    "top": "150px",
    "width": "307.2px"
   },
   "toc_section_display": true,
   "toc_window_display": false
  },
  "varInspector": {
   "cols": {
    "lenName": 16,
    "lenType": 16,
    "lenVar": 40
   },
   "kernels_config": {
    "python": {
     "delete_cmd_postfix": "",
     "delete_cmd_prefix": "del ",
     "library": "var_list.py",
     "varRefreshCmd": "print(var_dic_list())"
    },
    "r": {
     "delete_cmd_postfix": ") ",
     "delete_cmd_prefix": "rm(",
     "library": "var_list.r",
     "varRefreshCmd": "cat(var_dic_list()) "
    }
   },
   "types_to_exclude": [
    "module",
    "function",
    "builtin_function_or_method",
    "instance",
    "_Feature"
   ],
   "window_display": false
  }
 },
 "nbformat": 4,
 "nbformat_minor": 5
}
