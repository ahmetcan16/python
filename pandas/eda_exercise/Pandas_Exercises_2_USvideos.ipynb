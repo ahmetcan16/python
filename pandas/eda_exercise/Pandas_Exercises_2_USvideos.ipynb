{
 "cells": [
  {
   "cell_type": "code",
   "execution_count": 1,
   "id": "fbcfd119-398b-4797-a12f-80c3c48285bb",
   "metadata": {
    "ExecuteTime": {
     "end_time": "2023-04-19T13:13:12.560570Z",
     "start_time": "2023-04-19T13:13:12.336550Z"
    }
   },
   "outputs": [],
   "source": [
    "import pandas as pd"
   ]
  },
  {
   "cell_type": "markdown",
   "id": "a3fd62cc-5815-4beb-88f3-158670e2c0f9",
   "metadata": {},
   "source": [
    "#### Youtube Dataset'ini çağırın ve kolon isimlerini yazdırın"
   ]
  },
  {
   "cell_type": "code",
   "execution_count": 2,
   "id": "cf55d3a0-ef18-4b68-9c7b-1179fdea1525",
   "metadata": {
    "ExecuteTime": {
     "end_time": "2023-04-19T13:13:32.785988Z",
     "start_time": "2023-04-19T13:13:32.496565Z"
    }
   },
   "outputs": [
    {
     "data": {
      "text/plain": [
       "Index(['video_id', 'trending_date', 'title', 'channel_title', 'category_id',\n",
       "       'publish_time', 'tags', 'views', 'likes', 'dislikes', 'comment_count',\n",
       "       'thumbnail_link', 'comments_disabled', 'ratings_disabled',\n",
       "       'video_error_or_removed', 'description'],\n",
       "      dtype='object')"
      ]
     },
     "execution_count": 2,
     "metadata": {},
     "output_type": "execute_result"
    }
   ],
   "source": [
    "df = pd.read_csv(\"USvideos.csv\")\n",
    "df.columns"
   ]
  },
  {
   "cell_type": "markdown",
   "id": "179e5f15-11e6-4239-839b-2c57fb1af695",
   "metadata": {},
   "source": [
    "#### İlk ve Son 5 Veriyi gösterin"
   ]
  },
  {
   "cell_type": "code",
   "execution_count": 3,
   "id": "73b0d170-c6ee-4888-9ef2-529209646938",
   "metadata": {
    "ExecuteTime": {
     "end_time": "2023-04-19T13:13:42.135462Z",
     "start_time": "2023-04-19T13:13:42.113315Z"
    }
   },
   "outputs": [
    {
     "data": {
      "text/html": [
       "<div>\n",
       "<style scoped>\n",
       "    .dataframe tbody tr th:only-of-type {\n",
       "        vertical-align: middle;\n",
       "    }\n",
       "\n",
       "    .dataframe tbody tr th {\n",
       "        vertical-align: top;\n",
       "    }\n",
       "\n",
       "    .dataframe thead th {\n",
       "        text-align: right;\n",
       "    }\n",
       "</style>\n",
       "<table border=\"1\" class=\"dataframe\">\n",
       "  <thead>\n",
       "    <tr style=\"text-align: right;\">\n",
       "      <th></th>\n",
       "      <th>video_id</th>\n",
       "      <th>trending_date</th>\n",
       "      <th>title</th>\n",
       "      <th>channel_title</th>\n",
       "      <th>category_id</th>\n",
       "      <th>publish_time</th>\n",
       "      <th>tags</th>\n",
       "      <th>views</th>\n",
       "      <th>likes</th>\n",
       "      <th>dislikes</th>\n",
       "      <th>comment_count</th>\n",
       "      <th>thumbnail_link</th>\n",
       "      <th>comments_disabled</th>\n",
       "      <th>ratings_disabled</th>\n",
       "      <th>video_error_or_removed</th>\n",
       "      <th>description</th>\n",
       "    </tr>\n",
       "  </thead>\n",
       "  <tbody>\n",
       "    <tr>\n",
       "      <th>0</th>\n",
       "      <td>2kyS6SvSYSE</td>\n",
       "      <td>17.14.11</td>\n",
       "      <td>WE WANT TO TALK ABOUT OUR MARRIAGE</td>\n",
       "      <td>CaseyNeistat</td>\n",
       "      <td>22</td>\n",
       "      <td>2017-11-13T17:13:01.000Z</td>\n",
       "      <td>SHANtell martin</td>\n",
       "      <td>748374</td>\n",
       "      <td>57527</td>\n",
       "      <td>2966</td>\n",
       "      <td>15954</td>\n",
       "      <td>https://i.ytimg.com/vi/2kyS6SvSYSE/default.jpg</td>\n",
       "      <td>False</td>\n",
       "      <td>False</td>\n",
       "      <td>False</td>\n",
       "      <td>SHANTELL'S CHANNEL - https://www.youtube.com/s...</td>\n",
       "    </tr>\n",
       "    <tr>\n",
       "      <th>1</th>\n",
       "      <td>1ZAPwfrtAFY</td>\n",
       "      <td>17.14.11</td>\n",
       "      <td>The Trump Presidency: Last Week Tonight with J...</td>\n",
       "      <td>LastWeekTonight</td>\n",
       "      <td>24</td>\n",
       "      <td>2017-11-13T07:30:00.000Z</td>\n",
       "      <td>last week tonight trump presidency|\"last week ...</td>\n",
       "      <td>2418783</td>\n",
       "      <td>97185</td>\n",
       "      <td>6146</td>\n",
       "      <td>12703</td>\n",
       "      <td>https://i.ytimg.com/vi/1ZAPwfrtAFY/default.jpg</td>\n",
       "      <td>False</td>\n",
       "      <td>False</td>\n",
       "      <td>False</td>\n",
       "      <td>One year after the presidential election, John...</td>\n",
       "    </tr>\n",
       "    <tr>\n",
       "      <th>2</th>\n",
       "      <td>5qpjK5DgCt4</td>\n",
       "      <td>17.14.11</td>\n",
       "      <td>Racist Superman | Rudy Mancuso, King Bach &amp; Le...</td>\n",
       "      <td>Rudy Mancuso</td>\n",
       "      <td>23</td>\n",
       "      <td>2017-11-12T19:05:24.000Z</td>\n",
       "      <td>racist superman|\"rudy\"|\"mancuso\"|\"king\"|\"bach\"...</td>\n",
       "      <td>3191434</td>\n",
       "      <td>146033</td>\n",
       "      <td>5339</td>\n",
       "      <td>8181</td>\n",
       "      <td>https://i.ytimg.com/vi/5qpjK5DgCt4/default.jpg</td>\n",
       "      <td>False</td>\n",
       "      <td>False</td>\n",
       "      <td>False</td>\n",
       "      <td>WATCH MY PREVIOUS VIDEO ▶ \\n\\nSUBSCRIBE ► http...</td>\n",
       "    </tr>\n",
       "    <tr>\n",
       "      <th>3</th>\n",
       "      <td>puqaWrEC7tY</td>\n",
       "      <td>17.14.11</td>\n",
       "      <td>Nickelback Lyrics: Real or Fake?</td>\n",
       "      <td>Good Mythical Morning</td>\n",
       "      <td>24</td>\n",
       "      <td>2017-11-13T11:00:04.000Z</td>\n",
       "      <td>rhett and link|\"gmm\"|\"good mythical morning\"|\"...</td>\n",
       "      <td>343168</td>\n",
       "      <td>10172</td>\n",
       "      <td>666</td>\n",
       "      <td>2146</td>\n",
       "      <td>https://i.ytimg.com/vi/puqaWrEC7tY/default.jpg</td>\n",
       "      <td>False</td>\n",
       "      <td>False</td>\n",
       "      <td>False</td>\n",
       "      <td>Today we find out if Link is a Nickelback amat...</td>\n",
       "    </tr>\n",
       "    <tr>\n",
       "      <th>4</th>\n",
       "      <td>d380meD0W0M</td>\n",
       "      <td>17.14.11</td>\n",
       "      <td>I Dare You: GOING BALD!?</td>\n",
       "      <td>nigahiga</td>\n",
       "      <td>24</td>\n",
       "      <td>2017-11-12T18:01:41.000Z</td>\n",
       "      <td>ryan|\"higa\"|\"higatv\"|\"nigahiga\"|\"i dare you\"|\"...</td>\n",
       "      <td>2095731</td>\n",
       "      <td>132235</td>\n",
       "      <td>1989</td>\n",
       "      <td>17518</td>\n",
       "      <td>https://i.ytimg.com/vi/d380meD0W0M/default.jpg</td>\n",
       "      <td>False</td>\n",
       "      <td>False</td>\n",
       "      <td>False</td>\n",
       "      <td>I know it's been a while since we did this sho...</td>\n",
       "    </tr>\n",
       "  </tbody>\n",
       "</table>\n",
       "</div>"
      ],
      "text/plain": [
       "      video_id trending_date  \\\n",
       "0  2kyS6SvSYSE      17.14.11   \n",
       "1  1ZAPwfrtAFY      17.14.11   \n",
       "2  5qpjK5DgCt4      17.14.11   \n",
       "3  puqaWrEC7tY      17.14.11   \n",
       "4  d380meD0W0M      17.14.11   \n",
       "\n",
       "                                               title          channel_title  \\\n",
       "0                 WE WANT TO TALK ABOUT OUR MARRIAGE           CaseyNeistat   \n",
       "1  The Trump Presidency: Last Week Tonight with J...        LastWeekTonight   \n",
       "2  Racist Superman | Rudy Mancuso, King Bach & Le...           Rudy Mancuso   \n",
       "3                   Nickelback Lyrics: Real or Fake?  Good Mythical Morning   \n",
       "4                           I Dare You: GOING BALD!?               nigahiga   \n",
       "\n",
       "   category_id              publish_time  \\\n",
       "0           22  2017-11-13T17:13:01.000Z   \n",
       "1           24  2017-11-13T07:30:00.000Z   \n",
       "2           23  2017-11-12T19:05:24.000Z   \n",
       "3           24  2017-11-13T11:00:04.000Z   \n",
       "4           24  2017-11-12T18:01:41.000Z   \n",
       "\n",
       "                                                tags    views   likes  \\\n",
       "0                                    SHANtell martin   748374   57527   \n",
       "1  last week tonight trump presidency|\"last week ...  2418783   97185   \n",
       "2  racist superman|\"rudy\"|\"mancuso\"|\"king\"|\"bach\"...  3191434  146033   \n",
       "3  rhett and link|\"gmm\"|\"good mythical morning\"|\"...   343168   10172   \n",
       "4  ryan|\"higa\"|\"higatv\"|\"nigahiga\"|\"i dare you\"|\"...  2095731  132235   \n",
       "\n",
       "   dislikes  comment_count                                  thumbnail_link  \\\n",
       "0      2966          15954  https://i.ytimg.com/vi/2kyS6SvSYSE/default.jpg   \n",
       "1      6146          12703  https://i.ytimg.com/vi/1ZAPwfrtAFY/default.jpg   \n",
       "2      5339           8181  https://i.ytimg.com/vi/5qpjK5DgCt4/default.jpg   \n",
       "3       666           2146  https://i.ytimg.com/vi/puqaWrEC7tY/default.jpg   \n",
       "4      1989          17518  https://i.ytimg.com/vi/d380meD0W0M/default.jpg   \n",
       "\n",
       "   comments_disabled  ratings_disabled  video_error_or_removed  \\\n",
       "0              False             False                   False   \n",
       "1              False             False                   False   \n",
       "2              False             False                   False   \n",
       "3              False             False                   False   \n",
       "4              False             False                   False   \n",
       "\n",
       "                                         description  \n",
       "0  SHANTELL'S CHANNEL - https://www.youtube.com/s...  \n",
       "1  One year after the presidential election, John...  \n",
       "2  WATCH MY PREVIOUS VIDEO ▶ \\n\\nSUBSCRIBE ► http...  \n",
       "3  Today we find out if Link is a Nickelback amat...  \n",
       "4  I know it's been a while since we did this sho...  "
      ]
     },
     "execution_count": 3,
     "metadata": {},
     "output_type": "execute_result"
    }
   ],
   "source": [
    "df.head(5)"
   ]
  },
  {
   "cell_type": "markdown",
   "id": "14e6c7d9-47dc-4571-8c64-727c48a9d613",
   "metadata": {},
   "source": [
    "#### Datasetini aşağıdaki sütünları silerek güncelleyin.\n",
    "\n",
    "##### thumbnail_link ,video_id,trending_date,publish_time,thumbnail_link,comments_disabled,ratings_disabled,video_error_or_removed"
   ]
  },
  {
   "cell_type": "code",
   "execution_count": 7,
   "id": "ea4073af-de58-4c5f-9cce-8073bd14b5dc",
   "metadata": {
    "ExecuteTime": {
     "end_time": "2023-04-19T13:15:22.075161Z",
     "start_time": "2023-04-19T13:15:22.025518Z"
    },
    "collapsed": true
   },
   "outputs": [
    {
     "ename": "KeyError",
     "evalue": "\"['thumbnail_link', 'video_id', 'trending_date', 'publish_time', 'thumbnail_link', 'comments_disabled', 'ratings_disabled', 'video_error_or_removed'] not found in axis\"",
     "output_type": "error",
     "traceback": [
      "\u001b[1;31m---------------------------------------------------------------------------\u001b[0m",
      "\u001b[1;31mKeyError\u001b[0m                                  Traceback (most recent call last)",
      "Cell \u001b[1;32mIn[7], line 1\u001b[0m\n\u001b[1;32m----> 1\u001b[0m \u001b[43mdf\u001b[49m\u001b[38;5;241;43m.\u001b[39;49m\u001b[43mdrop\u001b[49m\u001b[43m(\u001b[49m\u001b[43m[\u001b[49m\u001b[38;5;124;43m\"\u001b[39;49m\u001b[38;5;124;43mthumbnail_link\u001b[39;49m\u001b[38;5;124;43m\"\u001b[39;49m\u001b[43m \u001b[49m\u001b[43m,\u001b[49m\u001b[38;5;124;43m\"\u001b[39;49m\u001b[38;5;124;43mvideo_id\u001b[39;49m\u001b[38;5;124;43m\"\u001b[39;49m\u001b[43m,\u001b[49m\u001b[38;5;124;43m\"\u001b[39;49m\u001b[38;5;124;43mtrending_date\u001b[39;49m\u001b[38;5;124;43m\"\u001b[39;49m\u001b[43m,\u001b[49m\u001b[38;5;124;43m\"\u001b[39;49m\u001b[38;5;124;43mpublish_time\u001b[39;49m\u001b[38;5;124;43m\"\u001b[39;49m\u001b[43m,\u001b[49m\u001b[38;5;124;43m\"\u001b[39;49m\u001b[38;5;124;43mthumbnail_link\u001b[39;49m\u001b[38;5;124;43m\"\u001b[39;49m\u001b[43m,\u001b[49m\n\u001b[0;32m      2\u001b[0m \u001b[43m         \u001b[49m\u001b[38;5;124;43m\"\u001b[39;49m\u001b[38;5;124;43mcomments_disabled\u001b[39;49m\u001b[38;5;124;43m\"\u001b[39;49m\u001b[43m,\u001b[49m\u001b[38;5;124;43m\"\u001b[39;49m\u001b[38;5;124;43mratings_disabled\u001b[39;49m\u001b[38;5;124;43m\"\u001b[39;49m\u001b[43m,\u001b[49m\u001b[38;5;124;43m\"\u001b[39;49m\u001b[38;5;124;43mvideo_error_or_removed\u001b[39;49m\u001b[38;5;124;43m\"\u001b[39;49m\u001b[43m]\u001b[49m\u001b[43m,\u001b[49m\u001b[43m \u001b[49m\u001b[43maxis\u001b[49m\u001b[38;5;241;43m=\u001b[39;49m\u001b[38;5;241;43m1\u001b[39;49m\u001b[43m,\u001b[49m\u001b[43m \u001b[49m\u001b[43minplace\u001b[49m\u001b[38;5;241;43m=\u001b[39;49m\u001b[38;5;28;43;01mTrue\u001b[39;49;00m\u001b[43m)\u001b[49m\n\u001b[0;32m      3\u001b[0m df\u001b[38;5;241m.\u001b[39mhead(\u001b[38;5;241m5\u001b[39m)\n",
      "File \u001b[1;32m~\\anaconda3\\lib\\site-packages\\pandas\\util\\_decorators.py:331\u001b[0m, in \u001b[0;36mdeprecate_nonkeyword_arguments.<locals>.decorate.<locals>.wrapper\u001b[1;34m(*args, **kwargs)\u001b[0m\n\u001b[0;32m    325\u001b[0m \u001b[38;5;28;01mif\u001b[39;00m \u001b[38;5;28mlen\u001b[39m(args) \u001b[38;5;241m>\u001b[39m num_allow_args:\n\u001b[0;32m    326\u001b[0m     warnings\u001b[38;5;241m.\u001b[39mwarn(\n\u001b[0;32m    327\u001b[0m         msg\u001b[38;5;241m.\u001b[39mformat(arguments\u001b[38;5;241m=\u001b[39m_format_argument_list(allow_args)),\n\u001b[0;32m    328\u001b[0m         \u001b[38;5;167;01mFutureWarning\u001b[39;00m,\n\u001b[0;32m    329\u001b[0m         stacklevel\u001b[38;5;241m=\u001b[39mfind_stack_level(),\n\u001b[0;32m    330\u001b[0m     )\n\u001b[1;32m--> 331\u001b[0m \u001b[38;5;28;01mreturn\u001b[39;00m func(\u001b[38;5;241m*\u001b[39margs, \u001b[38;5;241m*\u001b[39m\u001b[38;5;241m*\u001b[39mkwargs)\n",
      "File \u001b[1;32m~\\anaconda3\\lib\\site-packages\\pandas\\core\\frame.py:5399\u001b[0m, in \u001b[0;36mDataFrame.drop\u001b[1;34m(self, labels, axis, index, columns, level, inplace, errors)\u001b[0m\n\u001b[0;32m   5251\u001b[0m \u001b[38;5;129m@deprecate_nonkeyword_arguments\u001b[39m(version\u001b[38;5;241m=\u001b[39m\u001b[38;5;28;01mNone\u001b[39;00m, allowed_args\u001b[38;5;241m=\u001b[39m[\u001b[38;5;124m\"\u001b[39m\u001b[38;5;124mself\u001b[39m\u001b[38;5;124m\"\u001b[39m, \u001b[38;5;124m\"\u001b[39m\u001b[38;5;124mlabels\u001b[39m\u001b[38;5;124m\"\u001b[39m])\n\u001b[0;32m   5252\u001b[0m \u001b[38;5;28;01mdef\u001b[39;00m \u001b[38;5;21mdrop\u001b[39m(  \u001b[38;5;66;03m# type: ignore[override]\u001b[39;00m\n\u001b[0;32m   5253\u001b[0m     \u001b[38;5;28mself\u001b[39m,\n\u001b[1;32m   (...)\u001b[0m\n\u001b[0;32m   5260\u001b[0m     errors: IgnoreRaise \u001b[38;5;241m=\u001b[39m \u001b[38;5;124m\"\u001b[39m\u001b[38;5;124mraise\u001b[39m\u001b[38;5;124m\"\u001b[39m,\n\u001b[0;32m   5261\u001b[0m ) \u001b[38;5;241m-\u001b[39m\u001b[38;5;241m>\u001b[39m DataFrame \u001b[38;5;241m|\u001b[39m \u001b[38;5;28;01mNone\u001b[39;00m:\n\u001b[0;32m   5262\u001b[0m     \u001b[38;5;124;03m\"\"\"\u001b[39;00m\n\u001b[0;32m   5263\u001b[0m \u001b[38;5;124;03m    Drop specified labels from rows or columns.\u001b[39;00m\n\u001b[0;32m   5264\u001b[0m \n\u001b[1;32m   (...)\u001b[0m\n\u001b[0;32m   5397\u001b[0m \u001b[38;5;124;03m            weight  1.0     0.8\u001b[39;00m\n\u001b[0;32m   5398\u001b[0m \u001b[38;5;124;03m    \"\"\"\u001b[39;00m\n\u001b[1;32m-> 5399\u001b[0m     \u001b[38;5;28;01mreturn\u001b[39;00m \u001b[38;5;28;43msuper\u001b[39;49m\u001b[43m(\u001b[49m\u001b[43m)\u001b[49m\u001b[38;5;241;43m.\u001b[39;49m\u001b[43mdrop\u001b[49m\u001b[43m(\u001b[49m\n\u001b[0;32m   5400\u001b[0m \u001b[43m        \u001b[49m\u001b[43mlabels\u001b[49m\u001b[38;5;241;43m=\u001b[39;49m\u001b[43mlabels\u001b[49m\u001b[43m,\u001b[49m\n\u001b[0;32m   5401\u001b[0m \u001b[43m        \u001b[49m\u001b[43maxis\u001b[49m\u001b[38;5;241;43m=\u001b[39;49m\u001b[43maxis\u001b[49m\u001b[43m,\u001b[49m\n\u001b[0;32m   5402\u001b[0m \u001b[43m        \u001b[49m\u001b[43mindex\u001b[49m\u001b[38;5;241;43m=\u001b[39;49m\u001b[43mindex\u001b[49m\u001b[43m,\u001b[49m\n\u001b[0;32m   5403\u001b[0m \u001b[43m        \u001b[49m\u001b[43mcolumns\u001b[49m\u001b[38;5;241;43m=\u001b[39;49m\u001b[43mcolumns\u001b[49m\u001b[43m,\u001b[49m\n\u001b[0;32m   5404\u001b[0m \u001b[43m        \u001b[49m\u001b[43mlevel\u001b[49m\u001b[38;5;241;43m=\u001b[39;49m\u001b[43mlevel\u001b[49m\u001b[43m,\u001b[49m\n\u001b[0;32m   5405\u001b[0m \u001b[43m        \u001b[49m\u001b[43minplace\u001b[49m\u001b[38;5;241;43m=\u001b[39;49m\u001b[43minplace\u001b[49m\u001b[43m,\u001b[49m\n\u001b[0;32m   5406\u001b[0m \u001b[43m        \u001b[49m\u001b[43merrors\u001b[49m\u001b[38;5;241;43m=\u001b[39;49m\u001b[43merrors\u001b[49m\u001b[43m,\u001b[49m\n\u001b[0;32m   5407\u001b[0m \u001b[43m    \u001b[49m\u001b[43m)\u001b[49m\n",
      "File \u001b[1;32m~\\anaconda3\\lib\\site-packages\\pandas\\util\\_decorators.py:331\u001b[0m, in \u001b[0;36mdeprecate_nonkeyword_arguments.<locals>.decorate.<locals>.wrapper\u001b[1;34m(*args, **kwargs)\u001b[0m\n\u001b[0;32m    325\u001b[0m \u001b[38;5;28;01mif\u001b[39;00m \u001b[38;5;28mlen\u001b[39m(args) \u001b[38;5;241m>\u001b[39m num_allow_args:\n\u001b[0;32m    326\u001b[0m     warnings\u001b[38;5;241m.\u001b[39mwarn(\n\u001b[0;32m    327\u001b[0m         msg\u001b[38;5;241m.\u001b[39mformat(arguments\u001b[38;5;241m=\u001b[39m_format_argument_list(allow_args)),\n\u001b[0;32m    328\u001b[0m         \u001b[38;5;167;01mFutureWarning\u001b[39;00m,\n\u001b[0;32m    329\u001b[0m         stacklevel\u001b[38;5;241m=\u001b[39mfind_stack_level(),\n\u001b[0;32m    330\u001b[0m     )\n\u001b[1;32m--> 331\u001b[0m \u001b[38;5;28;01mreturn\u001b[39;00m func(\u001b[38;5;241m*\u001b[39margs, \u001b[38;5;241m*\u001b[39m\u001b[38;5;241m*\u001b[39mkwargs)\n",
      "File \u001b[1;32m~\\anaconda3\\lib\\site-packages\\pandas\\core\\generic.py:4505\u001b[0m, in \u001b[0;36mNDFrame.drop\u001b[1;34m(self, labels, axis, index, columns, level, inplace, errors)\u001b[0m\n\u001b[0;32m   4503\u001b[0m \u001b[38;5;28;01mfor\u001b[39;00m axis, labels \u001b[38;5;129;01min\u001b[39;00m axes\u001b[38;5;241m.\u001b[39mitems():\n\u001b[0;32m   4504\u001b[0m     \u001b[38;5;28;01mif\u001b[39;00m labels \u001b[38;5;129;01mis\u001b[39;00m \u001b[38;5;129;01mnot\u001b[39;00m \u001b[38;5;28;01mNone\u001b[39;00m:\n\u001b[1;32m-> 4505\u001b[0m         obj \u001b[38;5;241m=\u001b[39m \u001b[43mobj\u001b[49m\u001b[38;5;241;43m.\u001b[39;49m\u001b[43m_drop_axis\u001b[49m\u001b[43m(\u001b[49m\u001b[43mlabels\u001b[49m\u001b[43m,\u001b[49m\u001b[43m \u001b[49m\u001b[43maxis\u001b[49m\u001b[43m,\u001b[49m\u001b[43m \u001b[49m\u001b[43mlevel\u001b[49m\u001b[38;5;241;43m=\u001b[39;49m\u001b[43mlevel\u001b[49m\u001b[43m,\u001b[49m\u001b[43m \u001b[49m\u001b[43merrors\u001b[49m\u001b[38;5;241;43m=\u001b[39;49m\u001b[43merrors\u001b[49m\u001b[43m)\u001b[49m\n\u001b[0;32m   4507\u001b[0m \u001b[38;5;28;01mif\u001b[39;00m inplace:\n\u001b[0;32m   4508\u001b[0m     \u001b[38;5;28mself\u001b[39m\u001b[38;5;241m.\u001b[39m_update_inplace(obj)\n",
      "File \u001b[1;32m~\\anaconda3\\lib\\site-packages\\pandas\\core\\generic.py:4546\u001b[0m, in \u001b[0;36mNDFrame._drop_axis\u001b[1;34m(self, labels, axis, level, errors, only_slice)\u001b[0m\n\u001b[0;32m   4544\u001b[0m         new_axis \u001b[38;5;241m=\u001b[39m axis\u001b[38;5;241m.\u001b[39mdrop(labels, level\u001b[38;5;241m=\u001b[39mlevel, errors\u001b[38;5;241m=\u001b[39merrors)\n\u001b[0;32m   4545\u001b[0m     \u001b[38;5;28;01melse\u001b[39;00m:\n\u001b[1;32m-> 4546\u001b[0m         new_axis \u001b[38;5;241m=\u001b[39m \u001b[43maxis\u001b[49m\u001b[38;5;241;43m.\u001b[39;49m\u001b[43mdrop\u001b[49m\u001b[43m(\u001b[49m\u001b[43mlabels\u001b[49m\u001b[43m,\u001b[49m\u001b[43m \u001b[49m\u001b[43merrors\u001b[49m\u001b[38;5;241;43m=\u001b[39;49m\u001b[43merrors\u001b[49m\u001b[43m)\u001b[49m\n\u001b[0;32m   4547\u001b[0m     indexer \u001b[38;5;241m=\u001b[39m axis\u001b[38;5;241m.\u001b[39mget_indexer(new_axis)\n\u001b[0;32m   4549\u001b[0m \u001b[38;5;66;03m# Case for non-unique axis\u001b[39;00m\n\u001b[0;32m   4550\u001b[0m \u001b[38;5;28;01melse\u001b[39;00m:\n",
      "File \u001b[1;32m~\\anaconda3\\lib\\site-packages\\pandas\\core\\indexes\\base.py:6934\u001b[0m, in \u001b[0;36mIndex.drop\u001b[1;34m(self, labels, errors)\u001b[0m\n\u001b[0;32m   6932\u001b[0m \u001b[38;5;28;01mif\u001b[39;00m mask\u001b[38;5;241m.\u001b[39many():\n\u001b[0;32m   6933\u001b[0m     \u001b[38;5;28;01mif\u001b[39;00m errors \u001b[38;5;241m!=\u001b[39m \u001b[38;5;124m\"\u001b[39m\u001b[38;5;124mignore\u001b[39m\u001b[38;5;124m\"\u001b[39m:\n\u001b[1;32m-> 6934\u001b[0m         \u001b[38;5;28;01mraise\u001b[39;00m \u001b[38;5;167;01mKeyError\u001b[39;00m(\u001b[38;5;124mf\u001b[39m\u001b[38;5;124m\"\u001b[39m\u001b[38;5;132;01m{\u001b[39;00m\u001b[38;5;28mlist\u001b[39m(labels[mask])\u001b[38;5;132;01m}\u001b[39;00m\u001b[38;5;124m not found in axis\u001b[39m\u001b[38;5;124m\"\u001b[39m)\n\u001b[0;32m   6935\u001b[0m     indexer \u001b[38;5;241m=\u001b[39m indexer[\u001b[38;5;241m~\u001b[39mmask]\n\u001b[0;32m   6936\u001b[0m \u001b[38;5;28;01mreturn\u001b[39;00m \u001b[38;5;28mself\u001b[39m\u001b[38;5;241m.\u001b[39mdelete(indexer)\n",
      "\u001b[1;31mKeyError\u001b[0m: \"['thumbnail_link', 'video_id', 'trending_date', 'publish_time', 'thumbnail_link', 'comments_disabled', 'ratings_disabled', 'video_error_or_removed'] not found in axis\""
     ]
    }
   ],
   "source": [
    "df.drop([\"thumbnail_link\" ,\"video_id\",\"trending_date\",\"publish_time\",\"thumbnail_link\",\n",
    "         \"comments_disabled\",\"ratings_disabled\",\"video_error_or_removed\"], axis=1, inplace=True)"
   ]
  },
  {
   "cell_type": "code",
   "execution_count": 8,
   "id": "834f2a89",
   "metadata": {
    "ExecuteTime": {
     "end_time": "2023-04-19T13:15:36.424558Z",
     "start_time": "2023-04-19T13:15:36.411909Z"
    }
   },
   "outputs": [
    {
     "data": {
      "text/html": [
       "<div>\n",
       "<style scoped>\n",
       "    .dataframe tbody tr th:only-of-type {\n",
       "        vertical-align: middle;\n",
       "    }\n",
       "\n",
       "    .dataframe tbody tr th {\n",
       "        vertical-align: top;\n",
       "    }\n",
       "\n",
       "    .dataframe thead th {\n",
       "        text-align: right;\n",
       "    }\n",
       "</style>\n",
       "<table border=\"1\" class=\"dataframe\">\n",
       "  <thead>\n",
       "    <tr style=\"text-align: right;\">\n",
       "      <th></th>\n",
       "      <th>title</th>\n",
       "      <th>channel_title</th>\n",
       "      <th>category_id</th>\n",
       "      <th>tags</th>\n",
       "      <th>views</th>\n",
       "      <th>likes</th>\n",
       "      <th>dislikes</th>\n",
       "      <th>comment_count</th>\n",
       "      <th>description</th>\n",
       "    </tr>\n",
       "  </thead>\n",
       "  <tbody>\n",
       "    <tr>\n",
       "      <th>0</th>\n",
       "      <td>WE WANT TO TALK ABOUT OUR MARRIAGE</td>\n",
       "      <td>CaseyNeistat</td>\n",
       "      <td>22</td>\n",
       "      <td>SHANtell martin</td>\n",
       "      <td>748374</td>\n",
       "      <td>57527</td>\n",
       "      <td>2966</td>\n",
       "      <td>15954</td>\n",
       "      <td>SHANTELL'S CHANNEL - https://www.youtube.com/s...</td>\n",
       "    </tr>\n",
       "    <tr>\n",
       "      <th>1</th>\n",
       "      <td>The Trump Presidency: Last Week Tonight with J...</td>\n",
       "      <td>LastWeekTonight</td>\n",
       "      <td>24</td>\n",
       "      <td>last week tonight trump presidency|\"last week ...</td>\n",
       "      <td>2418783</td>\n",
       "      <td>97185</td>\n",
       "      <td>6146</td>\n",
       "      <td>12703</td>\n",
       "      <td>One year after the presidential election, John...</td>\n",
       "    </tr>\n",
       "    <tr>\n",
       "      <th>2</th>\n",
       "      <td>Racist Superman | Rudy Mancuso, King Bach &amp; Le...</td>\n",
       "      <td>Rudy Mancuso</td>\n",
       "      <td>23</td>\n",
       "      <td>racist superman|\"rudy\"|\"mancuso\"|\"king\"|\"bach\"...</td>\n",
       "      <td>3191434</td>\n",
       "      <td>146033</td>\n",
       "      <td>5339</td>\n",
       "      <td>8181</td>\n",
       "      <td>WATCH MY PREVIOUS VIDEO ▶ \\n\\nSUBSCRIBE ► http...</td>\n",
       "    </tr>\n",
       "    <tr>\n",
       "      <th>3</th>\n",
       "      <td>Nickelback Lyrics: Real or Fake?</td>\n",
       "      <td>Good Mythical Morning</td>\n",
       "      <td>24</td>\n",
       "      <td>rhett and link|\"gmm\"|\"good mythical morning\"|\"...</td>\n",
       "      <td>343168</td>\n",
       "      <td>10172</td>\n",
       "      <td>666</td>\n",
       "      <td>2146</td>\n",
       "      <td>Today we find out if Link is a Nickelback amat...</td>\n",
       "    </tr>\n",
       "    <tr>\n",
       "      <th>4</th>\n",
       "      <td>I Dare You: GOING BALD!?</td>\n",
       "      <td>nigahiga</td>\n",
       "      <td>24</td>\n",
       "      <td>ryan|\"higa\"|\"higatv\"|\"nigahiga\"|\"i dare you\"|\"...</td>\n",
       "      <td>2095731</td>\n",
       "      <td>132235</td>\n",
       "      <td>1989</td>\n",
       "      <td>17518</td>\n",
       "      <td>I know it's been a while since we did this sho...</td>\n",
       "    </tr>\n",
       "  </tbody>\n",
       "</table>\n",
       "</div>"
      ],
      "text/plain": [
       "                                               title          channel_title  \\\n",
       "0                 WE WANT TO TALK ABOUT OUR MARRIAGE           CaseyNeistat   \n",
       "1  The Trump Presidency: Last Week Tonight with J...        LastWeekTonight   \n",
       "2  Racist Superman | Rudy Mancuso, King Bach & Le...           Rudy Mancuso   \n",
       "3                   Nickelback Lyrics: Real or Fake?  Good Mythical Morning   \n",
       "4                           I Dare You: GOING BALD!?               nigahiga   \n",
       "\n",
       "   category_id                                               tags    views  \\\n",
       "0           22                                    SHANtell martin   748374   \n",
       "1           24  last week tonight trump presidency|\"last week ...  2418783   \n",
       "2           23  racist superman|\"rudy\"|\"mancuso\"|\"king\"|\"bach\"...  3191434   \n",
       "3           24  rhett and link|\"gmm\"|\"good mythical morning\"|\"...   343168   \n",
       "4           24  ryan|\"higa\"|\"higatv\"|\"nigahiga\"|\"i dare you\"|\"...  2095731   \n",
       "\n",
       "    likes  dislikes  comment_count  \\\n",
       "0   57527      2966          15954   \n",
       "1   97185      6146          12703   \n",
       "2  146033      5339           8181   \n",
       "3   10172       666           2146   \n",
       "4  132235      1989          17518   \n",
       "\n",
       "                                         description  \n",
       "0  SHANTELL'S CHANNEL - https://www.youtube.com/s...  \n",
       "1  One year after the presidential election, John...  \n",
       "2  WATCH MY PREVIOUS VIDEO ▶ \\n\\nSUBSCRIBE ► http...  \n",
       "3  Today we find out if Link is a Nickelback amat...  \n",
       "4  I know it's been a while since we did this sho...  "
      ]
     },
     "execution_count": 8,
     "metadata": {},
     "output_type": "execute_result"
    }
   ],
   "source": [
    "df.head(5)"
   ]
  },
  {
   "cell_type": "markdown",
   "id": "4695581c-2b05-4027-a516-f7cbc0590542",
   "metadata": {},
   "source": [
    "#### Kaç tane Sütün ve Satır Olduğunu Bulun, veri seti hakkında genel bilgiye erişin"
   ]
  },
  {
   "cell_type": "code",
   "execution_count": 9,
   "id": "45d5c223-ca33-4730-9ebe-05643fcca8a5",
   "metadata": {
    "ExecuteTime": {
     "end_time": "2023-04-19T13:15:55.156574Z",
     "start_time": "2023-04-19T13:15:55.146183Z"
    }
   },
   "outputs": [
    {
     "data": {
      "text/plain": [
       "9"
      ]
     },
     "execution_count": 9,
     "metadata": {},
     "output_type": "execute_result"
    }
   ],
   "source": [
    "# sütun sayısı\n",
    "df.shape[1]"
   ]
  },
  {
   "cell_type": "code",
   "execution_count": 15,
   "id": "7f7c17c7",
   "metadata": {
    "ExecuteTime": {
     "end_time": "2023-04-19T13:16:54.171960Z",
     "start_time": "2023-04-19T13:16:54.160177Z"
    }
   },
   "outputs": [
    {
     "data": {
      "text/plain": [
       "9"
      ]
     },
     "execution_count": 15,
     "metadata": {},
     "output_type": "execute_result"
    }
   ],
   "source": [
    "len(df.columns)"
   ]
  },
  {
   "cell_type": "code",
   "execution_count": 10,
   "id": "6dd7e2fb-3517-405d-b3cc-55a32cb180b5",
   "metadata": {
    "ExecuteTime": {
     "end_time": "2023-04-19T13:16:05.110627Z",
     "start_time": "2023-04-19T13:16:05.102177Z"
    }
   },
   "outputs": [
    {
     "data": {
      "text/plain": [
       "23362"
      ]
     },
     "execution_count": 10,
     "metadata": {},
     "output_type": "execute_result"
    }
   ],
   "source": [
    "# satır sayısı\n",
    "df.shape[0]"
   ]
  },
  {
   "cell_type": "code",
   "execution_count": 14,
   "id": "f8412146",
   "metadata": {
    "ExecuteTime": {
     "end_time": "2023-04-19T13:16:42.344247Z",
     "start_time": "2023-04-19T13:16:42.330951Z"
    }
   },
   "outputs": [
    {
     "data": {
      "text/plain": [
       "23362"
      ]
     },
     "execution_count": 14,
     "metadata": {},
     "output_type": "execute_result"
    }
   ],
   "source": [
    "len(df.index)"
   ]
  },
  {
   "cell_type": "code",
   "execution_count": 11,
   "id": "4b2f3c5c-1a3d-44b7-aaf5-399450a53d3d",
   "metadata": {
    "ExecuteTime": {
     "end_time": "2023-04-19T13:16:09.717266Z",
     "start_time": "2023-04-19T13:16:09.704257Z"
    }
   },
   "outputs": [
    {
     "data": {
      "text/plain": [
       "(23362, 9)"
      ]
     },
     "execution_count": 11,
     "metadata": {},
     "output_type": "execute_result"
    }
   ],
   "source": [
    "# satır, sütun sayısı\n",
    "df.shape"
   ]
  },
  {
   "cell_type": "code",
   "execution_count": 12,
   "id": "33049d9a-dc01-46ab-9472-45aa976292dc",
   "metadata": {
    "ExecuteTime": {
     "end_time": "2023-04-19T13:16:14.199439Z",
     "start_time": "2023-04-19T13:16:14.175803Z"
    }
   },
   "outputs": [
    {
     "name": "stdout",
     "output_type": "stream",
     "text": [
      "<class 'pandas.core.frame.DataFrame'>\n",
      "RangeIndex: 23362 entries, 0 to 23361\n",
      "Data columns (total 9 columns):\n",
      " #   Column         Non-Null Count  Dtype \n",
      "---  ------         --------------  ----- \n",
      " 0   title          23362 non-null  object\n",
      " 1   channel_title  23362 non-null  object\n",
      " 2   category_id    23362 non-null  int64 \n",
      " 3   tags           23362 non-null  object\n",
      " 4   views          23362 non-null  int64 \n",
      " 5   likes          23362 non-null  int64 \n",
      " 6   dislikes       23362 non-null  int64 \n",
      " 7   comment_count  23362 non-null  int64 \n",
      " 8   description    22929 non-null  object\n",
      "dtypes: int64(5), object(4)\n",
      "memory usage: 1.6+ MB\n"
     ]
    }
   ],
   "source": [
    "df.info()"
   ]
  },
  {
   "cell_type": "markdown",
   "id": "df34f5e1-1917-46c9-9a12-8799d5916620",
   "metadata": {
    "tags": []
   },
   "source": [
    "#### Beğeni ve Beğenmeme sayılarının ortalamasını bulun"
   ]
  },
  {
   "cell_type": "code",
   "execution_count": 21,
   "id": "bbb1f863-28bf-4a82-be7b-210d5c407c9b",
   "metadata": {
    "ExecuteTime": {
     "end_time": "2023-04-19T13:17:39.917740Z",
     "start_time": "2023-04-19T13:17:39.904963Z"
    }
   },
   "outputs": [
    {
     "data": {
      "text/plain": [
       "45085.35972947522"
      ]
     },
     "execution_count": 21,
     "metadata": {},
     "output_type": "execute_result"
    }
   ],
   "source": [
    "# beğeni ortalaması\n",
    "df.likes.mean()"
   ]
  },
  {
   "cell_type": "code",
   "execution_count": 22,
   "id": "d93d00d1-cf09-4e53-842f-df77a8624c34",
   "metadata": {
    "ExecuteTime": {
     "end_time": "2023-04-19T13:17:53.824791Z",
     "start_time": "2023-04-19T13:17:53.820225Z"
    }
   },
   "outputs": [
    {
     "data": {
      "text/plain": [
       "2809.7094426847016"
      ]
     },
     "execution_count": 22,
     "metadata": {},
     "output_type": "execute_result"
    }
   ],
   "source": [
    "# beğenmeme ortalaması\n",
    "df[\"dislikes\"].mean()"
   ]
  },
  {
   "cell_type": "markdown",
   "id": "f30a8ffe-ff4c-428b-85b7-028b813f44fb",
   "metadata": {},
   "source": [
    "#### En yüksek görüntülenmeyi alan videonun başlık bilgisini bulun"
   ]
  },
  {
   "cell_type": "code",
   "execution_count": 23,
   "id": "c71682aa",
   "metadata": {
    "ExecuteTime": {
     "end_time": "2023-04-19T13:18:20.970674Z",
     "start_time": "2023-04-19T13:18:20.961180Z"
    }
   },
   "outputs": [
    {
     "data": {
      "text/html": [
       "<div>\n",
       "<style scoped>\n",
       "    .dataframe tbody tr th:only-of-type {\n",
       "        vertical-align: middle;\n",
       "    }\n",
       "\n",
       "    .dataframe tbody tr th {\n",
       "        vertical-align: top;\n",
       "    }\n",
       "\n",
       "    .dataframe thead th {\n",
       "        text-align: right;\n",
       "    }\n",
       "</style>\n",
       "<table border=\"1\" class=\"dataframe\">\n",
       "  <thead>\n",
       "    <tr style=\"text-align: right;\">\n",
       "      <th></th>\n",
       "      <th>title</th>\n",
       "      <th>channel_title</th>\n",
       "      <th>category_id</th>\n",
       "      <th>tags</th>\n",
       "      <th>views</th>\n",
       "      <th>likes</th>\n",
       "      <th>dislikes</th>\n",
       "      <th>comment_count</th>\n",
       "      <th>description</th>\n",
       "    </tr>\n",
       "  </thead>\n",
       "  <tbody>\n",
       "    <tr>\n",
       "      <th>6181</th>\n",
       "      <td>YouTube Rewind: The Shape of 2017 | #YouTubeRe...</td>\n",
       "      <td>YouTube Spotlight</td>\n",
       "      <td>24</td>\n",
       "      <td>Rewind|\"Rewind 2017\"|\"youtube rewind 2017\"|\"#Y...</td>\n",
       "      <td>149376127</td>\n",
       "      <td>3093544</td>\n",
       "      <td>1643059</td>\n",
       "      <td>810698</td>\n",
       "      <td>YouTube Rewind 2017. Celebrating the videos, p...</td>\n",
       "    </tr>\n",
       "  </tbody>\n",
       "</table>\n",
       "</div>"
      ],
      "text/plain": [
       "                                                  title      channel_title  \\\n",
       "6181  YouTube Rewind: The Shape of 2017 | #YouTubeRe...  YouTube Spotlight   \n",
       "\n",
       "      category_id                                               tags  \\\n",
       "6181           24  Rewind|\"Rewind 2017\"|\"youtube rewind 2017\"|\"#Y...   \n",
       "\n",
       "          views    likes  dislikes  comment_count  \\\n",
       "6181  149376127  3093544   1643059         810698   \n",
       "\n",
       "                                            description  \n",
       "6181  YouTube Rewind 2017. Celebrating the videos, p...  "
      ]
     },
     "execution_count": 23,
     "metadata": {},
     "output_type": "execute_result"
    }
   ],
   "source": [
    "df[df.views == df.views.max()]"
   ]
  },
  {
   "cell_type": "code",
   "execution_count": 26,
   "id": "d3bfd9cc-eaec-4dab-811d-e0afd278f882",
   "metadata": {
    "ExecuteTime": {
     "end_time": "2023-04-19T13:19:03.765067Z",
     "start_time": "2023-04-19T13:19:03.751678Z"
    }
   },
   "outputs": [
    {
     "data": {
      "text/plain": [
       "'YouTube Rewind: The Shape of 2017 | #YouTubeRewind'"
      ]
     },
     "execution_count": 26,
     "metadata": {},
     "output_type": "execute_result"
    }
   ],
   "source": [
    "df[df.views == df.views.max()][\"title\"].iloc[0]"
   ]
  },
  {
   "cell_type": "markdown",
   "id": "d1949de0-f909-490f-aae3-bb4985db1ef7",
   "metadata": {},
   "source": [
    "#### En düşük görüntülenmeyi alan videonun başlık bilgisini bulun"
   ]
  },
  {
   "cell_type": "code",
   "execution_count": 27,
   "id": "211fd121-5301-4dee-92ab-40ecebb88746",
   "metadata": {
    "ExecuteTime": {
     "end_time": "2023-04-19T13:19:17.392562Z",
     "start_time": "2023-04-19T13:19:17.386487Z"
    }
   },
   "outputs": [
    {
     "data": {
      "text/plain": [
       "'1 dead, others injured after Ky. school shooting'"
      ]
     },
     "execution_count": 27,
     "metadata": {},
     "output_type": "execute_result"
    }
   ],
   "source": [
    "df[df.views == df.views.min()][\"title\"].iloc[0]"
   ]
  },
  {
   "cell_type": "markdown",
   "id": "e431fb63-41f9-4a17-af84-fc5ee1987dad",
   "metadata": {},
   "source": [
    "#### Kategorilere Göre (category_id) Yorum Sayılarının Ortalamasını Bulun"
   ]
  },
  {
   "cell_type": "code",
   "execution_count": 31,
   "id": "961445c7-3b6b-4d25-af05-83d8a8ea86d6",
   "metadata": {
    "ExecuteTime": {
     "end_time": "2023-04-19T13:20:35.085100Z",
     "start_time": "2023-04-19T13:20:35.073020Z"
    }
   },
   "outputs": [
    {
     "data": {
      "text/html": [
       "<div>\n",
       "<style scoped>\n",
       "    .dataframe tbody tr th:only-of-type {\n",
       "        vertical-align: middle;\n",
       "    }\n",
       "\n",
       "    .dataframe tbody tr th {\n",
       "        vertical-align: top;\n",
       "    }\n",
       "\n",
       "    .dataframe thead th {\n",
       "        text-align: right;\n",
       "    }\n",
       "</style>\n",
       "<table border=\"1\" class=\"dataframe\">\n",
       "  <thead>\n",
       "    <tr style=\"text-align: right;\">\n",
       "      <th></th>\n",
       "      <th>comment_count</th>\n",
       "    </tr>\n",
       "    <tr>\n",
       "      <th>category_id</th>\n",
       "      <th></th>\n",
       "    </tr>\n",
       "  </thead>\n",
       "  <tbody>\n",
       "    <tr>\n",
       "      <th>1</th>\n",
       "      <td>6003.651813</td>\n",
       "    </tr>\n",
       "    <tr>\n",
       "      <th>2</th>\n",
       "      <td>1730.438235</td>\n",
       "    </tr>\n",
       "    <tr>\n",
       "      <th>10</th>\n",
       "      <td>10383.559418</td>\n",
       "    </tr>\n",
       "    <tr>\n",
       "      <th>15</th>\n",
       "      <td>2474.376054</td>\n",
       "    </tr>\n",
       "    <tr>\n",
       "      <th>17</th>\n",
       "      <td>3256.199515</td>\n",
       "    </tr>\n",
       "    <tr>\n",
       "      <th>19</th>\n",
       "      <td>1833.011450</td>\n",
       "    </tr>\n",
       "    <tr>\n",
       "      <th>20</th>\n",
       "      <td>7578.383607</td>\n",
       "    </tr>\n",
       "    <tr>\n",
       "      <th>22</th>\n",
       "      <td>4491.865854</td>\n",
       "    </tr>\n",
       "    <tr>\n",
       "      <th>23</th>\n",
       "      <td>5432.868554</td>\n",
       "    </tr>\n",
       "    <tr>\n",
       "      <th>24</th>\n",
       "      <td>7178.388176</td>\n",
       "    </tr>\n",
       "    <tr>\n",
       "      <th>25</th>\n",
       "      <td>1523.749869</td>\n",
       "    </tr>\n",
       "    <tr>\n",
       "      <th>26</th>\n",
       "      <td>4992.165997</td>\n",
       "    </tr>\n",
       "    <tr>\n",
       "      <th>27</th>\n",
       "      <td>2143.574850</td>\n",
       "    </tr>\n",
       "    <tr>\n",
       "      <th>28</th>\n",
       "      <td>3350.945159</td>\n",
       "    </tr>\n",
       "    <tr>\n",
       "      <th>29</th>\n",
       "      <td>100071.562500</td>\n",
       "    </tr>\n",
       "    <tr>\n",
       "      <th>43</th>\n",
       "      <td>1340.375000</td>\n",
       "    </tr>\n",
       "  </tbody>\n",
       "</table>\n",
       "</div>"
      ],
      "text/plain": [
       "             comment_count\n",
       "category_id               \n",
       "1              6003.651813\n",
       "2              1730.438235\n",
       "10            10383.559418\n",
       "15             2474.376054\n",
       "17             3256.199515\n",
       "19             1833.011450\n",
       "20             7578.383607\n",
       "22             4491.865854\n",
       "23             5432.868554\n",
       "24             7178.388176\n",
       "25             1523.749869\n",
       "26             4992.165997\n",
       "27             2143.574850\n",
       "28             3350.945159\n",
       "29           100071.562500\n",
       "43             1340.375000"
      ]
     },
     "execution_count": 31,
     "metadata": {},
     "output_type": "execute_result"
    }
   ],
   "source": [
    "df.groupby(\"category_id\")[[\"comment_count\"]].mean()"
   ]
  },
  {
   "cell_type": "markdown",
   "id": "948993e2-9804-4e2c-a608-99bf8f93af5b",
   "metadata": {},
   "source": [
    "#### Kategorilerde Kaç Adet Videonun Olduğunu Hesaplayın"
   ]
  },
  {
   "cell_type": "code",
   "execution_count": 33,
   "id": "fd7a4420-c901-4e28-9112-3d1c5f21ba20",
   "metadata": {
    "ExecuteTime": {
     "end_time": "2023-04-19T13:21:20.261508Z",
     "start_time": "2023-04-19T13:21:20.247652Z"
    }
   },
   "outputs": [
    {
     "data": {
      "text/plain": [
       "24    5379\n",
       "10    3366\n",
       "26    2241\n",
       "23    1978\n",
       "25    1907\n",
       "22    1886\n",
       "28    1477\n",
       "1     1324\n",
       "17    1238\n",
       "27    1002\n",
       "15     593\n",
       "2      340\n",
       "20     305\n",
       "19     262\n",
       "29      48\n",
       "43      16\n",
       "Name: category_id, dtype: int64"
      ]
     },
     "execution_count": 33,
     "metadata": {},
     "output_type": "execute_result"
    }
   ],
   "source": [
    "df[\"category_id\"].value_counts()"
   ]
  },
  {
   "cell_type": "markdown",
   "id": "cee9a387-82f9-4575-bba6-55a843b72d20",
   "metadata": {},
   "source": [
    "#### Her Videonun Başlık Uzunluğunu içeren yeni bir sütün(title_length) ekleyin."
   ]
  },
  {
   "cell_type": "code",
   "execution_count": 34,
   "id": "7331685b-206f-4c66-807a-b7aa1562fef9",
   "metadata": {
    "ExecuteTime": {
     "end_time": "2023-04-19T13:21:50.456300Z",
     "start_time": "2023-04-19T13:21:50.440605Z"
    }
   },
   "outputs": [
    {
     "data": {
      "text/plain": [
       "0        34\n",
       "1        62\n",
       "2        53\n",
       "3        32\n",
       "4        24\n",
       "         ..\n",
       "23357    19\n",
       "23358    29\n",
       "23359    24\n",
       "23360    45\n",
       "23361    42\n",
       "Name: title, Length: 23362, dtype: int64"
      ]
     },
     "execution_count": 34,
     "metadata": {},
     "output_type": "execute_result"
    }
   ],
   "source": [
    "df.title.str.len()   "
   ]
  },
  {
   "cell_type": "code",
   "execution_count": 37,
   "id": "a188d48d",
   "metadata": {
    "ExecuteTime": {
     "end_time": "2023-04-19T13:22:15.514978Z",
     "start_time": "2023-04-19T13:22:15.504952Z"
    }
   },
   "outputs": [
    {
     "data": {
      "text/plain": [
       "0        34\n",
       "1        62\n",
       "2        53\n",
       "3        32\n",
       "4        24\n",
       "         ..\n",
       "23357    19\n",
       "23358    29\n",
       "23359    24\n",
       "23360    45\n",
       "23361    42\n",
       "Name: title, Length: 23362, dtype: int64"
      ]
     },
     "execution_count": 37,
     "metadata": {},
     "output_type": "execute_result"
    }
   ],
   "source": [
    "df[\"title\"].transform(len)"
   ]
  },
  {
   "cell_type": "code",
   "execution_count": 39,
   "id": "7d50da6c",
   "metadata": {
    "ExecuteTime": {
     "end_time": "2023-04-19T13:22:29.088577Z",
     "start_time": "2023-04-19T13:22:29.072814Z"
    }
   },
   "outputs": [
    {
     "data": {
      "text/plain": [
       "0        34\n",
       "1        62\n",
       "2        53\n",
       "3        32\n",
       "4        24\n",
       "         ..\n",
       "23357    19\n",
       "23358    29\n",
       "23359    24\n",
       "23360    45\n",
       "23361    42\n",
       "Name: title, Length: 23362, dtype: int64"
      ]
     },
     "execution_count": 39,
     "metadata": {},
     "output_type": "execute_result"
    }
   ],
   "source": [
    "df.title.apply(lambda x: len(x))"
   ]
  },
  {
   "cell_type": "code",
   "execution_count": 41,
   "id": "65f9cd83",
   "metadata": {
    "ExecuteTime": {
     "end_time": "2023-04-19T13:22:47.238760Z",
     "start_time": "2023-04-19T13:22:47.224780Z"
    }
   },
   "outputs": [
    {
     "data": {
      "text/plain": [
       "0        34\n",
       "1        62\n",
       "2        53\n",
       "3        32\n",
       "4        24\n",
       "         ..\n",
       "23357    19\n",
       "23358    29\n",
       "23359    24\n",
       "23360    45\n",
       "23361    42\n",
       "Name: title, Length: 23362, dtype: int64"
      ]
     },
     "execution_count": 41,
     "metadata": {},
     "output_type": "execute_result"
    }
   ],
   "source": [
    "def countTitleCount(title):        \n",
    "    return len(title)                 \n",
    "df[\"title\"].apply(countTitleCount)"
   ]
  },
  {
   "cell_type": "code",
   "execution_count": 42,
   "id": "fe3a36f5",
   "metadata": {
    "ExecuteTime": {
     "end_time": "2023-04-19T13:23:10.423414Z",
     "start_time": "2023-04-19T13:23:10.407614Z"
    }
   },
   "outputs": [],
   "source": [
    "df[\"title_length\"] = df[\"title\"].apply(len)  "
   ]
  },
  {
   "cell_type": "code",
   "execution_count": 43,
   "id": "ac9a56df",
   "metadata": {
    "ExecuteTime": {
     "end_time": "2023-04-19T13:23:14.493662Z",
     "start_time": "2023-04-19T13:23:14.477574Z"
    }
   },
   "outputs": [
    {
     "data": {
      "text/html": [
       "<div>\n",
       "<style scoped>\n",
       "    .dataframe tbody tr th:only-of-type {\n",
       "        vertical-align: middle;\n",
       "    }\n",
       "\n",
       "    .dataframe tbody tr th {\n",
       "        vertical-align: top;\n",
       "    }\n",
       "\n",
       "    .dataframe thead th {\n",
       "        text-align: right;\n",
       "    }\n",
       "</style>\n",
       "<table border=\"1\" class=\"dataframe\">\n",
       "  <thead>\n",
       "    <tr style=\"text-align: right;\">\n",
       "      <th></th>\n",
       "      <th>title</th>\n",
       "      <th>channel_title</th>\n",
       "      <th>category_id</th>\n",
       "      <th>tags</th>\n",
       "      <th>views</th>\n",
       "      <th>likes</th>\n",
       "      <th>dislikes</th>\n",
       "      <th>comment_count</th>\n",
       "      <th>description</th>\n",
       "      <th>title_length</th>\n",
       "    </tr>\n",
       "  </thead>\n",
       "  <tbody>\n",
       "    <tr>\n",
       "      <th>0</th>\n",
       "      <td>WE WANT TO TALK ABOUT OUR MARRIAGE</td>\n",
       "      <td>CaseyNeistat</td>\n",
       "      <td>22</td>\n",
       "      <td>SHANtell martin</td>\n",
       "      <td>748374</td>\n",
       "      <td>57527</td>\n",
       "      <td>2966</td>\n",
       "      <td>15954</td>\n",
       "      <td>SHANTELL'S CHANNEL - https://www.youtube.com/s...</td>\n",
       "      <td>34</td>\n",
       "    </tr>\n",
       "    <tr>\n",
       "      <th>1</th>\n",
       "      <td>The Trump Presidency: Last Week Tonight with J...</td>\n",
       "      <td>LastWeekTonight</td>\n",
       "      <td>24</td>\n",
       "      <td>last week tonight trump presidency|\"last week ...</td>\n",
       "      <td>2418783</td>\n",
       "      <td>97185</td>\n",
       "      <td>6146</td>\n",
       "      <td>12703</td>\n",
       "      <td>One year after the presidential election, John...</td>\n",
       "      <td>62</td>\n",
       "    </tr>\n",
       "    <tr>\n",
       "      <th>2</th>\n",
       "      <td>Racist Superman | Rudy Mancuso, King Bach &amp; Le...</td>\n",
       "      <td>Rudy Mancuso</td>\n",
       "      <td>23</td>\n",
       "      <td>racist superman|\"rudy\"|\"mancuso\"|\"king\"|\"bach\"...</td>\n",
       "      <td>3191434</td>\n",
       "      <td>146033</td>\n",
       "      <td>5339</td>\n",
       "      <td>8181</td>\n",
       "      <td>WATCH MY PREVIOUS VIDEO ▶ \\n\\nSUBSCRIBE ► http...</td>\n",
       "      <td>53</td>\n",
       "    </tr>\n",
       "    <tr>\n",
       "      <th>3</th>\n",
       "      <td>Nickelback Lyrics: Real or Fake?</td>\n",
       "      <td>Good Mythical Morning</td>\n",
       "      <td>24</td>\n",
       "      <td>rhett and link|\"gmm\"|\"good mythical morning\"|\"...</td>\n",
       "      <td>343168</td>\n",
       "      <td>10172</td>\n",
       "      <td>666</td>\n",
       "      <td>2146</td>\n",
       "      <td>Today we find out if Link is a Nickelback amat...</td>\n",
       "      <td>32</td>\n",
       "    </tr>\n",
       "    <tr>\n",
       "      <th>4</th>\n",
       "      <td>I Dare You: GOING BALD!?</td>\n",
       "      <td>nigahiga</td>\n",
       "      <td>24</td>\n",
       "      <td>ryan|\"higa\"|\"higatv\"|\"nigahiga\"|\"i dare you\"|\"...</td>\n",
       "      <td>2095731</td>\n",
       "      <td>132235</td>\n",
       "      <td>1989</td>\n",
       "      <td>17518</td>\n",
       "      <td>I know it's been a while since we did this sho...</td>\n",
       "      <td>24</td>\n",
       "    </tr>\n",
       "  </tbody>\n",
       "</table>\n",
       "</div>"
      ],
      "text/plain": [
       "                                               title          channel_title  \\\n",
       "0                 WE WANT TO TALK ABOUT OUR MARRIAGE           CaseyNeistat   \n",
       "1  The Trump Presidency: Last Week Tonight with J...        LastWeekTonight   \n",
       "2  Racist Superman | Rudy Mancuso, King Bach & Le...           Rudy Mancuso   \n",
       "3                   Nickelback Lyrics: Real or Fake?  Good Mythical Morning   \n",
       "4                           I Dare You: GOING BALD!?               nigahiga   \n",
       "\n",
       "   category_id                                               tags    views  \\\n",
       "0           22                                    SHANtell martin   748374   \n",
       "1           24  last week tonight trump presidency|\"last week ...  2418783   \n",
       "2           23  racist superman|\"rudy\"|\"mancuso\"|\"king\"|\"bach\"...  3191434   \n",
       "3           24  rhett and link|\"gmm\"|\"good mythical morning\"|\"...   343168   \n",
       "4           24  ryan|\"higa\"|\"higatv\"|\"nigahiga\"|\"i dare you\"|\"...  2095731   \n",
       "\n",
       "    likes  dislikes  comment_count  \\\n",
       "0   57527      2966          15954   \n",
       "1   97185      6146          12703   \n",
       "2  146033      5339           8181   \n",
       "3   10172       666           2146   \n",
       "4  132235      1989          17518   \n",
       "\n",
       "                                         description  title_length  \n",
       "0  SHANTELL'S CHANNEL - https://www.youtube.com/s...            34  \n",
       "1  One year after the presidential election, John...            62  \n",
       "2  WATCH MY PREVIOUS VIDEO ▶ \\n\\nSUBSCRIBE ► http...            53  \n",
       "3  Today we find out if Link is a Nickelback amat...            32  \n",
       "4  I know it's been a while since we did this sho...            24  "
      ]
     },
     "execution_count": 43,
     "metadata": {},
     "output_type": "execute_result"
    }
   ],
   "source": [
    "df.head()"
   ]
  },
  {
   "cell_type": "markdown",
   "id": "73eedf7d-7cb6-4b58-80a1-ca639ce8acc5",
   "metadata": {},
   "source": [
    "#### Her bir videoda kullanılan etiket sayısını hesaplayarak, oluşan değerleri yeni bir sütun(tag_count) olarak ekleyin ve max etiket sayısını bulun\n",
    "\n",
    "Not: Her bir etiket \"|\" işaretiyle ayrılmaktadır."
   ]
  },
  {
   "cell_type": "code",
   "execution_count": 55,
   "id": "be823030-31d9-4999-be4a-d41d71d3b02b",
   "metadata": {
    "ExecuteTime": {
     "end_time": "2023-04-19T13:27:06.635823Z",
     "start_time": "2023-04-19T13:27:06.599842Z"
    }
   },
   "outputs": [],
   "source": [
    "def countTag(tags):\n",
    "    tagList = tags.split(\"|\")           \n",
    "    return len(tagList)\n",
    "df[\"tag_count\"] = df[\"tags\"].apply(countTag)"
   ]
  },
  {
   "cell_type": "code",
   "execution_count": 56,
   "id": "f4a36e3b-1fe2-4bb6-86c5-0b8e1b965afb",
   "metadata": {
    "ExecuteTime": {
     "end_time": "2023-04-19T13:27:08.918351Z",
     "start_time": "2023-04-19T13:27:08.902674Z"
    }
   },
   "outputs": [
    {
     "data": {
      "text/html": [
       "<div>\n",
       "<style scoped>\n",
       "    .dataframe tbody tr th:only-of-type {\n",
       "        vertical-align: middle;\n",
       "    }\n",
       "\n",
       "    .dataframe tbody tr th {\n",
       "        vertical-align: top;\n",
       "    }\n",
       "\n",
       "    .dataframe thead th {\n",
       "        text-align: right;\n",
       "    }\n",
       "</style>\n",
       "<table border=\"1\" class=\"dataframe\">\n",
       "  <thead>\n",
       "    <tr style=\"text-align: right;\">\n",
       "      <th></th>\n",
       "      <th>title</th>\n",
       "      <th>channel_title</th>\n",
       "      <th>category_id</th>\n",
       "      <th>tags</th>\n",
       "      <th>views</th>\n",
       "      <th>likes</th>\n",
       "      <th>dislikes</th>\n",
       "      <th>comment_count</th>\n",
       "      <th>description</th>\n",
       "      <th>title_length</th>\n",
       "      <th>likes_dislikes</th>\n",
       "      <th>tag_count</th>\n",
       "    </tr>\n",
       "  </thead>\n",
       "  <tbody>\n",
       "    <tr>\n",
       "      <th>8694</th>\n",
       "      <td>Christmas Day 2000</td>\n",
       "      <td>vnbreyes</td>\n",
       "      <td>17</td>\n",
       "      <td>Christmas|\"Day\"|\"2000\"|\"Wallace\"|\"Lakers\"|\"Bla...</td>\n",
       "      <td>2987</td>\n",
       "      <td>2</td>\n",
       "      <td>0</td>\n",
       "      <td>0</td>\n",
       "      <td>Rasheed Wallace dropped 33 points and 13 rebou...</td>\n",
       "      <td>18</td>\n",
       "      <td>1.0</td>\n",
       "      <td>6</td>\n",
       "    </tr>\n",
       "    <tr>\n",
       "      <th>16100</th>\n",
       "      <td>Magic Highway USA</td>\n",
       "      <td>Joshua Levin</td>\n",
       "      <td>28</td>\n",
       "      <td>Transportation|\"Future\"|\"Highways\"</td>\n",
       "      <td>5391</td>\n",
       "      <td>57</td>\n",
       "      <td>0</td>\n",
       "      <td>3</td>\n",
       "      <td>Snippet of Disney program Magic Highway U.S.A....</td>\n",
       "      <td>17</td>\n",
       "      <td>1.0</td>\n",
       "      <td>3</td>\n",
       "    </tr>\n",
       "    <tr>\n",
       "      <th>921</th>\n",
       "      <td>#StarOnFox Exclusive Clip for TheYBF.com</td>\n",
       "      <td>YBF Chic</td>\n",
       "      <td>24</td>\n",
       "      <td>[none]</td>\n",
       "      <td>1975</td>\n",
       "      <td>4</td>\n",
       "      <td>0</td>\n",
       "      <td>0</td>\n",
       "      <td>Check out TheYBF.com Exclusive from STAR on Fo...</td>\n",
       "      <td>40</td>\n",
       "      <td>1.0</td>\n",
       "      <td>1</td>\n",
       "    </tr>\n",
       "    <tr>\n",
       "      <th>16369</th>\n",
       "      <td>First Responders Arrive To The Collapsed Floor...</td>\n",
       "      <td>9-1-1 on FOX</td>\n",
       "      <td>24</td>\n",
       "      <td>9-1-1|\"first responders\"|\"police\"|\"firefighter...</td>\n",
       "      <td>1426</td>\n",
       "      <td>14</td>\n",
       "      <td>0</td>\n",
       "      <td>0</td>\n",
       "      <td>First responders arrive to a collapsed floor d...</td>\n",
       "      <td>71</td>\n",
       "      <td>1.0</td>\n",
       "      <td>36</td>\n",
       "    </tr>\n",
       "    <tr>\n",
       "      <th>147</th>\n",
       "      <td>Improvising in the style of different classica...</td>\n",
       "      <td>Nahre Sol</td>\n",
       "      <td>10</td>\n",
       "      <td>improvise classical music|\"improvisation\"|\"cla...</td>\n",
       "      <td>5149</td>\n",
       "      <td>242</td>\n",
       "      <td>0</td>\n",
       "      <td>54</td>\n",
       "      <td>Here's a video just for fun - I decided to try...</td>\n",
       "      <td>77</td>\n",
       "      <td>1.0</td>\n",
       "      <td>18</td>\n",
       "    </tr>\n",
       "  </tbody>\n",
       "</table>\n",
       "</div>"
      ],
      "text/plain": [
       "                                                   title channel_title  \\\n",
       "8694                                  Christmas Day 2000      vnbreyes   \n",
       "16100                                  Magic Highway USA  Joshua Levin   \n",
       "921             #StarOnFox Exclusive Clip for TheYBF.com      YBF Chic   \n",
       "16369  First Responders Arrive To The Collapsed Floor...  9-1-1 on FOX   \n",
       "147    Improvising in the style of different classica...     Nahre Sol   \n",
       "\n",
       "       category_id                                               tags  views  \\\n",
       "8694            17  Christmas|\"Day\"|\"2000\"|\"Wallace\"|\"Lakers\"|\"Bla...   2987   \n",
       "16100           28                 Transportation|\"Future\"|\"Highways\"   5391   \n",
       "921             24                                             [none]   1975   \n",
       "16369           24  9-1-1|\"first responders\"|\"police\"|\"firefighter...   1426   \n",
       "147             10  improvise classical music|\"improvisation\"|\"cla...   5149   \n",
       "\n",
       "       likes  dislikes  comment_count  \\\n",
       "8694       2         0              0   \n",
       "16100     57         0              3   \n",
       "921        4         0              0   \n",
       "16369     14         0              0   \n",
       "147      242         0             54   \n",
       "\n",
       "                                             description  title_length  \\\n",
       "8694   Rasheed Wallace dropped 33 points and 13 rebou...            18   \n",
       "16100  Snippet of Disney program Magic Highway U.S.A....            17   \n",
       "921    Check out TheYBF.com Exclusive from STAR on Fo...            40   \n",
       "16369  First responders arrive to a collapsed floor d...            71   \n",
       "147    Here's a video just for fun - I decided to try...            77   \n",
       "\n",
       "       likes_dislikes  tag_count  \n",
       "8694              1.0          6  \n",
       "16100             1.0          3  \n",
       "921               1.0          1  \n",
       "16369             1.0         36  \n",
       "147               1.0         18  "
      ]
     },
     "execution_count": 56,
     "metadata": {},
     "output_type": "execute_result"
    }
   ],
   "source": [
    "df.head()"
   ]
  },
  {
   "cell_type": "code",
   "execution_count": 58,
   "id": "5e5ca882-d9e2-4131-92f9-fc9eff05caab",
   "metadata": {},
   "outputs": [
    {
     "data": {
      "text/plain": [
       "69"
      ]
     },
     "execution_count": 58,
     "metadata": {},
     "output_type": "execute_result"
    }
   ],
   "source": [
    "# en fazla kaç etiket var\n",
    "    "
   ]
  },
  {
   "cell_type": "code",
   "execution_count": 60,
   "id": "8ffcb9a8-b83e-4c88-a9de-09638d4cb165",
   "metadata": {},
   "outputs": [
    {
     "data": {
      "text/plain": [
       "4"
      ]
     },
     "execution_count": 60,
     "metadata": {},
     "output_type": "execute_result"
    }
   ],
   "source": [
    "# kaç tane max etikete sahip satır var\n"
   ]
  },
  {
   "cell_type": "code",
   "execution_count": 57,
   "id": "7657a145-b118-498c-8d3a-b1cbca5cfdef",
   "metadata": {
    "ExecuteTime": {
     "end_time": "2023-04-19T13:27:11.518094Z",
     "start_time": "2023-04-19T13:27:11.510508Z"
    },
    "tags": []
   },
   "outputs": [
    {
     "data": {
      "text/plain": [
       "'Marco Reps'"
      ]
     },
     "execution_count": 57,
     "metadata": {},
     "output_type": "execute_result"
    }
   ],
   "source": [
    "# max etikete sahip olan kanal ismi \n",
    "df[df.tag_count == df.tag_count.max()][\"channel_title\"].iloc[0]"
   ]
  },
  {
   "cell_type": "markdown",
   "id": "f95ffa7a-a07b-4dd2-8f68-38faddf56ad9",
   "metadata": {},
   "source": [
    "#### category_id sütunu incele"
   ]
  },
  {
   "cell_type": "code",
   "execution_count": 45,
   "id": "c944ca42-0c83-4c6f-ae42-bf9b3cc5a1c1",
   "metadata": {
    "ExecuteTime": {
     "end_time": "2023-04-19T13:24:02.764333Z",
     "start_time": "2023-04-19T13:24:02.744509Z"
    }
   },
   "outputs": [
    {
     "data": {
      "text/plain": [
       "24"
      ]
     },
     "execution_count": 45,
     "metadata": {},
     "output_type": "execute_result"
    }
   ],
   "source": [
    "# en çok tekrar eden kategori\n",
    "df.category_id.mode().iloc[0]"
   ]
  },
  {
   "cell_type": "code",
   "execution_count": 47,
   "id": "71d99488-e4b7-4913-87b3-523e9bddf368",
   "metadata": {
    "ExecuteTime": {
     "end_time": "2023-04-19T13:24:30.766383Z",
     "start_time": "2023-04-19T13:24:30.749333Z"
    }
   },
   "outputs": [
    {
     "data": {
      "text/plain": [
       "24    5379\n",
       "10    3366\n",
       "26    2241\n",
       "23    1978\n",
       "25    1907\n",
       "22    1886\n",
       "28    1477\n",
       "1     1324\n",
       "17    1238\n",
       "27    1002\n",
       "15     593\n",
       "2      340\n",
       "20     305\n",
       "19     262\n",
       "29      48\n",
       "43      16\n",
       "Name: category_id, dtype: int64"
      ]
     },
     "execution_count": 47,
     "metadata": {},
     "output_type": "execute_result"
    }
   ],
   "source": [
    "# category_id unique değerleri\n",
    "df.category_id.value_counts()"
   ]
  },
  {
   "cell_type": "code",
   "execution_count": 49,
   "id": "d2d948eb-1b83-449a-b766-09dc20dbcca2",
   "metadata": {
    "ExecuteTime": {
     "end_time": "2023-04-19T13:24:44.333864Z",
     "start_time": "2023-04-19T13:24:44.105055Z"
    }
   },
   "outputs": [
    {
     "data": {
      "text/plain": [
       "<Axes: >"
      ]
     },
     "execution_count": 49,
     "metadata": {},
     "output_type": "execute_result"
    },
    {
     "data": {
      "image/png": "[encoded data removed]",
      "text/plain": [
       "<Figure size 640x480 with 1 Axes>"
      ]
     },
     "metadata": {},
     "output_type": "display_data"
    }
   ],
   "source": [
    "# category_id grafiksel gösterim\n",
    "df.category_id.value_counts().plot(kind = \"bar\")"
   ]
  },
  {
   "cell_type": "markdown",
   "id": "a0be48fb-b626-4995-afa0-8398b7ee6798",
   "metadata": {},
   "source": [
    "#### Videoları Beğeni Oranı en yüksek olandan en düşüğe doğru sıralayınız ve beğeni oranını yeni sütun(likes_dislikes) olarak ekleyin (Dikkat Zor!!!!)"
   ]
  },
  {
   "cell_type": "code",
   "execution_count": 50,
   "id": "0ac78039-aa57-416a-84c2-a3cfeeaabeee",
   "metadata": {
    "ExecuteTime": {
     "end_time": "2023-04-19T13:25:31.657143Z",
     "start_time": "2023-04-19T13:25:31.631741Z"
    }
   },
   "outputs": [
    {
     "name": "stderr",
     "output_type": "stream",
     "text": [
      "C:\\Users\\ertek\\AppData\\Local\\Temp\\ipykernel_19252\\3622284896.py:6: FutureWarning: iteritems is deprecated and will be removed in a future version. Use .items instead.\n",
      "  for key,value in likes.iteritems():        # likes.iteritems() = Iterate over (column name, Series) pairs.\n",
      "C:\\Users\\ertek\\AppData\\Local\\Temp\\ipykernel_19252\\3622284896.py:9: FutureWarning: iteritems is deprecated and will be removed in a future version. Use .items instead.\n",
      "  for key,value in dislikes.iteritems():\n"
     ]
    }
   ],
   "source": [
    "# dikkat edilmesi gereken nokta oran üzerinden sıralama!!!!!\n",
    "def likesAnddislikes(likes,dislikes):\n",
    "    likesList = []\n",
    "    dislikesList = []\n",
    "    \n",
    "    for key,value in likes.iteritems():        # likes.iteritems() = Iterate over (column name, Series) pairs.\n",
    "        likesList.append(value)                # likes sayıları likesList'e atanmış oldu\n",
    "    \n",
    "    for key,value in dislikes.iteritems():\n",
    "        dislikesList.append(value)\n",
    "    \n",
    "    likeanddislikeratio = []\n",
    "    for like,dislike in zip(likesList,dislikesList): \n",
    "        if like + dislike == 0:                 # 0 olan satırlar vardı onlar direk oran olarak sıfır atandı\n",
    "            likeanddislikeratio.append(0)\n",
    "        else:\n",
    "            likeanddislikeratio.append(like/(like + dislike))\n",
    "    return likeanddislikeratio\n",
    "        \n",
    "df[\"likes_dislikes\"] = likesAnddislikes(df[\"likes\"], df[\"dislikes\"])"
   ]
  },
  {
   "cell_type": "code",
   "execution_count": 52,
   "id": "d7a5808a",
   "metadata": {
    "ExecuteTime": {
     "end_time": "2023-04-19T13:25:44.322098Z",
     "start_time": "2023-04-19T13:25:44.311861Z"
    }
   },
   "outputs": [],
   "source": [
    "df.sort_values(by = \"likes_dislikes\",ascending = False, inplace=True)"
   ]
  },
  {
   "cell_type": "code",
   "execution_count": 53,
   "id": "fe78e8b9-2b44-4b7c-a1cf-13f03ddc84cb",
   "metadata": {
    "ExecuteTime": {
     "end_time": "2023-04-19T13:25:48.682928Z",
     "start_time": "2023-04-19T13:25:48.669914Z"
    }
   },
   "outputs": [
    {
     "data": {
      "text/html": [
       "<div>\n",
       "<style scoped>\n",
       "    .dataframe tbody tr th:only-of-type {\n",
       "        vertical-align: middle;\n",
       "    }\n",
       "\n",
       "    .dataframe tbody tr th {\n",
       "        vertical-align: top;\n",
       "    }\n",
       "\n",
       "    .dataframe thead th {\n",
       "        text-align: right;\n",
       "    }\n",
       "</style>\n",
       "<table border=\"1\" class=\"dataframe\">\n",
       "  <thead>\n",
       "    <tr style=\"text-align: right;\">\n",
       "      <th></th>\n",
       "      <th>title</th>\n",
       "      <th>channel_title</th>\n",
       "      <th>category_id</th>\n",
       "      <th>tags</th>\n",
       "      <th>views</th>\n",
       "      <th>likes</th>\n",
       "      <th>dislikes</th>\n",
       "      <th>comment_count</th>\n",
       "      <th>description</th>\n",
       "      <th>title_length</th>\n",
       "      <th>likes_dislikes</th>\n",
       "    </tr>\n",
       "  </thead>\n",
       "  <tbody>\n",
       "    <tr>\n",
       "      <th>8694</th>\n",
       "      <td>Christmas Day 2000</td>\n",
       "      <td>vnbreyes</td>\n",
       "      <td>17</td>\n",
       "      <td>Christmas|\"Day\"|\"2000\"|\"Wallace\"|\"Lakers\"|\"Bla...</td>\n",
       "      <td>2987</td>\n",
       "      <td>2</td>\n",
       "      <td>0</td>\n",
       "      <td>0</td>\n",
       "      <td>Rasheed Wallace dropped 33 points and 13 rebou...</td>\n",
       "      <td>18</td>\n",
       "      <td>1.0</td>\n",
       "    </tr>\n",
       "    <tr>\n",
       "      <th>16100</th>\n",
       "      <td>Magic Highway USA</td>\n",
       "      <td>Joshua Levin</td>\n",
       "      <td>28</td>\n",
       "      <td>Transportation|\"Future\"|\"Highways\"</td>\n",
       "      <td>5391</td>\n",
       "      <td>57</td>\n",
       "      <td>0</td>\n",
       "      <td>3</td>\n",
       "      <td>Snippet of Disney program Magic Highway U.S.A....</td>\n",
       "      <td>17</td>\n",
       "      <td>1.0</td>\n",
       "    </tr>\n",
       "    <tr>\n",
       "      <th>921</th>\n",
       "      <td>#StarOnFox Exclusive Clip for TheYBF.com</td>\n",
       "      <td>YBF Chic</td>\n",
       "      <td>24</td>\n",
       "      <td>[none]</td>\n",
       "      <td>1975</td>\n",
       "      <td>4</td>\n",
       "      <td>0</td>\n",
       "      <td>0</td>\n",
       "      <td>Check out TheYBF.com Exclusive from STAR on Fo...</td>\n",
       "      <td>40</td>\n",
       "      <td>1.0</td>\n",
       "    </tr>\n",
       "    <tr>\n",
       "      <th>16369</th>\n",
       "      <td>First Responders Arrive To The Collapsed Floor...</td>\n",
       "      <td>9-1-1 on FOX</td>\n",
       "      <td>24</td>\n",
       "      <td>9-1-1|\"first responders\"|\"police\"|\"firefighter...</td>\n",
       "      <td>1426</td>\n",
       "      <td>14</td>\n",
       "      <td>0</td>\n",
       "      <td>0</td>\n",
       "      <td>First responders arrive to a collapsed floor d...</td>\n",
       "      <td>71</td>\n",
       "      <td>1.0</td>\n",
       "    </tr>\n",
       "    <tr>\n",
       "      <th>147</th>\n",
       "      <td>Improvising in the style of different classica...</td>\n",
       "      <td>Nahre Sol</td>\n",
       "      <td>10</td>\n",
       "      <td>improvise classical music|\"improvisation\"|\"cla...</td>\n",
       "      <td>5149</td>\n",
       "      <td>242</td>\n",
       "      <td>0</td>\n",
       "      <td>54</td>\n",
       "      <td>Here's a video just for fun - I decided to try...</td>\n",
       "      <td>77</td>\n",
       "      <td>1.0</td>\n",
       "    </tr>\n",
       "  </tbody>\n",
       "</table>\n",
       "</div>"
      ],
      "text/plain": [
       "                                                   title channel_title  \\\n",
       "8694                                  Christmas Day 2000      vnbreyes   \n",
       "16100                                  Magic Highway USA  Joshua Levin   \n",
       "921             #StarOnFox Exclusive Clip for TheYBF.com      YBF Chic   \n",
       "16369  First Responders Arrive To The Collapsed Floor...  9-1-1 on FOX   \n",
       "147    Improvising in the style of different classica...     Nahre Sol   \n",
       "\n",
       "       category_id                                               tags  views  \\\n",
       "8694            17  Christmas|\"Day\"|\"2000\"|\"Wallace\"|\"Lakers\"|\"Bla...   2987   \n",
       "16100           28                 Transportation|\"Future\"|\"Highways\"   5391   \n",
       "921             24                                             [none]   1975   \n",
       "16369           24  9-1-1|\"first responders\"|\"police\"|\"firefighter...   1426   \n",
       "147             10  improvise classical music|\"improvisation\"|\"cla...   5149   \n",
       "\n",
       "       likes  dislikes  comment_count  \\\n",
       "8694       2         0              0   \n",
       "16100     57         0              3   \n",
       "921        4         0              0   \n",
       "16369     14         0              0   \n",
       "147      242         0             54   \n",
       "\n",
       "                                             description  title_length  \\\n",
       "8694   Rasheed Wallace dropped 33 points and 13 rebou...            18   \n",
       "16100  Snippet of Disney program Magic Highway U.S.A....            17   \n",
       "921    Check out TheYBF.com Exclusive from STAR on Fo...            40   \n",
       "16369  First responders arrive to a collapsed floor d...            71   \n",
       "147    Here's a video just for fun - I decided to try...            77   \n",
       "\n",
       "       likes_dislikes  \n",
       "8694              1.0  \n",
       "16100             1.0  \n",
       "921               1.0  \n",
       "16369             1.0  \n",
       "147               1.0  "
      ]
     },
     "execution_count": 53,
     "metadata": {},
     "output_type": "execute_result"
    }
   ],
   "source": [
    "df.head()"
   ]
  },
  {
   "cell_type": "code",
   "execution_count": 91,
   "id": "f9886ce5-06ab-4fb9-8ead-d5f198e78861",
   "metadata": {},
   "outputs": [],
   "source": [
    "# likes.iteritems() yerine .values.tolist() kullanımı daha pratik amaç sütundaki veriyi listeye çekmekti\n",
    "\n",
    "'''\n",
    "def likesAnddislikes(likes,dislikes):\n",
    "    \n",
    "    likesList1 = youtube['likes'].values.tolist() ---------> likes.iteritems() yerine soldaki yöntemde kullanılabilir\n",
    "                                                             .values.tolist() ile daha pratik\n",
    "    dislikesList1 = youtube['dislikes'].values.tolist()\n",
    "    \n",
    "    \n",
    "    likeanddislikeratio = []\n",
    "    for like,dislike in zip(likesList1,dislikesList1): \n",
    "        if like + dislike == 0:                 # 0 olan satırlar vardı onlar direk oran olarak sıfır atandı\n",
    "            likeanddislikeratio.append(0)\n",
    "        else:\n",
    "            likeanddislikeratio.append(like/(like + dislike))\n",
    "    return likeanddislikeratio\n",
    "        \n",
    "youtube[\"likes_dislikes\"] = likesAnddislikes(youtube[\"likes\"],youtube[\"dislikes\"])\n",
    "\n",
    "'''"
   ]
  }
 ],
 "metadata": {
  "kernelspec": {
   "display_name": "Python 3 (ipykernel)",
   "language": "python",
   "name": "python3"
  },
  "language_info": {
   "codemirror_mode": {
    "name": "ipython",
    "version": 3
   },
   "file_extension": ".py",
   "mimetype": "text/x-python",
   "name": "python",
   "nbconvert_exporter": "python",
   "pygments_lexer": "ipython3",
   "version": "3.10.9"
  },
  "toc": {
   "base_numbering": 1,
   "nav_menu": {},
   "number_sections": true,
   "sideBar": true,
   "skip_h1_title": false,
   "title_cell": "Table of Contents",
   "title_sidebar": "Contents",
   "toc_cell": false,
   "toc_position": {},
   "toc_section_display": true,
   "toc_window_display": false
  },
  "varInspector": {
   "cols": {
    "lenName": 16,
    "lenType": 16,
    "lenVar": 40
   },
   "kernels_config": {
    "python": {
     "delete_cmd_postfix": "",
     "delete_cmd_prefix": "del ",
     "library": "var_list.py",
     "varRefreshCmd": "print(var_dic_list())"
    },
    "r": {
     "delete_cmd_postfix": ") ",
     "delete_cmd_prefix": "rm(",
     "library": "var_list.r",
     "varRefreshCmd": "cat(var_dic_list()) "
    }
   },
   "types_to_exclude": [
    "module",
    "function",
    "builtin_function_or_method",
    "instance",
    "_Feature"
   ],
   "window_display": false
  }
 },
 "nbformat": 4,
 "nbformat_minor": 5
}
