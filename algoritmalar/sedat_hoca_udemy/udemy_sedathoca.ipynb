{
 "cells": [
  {
   "cell_type": "code",
   "execution_count": 18,
   "metadata": {},
   "outputs": [
    {
     "name": "stdout",
     "output_type": "stream",
     "text": [
      "samehmetrı\n"
     ]
    }
   ],
   "source": [
    "#1) s1 ve s2 verildi. s1 in ortasına s2 yazıp yeni bir s3 oluşturan olgaritma oluşturun.\n",
    "s1 = \"sarı\"\n",
    "s2 = \"mehmet\"\n",
    "s3 = s1[:len(s1) // 2] + s2 + s1[len(s1) // 2:]\n",
    "print(s3)"
   ]
  },
  {
   "cell_type": "code",
   "execution_count": 34,
   "metadata": {},
   "outputs": [
    {
     "name": "stdout",
     "output_type": "stream",
     "text": [
      "girilen ifade: BESacademy\n",
      "BESemy\n"
     ]
    }
   ],
   "source": [
    "#2) kullanıcıdan aldığımız bir dizenin ilk 3 ve son 3 karakterlerinden oluşan bir dize döndürün.\n",
    "#dize uzunluğu 3ten az ise \"empty string\" döndürün\n",
    "dize = input(\"bir ifade giriniz\")\n",
    "print(f\"girilen ifade: {dize}\")\n",
    "if len(dize) >= 3:\n",
    "    print(dize[:3] + dize[-3:])\n",
    "else:\n",
    "    print(\"empty string\")"
   ]
  },
  {
   "cell_type": "code",
   "execution_count": 42,
   "metadata": {},
   "outputs": [
    {
     "name": "stdout",
     "output_type": "stream",
     "text": [
      "Mr.Bean appeared 2 times\n",
      "Mr.Bean appeared 2 times\n"
     ]
    }
   ],
   "source": [
    "#3) verilen dizide \"Mr.Bean\" alt dizesi kaç kez geçen programı yazın\n",
    "str1 = \"Mr.Bean is good actor and Mr.Bean is very funny\"\n",
    "a = str1.count(\"Mr.Bean\")\n",
    "print(f\"Mr.Bean appeared {a} times\")\n",
    "print(\"Mr.Bean appeared {} times\".format(a))"
   ]
  },
  {
   "cell_type": "code",
   "execution_count": 51,
   "metadata": {},
   "outputs": [
    {
     "name": "stdout",
     "output_type": "stream",
     "text": [
      "Ahmet\n",
      "29\n",
      "Artificial Intelligence Engineer\n"
     ]
    }
   ],
   "source": [
    "#4) kullanıcıya ismini, yaşını ve işini soralım.\n",
    "# verileri alt alta çıktı olarak görelim\n",
    "per = input(\"Please enter your name, age and job seperating them with comma\")\n",
    "print(*per.split(\",\"),sep=\"\\n\")"
   ]
  },
  {
   "cell_type": "code",
   "execution_count": 53,
   "metadata": {},
   "outputs": [
    {
     "name": "stdout",
     "output_type": "stream",
     "text": [
      " Your weekly wage is 600\n"
     ]
    }
   ],
   "source": [
    "#5) bir çalışanın haftalık maaşını hesaplayan algoritmayı oluşturun.\n",
    "#haftalık çalışma saatini ve  ücretini kullanıcan alınız.\n",
    "# 40 saatin üstündeki her saat 1.5 kat ödeme alır\n",
    "work_hours = int(input(\"enter week working hour\"))\n",
    "hourly_wage = int(input(\"enter your hourly wage\"))\n",
    "if work_hours > 40:\n",
    "    weekly_wage = (40 * hourly_wage) + ((work_hours - 40) * hourly_wage * 1.5)\n",
    "else:\n",
    "    weekly_wage = hourly_wage * work_hours\n",
    "print(f\" Your weekly wage is {weekly_wage}\")"
   ]
  },
  {
   "cell_type": "code",
   "execution_count": 59,
   "metadata": {},
   "outputs": [
    {
     "name": "stdout",
     "output_type": "stream",
     "text": [
      "True\n"
     ]
    }
   ],
   "source": [
    "#6) kullanıcadan aldığınız iki tamsayı değeri eşitse veya bu sayıların farkı 5 in katı ise\n",
    "# sonuç olarak True döndürücek bir algoritma oluşturun.\n",
    "s1 = int(input(\"Enter first number\"))\n",
    "s2 = int(input(\"Enter second number\"))\n",
    "if s1 == s2 or abs(s1 - s2) % 5 == 0:\n",
    "    print(True)\n",
    "else:\n",
    "    print(False)"
   ]
  },
  {
   "cell_type": "code",
   "execution_count": 64,
   "metadata": {},
   "outputs": [
    {
     "name": "stdout",
     "output_type": "stream",
     "text": [
      "10\n"
     ]
    }
   ],
   "source": [
    "#7) kullanıcıdan alınan 2 nesne tamsayı türünde ise, iki nesneyi toplayan alg. yazın\n",
    "x = input(\"please enter a number\")\n",
    "y = input(\"please enter a number\")\n",
    "if x.isnumeric() and y.isnumeric():\n",
    "    print(int(x)+ int(y))\n",
    "else:\n",
    "    print(\"You have not entered number\")"
   ]
  },
  {
   "cell_type": "code",
   "execution_count": 68,
   "metadata": {},
   "outputs": [
    {
     "name": "stdout",
     "output_type": "stream",
     "text": [
      "Türkiye is 0.53 % of the total world's landmass\n"
     ]
    }
   ],
   "source": [
    "#8) kullanıcıda ülke adı ve yüzey alanını alın\n",
    "# ülkenin toplam dünya kara kütlesine oranını veren alg. yazın\n",
    "earth = 148940000\n",
    "country = input(\"enter country name\")\n",
    "area = input(\"enter the area of the country\")\n",
    "percentile = round(int(area) / earth * 100, 2)\n",
    "print(f\"{country} is {percentile} % of the total world's landmass\")"
   ]
  },
  {
   "cell_type": "code",
   "execution_count": 77,
   "metadata": {},
   "outputs": [
    {
     "name": "stdout",
     "output_type": "stream",
     "text": [
      " your bmi : 23.94. Your body type is normal\n"
     ]
    }
   ],
   "source": [
    "#9) vücut kitle indeksinin algoritmasını oluşturun\n",
    "# vki = vücut ağırlığı(kg) / (boy ** 2)(metre)\n",
    "w = int(input(\"Please enter your weight in kg\"))\n",
    "h = int(input(\"please enter your height in cm\"))\n",
    "bmi = round(w / ((h / 100) ** 2), 2)\n",
    "if bmi < 18.5:\n",
    "    print(f\" your bmi : {bmi}. Your body type is underweight\")\n",
    "elif bmi < 25:\n",
    "    print(f\" your bmi : {bmi}. Your body type is normal\")\n",
    "elif bmi < 30:\n",
    "    print(f\" your bmi : {bmi}. Your body type is overweight\")\n",
    "elif bmi < 35:\n",
    "    print(f\" your bmi : {bmi}. Your body type is obese\")\n",
    "else:\n",
    "    print(f\" your bmi is {bmi}. Your body type is extremely obese\")\n"
   ]
  },
  {
   "cell_type": "code",
   "execution_count": 82,
   "metadata": {},
   "outputs": [
    {
     "name": "stdout",
     "output_type": "stream",
     "text": [
      "Given the string: My phone number is +90538 573 09-18\n",
      "integers inside the string : 905385730918\n"
     ]
    }
   ],
   "source": [
    "#10) verilen ifadedeki integer değerleri ayıklayan algoritma oluşturun.\n",
    "x = input(\"please enter a object\")\n",
    "a = \"\"\n",
    "for i in x:\n",
    "    if i.isdigit():\n",
    "        a += i\n",
    "print(f\"Given the string: {x}\")\n",
    "print(f\"integers inside the string : {a}\")"
   ]
  },
  {
   "cell_type": "code",
   "execution_count": 104,
   "metadata": {},
   "outputs": [
    {
     "name": "stdout",
     "output_type": "stream",
     "text": [
      "Your score is 48, letter score is F\n"
     ]
    }
   ],
   "source": [
    "#11) kullanıcıdan aldığınız notun harf notunu yazın\n",
    "score = int(input(\"Please enter your score\"))\n",
    "\n",
    "if score < 0 or score > 100:\n",
    "    print(\"you entered wrong score\")\n",
    "\n",
    "else:\n",
    "    if score >= 80:\n",
    "        result = \"A\"\n",
    "    elif score >= 65:\n",
    "        result = \"B\"\n",
    "    elif score >= 55:\n",
    "        result = \"C\"\n",
    "    elif score >= 50:\n",
    "        result = \"D\"\n",
    "    else:\n",
    "        result = \"F\"\n",
    "    print(f\"Your score is {score}, letter score is {result}\")"
   ]
  },
  {
   "cell_type": "code",
   "execution_count": 160,
   "metadata": {},
   "outputs": [
    {
     "name": "stdout",
     "output_type": "stream",
     "text": [
      "['Ankara', 'aNkara', 'anKara', 'ankAra', 'ankaRa', 'ankarA']\n"
     ]
    }
   ],
   "source": [
    "#12) kullanıcıdan bir kelime alın ve bu kelimenin ilk harfinden başlayarak her seferinde bir harfi büyük\n",
    "# harf olacak şekilde son harfe kadar işlemi tekrarlayan ve sonuçları liste içinde çıktı veren alg.\n",
    "# harf harici karakter girilirse boş küme versin\n",
    "\n",
    "a = input(\"Please enter a string\").lower() # BÜYÜK HARF GİRİLİRSE DİYE\n",
    "\n",
    "liste = []\n",
    "\n",
    "if a.isalpha():\n",
    "    for i in range(len(a)):\n",
    "        liste.append(a[:i] + a[i].upper() + a[i + 1 :])\n",
    "print(liste)"
   ]
  },
  {
   "cell_type": "code",
   "execution_count": 171,
   "metadata": {},
   "outputs": [
    {
     "name": "stdout",
     "output_type": "stream",
     "text": [
      "{0: 'h', 1: 'a', 2: 'k', 3: 'a', 4: 'n'}\n"
     ]
    },
    {
     "data": {
      "text/plain": [
       "{0: 'h', 1: 'a', 2: 'k', 3: 'a', 4: 'n'}"
      ]
     },
     "execution_count": 171,
     "metadata": {},
     "output_type": "execute_result"
    }
   ],
   "source": [
    "#13) alınan string ifadenin karakterlerini index numaralarıyla eşleştir\n",
    "# bunu dict olarak çıktı veren alg.\n",
    "\n",
    "a = input(\"please enter a word\")\n",
    "\n",
    "letter_dict = {}\n",
    "\n",
    "for i in range(len(a)):\n",
    "    letter_dict[i] = a[i]\n",
    "print(letter_dict)\n",
    "\n",
    "#2. yöntem\n",
    "dict(enumerate(a))"
   ]
  },
  {
   "cell_type": "code",
   "execution_count": 177,
   "metadata": {},
   "outputs": [
    {
     "name": "stdout",
     "output_type": "stream",
     "text": [
      " 5 x 0 =  0\n",
      " 5 x 1 =  5\n",
      " 5 x 2 =  10\n",
      " 5 x 3 =  15\n",
      " 5 x 4 =  20\n",
      " 5 x 5 =  25\n",
      " 5 x 6 =  30\n",
      " 5 x 7 =  35\n",
      " 5 x 8 =  40\n",
      " 5 x 9 =  45\n"
     ]
    }
   ],
   "source": [
    "#14) verilen rakamın çarpım tablosu oluşturun\n",
    "a = int(input(\"Enter a number\"))\n",
    "for i in range(10):\n",
    "    print(\" {} x {} = \".format(a, i), a * i )"
   ]
  },
  {
   "cell_type": "code",
   "execution_count": 12,
   "metadata": {},
   "outputs": [
    {
     "name": "stdout",
     "output_type": "stream",
     "text": [
      "615\n"
     ]
    }
   ],
   "source": [
    "#15) kullanocıdan bir rakam (n) kabul eden ve n+nn+nnn değerini hesaplayan alg. yazın\n",
    "n = input(\"please enter a figure\")\n",
    "if n.isdigit():\n",
    "     if int(n) in range(10):   \n",
    "      result = int(n) + int(n * 2) + int (n * 3)\n",
    "else:\n",
    "    result = \"make sure enter a figure\"\n",
    "print(result)\n"
   ]
  },
  {
   "cell_type": "code",
   "execution_count": 1,
   "metadata": {},
   "outputs": [
    {
     "name": "stdout",
     "output_type": "stream",
     "text": [
      "resta?t\n",
      "resta?t\n"
     ]
    }
   ],
   "source": [
    "#16) alına stringin ilk karakterinin değiştirmeden ilk karakter ile aynı olan karakterleri\n",
    "#  \"?\" işareti ile değiştirin\n",
    "\n",
    "str1 = input(\"please enter a string\")\n",
    "\n",
    "result = \"\"\n",
    "focus = str1[0]\n",
    "\n",
    "for i in str1[1:]:\n",
    "    if i != focus:\n",
    "        result += i\n",
    "    else:\n",
    "        i = \"?\"\n",
    "        result += i\n",
    "print(focus + result)\n",
    "\n",
    "# 2. yöntem\n",
    "\n",
    "x = input(\"please enter a word\")\n",
    "\n",
    "x_new = x.replace(x[0], \"?\")[1:]\n",
    "\n",
    "print(x[0] + x_new)\n"
   ]
  },
  {
   "cell_type": "code",
   "execution_count": 11,
   "metadata": {},
   "outputs": [
    {
     "name": "stdout",
     "output_type": "stream",
     "text": [
      "tek sayılar : [1, 3, 5, 7, 9, 11, 13, 15, 17, 19, 21, 23, 25, 27, 29, 31, 33, 35, 37, 39, 41, 43, 45, 47, 49]\n",
      "çift sayılar : [0, 2, 4, 6, 8, 10, 12, 14, 16, 18, 20, 22, 24, 26, 28, 30, 32, 34, 36, 38, 40, 42, 44, 46, 48, 50]\n",
      "[1, 3, 5, 7, 9, 11, 13, 15, 17, 19, 21, 23, 25, 27, 29, 31, 33, 35, 37, 39, 41, 43, 45, 47, 49]\n",
      "[0, 2, 4, 6, 8, 10, 12, 14, 16, 18, 20, 22, 24, 26, 28, 30, 32, 34, 36, 38, 40, 42, 44, 46, 48, 50]\n",
      "odds: [1, 3, 5, 7, 9, 11, 13, 15, 17, 19, 21, 23, 25, 27, 29, 31, 33, 35, 37, 39, 41, 43, 45, 47, 49]\n",
      "evens: [0, 2, 4, 6, 8, 10, 12, 14, 16, 18, 20, 22, 24, 26, 28, 30, 32, 34, 36, 38, 40, 42, 44, 46, 48, 50]\n"
     ]
    }
   ],
   "source": [
    "#17) 1 den 50 ye kadar olan sayıları tekler ve çiftler olarak ayırın\n",
    "evens =[]\n",
    "odds = []\n",
    "\n",
    "for i in range(51):\n",
    "    if i % 2:\n",
    "        odds.append(i)\n",
    "    else:\n",
    "        evens.append(i)\n",
    "print(\"tek sayılar : {}\\nçift sayılar : {}\".format(odds, evens))\n",
    "\n",
    "#2. yöntem\n",
    "\n",
    "odds2 = [i for i in range(51) if i % 2 == 1]\n",
    "evens2 = [i for i in range(51) if i % 2 == 0]\n",
    "print(odds)\n",
    "print(evens)\n",
    "\n",
    "#3.yötem\n",
    "print(f\"odds: {[i for i in range(51) if i % 2 == 1]}\")\n",
    "print(f\"evens: {[i for i in range(51) if i % 2 == 0]}\")\n"
   ]
  },
  {
   "cell_type": "code",
   "execution_count": 33,
   "metadata": {},
   "outputs": [
    {
     "name": "stdout",
     "output_type": "stream",
     "text": [
      "[10, 9, 8, 7, 6, 5]\n"
     ]
    }
   ],
   "source": [
    "#18) kullanıcıdan iki sayı alın\n",
    "# ilk sayı 2.den büyükse arasında kalan sayıları büyükten küçüğe, değilse tam tersi\n",
    "x = int(input(\"please enter first number\"))\n",
    "y = int(input(\"please enter second number\"))\n",
    "\n",
    "if x < y:\n",
    "    print(list(range(x, y + 1)))\n",
    "elif x > y:\n",
    "    print(list(range(x, y - 1, -1)))\n",
    "else:\n",
    "    print(\"sayılar eşit olamaz\")"
   ]
  },
  {
   "cell_type": "code",
   "execution_count": 54,
   "metadata": {},
   "outputs": [
    {
     "name": "stdout",
     "output_type": "stream",
     "text": [
      "old years 29 I'm and Emirhan i name My\n",
      "old years 29 I'm and Emirhan i name My \n",
      "old years 29 I'm and Emirhan i name My "
     ]
    }
   ],
   "source": [
    "#19) verilen cümleyi kelime kelime tersten yazdırın alg.\n",
    "name = \"My name i Emirhan and I'm 29 years old\"\n",
    "word_list = name.split()\n",
    "print(\" \".join(word_list[::-1]))\n",
    "\n",
    "#2. yöntem while ile\n",
    "kelime_listesi = name.split(\" \")\n",
    "\n",
    "n = len(kelime_listesi) - 1\n",
    "\n",
    "while n >= 0:\n",
    "    print(kelime_listesi[n], end=\" \")\n",
    "    n -= 1\n",
    "\n",
    "#3. yöntem for ile\n",
    "print(\"\")\n",
    "for i in kelime_listesi[::-1]:\n",
    "    print(i, end=\" \")"
   ]
  },
  {
   "cell_type": "code",
   "execution_count": 67,
   "metadata": {},
   "outputs": [
    {
     "name": "stdout",
     "output_type": "stream",
     "text": [
      " the difference : 50\n"
     ]
    }
   ],
   "source": [
    "#20) bir daire ve dairenin içinde dışında iki kare hayal edin\n",
    "#bir tamsayı(dairenin yarıçapı) alan ve iki karenin alanlarının farkını döndüren alg.\n",
    "\n",
    "r = int(input(\"please enter radius of the circle\"))\n",
    "\n",
    "out_square = (2 * r) ** 2\n",
    "in_square = (r ** 2) * 2\n",
    "\n",
    "print(f\" the difference : {out_square - in_square}\")"
   ]
  },
  {
   "cell_type": "code",
   "execution_count": 7,
   "metadata": {},
   "outputs": [
    {
     "name": "stdout",
     "output_type": "stream",
     "text": [
      "[1, 2, 'Big', 4, 5, 'Big', 'Bang', 8, 'Big', 10, 11, 'Big', 13, 'Bang', 'Big', 16, 17, 'Big', 19, 20, 'BigBang', 22, 23, 'Big', 25, 26, 'Big', 'Bang', 29, 'Big', 31, 32, 'Big', 34, 'Bang', 'Big', 37, 38, 'Big', 40, 41, 'BigBang', 43, 44, 'Big', 46, 47, 'Big', 'Bang', 50]\n"
     ]
    }
   ],
   "source": [
    "#21) 1 den 50 ye kadar tamsayıları: üçün katları yerine big\n",
    "#7nin katları yerine bang. hem üçün hem 7nin katları yerine bigbang yazdıran algoritma\n",
    "liste = []\n",
    "for i in range(1, 51):\n",
    "    if i % 3 == 0 and i % 7 == 0:\n",
    "        liste.append(\"BigBang\")\n",
    "\n",
    "    elif i % 3 == 0:\n",
    "        liste.append(\"Big\")\n",
    "    elif i % 7 == 0:\n",
    "        liste.append(\"Bang\")\n",
    "    else:\n",
    "        liste.append(i)\n",
    "print(liste)"
   ]
  },
  {
   "cell_type": "code",
   "execution_count": 26,
   "metadata": {},
   "outputs": [
    {
     "name": "stdout",
     "output_type": "stream",
     "text": [
      "erteki̇n : Büyük ünlü uyumuna uyar\n"
     ]
    }
   ],
   "source": [
    "#22)girilen ifadenin büyük ünlü uyumuna uyup uymadığını kontrol eden alg.\n",
    "isim = input(\"please enter a string\").lower()\n",
    "\n",
    "inceler = 0\n",
    "kalınlar = 0\n",
    "\n",
    "for i in isim:\n",
    "    if i in \"aıou\":\n",
    "        kalınlar += 1\n",
    "    elif i in \"eiöü\":\n",
    "        inceler += 1\n",
    "if kalınlar > 0 or inceler > 0:        \n",
    "    if kalınlar + inceler == 1:\n",
    "        sonuç = \"Büyük ünlü uyumu aranmaz\"\n",
    "    elif kalınlar * inceler == 0:\n",
    "        sonuç = \"Büyük ünlü uyumuna uyar\"\n",
    "    else:\n",
    "        sonuç = \"Büyük ünlü uyumuna uymaz\"\n",
    "else:\n",
    "    sonuç = \"sesli harf yok\"\n",
    "print(f\"{isim} : {sonuç}\")"
   ]
  },
  {
   "cell_type": "code",
   "execution_count": 49,
   "metadata": {},
   "outputs": [
    {
     "name": "stdout",
     "output_type": "stream",
     "text": [
      "İnvalid Input\n"
     ]
    }
   ],
   "source": [
    "#23) Kullanıcıdan alınan sayının bsamak değeri 3 ten küçükse : (sayı ** 2)\n",
    "# üçten büyük ve tek sayı ise; (sayı - 2)\n",
    "# üçten büyük ve çift sayı ise; (sayı + 1)\n",
    "# eğer kullanıcdan alınan veri geçersiz ise geçersiz giriş yazdıran alg.\n",
    "\n",
    "x = input(\"Please enter a number\")\n",
    "\n",
    "result = \"\"\n",
    "\n",
    "if not x.isdigit():\n",
    "    result = \"İnvalid Input\"\n",
    "\n",
    "else:\n",
    "    for i in x:\n",
    "        \n",
    "        if int(i) <= 3:\n",
    "            result += str(int(i) ** 2)\n",
    "        elif int(i) % 2:\n",
    "            result += str(int(i) - 2)\n",
    "        else:\n",
    "            result += str(int(i) + 1)\n",
    "\n",
    "print(result)\n"
   ]
  },
  {
   "cell_type": "code",
   "execution_count": 60,
   "metadata": {},
   "outputs": [
    {
     "name": "stdout",
     "output_type": "stream",
     "text": [
      "1184 and 1210 are amicable numbers.\n"
     ]
    }
   ],
   "source": [
    "#24) build an algorithm that detects amicable numbers\n",
    "# example 220 [1, 2, 4, 5, 10, 11, 20, 22, 44, 55, 110] sum divisors = 284\n",
    "#         284 [1, 2, 4, 71, 142] sum divisors = 220\n",
    "\n",
    "x = int(input(\"please enter a number\"))\n",
    "\n",
    "sum_i = 0\n",
    "sum_j = 0\n",
    "\n",
    "for i in range(1, x):\n",
    "    if x % i == 0:\n",
    "        sum_i += i\n",
    "\n",
    "for j in range(1, sum_i):\n",
    "    if sum_i % j == 0:\n",
    "        sum_j += j\n",
    "\n",
    "if x == sum_j:\n",
    "    print(f\"{x} and {sum_i} are amicable numbers.\")\n",
    "else:\n",
    "    print(f\"{x} is lonely number.\")\n"
   ]
  },
  {
   "cell_type": "code",
   "execution_count": 62,
   "metadata": {},
   "outputs": [
    {
     "name": "stdout",
     "output_type": "stream",
     "text": [
      "220 and 284 are amicable numbers.\n"
     ]
    }
   ],
   "source": [
    "#24) 2. yöntem\n",
    "x = int(input(\"please enter a number\"))\n",
    "\n",
    "sum_i = sum([i for i in range(1, x) if x % i == 0])\n",
    "sum_j = sum([j for j in range(1, sum_i) if sum_i % j == 0])\n",
    "\n",
    "if x == sum_j:\n",
    "    print(f\"{x} and {sum_i} are amicable numbers.\")\n",
    "else:\n",
    "    print(f\"{x} is lonely number.\")"
   ]
  },
  {
   "cell_type": "code",
   "execution_count": 22,
   "metadata": {},
   "outputs": [
    {
     "name": "stdout",
     "output_type": "stream",
     "text": [
      "[-100, -50, -3]\n"
     ]
    },
    {
     "data": {
      "text/plain": [
       "[1000, 400, 50, 3]"
      ]
     },
     "execution_count": 22,
     "metadata": {},
     "output_type": "execute_result"
    }
   ],
   "source": [
    "#25) bize verilen sayının basamak değerlerini liste olarak döndüren algorima\n",
    "def num_split(num):\n",
    "    \n",
    "    count = 0\n",
    "    result = []\n",
    "\n",
    "    for i in str(abs(num))[::-1]:\n",
    "        if num > 0:\n",
    "            result.append(int(i) * 10 ** count)\n",
    "            count += 1\n",
    "        else:\n",
    "            result.append(-(int(i) * 10 ** count))\n",
    "            count += 1\n",
    "    return result[::-1]\n",
    "print(num_split(-153))\n",
    "num_split(1453)\n"
   ]
  },
  {
   "cell_type": "code",
   "execution_count": 23,
   "metadata": {},
   "outputs": [
    {
     "name": "stdout",
     "output_type": "stream",
     "text": [
      "[-100, -50, -3]\n"
     ]
    },
    {
     "data": {
      "text/plain": [
       "[1000, 400, 50, 3]"
      ]
     },
     "execution_count": 23,
     "metadata": {},
     "output_type": "execute_result"
    }
   ],
   "source": [
    "#25) 2.yöntem\n",
    "def num_split(num):\n",
    "    \n",
    "    count = 0\n",
    "    result = []\n",
    "\n",
    "    for i in str(abs(num))[::-1]:\n",
    "            result.append(int(i) * 10 ** count)\n",
    "            count += 1\n",
    "      \n",
    "    return result[::-1] if num >= 0 else [-i for i in result[::-1]]\n",
    "print(num_split(-153))\n",
    "num_split(1453)"
   ]
  },
  {
   "cell_type": "code",
   "execution_count": 27,
   "metadata": {},
   "outputs": [
    {
     "name": "stdout",
     "output_type": "stream",
     "text": [
      "154 is not a amstrong number\n"
     ]
    }
   ],
   "source": [
    "#26)verilen sayının amstrong number mı kontrol eden alg.\n",
    "# exanmple 153 >> 1 ** 3 + 5 ** 3 + 3 ** 3 = 153 is amstrong number\n",
    "\n",
    "num = input(\"Enter a number\")\n",
    "\n",
    "len_num = len(num)\n",
    "sum_ = 0\n",
    "\n",
    "for i in num:\n",
    "    sum_ += int(i) ** len_num\n",
    "if sum_ == int(num):\n",
    "    print(f\"{num} is a amstrong number\")\n",
    "else:\n",
    "    print(f\"{num} is not a amstrong number\")"
   ]
  },
  {
   "cell_type": "code",
   "execution_count": 2,
   "metadata": {},
   "outputs": [
    {
     "name": "stdout",
     "output_type": "stream",
     "text": [
      "enter a higher number\n",
      "enter a lowest number\n",
      "enter a lowest number\n",
      "enter a lowest number\n",
      "enter a higher number\n",
      "enter a higher number\n",
      "enter a higher number\n",
      "enter a higher number\n",
      "enter a higher number\n",
      "enter a lowest number\n",
      "enter a higher number\n",
      "enter a higher number\n",
      "congrats 64\n",
      "your guess' amount : 13\n"
     ]
    }
   ],
   "source": [
    "#27) sayı tahmini\n",
    "import random\n",
    "random_num = random.randint(0, 99)\n",
    "count = 0\n",
    "while True:\n",
    "\n",
    "    guess = int(input(\"enter a number\"))\n",
    "    if guess < random_num:\n",
    "        print(\"enter a higher number\")\n",
    "        count += 1\n",
    "    elif guess > random_num:\n",
    "        print(\"enter a lowest number\")\n",
    "        count += 1\n",
    "    else:\n",
    "        print(f\"congrats {random_num}\")\n",
    "        count += 1\n",
    "        break\n",
    "print(f\"your guess' amount : {count}\")"
   ]
  },
  {
   "cell_type": "code",
   "execution_count": 8,
   "metadata": {},
   "outputs": [
    {
     "name": "stdout",
     "output_type": "stream",
     "text": [
      "7 is not perfect number\n"
     ]
    }
   ],
   "source": [
    "#28)kullanıcıdan alına sayı mükemmel sayı mı kontrol eden algoritma\n",
    "#bölenlerinin kendisine eşit olan sayılara mükemmel sayı denir.\n",
    "\n",
    "x = int(input(\"enter an number\"))\n",
    "\n",
    "if sum([i for i in range(1, x) if x % i == 0]) == x:\n",
    "    print(f\"{x} is perfect number\")\n",
    "else:\n",
    "    print(f\"{x} is not perfect number\")"
   ]
  },
  {
   "cell_type": "code",
   "execution_count": 16,
   "metadata": {},
   "outputs": [
    {
     "name": "stdout",
     "output_type": "stream",
     "text": [
      "*en iyi meşe beşe mi yine* is a palindrom\n",
      "True\n"
     ]
    }
   ],
   "source": [
    "#29) bir cümlenin palindrom olup olmadığını kontrol eden bir program yazınız.\n",
    "# tersten ve düzden okunuşu aynı olan ifadeler.\n",
    "\n",
    "sentence = input(\"enter a sentence\")\n",
    "edit_sentence = \"\".join(i.lower() for i in sentence if i.isalpha())\n",
    "if edit_sentence == edit_sentence[::-1]:\n",
    "    print(f\"*{sentence}* is a palindrom\")\n",
    "else:\n",
    "    print(f\"*{sentence}* is not a palindrom\")\n",
    "\n",
    "#2. yöntem\n",
    "edit_sentence = \"\".join(i.lower() for i in sentence if i.isalpha())\n",
    "print(edit_sentence == edit_sentence[::-1])"
   ]
  },
  {
   "cell_type": "code",
   "execution_count": 61,
   "metadata": {},
   "outputs": [
    {
     "name": "stdout",
     "output_type": "stream",
     "text": [
      "Is 5 a prime number? : True\n"
     ]
    }
   ],
   "source": [
    "#30) kullanıcadan alınan bir sayının asal sayı olup olmadığını kontrol eden alg.\n",
    "x = int(input(\"enter a number greater than 1\"))\n",
    "if x > 1:\n",
    "    print(f\"Is {x} a prime number? : {len([i for i in range(2, x) if x % i == 0]) == 0}\")\n",
    "else:\n",
    "    print(\"please enter a number greater than 1\")"
   ]
  },
  {
   "cell_type": "code",
   "execution_count": 68,
   "metadata": {},
   "outputs": [
    {
     "name": "stdout",
     "output_type": "stream",
     "text": [
      "16 ve 48 nin EBOB u : 16\n"
     ]
    }
   ],
   "source": [
    "#31) Ebob - 2 pozitif tamsayının en büyük ortak bölenini yazdıran alg.\n",
    "x = int(input(\"enter first number\"))\n",
    "y = int(input(\"enter second number\"))\n",
    "\n",
    "for i in range(min(x, y), 1, -1):\n",
    "    \n",
    "    if x % i == 0 and y % i == 0:\n",
    "        print(f\"{x} ve {y} nin EBOB u : {i}\")\n",
    "        break"
   ]
  },
  {
   "cell_type": "code",
   "execution_count": 89,
   "metadata": {},
   "outputs": [
    {
     "name": "stdout",
     "output_type": "stream",
     "text": [
      "a-Bb.1?CCc\n",
      "[('a', 1), ('c', 3), ('b', 2)]\n",
      "{'a': 1, 'b': 2, 'c': 3}\n"
     ]
    },
    {
     "data": {
      "text/plain": [
       "[('a', 1), ('C', 2), ('c', 1), ('b', 1), ('B', 1)]"
      ]
     },
     "execution_count": 89,
     "metadata": {},
     "output_type": "execute_result"
    }
   ],
   "source": [
    "#32) kullanıcıdan aldığımız cümlenin içindeki alfabetik karakterlerin kaç kere geçtiğini döndüren alg.\n",
    "x = input(\"enter a sentence\")\n",
    "print(x)\n",
    "result = []\n",
    "\n",
    "for i in set(x.lower()):\n",
    "    if i.isalpha():\n",
    "        result += [(i, x.lower().count(i))]\n",
    "print(result)\n",
    "\n",
    "#2) dict ile çözüm\n",
    "\n",
    "result_2 = {}\n",
    "\n",
    "for i in x.lower():\n",
    "    if i.isalpha():\n",
    "        if i in result_2:\n",
    "            result_2[i] += 1\n",
    "        else:\n",
    "            result_2[i] = 1\n",
    "print(result_2)\n",
    "\n",
    "#3) list corperasion yöntemi ile\n",
    "x = input(\"enter a sentence\")\n",
    "[(i, x.count(i)) for i in set(x) if i.isalpha()]"
   ]
  },
  {
   "cell_type": "code",
   "execution_count": 25,
   "metadata": {},
   "outputs": [
    {
     "name": "stdout",
     "output_type": "stream",
     "text": [
      "['and', 'old', 'int']\n"
     ]
    },
    {
     "data": {
      "text/plain": [
       "['int', 'old', 'and']"
      ]
     },
     "execution_count": 25,
     "metadata": {},
     "output_type": "execute_result"
    }
   ],
   "source": [
    "# 33) verilen iki liste için\n",
    "# liste birdeki elaman liste2 deki herhangi bir elemanın alt kümesi ise bunları döndüren alg.\n",
    "list1 = [\"old\", \"int\", \"age\", \"and\"]\n",
    "list2 = [\"random\", \"soldier\", \"list\", \"print\", \"introduction\"]\n",
    "\n",
    "def intertwined(list1, list2):\n",
    "    \n",
    "    new_list = []\n",
    "    for i in list2:\n",
    "        for j in list1:\n",
    "            if j in i and j not in new_list:\n",
    "                new_list.append(j)\n",
    "    return new_list\n",
    "print(intertwined(list1, list2))\n",
    "\n",
    "#2)\n",
    "\n",
    "def intertwined2(list1, list2):\n",
    "    \n",
    "    return list(set([j for i in list2 for j in list1 if j in i ]))\n",
    "    \n",
    "intertwined2(list1, list2)\n",
    "\n",
    "\n",
    "\n"
   ]
  },
  {
   "cell_type": "code",
   "execution_count": 40,
   "metadata": {},
   "outputs": [
    {
     "name": "stdout",
     "output_type": "stream",
     "text": [
      "[1, 8, 6, 3, 4, 5]\n"
     ]
    },
    {
     "data": {
      "text/plain": [
       "[1, 8, 6, 3, 4, 5]"
      ]
     },
     "execution_count": 40,
     "metadata": {},
     "output_type": "execute_result"
    }
   ],
   "source": [
    "#36) verilen dizide tek sayıları sıralı, çift sayıları orjinal konumlarında tutan algoritma\n",
    "#benim çözümüm\n",
    "sayılar = [5, 8, 6, 3, 4, 1]\n",
    "\n",
    "tekler = [i for i in sayılar if i % 2 == 1]\n",
    "tekler.sort()\n",
    "\n",
    "index = 0\n",
    "tek_index = 0\n",
    "\n",
    "for j in sayılar:\n",
    "    if j % 2 == 1:\n",
    "        sayılar[index] = tekler[tek_index]\n",
    "        tek_index += 1\n",
    "        index += 1\n",
    "    else:\n",
    "        index +=1\n",
    "print(sayılar)\n",
    "\n",
    "#hocanın çözümü\n",
    "\n",
    "def asc(list1):\n",
    "    odd = [i for i in list1 if i % 2]\n",
    "    odd = sorted(odd)\n",
    "\n",
    "    k = 0\n",
    "    result = []\n",
    "\n",
    "    for i in list1:\n",
    "        if i % 2:\n",
    "            result.append(odd[k])\n",
    "            k += 1\n",
    "        else:\n",
    "            result.append(i)\n",
    "    return result\n",
    "asc([5, 8, 6, 3, 4, 1])\n"
   ]
  },
  {
   "cell_type": "code",
   "execution_count": 86,
   "metadata": {},
   "outputs": [
    {
     "name": "stdout",
     "output_type": "stream",
     "text": [
      "[('z', 0), ('b', 1), ('x', 3), ('x', 6), ('c', 10)]\n"
     ]
    },
    {
     "data": {
      "text/plain": [
       "[('z', 0), ('b', 1), ('x', 3), ('x', 6), ('c', 10)]"
      ]
     },
     "execution_count": 86,
     "metadata": {},
     "output_type": "execute_result"
    }
   ],
   "source": [
    "#35) listenin içindeki tupelların 2. elemanına göre azaldan artana göre aynı formatta döndüren alg\n",
    "liste = [(\"b\", 1), (\"c\", 10), (\"x\", 3), (\"x\", 6), (\"z\", 0)]\n",
    "\n",
    "sıralar = [i[1] for i in liste]\n",
    "sıralar.sort()\n",
    "sıralar\n",
    "\n",
    "yeni_liste = []\n",
    "\n",
    "for i in sıralar:\n",
    "    for j in liste:\n",
    "        if i == j[1]:\n",
    "            yeni_liste.append(j)\n",
    "print(yeni_liste)\n",
    "\n",
    "#2.yöntem\n",
    "\n",
    "sorted(liste, key = lambda x : x[1])"
   ]
  },
  {
   "cell_type": "code",
   "execution_count": 100,
   "metadata": {},
   "outputs": [
    {
     "name": "stdout",
     "output_type": "stream",
     "text": [
      "[3, 2, 1]\n",
      "[13, 11, 9, 5]\n"
     ]
    }
   ],
   "source": [
    "#36) listedeki eleman eğer kendisinden sonrakilerden büyük ise listeye yazan alg.\n",
    "numbers = [3, 13, 11, 2, 1, 9, 5]   # istenen çıktı [13, 11, 9, 5]\n",
    "\n",
    "new_numbers = [numbers[i] for i in range(0, len(numbers)) if numbers[i] < max(numbers[i:])]\n",
    "print(new_numbers)\n",
    "\n",
    "other = {i for i in numbers if i not in new_numbers}\n",
    "print(sorted(list(other), reverse=1))"
   ]
  },
  {
   "cell_type": "code",
   "execution_count": 116,
   "metadata": {},
   "outputs": [
    {
     "name": "stdout",
     "output_type": "stream",
     "text": [
      "Number: 7 Series: [22, 11, 34, 17, 52, 26, 13, 40, 20, 10, 5, 16, 8, 4, 2, 1], largest number :52\n"
     ]
    }
   ],
   "source": [
    "#37) verilen sayı(x) 1 olana kadar çiftse x/2 tekse 3x+1 işlemlerini uygulayın seriyi ve en büyük değeri döndüren algoritma\n",
    "x = int(input(\"Please enter a number\"))\n",
    "sayılar =[x]\n",
    "while x != 1:\n",
    "    if x % 2 == 0:\n",
    "        x = int(x /2)\n",
    "        sayılar.append(x)\n",
    "    else:\n",
    "        x = 3 * x + 1\n",
    "        sayılar.append(x)\n",
    "print(f\"Number: {sayılar[0]} Series: {sayılar[1:]}, largest number :{max(sayılar)}\")"
   ]
  },
  {
   "cell_type": "code",
   "execution_count": 133,
   "metadata": {},
   "outputs": [
    {
     "name": "stdout",
     "output_type": "stream",
     "text": [
      "[1, 0, 0, 1, 0, 0, 0] 2\n"
     ]
    }
   ],
   "source": [
    "#38) 0 = kapalı X = açık\n",
    "n = int(input(\"how many are the students\"))\n",
    "\n",
    "liste = [0] * n\n",
    "for i in range(1, len(liste) + 1):\n",
    "    for j in range(i - 1, len(liste), i):\n",
    "        if liste[j] == 0:\n",
    "            liste[j] = 1\n",
    "        else:\n",
    "            liste[j] = 0\n",
    "print(liste, liste.count(1))"
   ]
  },
  {
   "cell_type": "code",
   "execution_count": 154,
   "metadata": {},
   "outputs": [
    {
     "data": {
      "text/plain": [
       "[[1, 7], [2, 6], [3, 5], [4, 4]]"
      ]
     },
     "execution_count": 154,
     "metadata": {},
     "output_type": "execute_result"
    }
   ],
   "source": [
    "#39) sırasıyla listenin ilk elemanıyla son elemanını eşleştir\n",
    "# ortada tek başına olanı kendisiyle eşleştir\n",
    "# eleman yoksa elemansız liste döndür\n",
    "\n",
    "liste = [1, 2, 3, 4, 5, 6, 7]\n",
    "\n",
    "def pairs(liste):\n",
    "    list_new =  []\n",
    "    for i in range(len(liste) // 2):\n",
    "        list_new.append([liste[i], liste[-i - 1]])\n",
    "    if len(liste) % 2 == 1:\n",
    "        list_new.append([liste[len(liste) // 2], liste[len(liste) // 2]])\n",
    "    return list_new\n",
    "pairs(liste)\n"
   ]
  },
  {
   "cell_type": "code",
   "execution_count": 166,
   "metadata": {},
   "outputs": [
    {
     "name": "stdout",
     "output_type": "stream",
     "text": [
      "True\n"
     ]
    }
   ],
   "source": [
    "#40) 2 str değerle çalışan bir fonksiyon oluşturun\n",
    "# str1 deki harflerle str2 yazılabiliyorsa true değilse false\n",
    "\n",
    "def scramble(str1, str2):\n",
    "    a = set(str1)\n",
    "\n",
    "    count = [i for i in str2 if i in a] \n",
    "    return print(len(str2) == len(count))\n",
    "scramble(\"worldasdas\", \"world\")\n",
    "\n",
    "#2.yöntem\n",
    "\n"
   ]
  },
  {
   "cell_type": "code",
   "execution_count": 33,
   "metadata": {},
   "outputs": [
    {
     "name": "stdout",
     "output_type": "stream",
     "text": [
      "Let's play a game\n",
      "You won. You = rock , Pc = scissors\n",
      "You won. You = paper , Pc = rock\n",
      "You won. You = scissors , Pc = paper\n",
      "You play 3 times. And score you times = 3 pc times = 0\n"
     ]
    }
   ],
   "source": [
    "#41)taş - kağıt - makas oyunu\n",
    "print(\"Let's play a game\")\n",
    "\n",
    "import random\n",
    "pc_list = [\"rock\", \"paper\", \"scissors\"]\n",
    "a = \"yes\"\n",
    "count = 0\n",
    "ys = 0\n",
    "pcs= 0\n",
    "while a == \"yes\":\n",
    "    count += 1\n",
    "    x = pc_list[random.randint(0, 2)]\n",
    "\n",
    "    y = input(\"please write >> rock paper or scissors\").lower()\n",
    "\n",
    "    if y == x:\n",
    "        print(f\"Draw. You = {y} , Pc = {x}\")\n",
    "    elif (y == \"rock\" and x == \"scissors\") or (y == \"paper\" and x == \"rock\") or (y == \"scissors\" and x == \"paper\"):\n",
    "        ys += 1\n",
    "        print(f\"You won. You = {y} , Pc = {x}\")\n",
    "    elif (y == \"rock\" and x == \"paper\") or (y == \"paper\" and x == \"scissors\") or (y == \"scissors\" and x == \"rock\"):\n",
    "        pcs += 1\n",
    "        print(f\"You lost. You = {y} , Pc = {x}\")  \n",
    "    else:\n",
    "        print(\"you entered wrong\")\n",
    "    a = input(\"do you want to play again? (yes or no)\").lower()\n",
    "print(f\"You play {count} times. And score you times = {ys} pc times = {pcs}\")\n"
   ]
  },
  {
   "cell_type": "code",
   "execution_count": 40,
   "metadata": {},
   "outputs": [
    {
     "data": {
      "text/plain": [
       "[[0, 3], [1, 2], [2, 1], [3, 0], [4, 5], [5, 4]]"
      ]
     },
     "execution_count": 40,
     "metadata": {},
     "output_type": "execute_result"
    }
   ],
   "source": [
    "#42) bir liste ve hedef sayı verilsin\n",
    "# hedef sayının toplamına eşit olan listenin 2 li elemanlarının indexsini yazdırın\n",
    "\n",
    "liste = [2, 8, 9, 15, 5, 12]\n",
    "target = 17\n",
    "indexler = [[i,j] for i in range(len(liste)) for j in range(len(liste)) if liste[i] + liste[j] == target]\n",
    "indexler"
   ]
  },
  {
   "cell_type": "code",
   "execution_count": 73,
   "metadata": {},
   "outputs": [],
   "source": [
    "#43) faktoriyel hesaplayan alg. oluştur\n",
    "def faktoriyel(a):\n",
    "    b = 1\n",
    "    for i in range(1, a + 1):\n",
    "        b *= i\n",
    "    return b   \n",
    "\n",
    "# while ile çözüm\n",
    "\n",
    "def fak(x):\n",
    "    mult = 1\n",
    "    while x > 0:\n",
    "        mult *= x\n",
    "        x -= 1\n",
    "    return mult\n",
    "\n",
    "# with recursive function\n",
    "\n",
    "def fak2(x):\n",
    "\n",
    "    if abs(x) == 1:\n",
    "        return 1\n",
    "    else:\n",
    "        return x * fak2(x - 1)"
   ]
  },
  {
   "cell_type": "code",
   "execution_count": 84,
   "metadata": {},
   "outputs": [],
   "source": [
    "#44) kullanıcıdan aldığınız bir cümle veya kelimeyi ilk harf alfabenin 7. harfi olacak şekilde\n",
    "#kodlayıp çıktı veren alg.\n",
    "def kripto(a):\n",
    "    alfabe = \"abcçdefgğhıijklmnoöprsştuüvyzABCÇDEFGĞHIİJKLMNOÖRSŞTUÜVYZ\"\n",
    "    çıktı = \"\"\n",
    "    for i in a:\n",
    "        if i in alfabe:\n",
    "            çıktı += alfabe[alfabe.index(i) + 6]\n",
    "        else:\n",
    "            çıktı += i\n",
    "    return çıktı"
   ]
  },
  {
   "cell_type": "code",
   "execution_count": 136,
   "metadata": {},
   "outputs": [],
   "source": [
    "#45) bir harf verildiğinde harfe en yakın sesli harfi döndüren alg.\n",
    "#iki sesli harfe eşitse önceki sesli harfi döndürsün\n",
    "#sesli harfse kendisini döndürsün\n",
    "def seslibulma(a):\n",
    "\n",
    "    alfabe = \"abcdefghijklmnopqrstuvwxyz\"\n",
    "    sesli_index = [alfabe.index(i) for i in \"aeiou\"]\n",
    "    nearest = [abs(alfabe.index(a) - i) for i in sesli_index]\n",
    "\n",
    "    return \"aeiou\"[nearest.index((min(nearest)))]\n",
    "#tekrar çöz"
   ]
  },
  {
   "cell_type": "code",
   "execution_count": 13,
   "metadata": {},
   "outputs": [
    {
     "data": {
      "text/plain": [
       "[['eat', 'tea', 'eat'], ['tan', 'nat'], ['bat']]"
      ]
     },
     "execution_count": 13,
     "metadata": {},
     "output_type": "execute_result"
    }
   ],
   "source": [
    "#46)anagram kelimeler = aynı harflere sahip farklı düzenlenmiş kelimelere denir\n",
    "#verilen ifadelerin anagram olanları anagram kelimeler olarak ayırın\n",
    "verilen =[\"eat\", \"tea\", \"tan\", \"eat\", \"nat\", \"bat\"]\n",
    "#istenen çıktı =((\"eat\", \"eat\", \"tea\"), (\"nat\", \"tan\"), (\"bat\"))\n",
    "result = {}\n",
    "for i in verilen:\n",
    "    x =\"\".join(sorted(i))\n",
    "    if x not in result:\n",
    "        result[x] = [i]\n",
    "    else:\n",
    "        result[x].append(i)\n",
    "list(result.values())\n",
    "#tekrar çöz"
   ]
  },
  {
   "cell_type": "code",
   "execution_count": 23,
   "metadata": {},
   "outputs": [
    {
     "name": "stdout",
     "output_type": "stream",
     "text": [
      "True\n"
     ]
    }
   ],
   "source": [
    "#47) verilen dizede parantezler çıktı vermeye uygun mu kontrol eden algoritma\n",
    "def match(check_list):\n",
    "    brackets = []\n",
    "    garbage = []\n",
    "    for i in check_list:\n",
    "        if i in [\"(\", \"{\", \"[\"]:\n",
    "            brackets.append(i)\n",
    "        elif i == \")\" and len(brackets) != 0 and brackets[-1] == \"(\":\n",
    "            brackets.pop()\n",
    "        elif i == \"]\" and len(brackets) != 0 and brackets[-1] == \"[\":\n",
    "            brackets.pop()\n",
    "        elif i == \"}\" and len(brackets) != 0 and brackets[-1] == \"{\":\n",
    "            brackets.pop()\n",
    "        else:\n",
    "            garbage.append(i)\n",
    "    print(brackets == [] and garbage == [])\n",
    "match(\"([{}])()\")\n",
    "\n",
    "\n",
    "\n",
    "\n"
   ]
  },
  {
   "cell_type": "code",
   "execution_count": 25,
   "metadata": {},
   "outputs": [
    {
     "name": "stdout",
     "output_type": "stream",
     "text": [
      "True\n"
     ]
    }
   ],
   "source": [
    "#47) 2. çöxüm\n",
    "def match1(check_list):\n",
    "    s = \"\".join([i for i in check_list])\n",
    "    while \"()\" in s or \"{}\" in s or \"[]\" in s:\n",
    "        s = s.replace(\"()\", \"\").replace(\"[]\", \"\").replace(\"{}\", \"\")\n",
    "    print( s == \"\")\n",
    "match1(\"[{}]()\")"
   ]
  },
  {
   "cell_type": "code",
   "execution_count": 55,
   "metadata": {},
   "outputs": [
    {
     "data": {
      "text/plain": [
       "[(5, 2), (1, 3)]"
      ]
     },
     "execution_count": 55,
     "metadata": {},
     "output_type": "execute_result"
    }
   ],
   "source": [
    "#48)Analitik düzleme ait bir nokta listesi, bir merkez nota ve bir k tamsayısı verildiğinde\n",
    "# merkez noktaya en yakın k kadar noktayı bulun\n",
    "\n",
    "def nearist_points(list1, cen, k):\n",
    "    result = []\n",
    "    for i in list1:\n",
    "       a =  ((i[0] - cen[0]) ** 2 + (i[1] - cen[1]) ** 2 ) ** 0.5\n",
    "       result.append([a, i])\n",
    "    return [y for x, y in sorted(result)[:k]]\n",
    "\n",
    "nearist_points([(1, 3), (5, 2), (2, 4)], (4, 1), 2)"
   ]
  },
  {
   "cell_type": "code",
   "execution_count": 3,
   "metadata": {},
   "outputs": [
    {
     "name": "stdout",
     "output_type": "stream",
     "text": [
      "2:cow    0:bull girdiğiniz sayınız : 1460\n",
      "1:cow    1:bull girdiğiniz sayınız : 1406\n",
      "3:cow    0:bull girdiğiniz sayınız : 1578\n",
      "3:cow    0:bull girdiğiniz sayınız : 1578\n",
      "5 seferde buldunuz. cevap : 1570\n"
     ]
    }
   ],
   "source": [
    "#49) kullanıcadan 4 basamaklı sayı alıcaz\n",
    "# rakam ve basamak yeri doğru olunca cow\n",
    "# rakam doğru ama basamak doğru değilse bull\n",
    "#kaç tahminde bildiğini çıktı versin\n",
    "\n",
    "number = \"1570\"\n",
    "tahmin = input(\"\")\n",
    "count = 1\n",
    "while number != tahmin:\n",
    "    cow, bull = 0, 0\n",
    "    \n",
    "    for i in range(len(tahmin)):\n",
    "        \n",
    "        if tahmin[i] == number[i]:\n",
    "            cow += 1\n",
    "        else:\n",
    "            if tahmin[i] in number:\n",
    "                bull += 1\n",
    "\n",
    "    print(f\"{cow}:cow    {bull}:bull girdiğiniz sayınız : {tahmin}\")\n",
    "            \n",
    "    tahmin = input(\"\")\n",
    "    count += 1\n",
    "    \n",
    "print(f\"{count} seferde buldunuz. cevap : {number}\")"
   ]
  },
  {
   "cell_type": "code",
   "execution_count": 1,
   "metadata": {},
   "outputs": [
    {
     "name": "stdout",
     "output_type": "stream",
     "text": [
      "1274 has 2 cow, 0 bull.\n",
      "1256 has 1 cow, 1 bull.\n",
      "1256 has 1 cow, 1 bull.\n",
      "1489 has 1 cow, 0 bull.\n",
      "1570 has 4 cow, 0 bull.\n",
      "Congrats. Number of try :5. Number : 1570\n"
     ]
    }
   ],
   "source": [
    "#49) hocanın çözümü\n",
    "\n",
    "number = \"1570\"\n",
    "cow, bull = 0, 0\n",
    "count = 0\n",
    "while cow < len(number):\n",
    "    guess = input(\"Enter a 5 digits\")\n",
    "    cow, bull = 0, 0\n",
    "    for ind, i in enumerate(guess):\n",
    "        if i in number:\n",
    "            if ind == number.index(i):\n",
    "                cow += 1\n",
    "            else:\n",
    "                bull += 1\n",
    "    count += 1\n",
    "    print(f\"{guess} has {cow} cow, {bull} bull.\")\n",
    "print(f\"Congrats. Number of try :{count}. Number : {number}\")\n"
   ]
  },
  {
   "cell_type": "code",
   "execution_count": 4,
   "metadata": {},
   "outputs": [],
   "source": [
    "#50) kullanıcdan alınan 4 basamklı sayının rakamından veya rakamlarından oluşan\n",
    "# posta kodlarını(txt dosyasında) sırayla.\n",
    "# aynı posta kodlarındaki şehirleride isim sırasına göre\n",
    "\n"
   ]
  },
  {
   "cell_type": "code",
   "execution_count": 22,
   "metadata": {},
   "outputs": [
    {
     "name": "stdout",
     "output_type": "stream",
     "text": [
      "2000 - ANTWERPEN\n",
      "2020 - ANTWERPEN\n",
      "2200 - HERENTALS,Morkhoven,Noorderwijk\n",
      "2220 - Hallaar,HEIST-OP-DEN-BERG\n",
      "2222 - Itegem,Wiekevorst\n",
      "2280 - GROBBENDONK\n",
      "2288 - Bouwel\n",
      "2800 - MECHELEN,Walem\n",
      "2820 - BONHEIDEN,Rijmenam\n",
      "2880 - BORNEM,Hingene,Mariekerke,Weert\n",
      "8000 - BRUGGE,Koolkerke\n",
      "8020 - Hertsberge,OOSTKAMP,Ruddervoorde,Waardamme\n",
      "8200 - Sint-Andries,Sint-Michiels\n",
      "8800 - Beveren,Oekene,ROESELARE,Rumbeke\n",
      "8820 - TORHOUT\n",
      "8880 - LEDEGEM,Rollegem-Kapelle,Sint-Eloois-Winkel\n"
     ]
    }
   ],
   "source": [
    "with open(\"postalcodes.txt\", \"r\", encoding = \"Latin-1\") as file:\n",
    "    txt = file.readlines()\n",
    "\n",
    "\n",
    "def zip_code(number):\n",
    "    set_number = list(set(str(number)))\n",
    "    \n",
    "    list1 = []\n",
    "    for i in set_number:\n",
    "        for j in set_number:\n",
    "            for k in set_number:\n",
    "                for n in set_number:\n",
    "                    list1.append(i+j+k+n)\n",
    "\n",
    "    list2 = []\n",
    "    for i in list1:\n",
    "        if not i.startswith(\"0\"):\n",
    "            list2.append(i)\n",
    "\n",
    "    list3 = []\n",
    "    for i in txt:\n",
    "        if i[0:4] in list2:\n",
    "            list3.append(i)\n",
    "\n",
    "    list4 = []\n",
    "    for i in list3:\n",
    "        list4.append(i.replace(\"\\t\", \" \").replace(\"\\n\", \"\"))\n",
    "\n",
    "    dict1 = dict()\n",
    "\n",
    "    for i in sorted(list4, key=str.lower):\n",
    "        if i[0:4] in dict1:\n",
    "            dict1[i[0:4]] += \",\" + i[5:]\n",
    "        else:\n",
    "            dict1[i[0:4]] = i[5:]\n",
    "\n",
    "    key_list = list(dict1.keys())\n",
    "    value_list = list(dict1.values())\n",
    "\n",
    "    for i in range(len(key_list)):\n",
    "        print(key_list[i] + \" - \" + value_list[i])\n",
    "\n",
    "\n",
    "zip_code(2800)\n",
    "    \n",
    "\n",
    "    "
   ]
  },
  {
   "cell_type": "code",
   "execution_count": 23,
   "metadata": {},
   "outputs": [
    {
     "name": "stdout",
     "output_type": "stream",
     "text": [
      "2000 - ANTWERPEN\n",
      "2020 - ANTWERPEN\n",
      "2200 - HERENTALS,Morkhoven,Noorderwijk\n",
      "2220 - Hallaar,HEIST-OP-DEN-BERG\n",
      "2222 - Itegem,Wiekevorst\n",
      "2280 - GROBBENDONK\n",
      "2288 - Bouwel\n",
      "2800 - MECHELEN,Walem\n",
      "2820 - BONHEIDEN,Rijmenam\n",
      "2880 - BORNEM,Hingene,Mariekerke,Weert\n",
      "8000 - BRUGGE,Koolkerke\n",
      "8020 - Hertsberge,OOSTKAMP,Ruddervoorde,Waardamme\n",
      "8200 - Sint-Andries,Sint-Michiels\n",
      "8800 - Beveren,Oekene,ROESELARE,Rumbeke\n",
      "8820 - TORHOUT\n",
      "8880 - LEDEGEM,Rollegem-Kapelle,Sint-Eloois-Winkel\n"
     ]
    }
   ],
   "source": [
    "with open(\"postalcodes.txt\", \"r\", encoding = \"Latin-1\") as file:\n",
    "    txt = file.readlines()\n",
    "\n",
    "\n",
    "def zip_code(number):\n",
    "    set_number = list(set(str(number)))\n",
    "    \n",
    "    list1 = [ i+j+k+n for i in set_number for j in set_number for k in set_number for n in set_number ]\n",
    "\n",
    "    list2 = [ i for i in list1 if not i.startswith(\"0\")]\n",
    "\n",
    "    list3 = [ i for i in txt if i[0:4] in list2 ]\n",
    "\n",
    "    list4 = [ i.replace(\"\\t\", \" \").replace(\"\\n\", \"\") for i in list3 ]\n",
    "\n",
    "    dict1 = dict()\n",
    "\n",
    "    for i in sorted(list4, key=str.lower):\n",
    "        if i[0:4] in dict1:\n",
    "            dict1[i[0:4]] += \",\" + i[5:]\n",
    "        else:\n",
    "            dict1[i[0:4]] = i[5:]\n",
    "\n",
    "    key_list = list(dict1.keys())\n",
    "    value_list = list(dict1.values())\n",
    "\n",
    "    for i in range(len(key_list)):\n",
    "        print(key_list[i] + \" - \" + value_list[i])\n",
    "\n",
    "zip_code(2800)"
   ]
  },
  {
   "cell_type": "code",
   "execution_count": null,
   "metadata": {},
   "outputs": [],
   "source": []
  }
 ],
 "metadata": {
  "kernelspec": {
   "display_name": "Python 3",
   "language": "python",
   "name": "python3"
  },
  "language_info": {
   "codemirror_mode": {
    "name": "ipython",
    "version": 3
   },
   "file_extension": ".py",
   "mimetype": "text/x-python",
   "name": "python",
   "nbconvert_exporter": "python",
   "pygments_lexer": "ipython3",
   "version": "3.11.1"
  },
  "orig_nbformat": 4,
  "vscode": {
   "interpreter": {
    "hash": "55cfa1d2dc12e3e5fc2931afa7a5a4f86432dfdad9e2fda08df56b7572964520"
   }
  }
 },
 "nbformat": 4,
 "nbformat_minor": 2
}
