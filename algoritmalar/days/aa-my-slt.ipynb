{
 "cells": [
  {
   "cell_type": "code",
   "execution_count": 3,
   "metadata": {},
   "outputs": [
    {
     "name": "stdout",
     "output_type": "stream",
     "text": [
      "2002,2009,2016,2023,2037,2044,2051,2058,2072,2079,2086,2093,2107,2114,2121,2128,2142,2149,2156,2163,2177,2184,2191,2198,2212,2219,2226,2233,2247,2254,2261,2268,2282,2289,2296,2303,2317,2324,2331,2338,2352,2359,2366,2373,2387,2394,2401,2408,2422,2429,2436,2443,2457,2464,2471,2478,2492,2499,2506,2513,2527,2534,2541,2548,2562,2569,2576,2583,2597,2604,2611,2618,2632,2639,2646,2653,2667,2674,2681,2688,2702,2709,2716,2723,2737,2744,2751,2758,2772,2779,2786,2793,2807,2814,2821,2828,2842,2849,2856,2863,2877,2884,2891,2898,2912,2919,2926,2933,2947,2954,2961,2968,2982,2989,2996,3003,3017,3024,3031,3038,3052,3059,3066,3073,3087,3094,3101,3108,3122,3129,3136,3143,3157,3164,3171,3178,3192,3199\n"
     ]
    }
   ],
   "source": [
    "#1\n",
    "for i in range(2000, 3201):\n",
    "    if i % 7 == 0 and i % 5 != 0:\n",
    "        print(i, end=\",\")\n",
    "print(\"\\b\")"
   ]
  },
  {
   "cell_type": "code",
   "execution_count": 10,
   "metadata": {},
   "outputs": [
    {
     "data": {
      "text/plain": [
       "40320"
      ]
     },
     "execution_count": 10,
     "metadata": {},
     "output_type": "execute_result"
    }
   ],
   "source": [
    "#2\n",
    "def fakt(x):\n",
    "    return 1 if x == 1 else x * fakt(x - 1)\n",
    "fakt(8)"
   ]
  },
  {
   "cell_type": "code",
   "execution_count": 14,
   "metadata": {},
   "outputs": [
    {
     "data": {
      "text/plain": [
       "{1: 1, 2: 4, 3: 9, 4: 16, 5: 25}"
      ]
     },
     "execution_count": 14,
     "metadata": {},
     "output_type": "execute_result"
    }
   ],
   "source": [
    "#3\n",
    "x = int(input())\n",
    "a = {i : i ** 2 for i in range(1, x+1)}\n",
    "a"
   ]
  },
  {
   "cell_type": "code",
   "execution_count": 2,
   "metadata": {},
   "outputs": [
    {
     "name": "stdout",
     "output_type": "stream",
     "text": [
      "['5', '10', '5']\n"
     ]
    },
    {
     "data": {
      "text/plain": [
       "('5', '10', '5')"
      ]
     },
     "execution_count": 2,
     "metadata": {},
     "output_type": "execute_result"
    }
   ],
   "source": [
    "#4\n",
    "b = input().split(\",\")\n",
    "print(b)\n",
    "tuple(b)"
   ]
  },
  {
   "cell_type": "code",
   "execution_count": null,
   "metadata": {},
   "outputs": [],
   "source": [
    "#5\n"
   ]
  },
  {
   "cell_type": "code",
   "execution_count": 12,
   "metadata": {},
   "outputs": [
    {
     "name": "stdout",
     "output_type": "stream",
     "text": [
      "18,22,24\n"
     ]
    }
   ],
   "source": [
    "#6\n",
    "import math\n",
    "c = 50\n",
    "h = 30\n",
    "liste = map(int, input().split(\",\"))\n",
    "def formul(d):\n",
    "    return str(int(math.sqrt((2 * c * d) / h)))\n",
    "\n",
    "print(\",\".join(list(map(formul, liste))))\n"
   ]
  },
  {
   "cell_type": "code",
   "execution_count": 17,
   "metadata": {},
   "outputs": [
    {
     "data": {
      "text/plain": [
       "[[0, 0, 0, 0, 0], [0, 1, 2, 3, 4], [0, 2, 4, 6, 8]]"
      ]
     },
     "execution_count": 17,
     "metadata": {},
     "output_type": "execute_result"
    }
   ],
   "source": [
    "#7\n",
    "x = int(input())\n",
    "y = int(input())\n",
    "liste = [[i * j for j in range(y)] for i in range(x)]\n",
    "liste"
   ]
  },
  {
   "cell_type": "code",
   "execution_count": 24,
   "metadata": {},
   "outputs": [
    {
     "name": "stdout",
     "output_type": "stream",
     "text": [
      "bag,hello,without,world\n"
     ]
    }
   ],
   "source": [
    "#8\n",
    "print(\",\".join(sorted(input().split(\",\"))))"
   ]
  },
  {
   "cell_type": "code",
   "execution_count": 3,
   "metadata": {},
   "outputs": [
    {
     "name": "stdout",
     "output_type": "stream",
     "text": [
      "PRACTICE MAKES PERFECT\n",
      "HELLO WORLD\n"
     ]
    }
   ],
   "source": [
    "#9\n",
    "liste = []\n",
    "while True:\n",
    "    ifade = input()\n",
    "    if ifade:\n",
    "        liste.append(ifade.upper())\n",
    "    else:\n",
    "        break\n",
    "for i in liste:\n",
    "    print(i)"
   ]
  },
  {
   "cell_type": "code",
   "execution_count": 4,
   "metadata": {},
   "outputs": [
    {
     "name": "stdout",
     "output_type": "stream",
     "text": [
      "HELLO\n",
      "DÜNYA\n"
     ]
    }
   ],
   "source": [
    "#9-2\n",
    "while True:\n",
    "    ifade = input()\n",
    "    if ifade:\n",
    "        print(ifade.upper())\n",
    "    else:\n",
    "        break"
   ]
  },
  {
   "cell_type": "code",
   "execution_count": 3,
   "metadata": {},
   "outputs": [
    {
     "name": "stdout",
     "output_type": "stream",
     "text": [
      "again and hello makes perfect practice world\n"
     ]
    }
   ],
   "source": [
    "#10\n",
    "a = sorted(set(input().split()))\n",
    "print(\" \".join(a))"
   ]
  },
  {
   "cell_type": "code",
   "execution_count": 16,
   "metadata": {},
   "outputs": [
    {
     "name": "stdout",
     "output_type": "stream",
     "text": [
      "1010\n"
     ]
    }
   ],
   "source": [
    "#11\n",
    "a = input().split(\",\")\n",
    "for i in a:\n",
    "    if int(i, 2) % 5 == 0:\n",
    "        print(i)"
   ]
  },
  {
   "cell_type": "code",
   "execution_count": null,
   "metadata": {},
   "outputs": [],
   "source": [
    "#12\n",
    "for i in range(1000, 3001):\n",
    "    a = 0\n",
    "    for j in str(i):\n",
    "        if int(j) % 2 == 0:\n",
    "            a += 1\n",
    "            if a == 4:\n",
    "                print(i)\n"
   ]
  },
  {
   "cell_type": "code",
   "execution_count": 31,
   "metadata": {},
   "outputs": [
    {
     "name": "stdout",
     "output_type": "stream",
     "text": [
      "10 3\n"
     ]
    }
   ],
   "source": [
    "#13\n",
    "letters = 0\n",
    "digits = 0\n",
    "for i in input():\n",
    "    if i.isalpha():\n",
    "        letters += 1\n",
    "    elif i.isnumeric():\n",
    "        digits += 1\n",
    "print(letters, digits)"
   ]
  },
  {
   "cell_type": "code",
   "execution_count": 32,
   "metadata": {},
   "outputs": [
    {
     "name": "stdout",
     "output_type": "stream",
     "text": [
      "lower case : 9\n",
      "uppers case : 1\n"
     ]
    }
   ],
   "source": [
    "#14\n",
    "lowers = 0\n",
    "uppers = 0\n",
    "for i in input():\n",
    "    if i.islower():\n",
    "        lowers += 1\n",
    "    elif i.isupper():\n",
    "        uppers += 1\n",
    "print(f\"lower case : {lowers}\") \n",
    "print(f\"uppers case : {uppers}\") "
   ]
  },
  {
   "cell_type": "code",
   "execution_count": null,
   "metadata": {},
   "outputs": [],
   "source": [
    "#15\n"
   ]
  }
 ],
 "metadata": {
  "kernelspec": {
   "display_name": "Python 3",
   "language": "python",
   "name": "python3"
  },
  "language_info": {
   "codemirror_mode": {
    "name": "ipython",
    "version": 3
   },
   "file_extension": ".py",
   "mimetype": "text/x-python",
   "name": "python",
   "nbconvert_exporter": "python",
   "pygments_lexer": "ipython3",
   "version": "3.11.1"
  },
  "orig_nbformat": 4
 },
 "nbformat": 4,
 "nbformat_minor": 2
}
