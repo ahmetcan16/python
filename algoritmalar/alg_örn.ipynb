{
 "cells": [
  {
   "cell_type": "code",
   "execution_count": 1,
   "metadata": {},
   "outputs": [
    {
     "name": "stdout",
     "output_type": "stream",
     "text": [
      "{'B': 1, 'u': 13, ' ': 78, 'p': 9, 'r': 35, 'o': 24, 'g': 15, 'a': 58, 'm': 23, 'l': 42, 'd': 31, 'i': 49, 'G': 2, 'V': 2, 'n': 59, 'R': 2, 's': 17, 'ı': 29, 'H': 1, 'b': 11, 'c': 4, '\\n': 9, 't': 15, 'f': 2, '9': 1, '0': 1, '’': 2, 'y': 15, 'ş': 7, 'e': 34, '.': 5, 'Ç': 1, 'ğ': 3, ',': 6, 'P': 4, 'h': 7, 'k': 11, 'ü': 5, 'A': 2, 'z': 3, 'T': 1, 'M': 2, 'İ': 1, 'F': 1, 'C': 1, 'ö': 2, 'ç': 2}\n"
     ]
    }
   ],
   "source": [
    "#Yapmamız gereken bir istatistik çalışması gereğince bu metinde her harfin kaç kez geçtiğini\n",
    "#hesaplamanız gerekiyor\n",
    "\n",
    "metin = \"\"\"Bu programlama dili Guido Van Rossum adlı Hollandalı bir programcı\n",
    "tarafından 90’lı yılların başında geliştirilmeye başlanmıştır. Çoğu insan,\n",
    "isminin Python olmasına aldanarak, bu programlama dilinin, adını piton\n",
    "yılanından aldığını düşünür. Ancak zannedildiğinin aksine bu programlama\n",
    "dilinin adı piton yılanından gelmez. Guido Van Rossum bu programlama dilini,\n",
    "The Monty Python adlı bir İngiliz komedi grubunun, Monty Python’s Flying\n",
    "Circus adlı gösterisinden esinlenerek adlandırmıştır. Ancak her ne kadar\n",
    "gerçek böyle olsa da, Python programlama dilinin pek çok yerde bir yılan\n",
    "figürü ile temsil edilmesi neredeyse bir gelenek halini almıştır.\n",
    "\"\"\"\n",
    "harf_dict = {}\n",
    "for i in metin:\n",
    "    if i in harf_dict:\n",
    "        harf_dict[i] += 1\n",
    "    else:\n",
    "        harf_dict[i] = 1\n",
    "print(harf_dict)"
   ]
  },
  {
   "cell_type": "code",
   "execution_count": 13,
   "metadata": {},
   "outputs": [
    {
     "data": {
      "text/plain": [
       "['Ankara', 'aNkara', 'anKara', 'ankAra', 'ankaRa', 'ankarA']"
      ]
     },
     "execution_count": 13,
     "metadata": {},
     "output_type": "execute_result"
    }
   ],
   "source": [
    "# Kullanıcıdan bir kelime alın ve bu kelimenin ilk harfinden başlayarak \n",
    "#her seferinde bir harfi büyük harf olacak şekilde son harfe kadar işlemi \n",
    "#tekrarlayan ve sonuçları liste içinde çıktı veren bir algoritma oluşturun.\n",
    "#Example: ['Ankara', 'aNkara', 'anKara', 'ankAra', 'ankaRa', 'ankarA']\n",
    "x = input(\"Enter a word\")\n",
    "[ x[:i] + x[i].upper() + x[i + 1:] for i in range(len(x)) ]\n"
   ]
  },
  {
   "cell_type": "code",
   "execution_count": null,
   "metadata": {},
   "outputs": [],
   "source": []
  },
  {
   "cell_type": "code",
   "execution_count": null,
   "metadata": {},
   "outputs": [],
   "source": []
  },
  {
   "cell_type": "code",
   "execution_count": null,
   "metadata": {},
   "outputs": [],
   "source": []
  }
 ],
 "metadata": {
  "kernelspec": {
   "display_name": "Python 3",
   "language": "python",
   "name": "python3"
  },
  "language_info": {
   "codemirror_mode": {
    "name": "ipython",
    "version": 3
   },
   "file_extension": ".py",
   "mimetype": "text/x-python",
   "name": "python",
   "nbconvert_exporter": "python",
   "pygments_lexer": "ipython3",
   "version": "3.11.1"
  },
  "orig_nbformat": 4,
  "vscode": {
   "interpreter": {
    "hash": "55cfa1d2dc12e3e5fc2931afa7a5a4f86432dfdad9e2fda08df56b7572964520"
   }
  }
 },
 "nbformat": 4,
 "nbformat_minor": 2
}
