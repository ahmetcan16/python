{
 "cells": [
  {
   "cell_type": "code",
   "execution_count": 41,
   "metadata": {},
   "outputs": [
    {
     "name": "stdout",
     "output_type": "stream",
     "text": [
      "7\n"
     ]
    }
   ],
   "source": [
    "#aralarında boşluk bırakarak sayılar input edilecek. bu sayıların en büyük 2.sini bulalım\n",
    "arr = map(int, input().split()) # girilen sayıları splitle boşluklardan ayırarak int fonksiyonuyla mapledim\n",
    "print(sorted(list(set(arr)))[-2]) # set yapıp aynı sayılardan kurtularak list ledim ve sorted le küçükten büyüğe sıraladım."
   ]
  },
  {
   "cell_type": "code",
   "execution_count": 54,
   "metadata": {},
   "outputs": [
    {
     "data": {
      "text/plain": [
       "'değişiklik'"
      ]
     },
     "execution_count": 54,
     "metadata": {},
     "output_type": "execute_result"
    }
   ],
   "source": [
    "# string bir ifadenin istediğimiz indexindeki karakteri slip onun yerine başka bir karakter yazdırıp ifadeyi döndürdük\n",
    "def mutate_string(string, position, character):\n",
    "    l = list(string)\n",
    "    l[position] = character\n",
    "    string = \"\".join(l)\n",
    "    return string\n",
    "mutate_string(\"deyişiklik\", 2, \"ğ\")"
   ]
  },
  {
   "cell_type": "code",
   "execution_count": 61,
   "metadata": {},
   "outputs": [
    {
     "data": {
      "text/plain": [
       "'ben-pythonu-inşaallah-ögrenicem'"
      ]
     },
     "execution_count": 61,
     "metadata": {},
     "output_type": "execute_result"
    }
   ],
   "source": [
    "#verilen ifadenin boşluklarının yerine - koyalım\n",
    "def split_and_join(line):\n",
    "    return \"-\".join((line.split()))\n",
    "split_and_join(\"ben pythonu inşaallah ögrenicem\")"
   ]
  },
  {
   "cell_type": "code",
   "execution_count": 47,
   "metadata": {},
   "outputs": [
    {
     "data": {
      "text/plain": [
       "'Hello   World  Lol 123a'"
      ]
     },
     "execution_count": 47,
     "metadata": {},
     "output_type": "execute_result"
    }
   ],
   "source": [
    "# string ifadenin bütün baş harflerini büyük yapıcaz.\n",
    "# sayıyla başlıyorsa gerisi etkilenmicek ve boşluklar etkilenmicek.\n",
    "def solve(s):\n",
    "    for i in s.split():\n",
    "        s = s.replace(i, i.capitalize())\n",
    "    return s\n",
    "solve(\"hello   worLD  lol 123a\")"
   ]
  },
  {
   "cell_type": "code",
   "execution_count": 61,
   "metadata": {},
   "outputs": [
    {
     "name": "stdout",
     "output_type": "stream",
     "text": [
      "[[0, 0, 0], [0, 0, 1], [0, 1, 0], [0, 1, 2], [0, 2, 1], [0, 2, 2], [1, 0, 0], [1, 0, 2], [1, 1, 1], [1, 1, 2], [1, 2, 0], [1, 2, 1], [1, 2, 2], [2, 0, 1], [2, 0, 2], [2, 1, 0], [2, 1, 1], [2, 1, 2], [2, 2, 0], [2, 2, 1], [2, 2, 2]]\n"
     ]
    }
   ],
   "source": [
    "# x + y + z != n olanları liste halinde yazdır\n",
    "x = int(input())\n",
    "y = int(input())\n",
    "z = int(input())\n",
    "n = int(input())\n",
    "print([[i,j,k] for i in range(x+1) for j in range(y+1) for k in range(z+1) if i+j+k!=n])"
   ]
  },
  {
   "cell_type": "code",
   "execution_count": 10,
   "metadata": {},
   "outputs": [
    {
     "name": "stdout",
     "output_type": "stream",
     "text": [
      "qA2\n",
      "True\n",
      "True\n",
      "True\n",
      "True\n",
      "True\n"
     ]
    }
   ],
   "source": [
    "#girilen ifadenin içinde bir tane bile varsa True döndür\n",
    "s = input()\n",
    "print(s)\n",
    "print(any(map(str.isalnum, s))) # ifadeye map ile isalnum fonsiyonunu gezdirdik. any herhangi bir true varsa true döndürdü.\n",
    "print(any(map(str.isalpha, s)))\n",
    "print(any(map(str.isdigit, s)))\n",
    "print(any(map(str.islower, s)))\n",
    "print(any(map(str.isupper, s)))"
   ]
  },
  {
   "cell_type": "code",
   "execution_count": 58,
   "metadata": {},
   "outputs": [
    {
     "name": "stdout",
     "output_type": "stream",
     "text": [
      "True\n"
     ]
    }
   ],
   "source": [
    "a = input().split()\n",
    "x = int(a[0])\n",
    "y = int(a[1])\n",
    "f = eval(input())\n",
    "print(f == y)"
   ]
  },
  {
   "cell_type": "code",
   "execution_count": 2,
   "metadata": {},
   "outputs": [
    {
     "name": "stdout",
     "output_type": "stream",
     "text": [
      "12.00\n"
     ]
    }
   ],
   "source": [
    "a = 12\n",
    "print(\"{0:.2f}\".format(a)) # noktadan sonra kaç basamak yazıcağımızı belirledik"
   ]
  },
  {
   "attachments": {},
   "cell_type": "markdown",
   "metadata": {},
   "source": [
    "ınput: abcdcdc\n",
    "ınput: cdc\n",
    "input2 kaç kere geçiyor input1 de"
   ]
  },
  {
   "cell_type": "code",
   "execution_count": null,
   "metadata": {},
   "outputs": [],
   "source": [
    "def count_substring(string, sub_string):\n",
    "    count = 0\n",
    "    for i in range(len(string)):\n",
    "        if string[i:i + int(len(sub_string))] == sub_string:\n",
    "            count += 1\n",
    "    return count\n",
    "\n",
    "if __name__ == '__main__':\n",
    "    string = input().strip()\n",
    "    sub_string = input().strip()\n",
    "    \n",
    "    count = count_substring(string, sub_string)\n",
    "    print(count)"
   ]
  },
  {
   "cell_type": "code",
   "execution_count": null,
   "metadata": {},
   "outputs": [],
   "source": [
    "#xox oyunu\n",
    "tahta = [[\"___\", \"___\", \"___\"],\n",
    "[\"___\", \"___\", \"___\"],\n",
    "[\"___\", \"___\", \"___\"]]\n",
    "print(\"\\n\"*5)\n",
    "for i in tahta:\n",
    "    print(\"\\t\".expandtabs(20), *i, end=\"\\n\"*2)\n",
    "kazanma_ölçütleri = [[[0, 0], [1, 0], [2, 0]],\n",
    "[[0, 1], [1, 1], [2, 1]],\n",
    "[[0, 2], [1, 2], [2, 2]],\n",
    "[[0, 0], [0, 1], [0, 2]],\n",
    "[[1, 0], [1, 1], [1, 2]],\n",
    "[[2, 0], [2, 1], [2, 2]],\n",
    "[[0, 0], [1, 1], [2, 2]],\n",
    "[[0, 2], [1, 1], [2, 0]]]\n",
    "x_durumu = []\n",
    "y_durumu = []\n",
    "\n",
    "sıra = 1\n",
    "while True:\n",
    "    if sıra % 2 == 0:\n",
    "        işaret = \"X\".center(3)\n",
    "    else:\n",
    "        işaret = \"O\".center(3)\n",
    "    print()\n",
    "    print(\"İŞARET: {} \\n\".format(işaret))\n",
    "    x = input(\"yukarıdan aşağıya [1, 2, 3]: \".ljust(30))\n",
    "    if x == \"q\":\n",
    "        break\n",
    "    y = input(\"soldan sağa [1, 2, 3]: \".ljust(30))\n",
    "    if y == \"q\":\n",
    "        break\n",
    "\n",
    "x = int(x)-1\n",
    "y = int(y)-1\n",
    "print(\"\\n\"*15)\n",
    "if tahta[x][y] == \"___\":\n",
    "    tahta[x][y] = işaret\n",
    "    if işaret == \"X\".center(3):\n",
    "        x_durumu += [[x, y]]\n",
    "    elif işaret == \"O\".center(3):\n",
    "        o_durumu += [[x, y]]\n",
    "    sıra += 1\n",
    "else:\n",
    "    print(\"\\nORASI DOLU! TEKRAR DENEYİN\\n\")\n",
    "for i in tahta:\n",
    "    print(\"\\t\".expandtabs(30), *i, end=\"\\n\"*2)\n",
    "\n",
    "for i in kazanma_ölçütleri:\n",
    "    o = [z for z in i if z in o_durumu]\n",
    "    x = [z for z in i if z in x_durumu]\n",
    "    if len(o) == len(i):\n",
    "        print(\"O KAZANDI!\")\n",
    "        quit()\n",
    "    if len(x) == len(i):\n",
    "        print(\"X KAZANDI!\")\n",
    "        quit()\n",
    "\n"
   ]
  },
  {
   "cell_type": "code",
   "execution_count": 4,
   "metadata": {},
   "outputs": [
    {
     "name": "stdout",
     "output_type": "stream",
     "text": [
      "Yeterli sayı girilmedi\n"
     ]
    }
   ],
   "source": [
    "# kullanıcadan aldığınız sayıların birbiriyle çarpımını döndürün\n",
    "# q girince döngü bitsin\n",
    "# 2 sayıdan az giriş olursa söylesin\n",
    "sonuc = 1\n",
    "sayılar = []\n",
    "while True:\n",
    "    sayı = input(\"bir sayı girin(eğer sayılarınız bittiyse q girin)\")\n",
    "    if sayı == \"q\":\n",
    "        break\n",
    "    sayılar.append(sayı)\n",
    "    sonuc *= int(sayı)\n",
    "if len(sayılar) < 2:\n",
    "    print( \"Yeterli sayı girilmedi\")\n",
    "else:\n",
    "    print(sonuc)"
   ]
  },
  {
   "cell_type": "code",
   "execution_count": 2,
   "metadata": {},
   "outputs": [
    {
     "name": "stdout",
     "output_type": "stream",
     "text": [
      "{'a': 0, 'b': 1, 'c': 2, 'ç': 3, 'd': 4, 'e': 5, 'f': 6, 'g': 7, 'ğ': 8, 'h': 9, 'ı': 10, 'i': 11, 'j': 12, 'k': 13, 'l': 14, 'm': 15, 'n': 16, 'o': 17, 'ö': 18, 'p': 19, 'r': 20, 's': 21, 'ş': 22, 't': 23, 'u': 24, 'ü': 25, 'v': 26, 'y': 27, 'z': 28}\n"
     ]
    }
   ],
   "source": [
    "# harfleri numaralandırarak sözlük oluştur.\n",
    "harfler = 'abcçdefgğhıijklmnoöprsştuüvyz'\n",
    "istenen = {}\n",
    "for i in harfler:\n",
    "    istenen[i] = harfler.index(i)\n",
    "print(istenen)"
   ]
  },
  {
   "cell_type": "code",
   "execution_count": 22,
   "metadata": {},
   "outputs": [
    {
     "name": "stdout",
     "output_type": "stream",
     "text": [
      "{'ahmet': 5, 'mehmet': 6, 'fırat': 5, 'zeynep': 6, 'selma': 5, 'abdullah': 8, 'cem': 3}\n",
      "\n",
      "ahmet = 5\n",
      "mehmet = 6\n",
      "fırat = 5\n",
      "zeynep = 6\n",
      "selma = 5\n",
      "abdullah = 8\n",
      "cem = 3\n"
     ]
    }
   ],
   "source": [
    "#isimlerin kaç harften oluştuğunu gösteren bir sözlük oluşturun\n",
    "isimler = [\"ahmet\", \"mehmet\", \"fırat\", \"zeynep\", \"selma\", \"abdullah\", \"cem\"]\n",
    "istenen = {}\n",
    "for i in isimler:\n",
    "    istenen[i] = len(i)\n",
    "print(istenen, end=\"\\n\"*2)\n",
    "for j, k in istenen.items():\n",
    "    print(f\"{j} = {k}\")"
   ]
  },
  {
   "cell_type": "code",
   "execution_count": 6,
   "metadata": {},
   "outputs": [
    {
     "ename": "IndexError",
     "evalue": "list index out of range",
     "output_type": "error",
     "traceback": [
      "\u001b[1;31m---------------------------------------------------------------------------\u001b[0m",
      "\u001b[1;31mIndexError\u001b[0m                                Traceback (most recent call last)",
      "Cell \u001b[1;32mIn[6], line 12\u001b[0m\n\u001b[0;32m     10\u001b[0m note\u001b[39m.\u001b[39msort()\n\u001b[0;32m     11\u001b[0m \u001b[39mfor\u001b[39;00m j \u001b[39min\u001b[39;00m liste:\n\u001b[1;32m---> 12\u001b[0m     \u001b[39mif\u001b[39;00m j[\u001b[39m1\u001b[39m] \u001b[39m==\u001b[39m note[\u001b[39m1\u001b[39;49m]:\n\u001b[0;32m     13\u001b[0m         student\u001b[39m.\u001b[39mappend(j[\u001b[39m0\u001b[39m])\n\u001b[0;32m     14\u001b[0m student\u001b[39m.\u001b[39msort()\n",
      "\u001b[1;31mIndexError\u001b[0m: list index out of range"
     ]
    }
   ],
   "source": [
    "\n",
    "for _ in range(int(input())):\n",
    "    name = input()\n",
    "    score = float(input())\n",
    "    liste = []\n",
    "    student = []\n",
    "    note = []\n",
    "    liste.append([name, score])\n",
    "    for i in liste:\n",
    "        note.append(i[1])\n",
    "    note.sort()\n",
    "    for j in liste:\n",
    "        if j[1] == note[1]:\n",
    "            student.append(j[0])\n",
    "    student.sort()\n",
    "    for isim in student:\n",
    "        print(isim)\n",
    "    "
   ]
  },
  {
   "cell_type": "code",
   "execution_count": null,
   "metadata": {},
   "outputs": [],
   "source": []
  }
 ],
 "metadata": {
  "kernelspec": {
   "display_name": "Python 3",
   "language": "python",
   "name": "python3"
  },
  "language_info": {
   "codemirror_mode": {
    "name": "ipython",
    "version": 3
   },
   "file_extension": ".py",
   "mimetype": "text/x-python",
   "name": "python",
   "nbconvert_exporter": "python",
   "pygments_lexer": "ipython3",
   "version": "3.11.1"
  },
  "orig_nbformat": 4,
  "vscode": {
   "interpreter": {
    "hash": "55cfa1d2dc12e3e5fc2931afa7a5a4f86432dfdad9e2fda08df56b7572964520"
   }
  }
 },
 "nbformat": 4,
 "nbformat_minor": 2
}
