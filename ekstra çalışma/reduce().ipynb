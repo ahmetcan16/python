{
 "cells": [
  {
   "cell_type": "code",
   "execution_count": 1,
   "metadata": {},
   "outputs": [],
   "source": [
    "from functools import reduce"
   ]
  },
  {
   "cell_type": "code",
   "execution_count": 16,
   "metadata": {},
   "outputs": [
    {
     "name": "stdout",
     "output_type": "stream",
     "text": [
      "31\n",
      "4320\n"
     ]
    }
   ],
   "source": [
    "liste = [2, 4, 6, 9, 10]\n",
    "\n",
    "print(reduce(lambda x, y: x + y, liste)) # bütün elemanlara sırayla işlemi uyguladı\n",
    "\n",
    "print(reduce(lambda x, y: x * y, liste))"
   ]
  },
  {
   "cell_type": "code",
   "execution_count": 8,
   "metadata": {},
   "outputs": [],
   "source": [
    "from math import gcd\n",
    "#ebob"
   ]
  },
  {
   "cell_type": "code",
   "execution_count": 12,
   "metadata": {},
   "outputs": [],
   "source": [
    "# ekok(a, b) = (a * b) / ebob(a, b)"
   ]
  },
  {
   "cell_type": "code",
   "execution_count": 17,
   "metadata": {},
   "outputs": [
    {
     "data": {
      "text/plain": [
       "24"
      ]
     },
     "execution_count": 17,
     "metadata": {},
     "output_type": "execute_result"
    }
   ],
   "source": [
    "def ekok(x, y):\n",
    "    return int((x * y) / gcd(x, y))\n",
    "ekok(6, 8)"
   ]
  },
  {
   "cell_type": "code",
   "execution_count": 21,
   "metadata": {},
   "outputs": [
    {
     "data": {
      "text/plain": [
       "180"
      ]
     },
     "execution_count": 21,
     "metadata": {},
     "output_type": "execute_result"
    }
   ],
   "source": [
    "ekok2 = reduce(ekok, [2, 4, 6, 9, 10]) # bütün hepsi için ekok buldu\n",
    "ekok2"
   ]
  },
  {
   "cell_type": "code",
   "execution_count": 30,
   "metadata": {},
   "outputs": [],
   "source": [
    "def tas_makas(a, b):\n",
    "    kume = {a, b}\n",
    "    if a == b:\n",
    "        return a\n",
    "    if kume == {\"taş\", \"makas\"}:\n",
    "        return \"taş\"\n",
    "    if kume == {\"taş\", \"kağıt\"}:\n",
    "        return \"kağıt\"\n",
    "    if kume == {\"kağıt\", \"makas\"}:\n",
    "        return \"makas\""
   ]
  },
  {
   "cell_type": "code",
   "execution_count": 34,
   "metadata": {},
   "outputs": [
    {
     "data": {
      "text/plain": [
       "'makas'"
      ]
     },
     "execution_count": 34,
     "metadata": {},
     "output_type": "execute_result"
    }
   ],
   "source": [
    "liste2 = [\"makas\", \"taş\", \"kağıt\", \"kağıt\", \"makas\"]\n",
    "reduce(tas_makas, liste2)\n",
    "\n",
    "# [0 ,1] için makas, taş = taş kazandı \n",
    "# [0, 1] den gelen ile [2] taş, kağıt = kağıt\n",
    "# [1, 2] den gelen ile [3] kağıt, kağıt = kağıt\n",
    "# [2, 3] den gelen ile [4] kağıt, makas = makas\n"
   ]
  },
  {
   "cell_type": "code",
   "execution_count": null,
   "metadata": {},
   "outputs": [],
   "source": []
  }
 ],
 "metadata": {
  "kernelspec": {
   "display_name": "Python 3",
   "language": "python",
   "name": "python3"
  },
  "language_info": {
   "codemirror_mode": {
    "name": "ipython",
    "version": 3
   },
   "file_extension": ".py",
   "mimetype": "text/x-python",
   "name": "python",
   "nbconvert_exporter": "python",
   "pygments_lexer": "ipython3",
   "version": "3.11.1"
  },
  "orig_nbformat": 4
 },
 "nbformat": 4,
 "nbformat_minor": 2
}
