{
 "cells": [
  {
   "cell_type": "code",
   "execution_count": 1,
   "metadata": {},
   "outputs": [
    {
     "name": "stdout",
     "output_type": "stream",
     "text": [
      "string index out of range\n",
      "finally bloğu çalışıyor\n"
     ]
    }
   ],
   "source": [
    "try:\n",
    "    a = 10\n",
    "    b = 5\n",
    "    if b == 0:\n",
    "        raise  ZeroDivisionError # eğer b = 0 ise , burdan direk excepte fırlattık\n",
    "    c = a / b\n",
    "    x = 4\n",
    "    d = x\n",
    "    isim = \"Ali\"\n",
    "    karakter = isim[10]\n",
    "   \n",
    "except ZeroDivisionError:\n",
    "    print(\"123\")\n",
    "except NameError:\n",
    "    print(\"Bu değişken daha önce tanımlanmamış\")\n",
    "except IndexError as e:\n",
    "    print(e)\n",
    "except Exception: \n",
    "    print(\"bilinmeyen bir hata oluştu\")\n",
    "\n",
    "else: # exceptlerin hiç biri çalışmazsa else çalışır\n",
    "    print(\"else bloğu çalışıyor\")\n",
    "    print(c, karakter, sep=\"--->\")\n",
    "\n",
    "finally: # her halükarda çalışır\n",
    "    print(\"finally bloğu çalışıyor\")\n"
   ]
  }
 ],
 "metadata": {
  "kernelspec": {
   "display_name": "Python 3",
   "language": "python",
   "name": "python3"
  },
  "language_info": {
   "codemirror_mode": {
    "name": "ipython",
    "version": 3
   },
   "file_extension": ".py",
   "mimetype": "text/x-python",
   "name": "python",
   "nbconvert_exporter": "python",
   "pygments_lexer": "ipython3",
   "version": "3.11.1"
  },
  "orig_nbformat": 4
 },
 "nbformat": 4,
 "nbformat_minor": 2
}
