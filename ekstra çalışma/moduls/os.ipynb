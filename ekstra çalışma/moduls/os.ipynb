{
 "cells": [
  {
   "attachments": {},
   "cell_type": "markdown",
   "metadata": {},
   "source": [
    "os işletim sistemimizle alakalı işlemler yapabilmek için"
   ]
  },
  {
   "cell_type": "code",
   "execution_count": 1,
   "metadata": {},
   "outputs": [],
   "source": [
    "import os"
   ]
  },
  {
   "cell_type": "code",
   "execution_count": 2,
   "metadata": {},
   "outputs": [
    {
     "data": {
      "text/plain": [
       "'c:\\\\Users\\\\ertek\\\\Desktop\\\\data science 2023\\\\python 2023\\\\Python\\\\ekstra çalışma\\\\moduls'"
      ]
     },
     "execution_count": 2,
     "metadata": {},
     "output_type": "execute_result"
    }
   ],
   "source": [
    "os.getcwd() # hangi klasördeyiz"
   ]
  },
  {
   "cell_type": "code",
   "execution_count": null,
   "metadata": {},
   "outputs": [],
   "source": [
    "--os.chdir(\"c:\\\\Users\\\\ertek\\\\Desktop\\\\data science 2023\\\\python 2023\\\\Python\") #notebookumuz bu klasöre taşınır"
   ]
  },
  {
   "cell_type": "code",
   "execution_count": 8,
   "metadata": {},
   "outputs": [],
   "source": [
    "--os.mkdir(\"denemeKlasoru\") # klasör oluşturdu\n",
    "--os.rmdir(\"denemeKlasoru\") # klasörü sildi\n",
    "--os.rename(\"denemeKlasoru\", \"yeni_isim\") # isim değiştirme\n"
   ]
  },
  {
   "cell_type": "code",
   "execution_count": 6,
   "metadata": {},
   "outputs": [
    {
     "name": "stdout",
     "output_type": "stream",
     "text": [
      "['0-import-create.ipynb', 'create_modul', 'datetime.ipynb', 'os.ipynb', 'random.ipynb', 'time.ipynb']\n"
     ]
    }
   ],
   "source": [
    "print(os.listdir())# bulunduğumuz klasörün içeriğini gösterdi"
   ]
  },
  {
   "cell_type": "code",
   "execution_count": null,
   "metadata": {},
   "outputs": [],
   "source": []
  }
 ],
 "metadata": {
  "kernelspec": {
   "display_name": "Python 3",
   "language": "python",
   "name": "python3"
  },
  "language_info": {
   "codemirror_mode": {
    "name": "ipython",
    "version": 3
   },
   "file_extension": ".py",
   "mimetype": "text/x-python",
   "name": "python",
   "nbconvert_exporter": "python",
   "pygments_lexer": "ipython3",
   "version": "3.11.1"
  },
  "orig_nbformat": 4
 },
 "nbformat": 4,
 "nbformat_minor": 2
}
