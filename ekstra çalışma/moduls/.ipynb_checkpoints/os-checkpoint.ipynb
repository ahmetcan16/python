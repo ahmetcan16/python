{
 "cells": [
  {
   "cell_type": "code",
   "execution_count": 1,
   "metadata": {
    "ExecuteTime": {
     "end_time": "2023-04-25T18:46:49.220191Z",
     "start_time": "2023-04-25T18:46:37.711908Z"
    }
   },
   "outputs": [
    {
     "name": "stdout",
     "output_type": "stream",
     "text": [
      "Collecting django\n",
      "  Downloading Django-4.2-py3-none-any.whl (8.0 MB)\n",
      "     ---------------------------------------- 8.0/8.0 MB 5.1 MB/s eta 0:00:00\n",
      "Collecting tzdata\n",
      "  Using cached tzdata-2023.3-py2.py3-none-any.whl (341 kB)\n",
      "Collecting sqlparse>=0.3.1\n",
      "  Downloading sqlparse-0.4.4-py3-none-any.whl (41 kB)\n",
      "     ---------------------------------------- 41.2/41.2 kB 1.9 MB/s eta 0:00:00\n",
      "Collecting asgiref<4,>=3.6.0\n",
      "  Downloading asgiref-3.6.0-py3-none-any.whl (23 kB)\n",
      "Installing collected packages: tzdata, sqlparse, asgiref, django\n",
      "Successfully installed asgiref-3.6.0 django-4.2 sqlparse-0.4.4 tzdata-2023.3\n",
      "CPU times: total: 0 ns\n",
      "Wall time: 11.5 s\n"
     ]
    }
   ],
   "source": [
    "%%time\n",
    "!pip install django"
   ]
  },
  {
   "cell_type": "markdown",
   "metadata": {},
   "source": [
    "# OS : operating system\n",
    "os işletim sistemimizle alakalı işlemler yapabilmek için"
   ]
  },
  {
   "cell_type": "code",
   "execution_count": 5,
   "metadata": {
    "ExecuteTime": {
     "end_time": "2023-04-25T19:03:36.952475Z",
     "start_time": "2023-04-25T19:03:36.947894Z"
    }
   },
   "outputs": [],
   "source": [
    "import os"
   ]
  },
  {
   "cell_type": "code",
   "execution_count": 15,
   "metadata": {
    "ExecuteTime": {
     "end_time": "2023-04-25T19:36:25.602774Z",
     "start_time": "2023-04-25T19:36:25.597282Z"
    }
   },
   "outputs": [
    {
     "data": {
      "text/plain": [
       "'C:\\\\Users\\\\ertek\\\\Desktop\\\\data science 2023\\\\python 2023\\\\Python\\\\ekstra çalışma\\\\moduls'"
      ]
     },
     "execution_count": 15,
     "metadata": {},
     "output_type": "execute_result"
    }
   ],
   "source": [
    "os.getcwd() # hangi klasördeyiz"
   ]
  },
  {
   "cell_type": "code",
   "execution_count": null,
   "metadata": {},
   "outputs": [],
   "source": [
    "# os.chdir(\"c:\\\\Users\\\\ertek\\\\Desktop\\\\data science 2023\\\\python 2023\\\\Python\") #notebookumuz bu klasöre taşınır\n",
    "# %cd \"Python\" #aynı şeyi yapar"
   ]
  },
  {
   "cell_type": "code",
   "execution_count": 8,
   "metadata": {},
   "outputs": [],
   "source": [
    "# os.mkdir(\"denemeKlasoru\") # klasör oluşturdu\n",
    "# os.rmdir(\"denemeKlasoru\") # klasörü sildi\n",
    "# os.rename(\"denemeKlasoru\", \"yeni_isim\") # isim değiştirme\n",
    "# os.makedirs(\"test/test2/test3\") iç içe klasör oluşturma\n"
   ]
  },
  {
   "cell_type": "code",
   "execution_count": 8,
   "metadata": {
    "ExecuteTime": {
     "end_time": "2023-04-25T19:27:06.649628Z",
     "start_time": "2023-04-25T19:27:06.645654Z"
    }
   },
   "outputs": [
    {
     "name": "stdout",
     "output_type": "stream",
     "text": [
      "['.ipynb_checkpoints', '0-import-create.ipynb', 'create_modul', 'datetime.ipynb', 'math.ipynb', 'os.ipynb', 'random.ipynb', 'time.ipynb']\n"
     ]
    }
   ],
   "source": [
    "print(os.listdir())# içinde bulunduğumuz klasörün içeriğini gösterdi"
   ]
  },
  {
   "cell_type": "code",
   "execution_count": 10,
   "metadata": {
    "ExecuteTime": {
     "end_time": "2023-04-25T19:28:17.930974Z",
     "start_time": "2023-04-25T19:28:17.925905Z"
    }
   },
   "outputs": [
    {
     "data": {
      "text/plain": [
       "['my_modul.py', '__init__.py', '__pycache__']"
      ]
     },
     "execution_count": 10,
     "metadata": {},
     "output_type": "execute_result"
    }
   ],
   "source": [
    "os.listdir(\"create_modul\") # create modul klasorundeki dosyaları gösterdi"
   ]
  },
  {
   "cell_type": "code",
   "execution_count": 22,
   "metadata": {
    "ExecuteTime": {
     "end_time": "2023-04-25T19:38:10.194546Z",
     "start_time": "2023-04-25T19:38:10.188986Z"
    }
   },
   "outputs": [
    {
     "data": {
      "text/plain": [
       "['my_modul.py', '__init__.py', '__pycache__']"
      ]
     },
     "execution_count": 22,
     "metadata": {},
     "output_type": "execute_result"
    }
   ],
   "source": [
    "os.listdir(r\"C:\\Users\\ertek\\Desktop\\data science 2023\\python 2023\\Python\\ekstra çalışma\\moduls\\create_modul\")"
   ]
  },
  {
   "cell_type": "code",
   "execution_count": 27,
   "metadata": {
    "ExecuteTime": {
     "end_time": "2023-04-25T19:39:02.792541Z",
     "start_time": "2023-04-25T19:39:02.788391Z"
    }
   },
   "outputs": [
    {
     "name": "stdout",
     "output_type": "stream",
     "text": [
      "Klasör yolu: C:\\Users\\ertek\\Desktop\\data science 2023\\python 2023\\Python\\ekstra çalışma\\moduls\n",
      "Klasörler:  ['.ipynb_checkpoints', 'create_modul']\n",
      "Dosyalar: ['0-import-create.ipynb', 'datetime.ipynb', 'math.ipynb', 'os.ipynb', 'random.ipynb', 'time.ipynb']\n",
      "Klasör yolu: C:\\Users\\ertek\\Desktop\\data science 2023\\python 2023\\Python\\ekstra çalışma\\moduls\\.ipynb_checkpoints\n",
      "Klasörler:  []\n",
      "Dosyalar: ['os-checkpoint.ipynb']\n",
      "Klasör yolu: C:\\Users\\ertek\\Desktop\\data science 2023\\python 2023\\Python\\ekstra çalışma\\moduls\\create_modul\n",
      "Klasörler:  ['__pycache__']\n",
      "Dosyalar: ['my_modul.py', '__init__.py']\n",
      "Klasör yolu: C:\\Users\\ertek\\Desktop\\data science 2023\\python 2023\\Python\\ekstra çalışma\\moduls\\create_modul\\__pycache__\n",
      "Klasörler:  []\n",
      "Dosyalar: ['my_modul.cpython-311.pyc', '__init__.cpython-311.pyc']\n"
     ]
    }
   ],
   "source": [
    "for i in os.walk(r\"C:\\Users\\ertek\\Desktop\\data science 2023\\python 2023\\Python\\ekstra çalışma\\moduls\"):\n",
    "    print(\"Klasör yolu:\", i[0])\n",
    "    print(\"Klasörler: \", i[1])\n",
    "    print(\"Dosyalar:\", i[2])"
   ]
  },
  {
   "cell_type": "code",
   "execution_count": null,
   "metadata": {},
   "outputs": [],
   "source": []
  },
  {
   "cell_type": "code",
   "execution_count": null,
   "metadata": {},
   "outputs": [],
   "source": []
  },
  {
   "cell_type": "code",
   "execution_count": null,
   "metadata": {},
   "outputs": [],
   "source": []
  }
 ],
 "metadata": {
  "kernelspec": {
   "display_name": "Python 3 (ipykernel)",
   "language": "python",
   "name": "python3"
  },
  "language_info": {
   "codemirror_mode": {
    "name": "ipython",
    "version": 3
   },
   "file_extension": ".py",
   "mimetype": "text/x-python",
   "name": "python",
   "nbconvert_exporter": "python",
   "pygments_lexer": "ipython3",
   "version": "3.10.9"
  },
  "toc": {
   "base_numbering": 1,
   "nav_menu": {},
   "number_sections": true,
   "sideBar": true,
   "skip_h1_title": false,
   "title_cell": "Table of Contents",
   "title_sidebar": "Contents",
   "toc_cell": false,
   "toc_position": {},
   "toc_section_display": true,
   "toc_window_display": false
  },
  "varInspector": {
   "cols": {
    "lenName": 16,
    "lenType": 16,
    "lenVar": 40
   },
   "kernels_config": {
    "python": {
     "delete_cmd_postfix": "",
     "delete_cmd_prefix": "del ",
     "library": "var_list.py",
     "varRefreshCmd": "print(var_dic_list())"
    },
    "r": {
     "delete_cmd_postfix": ") ",
     "delete_cmd_prefix": "rm(",
     "library": "var_list.r",
     "varRefreshCmd": "cat(var_dic_list()) "
    }
   },
   "types_to_exclude": [
    "module",
    "function",
    "builtin_function_or_method",
    "instance",
    "_Feature"
   ],
   "window_display": false
  }
 },
 "nbformat": 4,
 "nbformat_minor": 2
}
