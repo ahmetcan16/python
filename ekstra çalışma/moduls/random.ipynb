{
 "cells": [
  {
   "cell_type": "code",
   "execution_count": 1,
   "metadata": {},
   "outputs": [],
   "source": [
    "import random # sayı üretmek "
   ]
  },
  {
   "cell_type": "code",
   "execution_count": 2,
   "metadata": {},
   "outputs": [
    {
     "name": "stdout",
     "output_type": "stream",
     "text": [
      "0.3977892605648209\n",
      "27.998459398579616\n",
      "3\n",
      "1\n"
     ]
    }
   ],
   "source": [
    "print(random.random()) # 0 ile 1 arasında sayı üretir\n",
    "print(random.uniform(10, 30)) #10 ile 30 arasında ondalıklı sayı üretir\n",
    "print(random.randint(1, 5)) # 1 ve 5 dahil arasında bir sayı üretir\n",
    "print(random.randrange(1, 10, 3)) # 1 ile 10 arası step:3"
   ]
  },
  {
   "cell_type": "code",
   "execution_count": 3,
   "metadata": {},
   "outputs": [
    {
     "data": {
      "text/plain": [
       "'a'"
      ]
     },
     "execution_count": 3,
     "metadata": {},
     "output_type": "execute_result"
    }
   ],
   "source": [
    "liste = [\"a\", \"b\", \"c\", \"d\"]\n",
    "random.choice(liste) # listeden herhangi bir eleman seçti"
   ]
  },
  {
   "cell_type": "code",
   "execution_count": 10,
   "metadata": {},
   "outputs": [
    {
     "data": {
      "text/plain": [
       "['c', 'a', 'd', 'b']"
      ]
     },
     "execution_count": 10,
     "metadata": {},
     "output_type": "execute_result"
    }
   ],
   "source": [
    "random.shuffle(liste) # listenin sırasını kalıcı olarak değiştirdi\n",
    "liste"
   ]
  },
  {
   "cell_type": "code",
   "execution_count": 11,
   "metadata": {},
   "outputs": [
    {
     "data": {
      "text/plain": [
       "['c', 'b', 'a']"
      ]
     },
     "execution_count": 11,
     "metadata": {},
     "output_type": "execute_result"
    }
   ],
   "source": [
    "random.sample(liste, 3) # verilen sayı kadar rastgele eleman seçer"
   ]
  },
  {
   "cell_type": "code",
   "execution_count": 15,
   "metadata": {},
   "outputs": [
    {
     "name": "stdout",
     "output_type": "stream",
     "text": [
      "{1: 19, 2: 19, 3: 15, 4: 14, 5: 21, 6: 12}\n"
     ]
    }
   ],
   "source": [
    "#zarı 100 kere atarsak hangisi kaç kere gelir\n",
    "zarlar = {1: 0, 2: 0, 3: 0, 4: 0, 5: 0, 6: 0}\n",
    "for i in range(100):\n",
    "    zar = random.randint(1, 6)\n",
    "    zarlar[zar] += 1\n",
    "print(zarlar)"
   ]
  },
  {
   "cell_type": "code",
   "execution_count": 3,
   "metadata": {},
   "outputs": [
    {
     "name": "stdout",
     "output_type": "stream",
     "text": [
      "2 kere 6-6 gelmesi için zarlar 101 kadar atıldı\n"
     ]
    }
   ],
   "source": [
    "#2 kere düşeş gelmesi için kaç kez zar atılmalı\n",
    "altı_altı = 0\n",
    "deneme_sayısı = 0\n",
    "while True:\n",
    "    deneme_sayısı += 1\n",
    "    zar1 = random.randint(1, 6)\n",
    "    zar2 = random.randint(1, 6)\n",
    "    if zar1 == 6 and zar2 == 6:\n",
    "        altı_altı += 1\n",
    "    if altı_altı == 2:\n",
    "        print(f\"2 kere 6-6 gelmesi için zarlar {deneme_sayısı} kadar atıldı\")\n",
    "        break"
   ]
  }
 ],
 "metadata": {
  "kernelspec": {
   "display_name": "Python 3",
   "language": "python",
   "name": "python3"
  },
  "language_info": {
   "codemirror_mode": {
    "name": "ipython",
    "version": 3
   },
   "file_extension": ".py",
   "mimetype": "text/x-python",
   "name": "python",
   "nbconvert_exporter": "python",
   "pygments_lexer": "ipython3",
   "version": "3.11.1"
  },
  "orig_nbformat": 4
 },
 "nbformat": 4,
 "nbformat_minor": 2
}
