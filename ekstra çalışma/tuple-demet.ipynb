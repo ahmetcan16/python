{
 "cells": [
  {
   "attachments": {},
   "cell_type": "markdown",
   "metadata": {},
   "source": [
    "TUPLE - DEMET\n",
    "\n",
    "iterable -- gezinilebilir\n",
    "\n",
    "immutable - değiştirilemezdir.\n",
    "\n",
    "listeden daha hızlı ve güvenlidir.\n"
   ]
  },
  {
   "attachments": {},
   "cell_type": "markdown",
   "metadata": {},
   "source": [
    "[tuple.count() - girilen parametre kaç tane var](#1)\n",
    "\n",
    "[tuple.index() - girilen değer ilk kaçıncı indexte ](#2)"
   ]
  },
  {
   "attachments": {},
   "cell_type": "markdown",
   "metadata": {},
   "source": [
    "<a id = \"1\"></a>\n",
    "#### count()"
   ]
  },
  {
   "cell_type": "code",
   "execution_count": 2,
   "metadata": {},
   "outputs": [
    {
     "name": "stdout",
     "output_type": "stream",
     "text": [
      "2\n"
     ]
    },
    {
     "data": {
      "text/plain": [
       "0"
      ]
     },
     "execution_count": 2,
     "metadata": {},
     "output_type": "execute_result"
    }
   ],
   "source": [
    "demet = (\"elma\", \"armut\", \"elma\", \"çilek\")\n",
    "print(demet.count(\"elma\"))\n",
    "demet.count(\"asda\")"
   ]
  },
  {
   "attachments": {},
   "cell_type": "markdown",
   "metadata": {},
   "source": [
    "<a id = \"2\"></a>\n",
    "#### index()"
   ]
  },
  {
   "cell_type": "code",
   "execution_count": 3,
   "metadata": {},
   "outputs": [
    {
     "data": {
      "text/plain": [
       "0"
      ]
     },
     "execution_count": 3,
     "metadata": {},
     "output_type": "execute_result"
    }
   ],
   "source": [
    "demet = (\"elma\", \"armut\", \"çilek\", \"elma\")\n",
    "demet.index(\"elma\")"
   ]
  }
 ],
 "metadata": {
  "kernelspec": {
   "display_name": "Python 3",
   "language": "python",
   "name": "python3"
  },
  "language_info": {
   "codemirror_mode": {
    "name": "ipython",
    "version": 3
   },
   "file_extension": ".py",
   "mimetype": "text/x-python",
   "name": "python",
   "nbconvert_exporter": "python",
   "pygments_lexer": "ipython3",
   "version": "3.11.1"
  },
  "orig_nbformat": 4,
  "vscode": {
   "interpreter": {
    "hash": "55cfa1d2dc12e3e5fc2931afa7a5a4f86432dfdad9e2fda08df56b7572964520"
   }
  }
 },
 "nbformat": 4,
 "nbformat_minor": 2
}
