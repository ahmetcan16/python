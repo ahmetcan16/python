{
 "cells": [
  {
   "attachments": {},
   "cell_type": "markdown",
   "metadata": {},
   "source": [
    "DECORATORS\n",
    "\n",
    "[@property, @setter, @deleter](#1)"
   ]
  },
  {
   "cell_type": "code",
   "execution_count": 1,
   "metadata": {},
   "outputs": [],
   "source": [
    "def decorator(fonk):\n",
    "    def wrapper():\n",
    "        print(\"fonksiyon çalışmadan önceki işlemler\")\n",
    "        fonk()\n",
    "        print(\"fonksiyon çalıştıktan sonraki işlemler\")\n",
    "    return wrapper"
   ]
  },
  {
   "cell_type": "code",
   "execution_count": 2,
   "metadata": {},
   "outputs": [],
   "source": [
    "def fonksiyon():\n",
    "    print(\"fonksiyon çalışıyor\")"
   ]
  },
  {
   "attachments": {},
   "cell_type": "markdown",
   "metadata": {},
   "source": [
    "kullanım yolu - 1"
   ]
  },
  {
   "cell_type": "code",
   "execution_count": 3,
   "metadata": {},
   "outputs": [],
   "source": [
    "fonksiyon2 = decorator(fonksiyon)"
   ]
  },
  {
   "cell_type": "code",
   "execution_count": 4,
   "metadata": {},
   "outputs": [
    {
     "name": "stdout",
     "output_type": "stream",
     "text": [
      "fonksiyon çalışmadan önceki işlemler\n",
      "fonksiyon çalışıyor\n",
      "fonksiyon çalıştıktan sonraki işlemler\n"
     ]
    }
   ],
   "source": [
    "fonksiyon2()"
   ]
  },
  {
   "attachments": {},
   "cell_type": "markdown",
   "metadata": {},
   "source": [
    "kullanım yolu - 2"
   ]
  },
  {
   "cell_type": "code",
   "execution_count": 5,
   "metadata": {},
   "outputs": [],
   "source": [
    "@decorator\n",
    "def fonksiyon3():\n",
    "    print(\"fonksiyon çalışıyor\")"
   ]
  },
  {
   "cell_type": "code",
   "execution_count": 7,
   "metadata": {},
   "outputs": [
    {
     "name": "stdout",
     "output_type": "stream",
     "text": [
      "fonksiyon çalışmadan önceki işlemler\n",
      "fonksiyon çalışıyor\n",
      "fonksiyon çalıştıktan sonraki işlemler\n"
     ]
    }
   ],
   "source": [
    "fonksiyon3()"
   ]
  },
  {
   "cell_type": "markdown",
   "metadata": {},
   "source": [
    "kullanım yolu - 2"
   ]
  },
  {
   "cell_type": "code",
   "execution_count": 15,
   "metadata": {},
   "outputs": [],
   "source": [
    "import time\n",
    "def zaman_hesapla(fonk):\n",
    "    def wrapper(*args, **kwargs):\n",
    "        baslangıc = time.time()\n",
    "        fonk(*args,**kwargs)\n",
    "        bitis = time.time()\n",
    "        print(f\"işlem {bitis - baslangıc} saniye sürdü\")\n",
    "    return wrapper"
   ]
  },
  {
   "cell_type": "code",
   "execution_count": 22,
   "metadata": {},
   "outputs": [
    {
     "name": "stdout",
     "output_type": "stream",
     "text": [
      "0\n",
      "1\n",
      "8\n",
      "27\n",
      "64\n",
      "işlem 0.0 saniye sürdü\n"
     ]
    }
   ],
   "source": [
    "@zaman_hesapla\n",
    "def küpleri_al(liste):\n",
    "    for i in liste:\n",
    "        print(i ** 3)\n",
    "küpleri_al(range(5))"
   ]
  },
  {
   "cell_type": "code",
   "execution_count": 24,
   "metadata": {},
   "outputs": [
    {
     "name": "stdout",
     "output_type": "stream",
     "text": [
      "10\n",
      "işlem 1.0013518333435059 saniye sürdü\n"
     ]
    }
   ],
   "source": [
    "@zaman_hesapla\n",
    "def topla(a,b):\n",
    "    time.sleep(1)\n",
    "    print(a + b)\n",
    "topla(5,5)"
   ]
  },
  {
   "cell_type": "code",
   "execution_count": 25,
   "metadata": {},
   "outputs": [
    {
     "name": "stdout",
     "output_type": "stream",
     "text": [
      "0\n",
      "1\n",
      "4\n",
      "9\n",
      "16\n",
      "işlem 0.0 saniye sürdü\n"
     ]
    }
   ],
   "source": [
    "#kullanım 1 e örnek\n",
    "def kareleri_al(liste):\n",
    "    for i in liste:\n",
    "        print(i ** 2)\n",
    "kare_fonk = zaman_hesapla(kareleri_al)\n",
    "kare_fonk(range(5))"
   ]
  },
  {
   "cell_type": "code",
   "execution_count": 27,
   "metadata": {},
   "outputs": [
    {
     "name": "stdout",
     "output_type": "stream",
     "text": [
      "0\n",
      "1\n",
      "4\n",
      "9\n",
      "16\n",
      "işlem 0.0 saniye sürdü\n"
     ]
    }
   ],
   "source": [
    "#kullanım 1 e örnek yol2 \n",
    "zaman_hesapla(kareleri_al)(range(5))"
   ]
  },
  {
   "attachments": {},
   "cell_type": "markdown",
   "metadata": {},
   "source": [
    "tekrar return kullanarak"
   ]
  },
  {
   "cell_type": "code",
   "execution_count": 38,
   "metadata": {},
   "outputs": [],
   "source": [
    "def zaman(fonk):\n",
    "    def wrapper(*args, **kwargs):\n",
    "        baslangıc = time.time()\n",
    "        sonuc = fonk(*args, **kwargs)\n",
    "        bitis = time.time()\n",
    "        print(f\"islem suresi {bitis - baslangıc} saniyedir\")\n",
    "        return sonuc\n",
    "    return wrapper"
   ]
  },
  {
   "cell_type": "code",
   "execution_count": 39,
   "metadata": {},
   "outputs": [],
   "source": [
    "@zaman\n",
    "def kare(liste):\n",
    "    sonuc = []\n",
    "    for i in liste:\n",
    "        sonuc.append(i ** 2)\n",
    "    return sonuc"
   ]
  },
  {
   "cell_type": "code",
   "execution_count": 44,
   "metadata": {},
   "outputs": [],
   "source": [
    "@zaman\n",
    "def küp(liste):\n",
    "    sonuc = []\n",
    "    for i in liste:\n",
    "        sonuc.append(i ** 3)\n",
    "    return sonuc"
   ]
  },
  {
   "cell_type": "code",
   "execution_count": 32,
   "metadata": {},
   "outputs": [],
   "source": [
    "@zaman\n",
    "def toplam(*args):\n",
    "    time.sleep(1)\n",
    "    return sum(args)"
   ]
  },
  {
   "cell_type": "code",
   "execution_count": 43,
   "metadata": {},
   "outputs": [
    {
     "name": "stdout",
     "output_type": "stream",
     "text": [
      "islem suresi 0.0 saniyedir\n"
     ]
    },
    {
     "data": {
      "text/plain": [
       "[0, 1, 4, 9, 16, 25, 36, 49, 64, 81]"
      ]
     },
     "execution_count": 43,
     "metadata": {},
     "output_type": "execute_result"
    }
   ],
   "source": [
    "kare(range(10))"
   ]
  },
  {
   "cell_type": "code",
   "execution_count": 49,
   "metadata": {},
   "outputs": [
    {
     "name": "stdout",
     "output_type": "stream",
     "text": [
      "islem suresi 0.0 saniyedir\n",
      "[0, 1, 8, 27, 64, 125, 216, 343, 512, 729]\n"
     ]
    }
   ],
   "source": [
    "print(küp(range(10)))"
   ]
  },
  {
   "cell_type": "code",
   "execution_count": 62,
   "metadata": {},
   "outputs": [],
   "source": [
    "def makebold(fn):\n",
    "    def wrapper(ifade):\n",
    "        return \"<b>\" + fn(ifade) + \"</b>\"\n",
    "    return wrapper\n",
    "\n",
    "def makeitalic(fn):\n",
    "    def wrapper(ifade):\n",
    "        return \"<i>\" + fn(ifade) + \"</i>\"\n",
    "    return wrapper\n",
    "\n",
    "def makeunderline(fn):\n",
    "    def wrapper(ifade):\n",
    "        return \"<u>\" + fn(ifade) + \"</u>\""
   ]
  },
  {
   "cell_type": "code",
   "execution_count": 66,
   "metadata": {},
   "outputs": [
    {
     "data": {
      "text/plain": [
       "'<b>hello</b>'"
      ]
     },
     "execution_count": 66,
     "metadata": {},
     "output_type": "execute_result"
    }
   ],
   "source": [
    "def change(a):\n",
    "    return a\n",
    "\n",
    "makebold(change)(\"hello\")\n",
    "\n"
   ]
  },
  {
   "cell_type": "code",
   "execution_count": 59,
   "metadata": {},
   "outputs": [
    {
     "name": "stdout",
     "output_type": "stream",
     "text": [
      "hello\n"
     ]
    }
   ],
   "source": [
    "# This is the exact equivalent to \n",
    "def say(a):\n",
    "    return a\n",
    "say1 = makebold(makeitalic(say))\n",
    "\n",
    "print(say(\"hello\"))\n",
    "#outputs: <b><i>hello</i></b>"
   ]
  },
  {
   "attachments": {},
   "cell_type": "markdown",
   "metadata": {},
   "source": [
    "<a id = \"1\"></a>\n",
    "#### @property , @setter , @deleter"
   ]
  },
  {
   "cell_type": "code",
   "execution_count": 10,
   "metadata": {},
   "outputs": [
    {
     "name": "stdout",
     "output_type": "stream",
     "text": [
      "ali uzun\n",
      "ali uzun\n",
      "ali.uzun@sirket.com\n"
     ]
    }
   ],
   "source": [
    "class kisi:\n",
    "    def __init__(self, ad, soyad):\n",
    "        self.ad = ad\n",
    "        self.soyad = soyad\n",
    "        self.adsoyad = ad + \" \" + soyad\n",
    "    def email(self):\n",
    "        return f\"{self.ad}.{self.soyad}@sirket.com\"\n",
    "    \n",
    "kisi1 = kisi(\"ali\", \"uzun\")\n",
    "print(kisi1.ad, kisi1.soyad)\n",
    "print(kisi1.adsoyad)\n",
    "print(kisi1.email())"
   ]
  },
  {
   "cell_type": "code",
   "execution_count": 11,
   "metadata": {},
   "outputs": [
    {
     "name": "stdout",
     "output_type": "stream",
     "text": [
      "ahmet uzun\n",
      "ali uzun\n",
      "ahmet.uzun@sirket.com\n"
     ]
    }
   ],
   "source": [
    "# kisi1.adsoyad güncellenmedi çünkü init i değil sadece self.ad ı çalıştırmış gibi olduk\n",
    "kisi1.ad = \"ahmet\"\n",
    "print(kisi1.ad, kisi1.soyad)\n",
    "print(kisi1.adsoyad)\n",
    "print(kisi1.email())\n",
    "\n"
   ]
  },
  {
   "cell_type": "code",
   "execution_count": 4,
   "metadata": {},
   "outputs": [
    {
     "name": "stdout",
     "output_type": "stream",
     "text": [
      "ali uzun\n",
      "ali uzun\n",
      "ali.uzun@sirket.com\n"
     ]
    }
   ],
   "source": [
    "class kisi:\n",
    "    def __init__(self, ad, soyad):\n",
    "        self.ad = ad\n",
    "        self.soyad = soyad\n",
    "    def adsoyad(self):   \n",
    "        return f\"{self.ad} {self.soyad}\"\n",
    "    \n",
    "    def email(self):\n",
    "        return f\"{self.ad}.{self.soyad}@sirket.com\"\n",
    "    \n",
    "kisi1 = kisi(\"ali\", \"uzun\")\n",
    "print(kisi1.ad, kisi1.soyad)\n",
    "print(kisi1.adsoyad())  #dikkat\n",
    "print(kisi1.email())  #dikkat"
   ]
  },
  {
   "cell_type": "code",
   "execution_count": 5,
   "metadata": {},
   "outputs": [
    {
     "name": "stdout",
     "output_type": "stream",
     "text": [
      "ali uzun\n",
      "ali uzun\n",
      "ali.uzun@sirket.com\n"
     ]
    }
   ],
   "source": [
    "class kisi:\n",
    "    def __init__(self, ad, soyad):\n",
    "        self.ad = ad\n",
    "        self.soyad = soyad\n",
    "\n",
    "    @property               #class içinde oluşturulan fonksiyona bir özellik gibi davranmamızı sağlar\n",
    "    def adsoyad(self):   \n",
    "        return f\"{self.ad} {self.soyad}\"\n",
    "    \n",
    "    @property\n",
    "    def email(self):\n",
    "        return f\"{self.ad}.{self.soyad}@sirket.com\"\n",
    "    \n",
    "kisi1 = kisi(\"ali\", \"uzun\")\n",
    "print(kisi1.ad, kisi1.soyad)\n",
    "print(kisi1.adsoyad)            #dikkat parantez yok\n",
    "print(kisi1.email)                 #dikkat parantez yok"
   ]
  },
  {
   "cell_type": "code",
   "execution_count": 8,
   "metadata": {},
   "outputs": [
    {
     "name": "stdout",
     "output_type": "stream",
     "text": [
      "ali uzun\n",
      "ali uzun\n",
      "ali.uzun@sirket.com\n",
      "****************\n",
      "Ali Kısa\n",
      "Ali Kısa\n",
      "Ali.Kısa@sirket.com\n"
     ]
    }
   ],
   "source": [
    "class kisi:\n",
    "    def __init__(self, ad, soyad):\n",
    "        self.ad = ad\n",
    "        self.soyad = soyad\n",
    "\n",
    "    @property               \n",
    "    def adsoyad(self):   \n",
    "        return f\"{self.ad} {self.soyad}\"\n",
    "    \n",
    "    @property   # biz adsoyad' fonksiyonken bir özellikmiş gibi davranmasını sağladık\n",
    "    def email(self):\n",
    "        return f\"{self.ad}.{self.soyad}@sirket.com\"\n",
    "    \n",
    "    @adsoyad.setter          #property deki sebepten dolayı artık atama yapınca ne yapması gerektiğini tanımladık        \n",
    "    def adsoyad(self,isim):\n",
    "        ad, soyad = isim.split()\n",
    "        self.ad = ad\n",
    "        self.soyad = soyad\n",
    "\n",
    "kisi1 = kisi(\"ali\", \"uzun\")\n",
    "print(kisi1.ad, kisi1.soyad)\n",
    "print(kisi1.adsoyad)           \n",
    "print(kisi1.email)      \n",
    "print(\"****************\")\n",
    "kisi1.adsoyad = \"Ali Kısa\"\n",
    "print(kisi1.ad, kisi1.soyad)\n",
    "print(kisi1.adsoyad)           \n",
    "print(kisi1.email) "
   ]
  },
  {
   "cell_type": "code",
   "execution_count": 10,
   "metadata": {},
   "outputs": [
    {
     "name": "stdout",
     "output_type": "stream",
     "text": [
      "ali uzun\n",
      "ali uzun\n",
      "ali.uzun@sirket.com\n",
      "****************\n",
      "Ali Kısa\n",
      "Ali Kısa\n",
      "Ali.Kısa@sirket.com\n",
      "****************\n",
      "silindi\n",
      "a b\n",
      "a b\n",
      "a.b@sirket.com\n"
     ]
    }
   ],
   "source": [
    "class kisi:\n",
    "    def __init__(self, ad, soyad):\n",
    "        self.ad = ad\n",
    "        self.soyad = soyad\n",
    "\n",
    "    @property               \n",
    "    def adsoyad(self):      #özellik olarak erişmek isteyince çalışır. > kisi1.adsoyad\n",
    "        return f\"{self.ad} {self.soyad}\"\n",
    "    \n",
    "    @property   \n",
    "    def email(self):\n",
    "        return f\"{self.ad}.{self.soyad}@sirket.com\"\n",
    "    \n",
    "    @adsoyad.setter          #atama yaparken bu çalışır > kisi1.adsoyad = \"asdasasadssd\"\n",
    "    def adsoyad(self,isim):\n",
    "        ad, soyad = isim.split()\n",
    "        self.ad = ad\n",
    "        self.soyad = soyad\n",
    "    @adsoyad.deleter        # del komutuyla kullanılınca bu çalışır > del kisi1.adsoyad\n",
    "    def adsoyad(self):\n",
    "        print(\"silindi\")    #içine ne yazarsak onu uygular\n",
    "        self.ad = \"a\"\n",
    "        self.soyad = \"b\"\n",
    "\n",
    "kisi1 = kisi(\"ali\", \"uzun\")\n",
    "print(kisi1.ad, kisi1.soyad)\n",
    "print(kisi1.adsoyad)           \n",
    "print(kisi1.email)      \n",
    "print(\"****************\")\n",
    "kisi1.adsoyad = \"Ali Kısa\"\n",
    "print(kisi1.ad, kisi1.soyad)\n",
    "print(kisi1.adsoyad)           \n",
    "print(kisi1.email) \n",
    "print(\"****************\")\n",
    "del kisi1.adsoyad\n",
    "print(kisi1.ad, kisi1.soyad)\n",
    "print(kisi1.adsoyad)           \n",
    "print(kisi1.email) \n"
   ]
  }
 ],
 "metadata": {
  "kernelspec": {
   "display_name": "Python 3",
   "language": "python",
   "name": "python3"
  },
  "language_info": {
   "codemirror_mode": {
    "name": "ipython",
    "version": 3
   },
   "file_extension": ".py",
   "mimetype": "text/x-python",
   "name": "python",
   "nbconvert_exporter": "python",
   "pygments_lexer": "ipython3",
   "version": "3.11.1"
  },
  "orig_nbformat": 4
 },
 "nbformat": 4,
 "nbformat_minor": 2
}
