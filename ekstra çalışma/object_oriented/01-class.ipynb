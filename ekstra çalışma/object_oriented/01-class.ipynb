{
 "cells": [
  {
   "cell_type": "code",
   "execution_count": 11,
   "metadata": {},
   "outputs": [],
   "source": [
    "class calisan:\n",
    "    def __init__(self, isim, soyisim, yas):\n",
    "        self.name = isim\n",
    "        self.surname = soyisim\n",
    "        self.age = yas\n",
    "    def show_info(self):\n",
    "        print(f\"Ad:{self.name}  Soyad:{self.surname}  Yaş:{self.age} \")\n"
   ]
  },
  {
   "cell_type": "code",
   "execution_count": 12,
   "metadata": {},
   "outputs": [
    {
     "name": "stdout",
     "output_type": "stream",
     "text": [
      "ali veli 20\n",
      "Ad:ali  Soyad:veli  Yaş:20 \n"
     ]
    }
   ],
   "source": [
    "calisan1 = calisan(\"ali\", \"veli\", 20)\n",
    "print(calisan1.name, calisan1.surname, calisan1.age)\n",
    "calisan1.show_info()"
   ]
  },
  {
   "cell_type": "code",
   "execution_count": 14,
   "metadata": {},
   "outputs": [
    {
     "name": "stdout",
     "output_type": "stream",
     "text": [
      "ahmet\n",
      "Ad:ahmet  Soyad:mehmet  Yaş:25 \n"
     ]
    }
   ],
   "source": [
    "calisan2 = calisan(\"ahmet\", \"mehmet\", 25)\n",
    "print(calisan2.name)\n",
    "calisan2.show_info()"
   ]
  },
  {
   "cell_type": "code",
   "execution_count": 15,
   "metadata": {},
   "outputs": [
    {
     "name": "stdout",
     "output_type": "stream",
     "text": [
      "Ad:ali  Soyad:veli  Yaş:20 \n"
     ]
    }
   ],
   "source": [
    "calisan.show_info(calisan1)"
   ]
  }
 ],
 "metadata": {
  "kernelspec": {
   "display_name": "Python 3",
   "language": "python",
   "name": "python3"
  },
  "language_info": {
   "codemirror_mode": {
    "name": "ipython",
    "version": 3
   },
   "file_extension": ".py",
   "mimetype": "text/x-python",
   "name": "python",
   "nbconvert_exporter": "python",
   "pygments_lexer": "ipython3",
   "version": "3.11.1"
  },
  "orig_nbformat": 4
 },
 "nbformat": 4,
 "nbformat_minor": 2
}
