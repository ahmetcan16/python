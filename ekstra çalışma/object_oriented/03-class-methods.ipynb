{
 "cells": [
  {
   "cell_type": "code",
   "execution_count": 89,
   "metadata": {},
   "outputs": [],
   "source": [
    "from datetime import date\n",
    "\n",
    "class kisi:\n",
    "    zam_orani = 1.1                 #class variable\n",
    "    kisi_sayisi = 0\n",
    "\n",
    "    def __init__(self, isim, yas):\n",
    "       self.name = isim             #name instance variable\n",
    "       self.age = yas\n",
    "       kisi.kisi_sayisi += 1\n",
    "\n",
    "    def bilgileri_soyle(self):      #instance method\n",
    "        return f\"Ad: {self.name} Yaş: {self.age}\"\n",
    "    \n",
    "    @classmethod\n",
    "    def kisi_sayisi_nedir(cls):     #class method\n",
    "        return cls.kisi_sayisi\n",
    "    \n",
    "    @classmethod\n",
    "    def str_ile_olustur(cls, ifade):    #class method\n",
    "        isim, yas = ifade.split(\"-\")\n",
    "        return cls(isim, yas)\n",
    "    \n",
    "    @classmethod\n",
    "    def yil_ile_olustur(cls, isim, dogum_yili):           #class method\n",
    "        return cls(isim, date.today().year - dogum_yili)\n",
    "    \n",
    "    @staticmethod       \n",
    "    def dogum_yili_hesapla(kisi):                       #static method\n",
    "        return date.today().year - kisi.age"
   ]
  },
  {
   "cell_type": "code",
   "execution_count": 90,
   "metadata": {},
   "outputs": [
    {
     "name": "stdout",
     "output_type": "stream",
     "text": [
      "0\n",
      "1\n",
      "2\n"
     ]
    }
   ],
   "source": [
    "print(kisi.kisi_sayisi)\n",
    "kisi1 = kisi(\"ali\", 20)\n",
    "print(kisi.kisi_sayisi)\n",
    "kisi2 = kisi(\"veli\", 30)\n",
    "print(kisi.kisi_sayisi)"
   ]
  },
  {
   "cell_type": "code",
   "execution_count": 91,
   "metadata": {},
   "outputs": [
    {
     "name": "stdout",
     "output_type": "stream",
     "text": [
      "1.2\n"
     ]
    }
   ],
   "source": [
    "kisi.zam_orani = 1.2\n",
    "print(kisi1.zam_orani)"
   ]
  },
  {
   "cell_type": "code",
   "execution_count": 92,
   "metadata": {},
   "outputs": [
    {
     "name": "stdout",
     "output_type": "stream",
     "text": [
      "1.2\n",
      "1.3\n",
      "1.2\n"
     ]
    }
   ],
   "source": [
    "kisi1.zam_orani = 1.3\n",
    "print(kisi.zam_orani)\n",
    "print(kisi1.zam_orani)\n",
    "print(kisi2.zam_orani)"
   ]
  },
  {
   "cell_type": "code",
   "execution_count": 93,
   "metadata": {},
   "outputs": [
    {
     "data": {
      "text/plain": [
       "'Ad: ali Yaş: 20'"
      ]
     },
     "execution_count": 93,
     "metadata": {},
     "output_type": "execute_result"
    }
   ],
   "source": [
    "kisi1.bilgileri_soyle()"
   ]
  },
  {
   "cell_type": "code",
   "execution_count": 94,
   "metadata": {},
   "outputs": [
    {
     "data": {
      "text/plain": [
       "{'name': 'ali', 'age': 20, 'zam_orani': 1.3}"
      ]
     },
     "execution_count": 94,
     "metadata": {},
     "output_type": "execute_result"
    }
   ],
   "source": [
    "kisi1.__dict__"
   ]
  },
  {
   "cell_type": "code",
   "execution_count": 95,
   "metadata": {},
   "outputs": [
    {
     "data": {
      "text/plain": [
       "2"
      ]
     },
     "execution_count": 95,
     "metadata": {},
     "output_type": "execute_result"
    }
   ],
   "source": [
    "kisi.kisi_sayisi_nedir()"
   ]
  },
  {
   "cell_type": "code",
   "execution_count": 96,
   "metadata": {},
   "outputs": [
    {
     "data": {
      "text/plain": [
       "'Ad: ayşe Yaş: 25'"
      ]
     },
     "execution_count": 96,
     "metadata": {},
     "output_type": "execute_result"
    }
   ],
   "source": [
    "kisi3 = kisi.str_ile_olustur(\"ayşe-25\")\n",
    "kisi3.bilgileri_soyle()"
   ]
  },
  {
   "cell_type": "code",
   "execution_count": 97,
   "metadata": {},
   "outputs": [
    {
     "data": {
      "text/plain": [
       "3"
      ]
     },
     "execution_count": 97,
     "metadata": {},
     "output_type": "execute_result"
    }
   ],
   "source": [
    "kisi.kisi_sayisi_nedir()"
   ]
  },
  {
   "cell_type": "code",
   "execution_count": 98,
   "metadata": {},
   "outputs": [
    {
     "data": {
      "text/plain": [
       "'Ad: metin Yaş: 29'"
      ]
     },
     "execution_count": 98,
     "metadata": {},
     "output_type": "execute_result"
    }
   ],
   "source": [
    "kisi4 = kisi.yil_ile_olustur(\"metin\", 1994)\n",
    "kisi4.bilgileri_soyle()"
   ]
  },
  {
   "cell_type": "code",
   "execution_count": 99,
   "metadata": {},
   "outputs": [
    {
     "data": {
      "text/plain": [
       "4"
      ]
     },
     "execution_count": 99,
     "metadata": {},
     "output_type": "execute_result"
    }
   ],
   "source": [
    "kisi.kisi_sayisi_nedir()"
   ]
  },
  {
   "cell_type": "code",
   "execution_count": 100,
   "metadata": {},
   "outputs": [
    {
     "data": {
      "text/plain": [
       "1993"
      ]
     },
     "execution_count": 100,
     "metadata": {},
     "output_type": "execute_result"
    }
   ],
   "source": [
    "kisi.dogum_yili_hesapla(kisi2)"
   ]
  },
  {
   "cell_type": "code",
   "execution_count": null,
   "metadata": {},
   "outputs": [],
   "source": []
  }
 ],
 "metadata": {
  "kernelspec": {
   "display_name": "Python 3",
   "language": "python",
   "name": "python3"
  },
  "language_info": {
   "codemirror_mode": {
    "name": "ipython",
    "version": 3
   },
   "file_extension": ".py",
   "mimetype": "text/x-python",
   "name": "python",
   "nbconvert_exporter": "python",
   "pygments_lexer": "ipython3",
   "version": "3.11.1"
  },
  "orig_nbformat": 4
 },
 "nbformat": 4,
 "nbformat_minor": 2
}
