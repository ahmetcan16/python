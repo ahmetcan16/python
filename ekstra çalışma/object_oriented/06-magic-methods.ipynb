{
 "cells": [
  {
   "cell_type": "markdown",
   "metadata": {},
   "source": [
    "__str__\n",
    "__repr__"
   ]
  },
  {
   "cell_type": "code",
   "execution_count": 1,
   "metadata": {},
   "outputs": [
    {
     "name": "stdout",
     "output_type": "stream",
     "text": [
      "Python\n",
      "'Python'\n"
     ]
    }
   ],
   "source": [
    "a = \"Python\"\n",
    "print(str(a))\n",
    "print(repr(a))"
   ]
  },
  {
   "cell_type": "code",
   "execution_count": 3,
   "metadata": {},
   "outputs": [
    {
     "name": "stdout",
     "output_type": "stream",
     "text": [
      "0.18181818181818182\n",
      "0.18181818181818182\n"
     ]
    }
   ],
   "source": [
    "a = 2 / 11\n",
    "print(str(a))\n",
    "print(repr(a))"
   ]
  },
  {
   "cell_type": "code",
   "execution_count": 6,
   "metadata": {},
   "outputs": [
    {
     "name": "stdout",
     "output_type": "stream",
     "text": [
      "2023-03-27\n",
      "2023-03-27\n",
      "datetime.date(2023, 3, 27)\n",
      "2023-03-27\n"
     ]
    }
   ],
   "source": [
    "from datetime import date\n",
    "a = date.today()\n",
    "print(a)\n",
    "print(str(a))\n",
    "print(repr(a))\n",
    "print(a.__str__())"
   ]
  },
  {
   "cell_type": "code",
   "execution_count": 16,
   "metadata": {},
   "outputs": [],
   "source": [
    "class futbolcu:\n",
    "    def __init__(self, isim, soyisim, yas):\n",
    "        self.isim = isim\n",
    "        self.soyisim =soyisim\n",
    "        self.yas = yas\n",
    "    def __str__(self):\n",
    "        return f\"Ad : {self.isim} Soyad : {self.soyisim} Yaş : {self.yas}\"\n",
    "    def __repr__(self):\n",
    "        return f'futbolcu(\"{self.isim}\", \"{self.soyisim}\", {self.yas})'"
   ]
  },
  {
   "cell_type": "code",
   "execution_count": 17,
   "metadata": {},
   "outputs": [
    {
     "name": "stdout",
     "output_type": "stream",
     "text": [
      "Ad : ali Soyad : veli Yaş : 20\n"
     ]
    }
   ],
   "source": [
    "futbolcu1 = futbolcu(\"ali\", \"veli\", 20)\n",
    "print(futbolcu1)"
   ]
  },
  {
   "cell_type": "code",
   "execution_count": 18,
   "metadata": {},
   "outputs": [
    {
     "name": "stdout",
     "output_type": "stream",
     "text": [
      "futbolcu(\"ali\", \"veli\", 20)\n"
     ]
    }
   ],
   "source": [
    "print(futbolcu1.__repr__())"
   ]
  },
  {
   "cell_type": "code",
   "execution_count": null,
   "metadata": {},
   "outputs": [],
   "source": []
  },
  {
   "cell_type": "code",
   "execution_count": null,
   "metadata": {},
   "outputs": [],
   "source": []
  },
  {
   "cell_type": "code",
   "execution_count": null,
   "metadata": {},
   "outputs": [],
   "source": []
  }
 ],
 "metadata": {
  "kernelspec": {
   "display_name": "Python 3",
   "language": "python",
   "name": "python3"
  },
  "language_info": {
   "codemirror_mode": {
    "name": "ipython",
    "version": 3
   },
   "file_extension": ".py",
   "mimetype": "text/x-python",
   "name": "python",
   "nbconvert_exporter": "python",
   "pygments_lexer": "ipython3",
   "version": "3.11.1"
  },
  "orig_nbformat": 4
 },
 "nbformat": 4,
 "nbformat_minor": 2
}
