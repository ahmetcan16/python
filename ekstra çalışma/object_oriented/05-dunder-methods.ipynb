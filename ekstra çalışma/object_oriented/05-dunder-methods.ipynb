{
 "cells": [
  {
   "attachments": {},
   "cell_type": "markdown",
   "metadata": {},
   "source": [
    "double under"
   ]
  },
  {
   "cell_type": "code",
   "execution_count": 3,
   "metadata": {},
   "outputs": [
    {
     "name": "stdout",
     "output_type": "stream",
     "text": [
      "8\n",
      "8\n",
      "ayşefatma\n",
      "ayşefatma\n",
      "[1, 2, 3, 4, 5, 6]\n",
      "[1, 2, 3, 4, 5, 6]\n"
     ]
    }
   ],
   "source": [
    "print(3 + 5)\n",
    "print(int.__add__(3, 5))\n",
    "\n",
    "print(\"ayşe\" + \"fatma\")\n",
    "print(str.__add__(\"ayşe\", \"fatma\"))\n",
    "\n",
    "print([1, 2, 3] + [4, 5, 6])\n",
    "print(list.__add__([1, 2, 3], [4, 5, 6]))"
   ]
  },
  {
   "cell_type": "code",
   "execution_count": 32,
   "metadata": {},
   "outputs": [],
   "source": [
    "class mylist(list):\n",
    "\n",
    "    def __add__(self, other):\n",
    "        if len(self) != len(other):\n",
    "            return \"bu elemanlar toplanamaz\"\n",
    "        else:\n",
    "            result = mylist()\n",
    "            for i in range(len(self)):\n",
    "                result.append(self[i] + other[i])\n",
    "        return result\n",
    "    \n",
    "    def __sub__(self, other):\n",
    "        if len(self) != len(other):\n",
    "            return \"bu elemanlar çıkartılamaz\"\n",
    "        else:\n",
    "            result = mylist()\n",
    "            for i in range(len(self)):\n",
    "                result.append(self[i] - other[i])\n",
    "        return result\n",
    "    \n",
    "    def __eq__(self, other):\n",
    "        if sum(self) == sum(other):\n",
    "            return True\n",
    "        return False\n",
    "    \n",
    "    def __abs__(self):\n",
    "        result = mylist()\n",
    "        for i in self:\n",
    "            if i >= 0:\n",
    "                result.append(i)\n",
    "            else:\n",
    "                result.append(i * -1)\n",
    "        return result"
   ]
  },
  {
   "cell_type": "code",
   "execution_count": 33,
   "metadata": {},
   "outputs": [
    {
     "name": "stdout",
     "output_type": "stream",
     "text": [
      "[5, 7, 9]\n"
     ]
    }
   ],
   "source": [
    "liste1 = mylist([1, 2, 3])\n",
    "liste2 = mylist([4, 5, 6])\n",
    "print(liste1 + liste2)"
   ]
  },
  {
   "cell_type": "code",
   "execution_count": 34,
   "metadata": {},
   "outputs": [
    {
     "data": {
      "text/plain": [
       "[-3, -3, -3]"
      ]
     },
     "execution_count": 34,
     "metadata": {},
     "output_type": "execute_result"
    }
   ],
   "source": [
    "liste1 - liste2"
   ]
  },
  {
   "cell_type": "code",
   "execution_count": 35,
   "metadata": {},
   "outputs": [
    {
     "data": {
      "text/plain": [
       "False"
      ]
     },
     "execution_count": 35,
     "metadata": {},
     "output_type": "execute_result"
    }
   ],
   "source": [
    "liste1 == liste2"
   ]
  },
  {
   "cell_type": "code",
   "execution_count": 36,
   "metadata": {},
   "outputs": [
    {
     "data": {
      "text/plain": [
       "True"
      ]
     },
     "execution_count": 36,
     "metadata": {},
     "output_type": "execute_result"
    }
   ],
   "source": [
    "liste3 = mylist([1, 2, 3])\n",
    "liste4 = mylist([4, 2])\n",
    "liste3 == liste4"
   ]
  },
  {
   "cell_type": "code",
   "execution_count": 38,
   "metadata": {},
   "outputs": [
    {
     "name": "stdout",
     "output_type": "stream",
     "text": [
      "[3, 3, 3]\n"
     ]
    }
   ],
   "source": [
    "print(abs(liste1 - liste2))"
   ]
  },
  {
   "cell_type": "code",
   "execution_count": 56,
   "metadata": {},
   "outputs": [],
   "source": [
    "class futbolcu():\n",
    "    def __init__(self, isim, soyisim, yas):\n",
    "        self.isim = isim\n",
    "        self.soyisim =soyisim\n",
    "        self.yas = yas\n",
    "    def __eq__(self, other):\n",
    "        if self.isim == other.isim and self.soyisim == other.soyisim:\n",
    "            return True\n",
    "        return False\n",
    "    def __add__(self, other):\n",
    "        isim = self.isim[0] + other.isim[0]\n",
    "        soyisim = self.soyisim[0] + other.soyisim[0]\n",
    "        yas = self.yas + other.yas\n",
    "        return futbolcu(isim, soyisim, yas)"
   ]
  },
  {
   "cell_type": "code",
   "execution_count": 57,
   "metadata": {},
   "outputs": [],
   "source": [
    "futbolcu1 = futbolcu(\"Ali\", \"Veli\", 27)\n",
    "futbolcu2 = futbolcu(\"Ali\", \"Veli\", 30)\n",
    "futbolcu3 = futbolcu(\"Hakan\", \"metin\", 30)\n"
   ]
  },
  {
   "cell_type": "code",
   "execution_count": 59,
   "metadata": {},
   "outputs": [
    {
     "data": {
      "text/plain": [
       "True"
      ]
     },
     "execution_count": 59,
     "metadata": {},
     "output_type": "execute_result"
    }
   ],
   "source": [
    "futbolcu1 == futbolcu2"
   ]
  },
  {
   "cell_type": "code",
   "execution_count": 60,
   "metadata": {},
   "outputs": [],
   "source": [
    "futbolcu4 = futbolcu1 + futbolcu2"
   ]
  },
  {
   "cell_type": "code",
   "execution_count": 63,
   "metadata": {},
   "outputs": [
    {
     "name": "stdout",
     "output_type": "stream",
     "text": [
      "AA\n"
     ]
    }
   ],
   "source": [
    "print(futbolcu4.isim)"
   ]
  },
  {
   "cell_type": "code",
   "execution_count": null,
   "metadata": {},
   "outputs": [],
   "source": []
  }
 ],
 "metadata": {
  "kernelspec": {
   "display_name": "Python 3",
   "language": "python",
   "name": "python3"
  },
  "language_info": {
   "codemirror_mode": {
    "name": "ipython",
    "version": 3
   },
   "file_extension": ".py",
   "mimetype": "text/x-python",
   "name": "python",
   "nbconvert_exporter": "python",
   "pygments_lexer": "ipython3",
   "version": "3.11.1"
  },
  "orig_nbformat": 4
 },
 "nbformat": 4,
 "nbformat_minor": 2
}
