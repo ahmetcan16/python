{
 "cells": [
  {
   "cell_type": "code",
   "execution_count": 19,
   "metadata": {},
   "outputs": [],
   "source": [
    "class calisan:\n",
    "    zam_orani = 1.1\n",
    "    def __init__(self, isim, soyisim, maas):\n",
    "        self.isim = isim\n",
    "        self.soyisim = soyisim\n",
    "        self.maas = isim\n",
    "        self.email = isim + soyisim + \"@sirket.com\"\n",
    "    def bilgileri_goster(self):\n",
    "        return \"Ad: {}  Soyad : {}  Maas : {}  Email :{}\".format(self.isim, self.soyisim, self.maas, self.email)"
   ]
  },
  {
   "cell_type": "code",
   "execution_count": 20,
   "metadata": {},
   "outputs": [],
   "source": [
    "calisan1 = calisan(\"ali\", \"caliskan\", 5000)\n",
    "calisan2 = calisan(\"veli\", \"uzun\", 6000)"
   ]
  },
  {
   "cell_type": "code",
   "execution_count": 21,
   "metadata": {},
   "outputs": [],
   "source": [
    "class yazilimci(calisan):\n",
    "    zam_orani = 1.2\n",
    "    def __init__(self, isim, soyisim, maas, bildigi_dil):\n",
    "        super().__init__(isim, soyisim, maas)\n",
    "        self.bildigi_dil = bildigi_dil\n",
    "    def bilgileri_goster(self):\n",
    "        return \"Ad: {}  Soyad : {}  Maas : {}  Email :{}  Dil : {} \".format(self.isim, self.soyisim, self.maas, self.email, self.bildigi_dil)\n",
    "    def dilini_soyle(self):\n",
    "        return f\"Bildiğim dil : {self.bildigi_dil}\""
   ]
  },
  {
   "cell_type": "code",
   "execution_count": 22,
   "metadata": {},
   "outputs": [],
   "source": [
    "yazilimci1 = yazilimci(\"Ayşe\", \"yıldız\", 7000, \"python\")\n",
    "yazilimci2 = yazilimci(\"fatma\", \"ay\", 8000, \"java\")"
   ]
  },
  {
   "cell_type": "code",
   "execution_count": 23,
   "metadata": {},
   "outputs": [],
   "source": [
    "class yonetici(calisan):\n",
    "    def __init__(self, isim, soyisim, maas, calisanlar = None):\n",
    "        super().__init__(isim, soyisim, maas)\n",
    "        if calisanlar == None:\n",
    "            self.calisanlar = []\n",
    "        else:\n",
    "            self.calisanlar = calisanlar\n",
    "\n",
    "    def calisan_ekle(self, calisan):\n",
    "        if calisan not in self.calisanlar:\n",
    "            self.calisanlar.append(calisan)\n",
    "\n",
    "    def calisan_sil(self, calisan):\n",
    "        if calisan in self.calisanlar:\n",
    "            self.calisanlar.remove(calisan)\n",
    "\n",
    "    def calisanları_goster(self):\n",
    "        for i in self.calisanlar:\n",
    "            print(i.bilgileri_goster())"
   ]
  },
  {
   "cell_type": "code",
   "execution_count": 24,
   "metadata": {},
   "outputs": [],
   "source": [
    "yonetici1 = yonetici(\"metin\", \"ali\", 100000)"
   ]
  },
  {
   "cell_type": "code",
   "execution_count": 25,
   "metadata": {},
   "outputs": [
    {
     "name": "stdout",
     "output_type": "stream",
     "text": [
      "Ad: ali  Soyad : caliskan  Maas : ali  Email :alicaliskan@sirket.com\n",
      "Ad: Ayşe  Soyad : yıldız  Maas : Ayşe  Email :Ayşeyıldız@sirket.com  Dil : python \n"
     ]
    }
   ],
   "source": [
    "yonetici1.calisan_ekle(calisan1)\n",
    "yonetici1.calisan_ekle(yazilimci1)\n",
    "yonetici1.calisanları_goster()\n"
   ]
  },
  {
   "cell_type": "code",
   "execution_count": 26,
   "metadata": {},
   "outputs": [
    {
     "name": "stdout",
     "output_type": "stream",
     "text": [
      "Ad: Ayşe  Soyad : yıldız  Maas : Ayşe  Email :Ayşeyıldız@sirket.com  Dil : python \n"
     ]
    }
   ],
   "source": [
    "yonetici1.calisan_sil(calisan1)\n",
    "yonetici1.calisanları_goster()"
   ]
  },
  {
   "cell_type": "code",
   "execution_count": 27,
   "metadata": {},
   "outputs": [],
   "source": [
    "yonetici2 = yonetici(\"feyyaz\", \"beşiktaş\", 110000, [yazilimci1, yazilimci2, calisan2])"
   ]
  },
  {
   "cell_type": "code",
   "execution_count": 28,
   "metadata": {},
   "outputs": [
    {
     "name": "stdout",
     "output_type": "stream",
     "text": [
      "Ad: Ayşe  Soyad : yıldız  Maas : Ayşe  Email :Ayşeyıldız@sirket.com  Dil : python \n",
      "Ad: fatma  Soyad : ay  Maas : fatma  Email :fatmaay@sirket.com  Dil : java \n",
      "Ad: veli  Soyad : uzun  Maas : veli  Email :veliuzun@sirket.com\n"
     ]
    }
   ],
   "source": [
    "yonetici2.calisanları_goster()"
   ]
  },
  {
   "cell_type": "code",
   "execution_count": 29,
   "metadata": {},
   "outputs": [
    {
     "name": "stdout",
     "output_type": "stream",
     "text": [
      "True\n"
     ]
    }
   ],
   "source": [
    "print(isinstance(yonetici2, calisan))"
   ]
  },
  {
   "cell_type": "code",
   "execution_count": 32,
   "metadata": {},
   "outputs": [
    {
     "name": "stdout",
     "output_type": "stream",
     "text": [
      "False\n"
     ]
    }
   ],
   "source": [
    "print(isinstance(yonetici, yazilimci))"
   ]
  },
  {
   "cell_type": "code",
   "execution_count": null,
   "metadata": {},
   "outputs": [],
   "source": []
  }
 ],
 "metadata": {
  "kernelspec": {
   "display_name": "Python 3",
   "language": "python",
   "name": "python3"
  },
  "language_info": {
   "codemirror_mode": {
    "name": "ipython",
    "version": 3
   },
   "file_extension": ".py",
   "mimetype": "text/x-python",
   "name": "python",
   "nbconvert_exporter": "python",
   "pygments_lexer": "ipython3",
   "version": "3.11.1"
  },
  "orig_nbformat": 4
 },
 "nbformat": 4,
 "nbformat_minor": 2
}
