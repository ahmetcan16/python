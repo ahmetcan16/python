{
 "cells": [
  {
   "cell_type": "markdown",
   "id": "9632ce53-434f-4cf1-82b4-03a5c8127f37",
   "metadata": {},
   "source": [
    "Nesne Yönelimli Programlama"
   ]
  },
  {
   "cell_type": "code",
   "execution_count": 1,
   "id": "f7e1f62b-2f11-40ea-b9cf-f1caf0fa9a87",
   "metadata": {},
   "outputs": [],
   "source": [
    "class MyFirstClass:\n",
    "    pass"
   ]
  },
  {
   "cell_type": "code",
   "execution_count": 3,
   "id": "e71fdee4-2932-4818-ad7f-ef92ff809f6d",
   "metadata": {},
   "outputs": [
    {
     "name": "stdout",
     "output_type": "stream",
     "text": [
      "<class 'type'>\n"
     ]
    }
   ],
   "source": [
    "print(type(MyFirstClass))"
   ]
  },
  {
   "cell_type": "code",
   "execution_count": 6,
   "id": "2669d11a-1da3-48d3-bee7-b4fab719ae3e",
   "metadata": {},
   "outputs": [
    {
     "name": "stdout",
     "output_type": "stream",
     "text": [
      "<class 'list'>\n",
      "<class 'str'>\n",
      "<class 'int'>\n",
      "<class '__main__.MyFirstClass'>\n"
     ]
    }
   ],
   "source": [
    "print(list)\n",
    "print(str)\n",
    "print(int)\n",
    "print(MyFirstClass)"
   ]
  },
  {
   "cell_type": "code",
   "execution_count": 7,
   "id": "d28bf0b1-3a25-4b87-958d-838f8364abea",
   "metadata": {},
   "outputs": [
    {
     "data": {
      "text/plain": [
       "<__main__.MyFirstClass at 0x1f53c2f46a0>"
      ]
     },
     "execution_count": 7,
     "metadata": {},
     "output_type": "execute_result"
    }
   ],
   "source": [
    "my_class = MyFirstClass()\n",
    "my_class"
   ]
  },
  {
   "cell_type": "code",
   "execution_count": 18,
   "id": "8ad20fb4-7128-436f-be45-f2fc4aed7547",
   "metadata": {},
   "outputs": [
    {
     "name": "stdout",
     "output_type": "stream",
     "text": [
      "<__main__.Person object at 0x000001F53DBF9120>\n",
      "<__main__.Person object at 0x000001F53DC66140>\n"
     ]
    }
   ],
   "source": [
    "class Person:\n",
    "    pass\n",
    "p1 = Person()\n",
    "print(p1)\n",
    "p2 = Person()\n",
    "print(p2)\n",
    "p3 = Person()"
   ]
  },
  {
   "cell_type": "code",
   "execution_count": 19,
   "id": "5ae17e55-49bf-4ee9-9a0e-9090a8e5fc1b",
   "metadata": {},
   "outputs": [],
   "source": [
    "p1.name = \"Ahmet\"\n",
    "p1.surname = \"Yılmaz\"\n",
    "p1.age = 25\n",
    "p1.job = \"Engineer\""
   ]
  },
  {
   "cell_type": "code",
   "execution_count": 20,
   "id": "6213b705-0d03-49c0-b280-6a636b9f7524",
   "metadata": {},
   "outputs": [],
   "source": [
    "p2.name = \"Mehmet\"\n",
    "p2.surname = \"Yılmaz\"\n",
    "p2.age = 30\n",
    "p2.job = \"Teacher\"\n",
    "p2.country = \"Türkiye\""
   ]
  },
  {
   "cell_type": "code",
   "execution_count": 21,
   "id": "1af4bb6a-e53a-4ac2-b9aa-021a5f3d7b52",
   "metadata": {},
   "outputs": [
    {
     "name": "stdout",
     "output_type": "stream",
     "text": [
      "Ahmet\n"
     ]
    }
   ],
   "source": [
    "print(p1.name)"
   ]
  },
  {
   "cell_type": "code",
   "execution_count": 25,
   "id": "9416972f-3a68-445f-a2de-277e9ed31b06",
   "metadata": {},
   "outputs": [
    {
     "name": "stdout",
     "output_type": "stream",
     "text": [
      "Ahmet Yılmaz 25 Engineer\n"
     ]
    }
   ],
   "source": [
    "print(p1.name, p1.surname, p1.age, p1.job)"
   ]
  },
  {
   "cell_type": "code",
   "execution_count": 27,
   "id": "f31f08a5-fcae-4ac9-bb7c-e6f8926bb4b2",
   "metadata": {},
   "outputs": [
    {
     "name": "stdout",
     "output_type": "stream",
     "text": [
      "{'name': 'Ahmet', 'surname': 'Yılmaz', 'age': 25, 'job': 'Engineer'}\n"
     ]
    }
   ],
   "source": [
    "print(p1.__dict__)"
   ]
  },
  {
   "cell_type": "code",
   "execution_count": 39,
   "id": "6ca4b36f-c71d-441c-9bd1-f9126cff9487",
   "metadata": {},
   "outputs": [],
   "source": [
    "class Person:\n",
    "    def __init__(self):\n",
    "        self.name = \"no name\"\n",
    "        self.surname = \"no surname\"\n",
    "        self.age = \"no age\"\n",
    "        self.job = \"no job\"        "
   ]
  },
  {
   "cell_type": "code",
   "execution_count": 42,
   "id": "7055489d-deb1-4a8b-a8d5-1d35bdc2ee03",
   "metadata": {},
   "outputs": [
    {
     "name": "stdout",
     "output_type": "stream",
     "text": [
      "{'name': 'no name', 'surname': 'no surname', 'age': 'no age', 'job': 'no job'}\n"
     ]
    },
    {
     "data": {
      "text/plain": [
       "{'name': 'Ahmet', 'surname': 'no surname', 'age': 'no age', 'job': 'no job'}"
      ]
     },
     "execution_count": 42,
     "metadata": {},
     "output_type": "execute_result"
    }
   ],
   "source": [
    "p1 = Person()\n",
    "print(p1.__dict__)\n",
    "p1.name = \"Ahmet\"\n",
    "p1.__dict__"
   ]
  },
  {
   "cell_type": "code",
   "execution_count": 44,
   "id": "60c23fa1-5700-454f-b29c-11877e648f8f",
   "metadata": {},
   "outputs": [],
   "source": [
    "class Person():\n",
    "    def __init__(self, name, surname, age, job):\n",
    "        self.name = name\n",
    "        self.surname = surname\n",
    "        self.age = age\n",
    "        self.job = job"
   ]
  },
  {
   "cell_type": "code",
   "execution_count": 45,
   "id": "4fa98fd3-d8ac-4fd4-960a-dc311430aa81",
   "metadata": {},
   "outputs": [],
   "source": [
    "p1 = Person(\"Ahmet\", \"kemal\", 25, \"engineer\")"
   ]
  },
  {
   "cell_type": "code",
   "execution_count": 46,
   "id": "33e53277-d1e5-4ce0-92e7-19ae23ecac3c",
   "metadata": {},
   "outputs": [
    {
     "data": {
      "text/plain": [
       "{'name': 'Ahmet', 'surname': 'kemal', 'age': 25, 'job': 'engineer'}"
      ]
     },
     "execution_count": 46,
     "metadata": {},
     "output_type": "execute_result"
    }
   ],
   "source": [
    "p1.__dict__"
   ]
  },
  {
   "cell_type": "code",
   "execution_count": 47,
   "id": "c2c2f06f-75ad-4f56-8c4f-8644a11aae0c",
   "metadata": {},
   "outputs": [
    {
     "data": {
      "text/plain": [
       "{'name': 10, 'surname': 20, 'age': 'sekiz', 'job': 100}"
      ]
     },
     "execution_count": 47,
     "metadata": {},
     "output_type": "execute_result"
    }
   ],
   "source": [
    "p2 = Person(10, 20, \"sekiz\", 100)\n",
    "p2.__dict__"
   ]
  },
  {
   "cell_type": "code",
   "execution_count": 54,
   "id": "58b12fcc-7a97-40f0-9957-b648bafce8ab",
   "metadata": {},
   "outputs": [
    {
     "name": "stdout",
     "output_type": "stream",
     "text": [
      "{'name': 'Ahmet', 'surname': 'kemal', 'age': 25, 'job': 'engineer'}\n"
     ]
    },
    {
     "data": {
      "text/plain": [
       "'isim: Ahmet soyisim: kemal'"
      ]
     },
     "execution_count": 54,
     "metadata": {},
     "output_type": "execute_result"
    }
   ],
   "source": [
    "class Person():\n",
    "    def __init__(self, name, surname, age, job):\n",
    "        self.name = name\n",
    "        self.surname = surname\n",
    "        self.age = age\n",
    "        self.job = job\n",
    "        \n",
    "    def full_name(self):\n",
    "        return f\"isim: {self.name} soyisim: {self.surname}\"\n",
    "p1 = Person(\"Ahmet\", \"kemal\", 25, \"engineer\")\n",
    "print(p1.__dict__)\n",
    "p1.full_name()"
   ]
  },
  {
   "cell_type": "code",
   "execution_count": 55,
   "id": "a86c4ac0-2c4b-4625-bceb-d1fd31324acc",
   "metadata": {},
   "outputs": [
    {
     "name": "stdout",
     "output_type": "stream",
     "text": [
      "{'name': 'Ahmet', 'surname': 'kemal', 'age': 25, 'job': 'engineer'}\n",
      "isim: Ahmet soyisim: kemal\n",
      "name:Ahmet surname: kemal age: 25\n"
     ]
    }
   ],
   "source": [
    "class Person():\n",
    "    def __init__(self, name, surname, age, job):\n",
    "        self.name = name\n",
    "        self.surname = surname\n",
    "        self.age = age\n",
    "        self.job = job\n",
    "        \n",
    "    def full_name(self):\n",
    "        return f\"isim: {self.name} soyisim: {self.surname}\"\n",
    "    \n",
    "    def info(self):\n",
    "        return f\"name:{self.name} surname: {self.surname} age: {self.age}\"\n",
    "    \n",
    "p1 = Person(\"Ahmet\", \"kemal\", 25, \"engineer\")\n",
    "print(p1.__dict__)\n",
    "print(p1.full_name())\n",
    "print(p1.info())"
   ]
  },
  {
   "cell_type": "code",
   "execution_count": 70,
   "id": "dd53d9a8-a54a-49ee-bdf3-3388a13b7e21",
   "metadata": {},
   "outputs": [],
   "source": [
    "class Employee:\n",
    "    \"\"\" Employee Class: name, surname, pay\"\"\"\n",
    "    raise_amount = 1.2\n",
    "    def __init__(self, name, surname, pay):\n",
    "        self.name = name\n",
    "        self.surname = surname\n",
    "        self.pay = pay\n",
    "    def fullname(self):\n",
    "        print(self.name, self.surname)\n",
    "    def pay_raise(self):\n",
    "        self.pay = int(self.pay * self.raise_amount)\n",
    "        return self.pay\n",
    "\n",
    "e1 = Employee(\"ahmet\", \"yılma\", 50000)\n",
    "e2 = Employee(\"mehmet\", \"erdem\", 50000)\n",
    "    "
   ]
  },
  {
   "cell_type": "code",
   "execution_count": 71,
   "id": "187f5961-6f01-4b2d-91d7-c46d8d6d91c0",
   "metadata": {},
   "outputs": [
    {
     "name": "stdout",
     "output_type": "stream",
     "text": [
      "ahmet yılma\n"
     ]
    }
   ],
   "source": [
    "e1.fullname()"
   ]
  },
  {
   "cell_type": "code",
   "execution_count": 72,
   "id": "5897e974-1576-427a-8242-abc715ce0ad7",
   "metadata": {},
   "outputs": [
    {
     "data": {
      "text/plain": [
       "60000"
      ]
     },
     "execution_count": 72,
     "metadata": {},
     "output_type": "execute_result"
    }
   ],
   "source": [
    "e1.pay_raise()"
   ]
  },
  {
   "cell_type": "code",
   "execution_count": 73,
   "id": "6c40c30d-3bc2-427b-9600-f1f142092274",
   "metadata": {},
   "outputs": [
    {
     "name": "stdout",
     "output_type": "stream",
     "text": [
      "ahmet yılma\n"
     ]
    }
   ],
   "source": [
    "Employee.fullname(e1)"
   ]
  },
  {
   "cell_type": "code",
   "execution_count": null,
   "id": "cd464c17-5f3b-4106-8158-d4c417dba130",
   "metadata": {},
   "outputs": [],
   "source": []
  },
  {
   "cell_type": "code",
   "execution_count": null,
   "id": "e55ee647-9eb5-46d2-a0f2-c770d7b1af59",
   "metadata": {},
   "outputs": [],
   "source": []
  },
  {
   "cell_type": "code",
   "execution_count": null,
   "id": "f87def95-98ac-4b6b-ac9c-f00bb6c46e65",
   "metadata": {},
   "outputs": [],
   "source": []
  }
 ],
 "metadata": {
  "kernelspec": {
   "display_name": "Python 3 (ipykernel)",
   "language": "python",
   "name": "python3"
  },
  "language_info": {
   "codemirror_mode": {
    "name": "ipython",
    "version": 3
   },
   "file_extension": ".py",
   "mimetype": "text/x-python",
   "name": "python",
   "nbconvert_exporter": "python",
   "pygments_lexer": "ipython3",
   "version": "3.10.9"
  }
 },
 "nbformat": 4,
 "nbformat_minor": 5
}
