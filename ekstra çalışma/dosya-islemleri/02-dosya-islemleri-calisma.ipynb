{
 "cells": [
  {
   "cell_type": "code",
   "execution_count": 2,
   "metadata": {},
   "outputs": [
    {
     "name": "stdout",
     "output_type": "stream",
     "text": [
      "['append', 'clear', 'copy', 'count', 'extend', 'index', 'insert', 'pop', 'remove', 'reverse', 'sort']\n"
     ]
    }
   ],
   "source": [
    "list_methods = []\n",
    "for method in dir(list):\n",
    "    if method.startswith(\"__\"):\n",
    "        continue\n",
    "    list_methods.append(method)\n",
    "print(list_methods)"
   ]
  },
  {
   "cell_type": "code",
   "execution_count": 3,
   "metadata": {},
   "outputs": [
    {
     "name": "stdout",
     "output_type": "stream",
     "text": [
      "['add', 'clear', 'copy', 'difference', 'difference_update', 'discard', 'intersection', 'intersection_update', 'isdisjoint', 'issubset', 'issuperset', 'pop', 'remove', 'symmetric_difference', 'symmetric_difference_update', 'union', 'update']\n"
     ]
    }
   ],
   "source": [
    "set_methods = []\n",
    "for method in dir(set):\n",
    "    if method.startswith(\"__\"):\n",
    "        continue\n",
    "    set_methods.append(method)\n",
    "print(set_methods)"
   ]
  },
  {
   "cell_type": "code",
   "execution_count": 4,
   "metadata": {},
   "outputs": [
    {
     "name": "stdout",
     "output_type": "stream",
     "text": [
      "['capitalize', 'casefold', 'center', 'count', 'encode', 'endswith', 'expandtabs', 'find', 'format', 'format_map', 'index', 'isalnum', 'isalpha', 'isascii', 'isdecimal', 'isdigit', 'isidentifier', 'islower', 'isnumeric', 'isprintable', 'isspace', 'istitle', 'isupper', 'join', 'ljust', 'lower', 'lstrip', 'maketrans', 'partition', 'removeprefix', 'removesuffix', 'replace', 'rfind', 'rindex', 'rjust', 'rpartition', 'rsplit', 'rstrip', 'split', 'splitlines', 'startswith', 'strip', 'swapcase', 'title', 'translate', 'upper', 'zfill']\n"
     ]
    }
   ],
   "source": [
    "str_methods = []\n",
    "for method in dir(str):\n",
    "    if method.startswith(\"__\"):\n",
    "        continue\n",
    "    str_methods.append(method)\n",
    "print(str_methods)"
   ]
  },
  {
   "cell_type": "code",
   "execution_count": 5,
   "metadata": {},
   "outputs": [
    {
     "name": "stdout",
     "output_type": "stream",
     "text": [
      "['count', 'index']\n"
     ]
    }
   ],
   "source": [
    "tuple_methods = []\n",
    "for method in dir(tuple):\n",
    "    if method.startswith(\"__\"):\n",
    "        continue\n",
    "    tuple_methods.append(method)\n",
    "print(tuple_methods)"
   ]
  },
  {
   "cell_type": "code",
   "execution_count": 6,
   "metadata": {},
   "outputs": [
    {
     "name": "stdout",
     "output_type": "stream",
     "text": [
      "['clear', 'copy', 'fromkeys', 'get', 'items', 'keys', 'pop', 'popitem', 'setdefault', 'update', 'values']\n"
     ]
    }
   ],
   "source": [
    "\n",
    "dict_methods = []\n",
    "for method in dir(dict):\n",
    "    if method.startswith(\"__\"):\n",
    "        continue\n",
    "    dict_methods.append(method)\n",
    "print(dict_methods)"
   ]
  },
  {
   "cell_type": "code",
   "execution_count": 18,
   "metadata": {},
   "outputs": [],
   "source": [
    "basliklar = [\"List Methods\", \"Set Methods\", \"String Methods\", \"Tuple Methods\", \"Dict Methods\"]\n",
    "classes = [list_methods, set_methods, str_methods, tuple_methods, dict_methods]"
   ]
  },
  {
   "cell_type": "code",
   "execution_count": 19,
   "metadata": {},
   "outputs": [],
   "source": [
    "max_len = 0\n",
    "for i in classes:\n",
    "    if len(i) > max_len:\n",
    "        max_len = len(i)"
   ]
  },
  {
   "cell_type": "code",
   "execution_count": 24,
   "metadata": {},
   "outputs": [
    {
     "name": "stdout",
     "output_type": "stream",
     "text": [
      "List Methods                  Set Methods                   String Methods                Tuple Methods                 Dict Methods                  \n",
      "append                        add                           capitalize                    count                         clear                         \n",
      "clear                         clear                         casefold                      index                         copy                          \n",
      "copy                          copy                          center                        -------                       fromkeys                      \n",
      "count                         difference                    count                         -------                       get                           \n",
      "extend                        difference_update             encode                        -------                       items                         \n",
      "index                         discard                       endswith                      -------                       keys                          \n",
      "insert                        intersection                  expandtabs                    -------                       pop                           \n",
      "pop                           intersection_update           find                          -------                       popitem                       \n",
      "remove                        isdisjoint                    format                        -------                       setdefault                    \n",
      "reverse                       issubset                      format_map                    -------                       update                        \n",
      "sort                          issuperset                    index                         -------                       values                        \n",
      "-------                       pop                           isalnum                       -------                       -------                       \n",
      "-------                       remove                        isalpha                       -------                       -------                       \n",
      "-------                       symmetric_difference          isascii                       -------                       -------                       \n",
      "-------                       symmetric_difference_update   isdecimal                     -------                       -------                       \n",
      "-------                       union                         isdigit                       -------                       -------                       \n",
      "-------                       update                        isidentifier                  -------                       -------                       \n",
      "-------                       -------                       islower                       -------                       -------                       \n",
      "-------                       -------                       isnumeric                     -------                       -------                       \n",
      "-------                       -------                       isprintable                   -------                       -------                       \n",
      "-------                       -------                       isspace                       -------                       -------                       \n",
      "-------                       -------                       istitle                       -------                       -------                       \n",
      "-------                       -------                       isupper                       -------                       -------                       \n",
      "-------                       -------                       join                          -------                       -------                       \n",
      "-------                       -------                       ljust                         -------                       -------                       \n",
      "-------                       -------                       lower                         -------                       -------                       \n",
      "-------                       -------                       lstrip                        -------                       -------                       \n",
      "-------                       -------                       maketrans                     -------                       -------                       \n",
      "-------                       -------                       partition                     -------                       -------                       \n",
      "-------                       -------                       removeprefix                  -------                       -------                       \n",
      "-------                       -------                       removesuffix                  -------                       -------                       \n",
      "-------                       -------                       replace                       -------                       -------                       \n",
      "-------                       -------                       rfind                         -------                       -------                       \n",
      "-------                       -------                       rindex                        -------                       -------                       \n",
      "-------                       -------                       rjust                         -------                       -------                       \n",
      "-------                       -------                       rpartition                    -------                       -------                       \n",
      "-------                       -------                       rsplit                        -------                       -------                       \n",
      "-------                       -------                       rstrip                        -------                       -------                       \n",
      "-------                       -------                       split                         -------                       -------                       \n",
      "-------                       -------                       splitlines                    -------                       -------                       \n",
      "-------                       -------                       startswith                    -------                       -------                       \n",
      "-------                       -------                       strip                         -------                       -------                       \n",
      "-------                       -------                       swapcase                      -------                       -------                       \n",
      "-------                       -------                       title                         -------                       -------                       \n",
      "-------                       -------                       translate                     -------                       -------                       \n",
      "-------                       -------                       upper                         -------                       -------                       \n",
      "-------                       -------                       zfill                         -------                       -------                       "
     ]
    }
   ],
   "source": [
    "with open(\"dosya-islemleri-calisma.txt\", \"w\") as f:\n",
    "\n",
    "    for baslik in basliklar:\n",
    "        print(baslik, end=\"\")\n",
    "        print(\" \" * (30 - len(baslik)), end=\"\")\n",
    "        f.write(baslik)\n",
    "        f.write(\" \" * (30 - len(baslik)))\n",
    "\n",
    "    for i in range(max_len):\n",
    "        print()\n",
    "        f.write(\"\\n\")\n",
    "        for j in classes:\n",
    "            if i >= len(j):\n",
    "                print(\"-------\", end=\"\")\n",
    "                print(\" \" * 23, end=\"\")\n",
    "                f.write(\"-------\")\n",
    "                f.write(\" \" * 23)\n",
    "            else:\n",
    "                print(j[i], end=\"\")\n",
    "                print(\" \" * (30 - len(j[i])), end=\"\")\n",
    "                f.write(j[i])\n",
    "                f.write(\" \" * (30 - len(j[i])))\n"
   ]
  },
  {
   "cell_type": "code",
   "execution_count": null,
   "metadata": {},
   "outputs": [],
   "source": []
  }
 ],
 "metadata": {
  "kernelspec": {
   "display_name": "Python 3",
   "language": "python",
   "name": "python3"
  },
  "language_info": {
   "codemirror_mode": {
    "name": "ipython",
    "version": 3
   },
   "file_extension": ".py",
   "mimetype": "text/x-python",
   "name": "python",
   "nbconvert_exporter": "python",
   "pygments_lexer": "ipython3",
   "version": "3.11.1"
  },
  "orig_nbformat": 4
 },
 "nbformat": 4,
 "nbformat_minor": 2
}
