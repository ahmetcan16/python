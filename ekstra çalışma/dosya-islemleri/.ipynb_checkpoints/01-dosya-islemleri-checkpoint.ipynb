{
 "cells": [
  {
   "attachments": {},
   "cell_type": "markdown",
   "metadata": {},
   "source": [
    "[read() - r - okuma modu](#1)\n",
    "\n",
    "[readlines() her satırı bir eleman olarak okuma](#2)\n",
    "\n",
    "[readline() sadece bir satır okur](#3)\n",
    "\n",
    "[tell() imlecin kaldığı noktanın indexini döndürür](#3)\n",
    "\n",
    "[seek() imleci girdiğimiz indexe götürür](#3)\n",
    "\n",
    "[w - yazma modu (sıfırdan dosya açma veya içeriğini baştan oluşturma gibi)](#4)\n",
    "\n",
    "[a - yazma modu (sonuna ekleme)](#5)"
   ]
  },
  {
   "attachments": {},
   "cell_type": "markdown",
   "metadata": {},
   "source": [
    "<a id = \"1\"></a>\n",
    "#### read()  \n",
    "with open(...) as ... : "
   ]
  },
  {
   "cell_type": "code",
   "execution_count": 23,
   "metadata": {},
   "outputs": [
    {
     "name": "stdout",
     "output_type": "stream",
     "text": [
      "Dosyalarla Calisma\n",
      "r modu: Okuma modu(Dosya yoksa hata verir)(Default olarak tanimlidir)\n",
      "w modu: Yazma modu(Dosya yoksa olusturur)\n",
      "r+ modu: Hem okuma hem yazma modu\n",
      "a modu: Dosyanin sonuna ekleme modu\n",
      "b modu: binary mode\n"
     ]
    }
   ],
   "source": [
    "with open(\"deneme.txt\", \"r\") as f: # r default olarak tanımlıdır\n",
    "    print(f.read())"
   ]
  },
  {
   "cell_type": "code",
   "execution_count": 5,
   "metadata": {},
   "outputs": [
    {
     "name": "stdout",
     "output_type": "stream",
     "text": [
      "Dosyalarla Ã‡alÄ±ÅŸma\n",
      "Birinci KÄ±sÄ±m: DosyalarÄ± AÃ§ma\n",
      "r modu: Okuma modu(Dosya yoksa hata verir)(D\n"
     ]
    }
   ],
   "source": [
    "with open(\"deneme.txt\") as f:\n",
    "    icerik = f.read(100) # ilk 100 karakteri okudu, sonra imlec orada kalır\n",
    "    print(icerik)"
   ]
  },
  {
   "attachments": {},
   "cell_type": "markdown",
   "metadata": {},
   "source": [
    "<a id = \"2\"></a>\n",
    "#### readlines()"
   ]
  },
  {
   "cell_type": "code",
   "execution_count": 7,
   "metadata": {},
   "outputs": [
    {
     "name": "stdout",
     "output_type": "stream",
     "text": [
      "['Dosyalarla Ã‡alÄ±ÅŸma\\n', 'Birinci KÄ±sÄ±m: DosyalarÄ± AÃ§ma\\n', 'r modu: Okuma modu(Dosya yoksa hata verir)(Default olarak tanÄ±mlÄ±dÄ±r)\\n', 'w modu: Yazma modu(Dosya yoksa oluÅŸturur)\\n', 'r+ modu: Hem okuma hem yazma modu\\n', 'a modu: DosyanÄ±n sonuna ekleme modu\\n', 'b modu: binary mode\\n', 'DosyalarÄ± kapatma\\n', 'With open yapÄ±sÄ±\\n', 'Ä°kinci kÄ±sÄ±m: DosyalarÄ± Okuma\\n', 'read()\\n', 'readline()\\n', 'readlines()']\n"
     ]
    }
   ],
   "source": [
    "with open(\"deneme.txt\", \"r\") as f: \n",
    "    icerik2 = f.readlines()  # her satırı 1 eleman olacak şekilde okur ve liste halinde depolar\n",
    "    print(icerik2)"
   ]
  },
  {
   "cell_type": "code",
   "execution_count": 5,
   "metadata": {},
   "outputs": [
    {
     "name": "stdout",
     "output_type": "stream",
     "text": [
      "Dosyalarla Ã‡alÄ±ÅŸma\n",
      "\n",
      "Birinci KÄ±sÄ±m: DosyalarÄ± AÃ§ma\n",
      "\n",
      "r modu: Okuma modu(Dosya yoksa hata verir)(Default olarak tanÄ±mlÄ±dÄ±r)\n",
      "\n",
      "w modu: Yazma modu(Dosya yoksa oluÅŸturur)\n",
      "\n",
      "r+ modu: Hem okuma hem yazma modu\n",
      "\n",
      "a modu: DosyanÄ±n sonuna ekleme modu\n",
      "\n",
      "b modu: binary mode\n",
      "\n",
      "DosyalarÄ± kapatma\n",
      "\n",
      "With open yapÄ±sÄ±\n",
      "\n",
      "Ä°kinci kÄ±sÄ±m: DosyalarÄ± Okuma\n",
      "\n",
      "read()\n",
      "\n",
      "readline()\n",
      "\n",
      "readlines()\n"
     ]
    }
   ],
   "source": [
    "for satır in icerik2: # her liste elemanının sonunda \\n olduğu için boşluklu yazdırdı\n",
    "    print(satır)"
   ]
  },
  {
   "attachments": {},
   "cell_type": "markdown",
   "metadata": {},
   "source": [
    "<a id = \"3\"></a>\n",
    "#### readline() - tell() - seek()"
   ]
  },
  {
   "cell_type": "code",
   "execution_count": 3,
   "metadata": {},
   "outputs": [
    {
     "name": "stdout",
     "output_type": "stream",
     "text": [
      "Dosyalarla Ã‡alÄ±ÅŸma\n",
      "23\n",
      "Birinci KÄ±sÄ±m: DosyalarÄ± AÃ§ma\n",
      "58\n",
      "Dosyalarla Ã‡alÄ±ÅŸma\n",
      "23\n"
     ]
    }
   ],
   "source": [
    "with open(\"deneme.txt\", \"r\") as f: \n",
    "    satir1 = f.readline()  # sadece bir satır okur. ama imleç mantığıyla çalışır. bir dahaki okumaya kaldığı yerden devam eder\n",
    "    print(satir1, end=\"\")\n",
    "    pozison = f.tell()      # imleçin kaldığı poziyonu döndürür\n",
    "    print(pozison)          \n",
    "    satir2 = f.readline()  \n",
    "    print(satir2, end=\"\")\n",
    "    pozison2 = f.tell()\n",
    "    print(pozison2)\n",
    "    f.seek(0)              # imleci tekrar dosyanın başına döndürdü\n",
    "    satir2 = f.readline()  \n",
    "    print(satir2, end=\"\")\n",
    "    pozison2 = f.tell()\n",
    "    print(pozison2)"
   ]
  },
  {
   "cell_type": "code",
   "execution_count": 6,
   "metadata": {},
   "outputs": [
    {
     "name": "stdout",
     "output_type": "stream",
     "text": [
      "Dosyalarla Ã‡alÄ±ÅŸma\n",
      "Birinci KÄ±sÄ±m: DosyalarÄ± AÃ§ma\n",
      "r modu: Okuma modu(Dosya yoksa hata verir)(Default olarak tanÄ±mlÄ±dÄ±r)\n",
      "w modu: Yazma modu(Dosya yoksa oluÅŸturur)\n",
      "r+ modu: Hem okuma hem yazma modu\n",
      "a modu: DosyanÄ±n sonuna ekleme modu\n",
      "b modu: binary mode\n",
      "DosyalarÄ± kapatma\n",
      "With open yapÄ±sÄ±\n",
      "Ä°kinci kÄ±sÄ±m: DosyalarÄ± Okuma\n",
      "read()\n",
      "readline()\n",
      "readlines()"
     ]
    }
   ],
   "source": [
    "with open(\"deneme.txt\", \"r\") as f: \n",
    "    okunacak_miktar = 10\n",
    "    icerik = f.read(okunacak_miktar)\n",
    "    while len(icerik) > 0:\n",
    "        print(icerik, end=\"\")\n",
    "        icerik = f.read(okunacak_miktar)"
   ]
  },
  {
   "attachments": {},
   "cell_type": "markdown",
   "metadata": {},
   "source": [
    "<a id = \"4\"></a>\n",
    "#### w modu"
   ]
  },
  {
   "cell_type": "code",
   "execution_count": 8,
   "metadata": {},
   "outputs": [],
   "source": [
    "with open(\"deneme2.txt\", \"w\") as f: # eğer dosya yoksa w moduyla dosya oluşturmuş olur\n",
    "    f.write(\"Python\")"
   ]
  },
  {
   "cell_type": "code",
   "execution_count": 9,
   "metadata": {},
   "outputs": [],
   "source": [
    "with open(\"deneme2.txt\", \"w\") as f: # dosya varsa içindekilerin hepsi gider. baştan oluşturuyormuş gibi\n",
    "    f.write(\"Merhaba\")"
   ]
  },
  {
   "attachments": {},
   "cell_type": "markdown",
   "metadata": {},
   "source": [
    "<a id = \"5\"></a>\n",
    "#### a modu"
   ]
  },
  {
   "cell_type": "code",
   "execution_count": 10,
   "metadata": {},
   "outputs": [],
   "source": [
    "with open(\"deneme2.txt\", \"a\") as f:\n",
    "    f.write(\"Python\")"
   ]
  },
  {
   "cell_type": "code",
   "execution_count": 11,
   "metadata": {},
   "outputs": [],
   "source": [
    "with open(\"deneme.txt\") as okunacak:\n",
    "    with open(\"deneme2.txt\", \"w\") as yazılacak:\n",
    "        for satir in okunacak:\n",
    "            yazılacak.write(satir)"
   ]
  },
  {
   "cell_type": "code",
   "execution_count": 13,
   "metadata": {},
   "outputs": [
    {
     "name": "stdout",
     "output_type": "stream",
     "text": [
      "Dosyalarla Ã‡alÄ±ÅŸma\n",
      "\n",
      "Birinci KÄ±sÄ±m: DosyalarÄ± AÃ§ma\n",
      "\n",
      "r modu: Okuma modu(Dosya yoksa hata verir)(Default olarak tanÄ±mlÄ±dÄ±r)\n",
      "\n",
      "w modu: Yazma modu(Dosya yoksa oluÅŸturur)\n",
      "\n",
      "r+ modu: Hem okuma hem yazma modu\n",
      "\n",
      "a modu: DosyanÄ±n sonuna ekleme modu\n",
      "\n",
      "b modu: binary mode\n",
      "\n",
      "DosyalarÄ± kapatma\n",
      "\n",
      "With open yapÄ±sÄ±\n",
      "\n",
      "Ä°kinci kÄ±sÄ±m: DosyalarÄ± Okuma\n",
      "\n",
      "read()\n",
      "\n",
      "readline()\n",
      "\n",
      "readlines()\n"
     ]
    }
   ],
   "source": [
    "with open(\"deneme.txt\") as okunacak:\n",
    "    for x in okunacak:\n",
    "        print(x)"
   ]
  },
  {
   "cell_type": "code",
   "execution_count": null,
   "metadata": {},
   "outputs": [],
   "source": []
  }
 ],
 "metadata": {
  "kernelspec": {
   "display_name": "Python 3",
   "language": "python",
   "name": "python3"
  },
  "language_info": {
   "codemirror_mode": {
    "name": "ipython",
    "version": 3
   },
   "file_extension": ".py",
   "mimetype": "text/x-python",
   "name": "python",
   "nbconvert_exporter": "python",
   "pygments_lexer": "ipython3",
   "version": "3.11.1"
  },
  "orig_nbformat": 4
 },
 "nbformat": 4,
 "nbformat_minor": 2
}
