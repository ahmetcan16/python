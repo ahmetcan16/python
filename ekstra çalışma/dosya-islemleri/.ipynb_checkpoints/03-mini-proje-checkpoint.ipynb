{
 "cells": [
  {
   "cell_type": "code",
   "execution_count": 21,
   "metadata": {},
   "outputs": [],
   "source": [
    "with open(\"mini-proje-taslak.txt\") as f:\n",
    "    with open(\"gecenler.txt\", \"w\") as g:\n",
    "        with open(\"kalanlar.txt\", \"w\") as k:\n",
    "            icerik = f.readlines()\n",
    "            m = 0\n",
    "            for satir in icerik:\n",
    "                if m == 0:\n",
    "                    m += 1\n",
    "                    continue\n",
    "                satir = satir.replace(\"\\n\", \"\")\n",
    "                bosluk_sayisi = 0\n",
    "                bosluk_indexleri = []\n",
    "                index = 0\n",
    "                for karakter in satir:\n",
    "                    if karakter == \" \":\n",
    "                        bosluk_sayisi += 1\n",
    "                        bosluk_indexleri.append(index)\n",
    "                    index += 1\n",
    "                ad_soyad = satir[:bosluk_indexleri[0]]\n",
    "                soyad = ad_soyad.split(\"-\")[-1]\n",
    "                ad = ad_soyad[:ad_soyad.index(soyad) -1].replace(\"-\", \" \")\n",
    "                notlar = satir.split(\" \")[-1]\n",
    "                notlar = notlar.split(\"/\")\n",
    "                birinci_vize = int(notlar[0])\n",
    "                ikinci_vize = int(notlar[1])\n",
    "                final = int(notlar[2])\n",
    "                ortalama = birinci_vize * 0.3 + ikinci_vize * 0.3 + final * 0.4\n",
    "                bolum = satir[bosluk_indexleri[0] + 1: bosluk_indexleri[-1]]\n",
    "                if ortalama >= 70 and final >= 70:\n",
    "                    g.write(ad)\n",
    "                    g.write(\" \" * (25 - len(ad)))\n",
    "                    g.write(soyad)\n",
    "                    g.write(\" \" * (25 - len(soyad)))\n",
    "                    g.write(bolum)\n",
    "                    g.write(\" \" * (25 - len(bolum)))\n",
    "                    g.write(str(round(ortalama, 1)))\n",
    "                    g.write(\" \" * 21)\n",
    "                    g.write(\"Gecti\")\n",
    "                    g.write(\"\\n\")\n",
    "                else:\n",
    "                    k.write(ad)\n",
    "                    k.write(\" \" * (25 - len(ad)))\n",
    "                    k.write(soyad)\n",
    "                    k.write(\" \" * (25 - len(soyad)))\n",
    "                    k.write(bolum)\n",
    "                    k.write(\" \" * (25 - len(bolum)))\n",
    "                    k.write(str(round(ortalama, 1)))\n",
    "                    k.write(\" \" * 21)\n",
    "                    k.write(\"Kaldi\")\n",
    "                    k.write(\"\\n\")\n",
    "                \n"
   ]
  },
  {
   "cell_type": "code",
   "execution_count": null,
   "metadata": {},
   "outputs": [],
   "source": []
  }
 ],
 "metadata": {
  "kernelspec": {
   "display_name": "Python 3",
   "language": "python",
   "name": "python3"
  },
  "language_info": {
   "codemirror_mode": {
    "name": "ipython",
    "version": 3
   },
   "file_extension": ".py",
   "mimetype": "text/x-python",
   "name": "python",
   "nbconvert_exporter": "python",
   "pygments_lexer": "ipython3",
   "version": "3.11.1"
  },
  "orig_nbformat": 4
 },
 "nbformat": 4,
 "nbformat_minor": 2
}
