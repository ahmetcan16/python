{
 "cells": [
  {
   "attachments": {},
   "cell_type": "markdown",
   "metadata": {},
   "source": [
    "LİST\n",
    "\n",
    "list() veya [] yöntemleriyle oluşturulur.\n",
    "\n",
    "list is iterable and mutable\n",
    "\n",
    "slice ve index metotları uygulanabilir.\n",
    "\n"
   ]
  },
  {
   "attachments": {},
   "cell_type": "markdown",
   "metadata": {},
   "source": [
    "[append() -- listenin sonuna bir eleman ekleme](#1)\n",
    "\n",
    "[extend() -- listenin sonuna başka liste ekleme](#2)\n",
    "\n",
    "[insert() -- tek elemanı index numarasıyla listeye ekler o indexi sağa kaydırır](#3)\n",
    "\n",
    "[remove() -- listeden eleman ismiyle silme](#4)\n",
    "\n",
    "[pop() --- index numarasıyla silme. sildiğini döndürür. indexsiz sonuncuyu siler](#5)\n",
    "\n",
    "[reverse() -- listeyi terse çevirme](#6)\n",
    "\n",
    "[sort() -- alfabetik yada rakamsal küçükten büyüğe sıralar](#7)\n",
    "\n",
    "[index() -- girilen elemanın indexinin döndürür](#8)\n",
    "\n",
    "[count() -- sayaç- girilen eleman kaç adet var](#9)\n",
    "\n",
    "[clear() --- listeyi boşaltma](#10)"
   ]
  },
  {
   "cell_type": "code",
   "execution_count": 5,
   "metadata": {},
   "outputs": [
    {
     "name": "stdout",
     "output_type": "stream",
     "text": [
      "['a', 'b', 'c', 'ç', 'd', 'e', 'f', 'g', 'ğ', 'h', 'ı', 'i', 'j', 'k', 'l', 'm', 'n', 'o', 'ö', 'p', 'r', 's', 'ş', 't', 'u', 'ü', 'v', 'y', 'z']\n"
     ]
    }
   ],
   "source": [
    "alfabe = \"abcçdefgğhıijklmnoöprsştuüvyz\"\n",
    "print(list(alfabe))"
   ]
  },
  {
   "cell_type": "code",
   "execution_count": 3,
   "metadata": {},
   "outputs": [
    {
     "name": "stdout",
     "output_type": "stream",
     "text": [
      "0 1 2 3 4 5 6 7 8 9\n",
      "6 7 8 9 10 11 12 13 14 15 16 17 18 19\n",
      "12 13 14 15 16 17 18 19 20 21 22 23 24 25 26 27 28 29 30 31 32 33\n",
      "67 68 69 70 71 72 73 74 75 76 77 78 79 80 81 82 83 84 85 86 87 88\n"
     ]
    }
   ],
   "source": [
    "sayılar = [[0, 10], [6, 20], [12, 34], [67, 89]]\n",
    "for i in sayılar:\n",
    "    print(*range(*i))\n"
   ]
  },
  {
   "cell_type": "code",
   "execution_count": 2,
   "metadata": {},
   "outputs": [
    {
     "data": {
      "text/plain": [
       "[2, 3, 4, 5, 6]"
      ]
     },
     "execution_count": 2,
     "metadata": {},
     "output_type": "execute_result"
    }
   ],
   "source": [
    "liste = [2, 3, 4, 5] + [6]\n",
    "liste"
   ]
  },
  {
   "cell_type": "code",
   "execution_count": 3,
   "metadata": {},
   "outputs": [
    {
     "data": {
      "text/plain": [
       "[2, 3, 4, 5, 6, 7, 8, 9]"
      ]
     },
     "execution_count": 3,
     "metadata": {},
     "output_type": "execute_result"
    }
   ],
   "source": [
    "liste_2 = liste + [7, 8, 9]\n",
    "liste_2"
   ]
  },
  {
   "cell_type": "code",
   "execution_count": 5,
   "metadata": {},
   "outputs": [
    {
     "data": {
      "text/plain": [
       "[2, 3, 4, 5, 6, 7, 8]"
      ]
     },
     "execution_count": 5,
     "metadata": {},
     "output_type": "execute_result"
    }
   ],
   "source": [
    "del liste_2[-1]\n",
    "liste_2"
   ]
  },
  {
   "cell_type": "code",
   "execution_count": 6,
   "metadata": {},
   "outputs": [
    {
     "data": {
      "text/plain": [
       "[2, 4, 5, 6, 7, 8]"
      ]
     },
     "execution_count": 6,
     "metadata": {},
     "output_type": "execute_result"
    }
   ],
   "source": [
    "del liste_2[1]\n",
    "liste_2"
   ]
  },
  {
   "cell_type": "code",
   "execution_count": 7,
   "metadata": {},
   "outputs": [
    {
     "name": "stdout",
     "output_type": "stream",
     "text": [
      "[1, 2, 3, 4, 5, 6, 7, 8, 9, 10, 11, 12]\n"
     ]
    }
   ],
   "source": [
    "liste = [[1, 2, 3], [4, 5, 6], [7, 8, 9], [10, 11, 12]]\n",
    "tümü = [z for i in liste for z in i]\n",
    "print(tümü)"
   ]
  },
  {
   "attachments": {},
   "cell_type": "markdown",
   "metadata": {},
   "source": [
    "<a id = \"1\"></a>\n",
    "#### append()"
   ]
  },
  {
   "cell_type": "code",
   "execution_count": 9,
   "metadata": {},
   "outputs": [
    {
     "data": {
      "text/plain": [
       "['elma', 'armut', 'çilek', 'erik']"
      ]
     },
     "execution_count": 9,
     "metadata": {},
     "output_type": "execute_result"
    }
   ],
   "source": [
    "liste = [\"elma\", \"armut\", \"çilek\"]\n",
    "liste.append(\"erik\")\n",
    "liste"
   ]
  },
  {
   "attachments": {},
   "cell_type": "markdown",
   "metadata": {},
   "source": [
    "<a id = \"2\"></a>\n",
    "#### extend()"
   ]
  },
  {
   "cell_type": "code",
   "execution_count": 10,
   "metadata": {},
   "outputs": [
    {
     "name": "stdout",
     "output_type": "stream",
     "text": [
      "[1, 3, 4, 10, 11, 12]\n"
     ]
    }
   ],
   "source": [
    "li1 = [1, 3, 4]\n",
    "li2 = [10, 11, 12]\n",
    "li1. extend(li2)\n",
    "print(li1)"
   ]
  },
  {
   "attachments": {},
   "cell_type": "markdown",
   "metadata": {},
   "source": [
    "<a id = \"3\"></a>\n",
    "#### insert()"
   ]
  },
  {
   "cell_type": "code",
   "execution_count": 11,
   "metadata": {},
   "outputs": [
    {
     "name": "stdout",
     "output_type": "stream",
     "text": [
      "['erik', 'elma', 'armut', 'çilek']\n"
     ]
    }
   ],
   "source": [
    "liste = [\"elma\", \"armut\", \"çilek\"]\n",
    "liste.insert(0, \"erik\")\n",
    "print(liste)"
   ]
  },
  {
   "cell_type": "code",
   "execution_count": 13,
   "metadata": {},
   "outputs": [
    {
     "data": {
      "text/plain": [
       "[5, 10, 15, 25, 20]"
      ]
     },
     "execution_count": 13,
     "metadata": {},
     "output_type": "execute_result"
    }
   ],
   "source": [
    "sayilar_3 = [5, 10, 15, 20]\n",
    "sayilar_3.insert(-1, 25)\n",
    "sayilar_3"
   ]
  },
  {
   "attachments": {},
   "cell_type": "markdown",
   "metadata": {},
   "source": [
    "<a id =\"4\"></a>\n",
    "#### remove()"
   ]
  },
  {
   "cell_type": "code",
   "execution_count": 14,
   "metadata": {},
   "outputs": [
    {
     "data": {
      "text/plain": [
       "['armut', 'çilek']"
      ]
     },
     "execution_count": 14,
     "metadata": {},
     "output_type": "execute_result"
    }
   ],
   "source": [
    "liste = [\"elma\", \"armut\", \"çilek\"]\n",
    "liste.remove(\"elma\")\n",
    "liste"
   ]
  },
  {
   "attachments": {},
   "cell_type": "markdown",
   "metadata": {},
   "source": [
    "<a id = \"5\"></a>\n",
    "#### pop()"
   ]
  },
  {
   "cell_type": "code",
   "execution_count": 17,
   "metadata": {},
   "outputs": [
    {
     "data": {
      "text/plain": [
       "'elma'"
      ]
     },
     "execution_count": 17,
     "metadata": {},
     "output_type": "execute_result"
    }
   ],
   "source": [
    "liste = [\"elma\", \"armut\", \"çilek\", 15]\n",
    "liste.pop(0)\n"
   ]
  },
  {
   "cell_type": "code",
   "execution_count": 18,
   "metadata": {},
   "outputs": [
    {
     "data": {
      "text/plain": [
       "15"
      ]
     },
     "execution_count": 18,
     "metadata": {},
     "output_type": "execute_result"
    }
   ],
   "source": [
    "liste = [\"elma\", \"armut\", \"çilek\", 15]\n",
    "liste.pop()"
   ]
  },
  {
   "attachments": {},
   "cell_type": "markdown",
   "metadata": {},
   "source": [
    "<a id = \"6\"></a>\n",
    "##### reverse()"
   ]
  },
  {
   "cell_type": "code",
   "execution_count": 15,
   "metadata": {},
   "outputs": [
    {
     "data": {
      "text/plain": [
       "['çilek', 'armut', 'elma']"
      ]
     },
     "execution_count": 15,
     "metadata": {},
     "output_type": "execute_result"
    }
   ],
   "source": [
    "liste = [\"elma\", \"armut\", \"çilek\"]\n",
    "liste.reverse()\n",
    "liste"
   ]
  },
  {
   "attachments": {},
   "cell_type": "markdown",
   "metadata": {},
   "source": [
    "<a id = \"7\"></a>\n",
    "#### sort()"
   ]
  },
  {
   "cell_type": "code",
   "execution_count": 20,
   "metadata": {},
   "outputs": [
    {
     "name": "stdout",
     "output_type": "stream",
     "text": [
      "['Abdullah', 'Ahmet', 'Ceylan', 'Kadir', 'Kamil', 'Kemal', 'Mahmut', 'Mehmet', 'Selin', 'Sinem', 'Tayfun', 'Zeynep']\n"
     ]
    }
   ],
   "source": [
    "üyeler = ['Ahmet', 'Tayfun', 'Mehmet', 'Ceylan', 'Mahmut', 'Zeynep',\n",
    "'Abdullah', 'Kadir', 'Kemal', 'Kamil', 'Selin','Sinem']\n",
    "üyeler.sort()\n",
    "print(üyeler)"
   ]
  },
  {
   "cell_type": "code",
   "execution_count": 21,
   "metadata": {},
   "outputs": [
    {
     "name": "stdout",
     "output_type": "stream",
     "text": [
      "[-1, 0, 1, 3, 4, 6, 10]\n"
     ]
    }
   ],
   "source": [
    "sayılar = [1, 0, -1, 4, 10, 3, 6]\n",
    "sayılar.sort()\n",
    "print(sayılar)\n"
   ]
  },
  {
   "cell_type": "code",
   "execution_count": 22,
   "metadata": {},
   "outputs": [
    {
     "name": "stdout",
     "output_type": "stream",
     "text": [
      "[10, 6, 4, 3, 1, 0, -1]\n"
     ]
    }
   ],
   "source": [
    "sayılar = [1, 0, -1, 4, 10, 3, 6]\n",
    "sayılar.sort(reverse=True)\n",
    "print(sayılar)"
   ]
  },
  {
   "attachments": {},
   "cell_type": "markdown",
   "metadata": {},
   "source": [
    "<a id = \"8\"></a>\n",
    "#### index()"
   ]
  },
  {
   "cell_type": "code",
   "execution_count": 23,
   "metadata": {},
   "outputs": [
    {
     "data": {
      "text/plain": [
       "0"
      ]
     },
     "execution_count": 23,
     "metadata": {},
     "output_type": "execute_result"
    }
   ],
   "source": [
    "liste = [\"elma\", \"armut\", \"çilek\"]\n",
    "liste.index(\"elma\")\n"
   ]
  },
  {
   "attachments": {},
   "cell_type": "markdown",
   "metadata": {},
   "source": [
    "<a id = \"9\"></a>\n",
    "#### count()"
   ]
  },
  {
   "cell_type": "code",
   "execution_count": 2,
   "metadata": {},
   "outputs": [
    {
     "name": "stdout",
     "output_type": "stream",
     "text": [
      "2\n"
     ]
    },
    {
     "data": {
      "text/plain": [
       "0"
      ]
     },
     "execution_count": 2,
     "metadata": {},
     "output_type": "execute_result"
    }
   ],
   "source": [
    "liste = [\"elma\", \"armut\", \"elma\", \"çilek\"]\n",
    "print(liste.count(\"elma\"))\n",
    "liste.count(\"a\")\n"
   ]
  },
  {
   "attachments": {},
   "cell_type": "markdown",
   "metadata": {},
   "source": [
    "<a id = \"10\"></a>\n",
    "#### clear()"
   ]
  },
  {
   "cell_type": "code",
   "execution_count": 26,
   "metadata": {},
   "outputs": [
    {
     "name": "stdout",
     "output_type": "stream",
     "text": [
      "[]\n"
     ]
    }
   ],
   "source": [
    "liste = [1, 2, 3, 5, 10, 20, 30, 45]\n",
    "liste.clear()\n",
    "print(liste)"
   ]
  }
 ],
 "metadata": {
  "kernelspec": {
   "display_name": "Python 3",
   "language": "python",
   "name": "python3"
  },
  "language_info": {
   "codemirror_mode": {
    "name": "ipython",
    "version": 3
   },
   "file_extension": ".py",
   "mimetype": "text/x-python",
   "name": "python",
   "nbconvert_exporter": "python",
   "pygments_lexer": "ipython3",
   "version": "3.11.1"
  },
  "orig_nbformat": 4,
  "vscode": {
   "interpreter": {
    "hash": "55cfa1d2dc12e3e5fc2931afa7a5a4f86432dfdad9e2fda08df56b7572964520"
   }
  }
 },
 "nbformat": 4,
 "nbformat_minor": 2
}
