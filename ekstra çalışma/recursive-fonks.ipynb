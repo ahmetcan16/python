{
 "cells": [
  {
   "attachments": {},
   "cell_type": "markdown",
   "metadata": {},
   "source": [
    "#### function recursive(yinelemeli fonsiyon)"
   ]
  },
  {
   "cell_type": "code",
   "execution_count": 1,
   "metadata": {},
   "outputs": [
    {
     "data": {
      "text/plain": [
       "False"
      ]
     },
     "execution_count": 1,
     "metadata": {},
     "output_type": "execute_result"
    }
   ],
   "source": [
    "#bir sayının asal olup olmadığını kontrol eden rekürsif metodla bir fonksiyon \n",
    "def is_prime(number, array):\n",
    "    if array[0] == number:\n",
    "        return True\n",
    "    else:\n",
    "        step = array[0]\n",
    "        for i in range(len(array) - 1, 0, -1):\n",
    "            if array[i] % step == 0:\n",
    "                del array[i]\n",
    "    if number not in array:\n",
    "        return False\n",
    "    return is_prime(number, array[1:])\n",
    "is_prime(6, [2, 3, 4, 5, 6])\n",
    "            "
   ]
  },
  {
   "cell_type": "code",
   "execution_count": 1,
   "metadata": {},
   "outputs": [
    {
     "data": {
      "text/plain": [
       "24"
      ]
     },
     "execution_count": 1,
     "metadata": {},
     "output_type": "execute_result"
    }
   ],
   "source": [
    "def fakt(x):\n",
    "    if x == 1:\n",
    "        return 1\n",
    "    return x * fakt(x - 1)\n",
    "fakt(4)"
   ]
  },
  {
   "cell_type": "code",
   "execution_count": null,
   "metadata": {},
   "outputs": [],
   "source": []
  }
 ],
 "metadata": {
  "kernelspec": {
   "display_name": "Python 3",
   "language": "python",
   "name": "python3"
  },
  "language_info": {
   "codemirror_mode": {
    "name": "ipython",
    "version": 3
   },
   "file_extension": ".py",
   "mimetype": "text/x-python",
   "name": "python",
   "nbconvert_exporter": "python",
   "pygments_lexer": "ipython3",
   "version": "3.11.1"
  },
  "orig_nbformat": 4
 },
 "nbformat": 4,
 "nbformat_minor": 2
}
