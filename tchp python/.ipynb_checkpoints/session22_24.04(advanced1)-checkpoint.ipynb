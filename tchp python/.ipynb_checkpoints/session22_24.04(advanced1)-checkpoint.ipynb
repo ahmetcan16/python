{
 "cells": [
  {
   "cell_type": "markdown",
   "id": "e03b7381",
   "metadata": {},
   "source": [
    "# list comprehesion"
   ]
  },
  {
   "cell_type": "code",
   "execution_count": 2,
   "id": "54752e03",
   "metadata": {
    "ExecuteTime": {
     "end_time": "2023-04-24T18:09:28.427155Z",
     "start_time": "2023-04-24T18:09:28.420410Z"
    }
   },
   "outputs": [
    {
     "data": {
      "text/plain": [
       "[1, 2, 3, 4, 5, 6, 7, 8, 9, 10]"
      ]
     },
     "execution_count": 2,
     "metadata": {},
     "output_type": "execute_result"
    }
   ],
   "source": [
    "örnek_liste = [1, 2, 3, 4, 5, 6, 7, 8, 9, 10]\n",
    "örnek_liste"
   ]
  },
  {
   "cell_type": "code",
   "execution_count": 3,
   "id": "c8a8870c",
   "metadata": {
    "ExecuteTime": {
     "end_time": "2023-04-24T18:12:10.290369Z",
     "start_time": "2023-04-24T18:12:10.284257Z"
    }
   },
   "outputs": [
    {
     "data": {
      "text/plain": [
       "[1, 4, 9, 16, 25, 36, 49, 64, 81, 100]"
      ]
     },
     "execution_count": 3,
     "metadata": {},
     "output_type": "execute_result"
    }
   ],
   "source": [
    "kareler_listesi = [i ** 2 for i in örnek_liste]\n",
    "kareler_listesi"
   ]
  },
  {
   "cell_type": "code",
   "execution_count": 6,
   "id": "080b0aa4",
   "metadata": {
    "ExecuteTime": {
     "end_time": "2023-04-24T18:16:23.870228Z",
     "start_time": "2023-04-24T18:16:23.866578Z"
    }
   },
   "outputs": [
    {
     "data": {
      "text/plain": [
       "[0, 1, 2, 3, 4, 5, 6, 7, 8, 9, 10]"
      ]
     },
     "execution_count": 6,
     "metadata": {},
     "output_type": "execute_result"
    }
   ],
   "source": [
    "liste2 = list(range(11))\n",
    "liste2"
   ]
  },
  {
   "cell_type": "code",
   "execution_count": 8,
   "id": "8812db92",
   "metadata": {
    "ExecuteTime": {
     "end_time": "2023-04-24T18:17:46.887142Z",
     "start_time": "2023-04-24T18:17:46.882964Z"
    }
   },
   "outputs": [
    {
     "data": {
      "text/plain": [
       "[0, 2, 4, 6, 8, 10]"
      ]
     },
     "execution_count": 8,
     "metadata": {},
     "output_type": "execute_result"
    }
   ],
   "source": [
    "evens = [i for i in liste2 if i % 2 == 0]\n",
    "evens"
   ]
  },
  {
   "cell_type": "code",
   "execution_count": 13,
   "id": "a37bb289",
   "metadata": {
    "ExecuteTime": {
     "end_time": "2023-04-24T18:22:21.286950Z",
     "start_time": "2023-04-24T18:22:21.283948Z"
    }
   },
   "outputs": [],
   "source": [
    "dict1 = {\"çifler\" : [i for i in liste2 if i % 2 == 0],\n",
    "          \"tekler\" : [i for i in liste2 if i % 2 == 1]}"
   ]
  },
  {
   "cell_type": "code",
   "execution_count": 14,
   "id": "ab956f77",
   "metadata": {
    "ExecuteTime": {
     "end_time": "2023-04-24T18:22:21.550866Z",
     "start_time": "2023-04-24T18:22:21.546290Z"
    }
   },
   "outputs": [
    {
     "data": {
      "text/plain": [
       "{'çifler': [0, 2, 4, 6, 8, 10], 'tekler': [1, 3, 5, 7, 9]}"
      ]
     },
     "execution_count": 14,
     "metadata": {},
     "output_type": "execute_result"
    }
   ],
   "source": [
    "dict1"
   ]
  },
  {
   "cell_type": "code",
   "execution_count": 16,
   "id": "aebb9031",
   "metadata": {
    "ExecuteTime": {
     "end_time": "2023-04-24T18:24:24.839473Z",
     "start_time": "2023-04-24T18:24:24.835453Z"
    }
   },
   "outputs": [
    {
     "data": {
      "text/plain": [
       "[0, 1, 4, 3, 16, 5, 36, 7, 64, 9, 100]"
      ]
     },
     "execution_count": 16,
     "metadata": {},
     "output_type": "execute_result"
    }
   ],
   "source": [
    "# çift sayıların karesini, tek sayıların kendisini\n",
    "[i ** 2 if i % 2 == 0 else i for i in liste2 ]"
   ]
  },
  {
   "cell_type": "code",
   "execution_count": 17,
   "id": "278e4069",
   "metadata": {
    "ExecuteTime": {
     "end_time": "2023-04-24T18:25:09.199870Z",
     "start_time": "2023-04-24T18:25:09.195365Z"
    }
   },
   "outputs": [
    {
     "data": {
      "text/plain": [
       "[36, 64, 100]"
      ]
     },
     "execution_count": 17,
     "metadata": {},
     "output_type": "execute_result"
    }
   ],
   "source": [
    "[i ** 2 for i in liste2 if i % 2 == 0 and i > 5]"
   ]
  },
  {
   "cell_type": "code",
   "execution_count": 18,
   "id": "602dda37",
   "metadata": {
    "ExecuteTime": {
     "end_time": "2023-04-24T18:30:54.721615Z",
     "start_time": "2023-04-24T18:30:54.716611Z"
    }
   },
   "outputs": [
    {
     "name": "stdout",
     "output_type": "stream",
     "text": [
      "['çift', 'tek', 'çift', 'tek', 'çift', 'tek', 'çift', 'tek', 'çift', 'tek', 'çift']\n"
     ]
    }
   ],
   "source": [
    "print([\"tek\" if i % 2 else \"çift\" for i in liste2])"
   ]
  },
  {
   "cell_type": "code",
   "execution_count": 19,
   "id": "98d3812c",
   "metadata": {
    "ExecuteTime": {
     "end_time": "2023-04-24T18:32:04.783838Z",
     "start_time": "2023-04-24T18:32:04.779486Z"
    }
   },
   "outputs": [
    {
     "data": {
      "text/plain": [
       "[[1, 2, 3], [4, 5, 6], [7, 8, 9]]"
      ]
     },
     "execution_count": 19,
     "metadata": {},
     "output_type": "execute_result"
    }
   ],
   "source": [
    "liste3 = [[1, 2, 3], [4, 5, 6], [7, 8, 9]]\n",
    "liste3"
   ]
  },
  {
   "cell_type": "code",
   "execution_count": 20,
   "id": "1958868f",
   "metadata": {
    "ExecuteTime": {
     "end_time": "2023-04-24T18:33:03.713675Z",
     "start_time": "2023-04-24T18:33:03.709480Z"
    }
   },
   "outputs": [
    {
     "data": {
      "text/plain": [
       "[1, 2, 3, 4, 5, 6, 7, 8, 9]"
      ]
     },
     "execution_count": 20,
     "metadata": {},
     "output_type": "execute_result"
    }
   ],
   "source": [
    "[j for i in liste3 for j in i]"
   ]
  },
  {
   "cell_type": "code",
   "execution_count": 22,
   "id": "4fa3c805",
   "metadata": {
    "ExecuteTime": {
     "end_time": "2023-04-24T18:43:02.929381Z",
     "start_time": "2023-04-24T18:43:02.923817Z"
    }
   },
   "outputs": [
    {
     "data": {
      "text/plain": [
       "[2, 4, 6, 8]"
      ]
     },
     "execution_count": 22,
     "metadata": {},
     "output_type": "execute_result"
    }
   ],
   "source": [
    "[j for i in liste3 for j in i if not j % 2]"
   ]
  },
  {
   "cell_type": "code",
   "execution_count": 27,
   "id": "cf1d5813",
   "metadata": {
    "ExecuteTime": {
     "end_time": "2023-04-24T19:04:11.264380Z",
     "start_time": "2023-04-24T19:04:11.259240Z"
    }
   },
   "outputs": [
    {
     "data": {
      "text/plain": [
       "[['tek', 'çift', 'tek'], ['çift', 'tek', 'çift'], ['tek', 'çift', 'tek']]"
      ]
     },
     "execution_count": 27,
     "metadata": {},
     "output_type": "execute_result"
    }
   ],
   "source": [
    "[[\"çift\" if j % 2 == 0 else \"tek\" for j in i] for i in liste3]"
   ]
  },
  {
   "cell_type": "code",
   "execution_count": 51,
   "id": "d665ee61",
   "metadata": {
    "ExecuteTime": {
     "end_time": "2023-04-24T19:18:19.086144Z",
     "start_time": "2023-04-24T19:18:19.082542Z"
    }
   },
   "outputs": [
    {
     "data": {
      "text/plain": [
       "[0, 1, 2, 3, 4, 5, 6, 7, 8, 9, 10]"
      ]
     },
     "execution_count": 51,
     "metadata": {},
     "output_type": "execute_result"
    }
   ],
   "source": [
    "liste2"
   ]
  },
  {
   "cell_type": "code",
   "execution_count": 59,
   "id": "e9bcef9b",
   "metadata": {
    "ExecuteTime": {
     "end_time": "2023-04-24T19:20:22.830742Z",
     "start_time": "2023-04-24T19:20:22.826741Z"
    }
   },
   "outputs": [
    {
     "name": "stdout",
     "output_type": "stream",
     "text": [
      "{0: 'çift', 1: 'tek', 2: 'çift', 3: 'tek', 4: 'çift', 5: 'tek', 6: 'çift', 7: 'tek', 8: 'çift', 9: 'tek', 10: 'çift'}\n"
     ]
    }
   ],
   "source": [
    "print({i : \"çift\" if i % 2 == 0 else \"tek\" for i in liste2})"
   ]
  },
  {
   "cell_type": "code",
   "execution_count": null,
   "id": "59a7741c",
   "metadata": {},
   "outputs": [],
   "source": []
  },
  {
   "cell_type": "code",
   "execution_count": null,
   "id": "ab3b3517",
   "metadata": {},
   "outputs": [],
   "source": []
  },
  {
   "cell_type": "code",
   "execution_count": null,
   "id": "c3c6518f",
   "metadata": {},
   "outputs": [],
   "source": []
  },
  {
   "cell_type": "code",
   "execution_count": null,
   "id": "f72be9bc",
   "metadata": {},
   "outputs": [],
   "source": []
  }
 ],
 "metadata": {
  "kernelspec": {
   "display_name": "Python 3 (ipykernel)",
   "language": "python",
   "name": "python3"
  },
  "language_info": {
   "codemirror_mode": {
    "name": "ipython",
    "version": 3
   },
   "file_extension": ".py",
   "mimetype": "text/x-python",
   "name": "python",
   "nbconvert_exporter": "python",
   "pygments_lexer": "ipython3",
   "version": "3.10.9"
  },
  "toc": {
   "base_numbering": 1,
   "nav_menu": {},
   "number_sections": true,
   "sideBar": true,
   "skip_h1_title": false,
   "title_cell": "Table of Contents",
   "title_sidebar": "Contents",
   "toc_cell": false,
   "toc_position": {},
   "toc_section_display": true,
   "toc_window_display": false
  },
  "varInspector": {
   "cols": {
    "lenName": 16,
    "lenType": 16,
    "lenVar": 40
   },
   "kernels_config": {
    "python": {
     "delete_cmd_postfix": "",
     "delete_cmd_prefix": "del ",
     "library": "var_list.py",
     "varRefreshCmd": "print(var_dic_list())"
    },
    "r": {
     "delete_cmd_postfix": ") ",
     "delete_cmd_prefix": "rm(",
     "library": "var_list.r",
     "varRefreshCmd": "cat(var_dic_list()) "
    }
   },
   "types_to_exclude": [
    "module",
    "function",
    "builtin_function_or_method",
    "instance",
    "_Feature"
   ],
   "window_display": false
  }
 },
 "nbformat": 4,
 "nbformat_minor": 5
}
