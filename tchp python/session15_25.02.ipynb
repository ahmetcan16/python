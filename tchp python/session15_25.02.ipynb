{
 "cells": [
  {
   "attachments": {},
   "cell_type": "markdown",
   "metadata": {},
   "source": [
    "LOOPS - DÖNGÜLER\n",
    "\n",
    "## WHILE\n",
    "\n",
    "while condition - koşul: condition true oldukça while çalışmaya devam eder\n",
    "    body - yapılacak işlem:"
   ]
  },
  {
   "attachments": {},
   "cell_type": "markdown",
   "metadata": {},
   "source": [
    "[random modülü: sayı üretme](#1)\n",
    "\n",
    "[max()- min()](#2)"
   ]
  },
  {
   "cell_type": "code",
   "execution_count": 12,
   "metadata": {},
   "outputs": [
    {
     "name": "stdout",
     "output_type": "stream",
     "text": [
      "0\n",
      "1\n",
      "2\n",
      "3\n",
      "4\n"
     ]
    }
   ],
   "source": [
    "x = 0\n",
    "while x < 5:\n",
    "    print(x)\n",
    "    x += 1"
   ]
  },
  {
   "cell_type": "code",
   "execution_count": 13,
   "metadata": {},
   "outputs": [
    {
     "name": "stdout",
     "output_type": "stream",
     "text": [
      "while döngüsü condition False olana kadar çalışır.\n"
     ]
    }
   ],
   "source": [
    "y = True\n",
    "\n",
    "while y:\n",
    "    print(\"while döngüsü condition False olana kadar çalışır.\")\n",
    "    y = False"
   ]
  },
  {
   "cell_type": "code",
   "execution_count": 14,
   "metadata": {},
   "outputs": [
    {
     "name": "stdout",
     "output_type": "stream",
     "text": [
      "0\n",
      "1\n",
      "2\n",
      "3\n",
      "4\n",
      "Döngünün sonu\n"
     ]
    }
   ],
   "source": [
    "x = 0\n",
    "while x < 5:\n",
    "    print(x)\n",
    "    x += 1\n",
    "print(\"Döngünün sonu\")"
   ]
  },
  {
   "cell_type": "code",
   "execution_count": 15,
   "metadata": {},
   "outputs": [
    {
     "name": "stdout",
     "output_type": "stream",
     "text": [
      "0\n",
      "Nereye yazdığına dikkat et\n",
      "1\n",
      "Nereye yazdığına dikkat et\n",
      "2\n",
      "Nereye yazdığına dikkat et\n",
      "3\n",
      "Nereye yazdığına dikkat et\n",
      "4\n",
      "Nereye yazdığına dikkat et\n"
     ]
    }
   ],
   "source": [
    "x = 0\n",
    "while x < 5:\n",
    "    print(x)\n",
    "    x += 1\n",
    "    print(\"Nereye yazdığına dikkat et\")"
   ]
  },
  {
   "cell_type": "code",
   "execution_count": 16,
   "metadata": {},
   "outputs": [
    {
     "data": {
      "text/plain": [
       "[1, 4, 9, 16, 25]"
      ]
     },
     "execution_count": 16,
     "metadata": {},
     "output_type": "execute_result"
    }
   ],
   "source": [
    "#listenin elemanlarının karelerinin listesini gösterin\n",
    "\n",
    "liste = [1, 2, 3, 4, 5]\n",
    "\n",
    "x = 0\n",
    "liste_kareler = []\n",
    "\n",
    "while x < len(liste):\n",
    "    liste_kareler.append(liste[x] ** 2)\n",
    "    x += 1\n",
    "liste_kareler\n",
    "\n",
    "\n"
   ]
  },
  {
   "cell_type": "code",
   "execution_count": 17,
   "metadata": {},
   "outputs": [
    {
     "name": "stdout",
     "output_type": "stream",
     "text": [
      "sanki bunu yazdırmaz\n"
     ]
    }
   ],
   "source": [
    "while []:\n",
    "    print(\"boş liste\")\n",
    "print(\"sanki bunu yazdırmaz\")"
   ]
  },
  {
   "attachments": {},
   "cell_type": "markdown",
   "metadata": {},
   "source": [
    "<a id = \"1\"></a>\n",
    "#### random()"
   ]
  },
  {
   "cell_type": "code",
   "execution_count": 18,
   "metadata": {},
   "outputs": [
    {
     "name": "stdout",
     "output_type": "stream",
     "text": [
      "girdiğiniz sayı : 10. tahminini artır\n",
      "girdiğiniz sayı : 50. tahminini artır\n",
      "girdiğiniz sayı : 75. tahminini azalt\n",
      "girdiğiniz sayı : 60. tahminini azalt\n",
      "girdiğiniz sayı : 58. tahminini azalt\n",
      "5 tahminde bilemedeniz\n"
     ]
    }
   ],
   "source": [
    "import random\n",
    "sayı = random.randint(0, 100)\n",
    "sayac = 0\n",
    "while sayac < 5:\n",
    "    tahmin = int(input(\"bir sayı girin\"))\n",
    "    sayac += 1\n",
    "    if tahmin < sayı:\n",
    "        print(f\"girdiğiniz sayı : {tahmin}. tahminini artır\")\n",
    "    elif tahmin > sayı:\n",
    "        print(f\"girdiğiniz sayı : {tahmin}. tahminini azalt\")\n",
    "    else:\n",
    "        print(f\"girdiğiniz sayı : {tahmin}. bravo, doğru tahmin. {sayac} seferde bildiniz \")\n",
    "        break\n",
    "    if sayac == 5:\n",
    "        print(\"5 tahminde bilemedeniz\")"
   ]
  },
  {
   "attachments": {},
   "cell_type": "markdown",
   "metadata": {},
   "source": [
    "random modülü"
   ]
  },
  {
   "cell_type": "code",
   "execution_count": 15,
   "metadata": {},
   "outputs": [],
   "source": [
    "import random\n",
    "\n",
    "#import random as rd --- desek randomu yeniden isimlendirdik"
   ]
  },
  {
   "cell_type": "code",
   "execution_count": 19,
   "metadata": {},
   "outputs": [
    {
     "data": {
      "text/plain": [
       "0.9236263154826744"
      ]
     },
     "execution_count": 19,
     "metadata": {},
     "output_type": "execute_result"
    }
   ],
   "source": [
    "random.random()"
   ]
  },
  {
   "cell_type": "code",
   "execution_count": 20,
   "metadata": {},
   "outputs": [
    {
     "data": {
      "text/plain": [
       "50"
      ]
     },
     "execution_count": 20,
     "metadata": {},
     "output_type": "execute_result"
    }
   ],
   "source": [
    "random.randint(0, 100)"
   ]
  },
  {
   "attachments": {},
   "cell_type": "markdown",
   "metadata": {},
   "source": [
    "<a id = \"2\"></a>\n",
    "#### max() - min()"
   ]
  },
  {
   "cell_type": "code",
   "execution_count": 21,
   "metadata": {},
   "outputs": [
    {
     "data": {
      "text/plain": [
       "102"
      ]
     },
     "execution_count": 21,
     "metadata": {},
     "output_type": "execute_result"
    }
   ],
   "source": [
    "max([45, 1, 2, 3, 67, 23, 90, 102])"
   ]
  },
  {
   "cell_type": "code",
   "execution_count": 22,
   "metadata": {},
   "outputs": [
    {
     "data": {
      "text/plain": [
       "1"
      ]
     },
     "execution_count": 22,
     "metadata": {},
     "output_type": "execute_result"
    }
   ],
   "source": [
    "min([45, 1, 2, 3, 67, 23, 90, 102])"
   ]
  },
  {
   "cell_type": "code",
   "execution_count": 23,
   "metadata": {},
   "outputs": [
    {
     "data": {
      "text/plain": [
       "'techpro'"
      ]
     },
     "execution_count": 23,
     "metadata": {},
     "output_type": "execute_result"
    }
   ],
   "source": [
    "max([\"hello\", \"sedat\", \"techpro\"])"
   ]
  },
  {
   "cell_type": "code",
   "execution_count": 24,
   "metadata": {},
   "outputs": [
    {
     "data": {
      "text/plain": [
       "'hello'"
      ]
     },
     "execution_count": 24,
     "metadata": {},
     "output_type": "execute_result"
    }
   ],
   "source": [
    "min([\"hello\", \"sedat\", \"techpro\"])"
   ]
  },
  {
   "cell_type": "code",
   "execution_count": 34,
   "metadata": {},
   "outputs": [
    {
     "name": "stdout",
     "output_type": "stream",
     "text": [
      "listenin en büyük elamanı : 325\n"
     ]
    }
   ],
   "source": [
    "#listenin en büyük elemanını fonksiyon kullanmadan bulalım\n",
    "sayılar_listesi = [1,4,56,18,47,96,325,1,5,4,7,8,-8,-400,0,47]\n",
    "\n",
    "index = 0\n",
    "max_sayı = sayılar_listesi[0]\n",
    "\n",
    "while index < len(sayılar_listesi):\n",
    "    if sayılar_listesi[index] > max_sayı:\n",
    "        max_sayı = sayılar_listesi[index]\n",
    "    index += 1\n",
    "\n",
    "print(f\"listenin en büyük elamanı : {max_sayı}\")"
   ]
  },
  {
   "cell_type": "code",
   "execution_count": 37,
   "metadata": {},
   "outputs": [
    {
     "name": "stdout",
     "output_type": "stream",
     "text": [
      "listenin en küçük elamanı : -400\n"
     ]
    }
   ],
   "source": [
    "#listenin en küçük elemanını fonksiyon kullanmadan bulalım\n",
    "sayılar_listesi = [1,4,56,18,47,96,325,1,5,4,7,8,-8,-400,0,47]\n",
    "\n",
    "index = 0\n",
    "min_sayı = sayılar_listesi[0]\n",
    "\n",
    "while index < len(sayılar_listesi):\n",
    "    if sayılar_listesi[index] < min_sayı:\n",
    "        min_sayı = sayılar_listesi[index]\n",
    "    index += 1\n",
    "\n",
    "print(f\"listenin en küçük elamanı : {min_sayı}\")"
   ]
  },
  {
   "cell_type": "code",
   "execution_count": 42,
   "metadata": {},
   "outputs": [
    {
     "name": "stdout",
     "output_type": "stream",
     "text": [
      "tekler:  [1, 45, 69, 55, 47, 45, 49]\n",
      "çiftler:  [22, 58, 46, 48, 50, 40]\n"
     ]
    }
   ],
   "source": [
    "#tekleri ve çiftleri liste halinde döndürünüz\n",
    "liste_1 = [1, 45, 22, 69, 58, 55, 47, 45, 46, 48, 49, 50, 40]\n",
    "\n",
    "indeks = 0\n",
    "odds = []\n",
    "evens = []\n",
    "\n",
    "while indeks < len(liste_1):\n",
    "    if liste_1[indeks] % 2 == 0:\n",
    "        evens.append(liste_1[indeks])\n",
    "    else:\n",
    "        odds.append(liste_1[indeks])\n",
    "    indeks += 1\n",
    "print(\"tekler: \", odds)\n",
    "print(\"çiftler: \", evens)"
   ]
  }
 ],
 "metadata": {
  "kernelspec": {
   "display_name": "Python 3",
   "language": "python",
   "name": "python3"
  },
  "language_info": {
   "codemirror_mode": {
    "name": "ipython",
    "version": 3
   },
   "file_extension": ".py",
   "mimetype": "text/x-python",
   "name": "python",
   "nbconvert_exporter": "python",
   "pygments_lexer": "ipython3",
   "version": "3.11.1"
  },
  "orig_nbformat": 4,
  "vscode": {
   "interpreter": {
    "hash": "55cfa1d2dc12e3e5fc2931afa7a5a4f86432dfdad9e2fda08df56b7572964520"
   }
  }
 },
 "nbformat": 4,
 "nbformat_minor": 2
}
