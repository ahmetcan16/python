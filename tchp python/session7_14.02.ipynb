{
 "cells": [
  {
   "attachments": {},
   "cell_type": "markdown",
   "metadata": {},
   "source": [
    "1.[len()](#1)"
   ]
  },
  {
   "cell_type": "code",
   "execution_count": 22,
   "metadata": {},
   "outputs": [
    {
     "name": "stdout",
     "output_type": "stream",
     "text": [
      "8765 saniye ; 2 saat 26 dakika 5 saniyedir\n"
     ]
    }
   ],
   "source": [
    "# 8765 saniye kaç saat kaç dakika kaç saniyedir\n",
    "x = int(input(\"saniye değerini giriniz\"))\n",
    "saat = x // 3600\n",
    "dakika = (x % 3600) // 60\n",
    "saniye = (x % 3600) % 60\n",
    "print(f\"{x} saniye ; {saat} saat {dakika} dakika {saniye} saniyedir\")"
   ]
  },
  {
   "cell_type": "code",
   "execution_count": 23,
   "metadata": {},
   "outputs": [
    {
     "name": "stdout",
     "output_type": "stream",
     "text": [
      "8765 saniye ; 2 saat 26 dakika 5 saniye eder.\n"
     ]
    }
   ],
   "source": [
    "print(\"{} saniye ; {} saat {} dakika {} saniye eder.\".format(x, saat, dakika, saniye))"
   ]
  },
  {
   "attachments": {},
   "cell_type": "markdown",
   "metadata": {},
   "source": [
    "<a id = \"1\"></a>\n",
    "#### len()"
   ]
  },
  {
   "cell_type": "code",
   "execution_count": 24,
   "metadata": {},
   "outputs": [
    {
     "data": {
      "text/plain": [
       "7"
      ]
     },
     "execution_count": 24,
     "metadata": {},
     "output_type": "execute_result"
    }
   ],
   "source": [
    "len(\"Techpro\")"
   ]
  },
  {
   "cell_type": "code",
   "execution_count": 34,
   "metadata": {},
   "outputs": [
    {
     "data": {
      "text/plain": [
       "'Meh'"
      ]
     },
     "execution_count": 34,
     "metadata": {},
     "output_type": "execute_result"
    }
   ],
   "source": [
    "\"Mehmet\"[ 0 : len(\"Mehmet\") // 2]"
   ]
  },
  {
   "cell_type": "code",
   "execution_count": 35,
   "metadata": {},
   "outputs": [
    {
     "data": {
      "text/plain": [
       "'met'"
      ]
     },
     "execution_count": 35,
     "metadata": {},
     "output_type": "execute_result"
    }
   ],
   "source": [
    "\"Mehmet\"[len(\"Mehmet\") // 2:]"
   ]
  },
  {
   "cell_type": "code",
   "execution_count": 41,
   "metadata": {},
   "outputs": [],
   "source": [
    "str_1 = \"sarı\"\n",
    "str_2 = \"mehmet\" #samehmetrı yazdır"
   ]
  },
  {
   "cell_type": "code",
   "execution_count": 42,
   "metadata": {},
   "outputs": [
    {
     "data": {
      "text/plain": [
       "'samehmetrı'"
      ]
     },
     "execution_count": 42,
     "metadata": {},
     "output_type": "execute_result"
    }
   ],
   "source": [
    "str_1[:int(len(\"sarı\") / 2)] + str_2 + str_1[int(len(\"sarı\") / 2):]"
   ]
  },
  {
   "cell_type": "code",
   "execution_count": 1,
   "metadata": {},
   "outputs": [
    {
     "name": "stdout",
     "output_type": "stream",
     "text": [
      "5, 4 ten büyüktür\n"
     ]
    }
   ],
   "source": [
    "if 5 > 4:\n",
    "    print(\"5, 4 ten büyüktür\")"
   ]
  },
  {
   "cell_type": "code",
   "execution_count": 3,
   "metadata": {},
   "outputs": [
    {
     "name": "stdout",
     "output_type": "stream",
     "text": [
      "5, 4 ten büyüktür\n"
     ]
    }
   ],
   "source": [
    "if 5 < 4:\n",
    "    print(\"5, 4 ten küçüktür\")\n",
    "elif 5 > 4:\n",
    "    print(\"5, 4 ten büyüktür\")"
   ]
  },
  {
   "cell_type": "code",
   "execution_count": 5,
   "metadata": {},
   "outputs": [
    {
     "name": "stdout",
     "output_type": "stream",
     "text": [
      "5, 4 ten büyüktür\n"
     ]
    }
   ],
   "source": [
    "if 5 < 4:\n",
    "    print(\"5, 4 ten küçüktür\")\n",
    "elif 5 == 4:\n",
    "    print(\"5, 4 e eşittir\")\n",
    "else:\n",
    "    print(\"5, 4 ten büyüktür\")"
   ]
  },
  {
   "cell_type": "code",
   "execution_count": 16,
   "metadata": {},
   "outputs": [
    {
     "name": "stdout",
     "output_type": "stream",
     "text": [
      "Harf notunuz A\n"
     ]
    }
   ],
   "source": [
    "#kullanıcıdan sınavdan aldığı notu isteyin. 90 ve üstü A, 75 ve üstü B, 60 ve üstü C, 45 ve üst D, 45 in altı F\n",
    "x = int(input(\"sınav notunuzu giriniz\"))\n",
    "if x >= 0 and x <= 100:\n",
    "    if x >= 90:\n",
    "        print(\"Harf notunuz A\")\n",
    "    elif x >= 75:\n",
    "        print((\"Harf notunuz B\"))\n",
    "    elif x >= 60:\n",
    "        print((\"Harf notunuz C\"))\n",
    "    elif x >= 45:\n",
    "        print((\"Harf notunuz D\"))\n",
    "    else:\n",
    "        print((\"Harf notunuz F\"))\n",
    "else:\n",
    "    print(\"hatalı giriş yaptınız\")"
   ]
  },
  {
   "attachments": {},
   "cell_type": "markdown",
   "metadata": {},
   "source": [
    "#### not : yukarıda ki x in hepsini aynı anda değiştirmek için x i seç ctrl + shift + L bas sonra değiştir"
   ]
  }
 ],
 "metadata": {
  "kernelspec": {
   "display_name": "Python 3",
   "language": "python",
   "name": "python3"
  },
  "language_info": {
   "codemirror_mode": {
    "name": "ipython",
    "version": 3
   },
   "file_extension": ".py",
   "mimetype": "text/x-python",
   "name": "python",
   "nbconvert_exporter": "python",
   "pygments_lexer": "ipython3",
   "version": "3.11.1"
  },
  "orig_nbformat": 4,
  "vscode": {
   "interpreter": {
    "hash": "55cfa1d2dc12e3e5fc2931afa7a5a4f86432dfdad9e2fda08df56b7572964520"
   }
  }
 },
 "nbformat": 4,
 "nbformat_minor": 2
}
