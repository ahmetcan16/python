{
 "cells": [
  {
   "attachments": {},
   "cell_type": "markdown",
   "metadata": {},
   "source": [
    "1.[abs()](#1) - değerin mutlak değerini döndürür"
   ]
  },
  {
   "cell_type": "code",
   "execution_count": 3,
   "metadata": {},
   "outputs": [
    {
     "name": "stdout",
     "output_type": "stream",
     "text": [
      "Girilen sayılar 5 ve 4 dir. Toplamı : 9.0\n"
     ]
    }
   ],
   "source": [
    "# kullanicidan aldiginiz iki sayiyinin toplamini format yöntemlerinden biri ile yazdırın\n",
    "x = int(input(\"bir sayı giriniz\"))\n",
    "y = int(input(\"bir sayı giriniz\"))\n",
    "print(\"Girilen sayılar {} ve {} dir. Toplamı : {:.1f}\".format(x, y, x + y))"
   ]
  },
  {
   "cell_type": "code",
   "execution_count": 11,
   "metadata": {},
   "outputs": [
    {
     "name": "stdout",
     "output_type": "stream",
     "text": [
      "9\n"
     ]
    },
    {
     "data": {
      "text/plain": [
       "9"
      ]
     },
     "execution_count": 11,
     "metadata": {},
     "output_type": "execute_result"
    }
   ],
   "source": [
    "#girilen iki sayının farkıyla toplamının çarpımını veren algoritma\n",
    "x = int(input(\"bir sayı giriniz\"))\n",
    "y = int(input(\"bir sayı giriniz\"))\n",
    "print(x**2 - y**2)\n",
    "(x - y) * (x  + y)"
   ]
  },
  {
   "attachments": {},
   "cell_type": "markdown",
   "metadata": {},
   "source": [
    "<a id = \"1\"></a>\n",
    "#### abs()"
   ]
  },
  {
   "cell_type": "code",
   "execution_count": 12,
   "metadata": {},
   "outputs": [
    {
     "data": {
      "text/plain": [
       "-3"
      ]
     },
     "execution_count": 12,
     "metadata": {},
     "output_type": "execute_result"
    }
   ],
   "source": [
    "9 - 12"
   ]
  },
  {
   "cell_type": "code",
   "execution_count": 13,
   "metadata": {},
   "outputs": [
    {
     "data": {
      "text/plain": [
       "3"
      ]
     },
     "execution_count": 13,
     "metadata": {},
     "output_type": "execute_result"
    }
   ],
   "source": [
    "abs(9 - 12) # abs"
   ]
  },
  {
   "cell_type": "code",
   "execution_count": 17,
   "metadata": {},
   "outputs": [
    {
     "name": "stdout",
     "output_type": "stream",
     "text": [
      "ürünün fiyatı : 18, kalan para : 2\n"
     ]
    }
   ],
   "source": [
    "#200 liramız var 11 adet alabildiğimiz ürünün fiyatı ve kalan paramız ne kadardır\n",
    "a = 200\n",
    "ürün_fiyatı = a // 11\n",
    "kalan_para = a % 11\n",
    "print(f\"ürünün fiyatı : {ürün_fiyatı}, kalan para : {kalan_para}\")\n"
   ]
  },
  {
   "cell_type": "code",
   "execution_count": 20,
   "metadata": {},
   "outputs": [
    {
     "name": "stdout",
     "output_type": "stream",
     "text": [
      "4\n"
     ]
    },
    {
     "data": {
      "text/plain": [
       "5"
      ]
     },
     "execution_count": 20,
     "metadata": {},
     "output_type": "execute_result"
    }
   ],
   "source": [
    "#alınan iki sayıyı birbirinin yerine atayınız\n",
    "b = int(input(\"bir sayı giriniz\"))\n",
    "c = int(input(\"bir sayı giriniz\"))\n",
    "b,c = c,b\n",
    "print(b)\n",
    "c"
   ]
  },
  {
   "cell_type": "code",
   "execution_count": 28,
   "metadata": {},
   "outputs": [
    {
     "name": "stdout",
     "output_type": "stream",
     "text": [
      "ProProPro\n"
     ]
    }
   ],
   "source": [
    "#5 - Kullanıcıdan bir string ve bir tamsayı girdisi alın ve örnekteki gibi çıktıyı alın.\n",
    "#Ör: kelime = \"TechPro\" sayı = 3 Output >> ProProPro\n",
    "\n",
    "str_1 = input(\"bir string giriniz\")\n",
    "sayi = int(input(\"bir sayı giriniz\"))\n",
    "if sayi > len(str_1):\n",
    "    print(\"sayınız kelime uzunluğundan büyük olamaz\")\n",
    "else:\n",
    "    print(str_1[-sayi:] * sayi)"
   ]
  },
  {
   "attachments": {},
   "cell_type": "markdown",
   "metadata": {},
   "source": [
    "Kullanıcıdan kelime, sep ve tekrar_sayısı değerlerini alın ve verilen değerlere göre kelimeyi yazdırın. Ör: kelime = TechPro sep = :slightly_smiling_face: tekrar_sayısı = 3 ----> TechPro:)TechPro:)TechPro"
   ]
  },
  {
   "cell_type": "code",
   "execution_count": 38,
   "metadata": {},
   "outputs": [
    {
     "data": {
      "text/plain": [
       "'TechPro:)TechPro:)TechPro'"
      ]
     },
     "execution_count": 38,
     "metadata": {},
     "output_type": "execute_result"
    }
   ],
   "source": [
    "kelime = input(\"bir kelime giriniz\")\n",
    "sep = input(\"sep değerini giriniz\")\n",
    "sayi = int(input(\"tekrar sayısını giriniz\"))\n",
    "a = ( kelime + sep) * (sayi - 1) + kelime\n",
    "a"
   ]
  },
  {
   "cell_type": "code",
   "execution_count": 1,
   "metadata": {},
   "outputs": [
    {
     "name": "stdout",
     "output_type": "stream",
     "text": [
      "techpro:)techpro:)techpro\n"
     ]
    }
   ],
   "source": [
    "kelime = input(\"bir kelime giriniz\")\n",
    "sep1 = input(\"sep değerini giriniz\")\n",
    "sayi = int(input(\"tekrar sayısını giriniz\"))\n",
    "print(((kelime + sep1) * sayi).rstrip(sep1))"
   ]
  },
  {
   "cell_type": "code",
   "execution_count": 39,
   "metadata": {},
   "outputs": [
    {
     "name": "stdout",
     "output_type": "stream",
     "text": [
      "Techpro:)Techpro:)Techpro\n"
     ]
    }
   ],
   "source": [
    "word = input(\"enter a word\")\n",
    "sep =input(\"Enter a sep\")\n",
    "num=int(input(\"Enter a number\"))\n",
    "print(sep.join([word]*num))"
   ]
  },
  {
   "cell_type": "code",
   "execution_count": 44,
   "metadata": {},
   "outputs": [
    {
     "data": {
      "text/plain": [
       "'bunu yazdır'"
      ]
     },
     "execution_count": 44,
     "metadata": {},
     "output_type": "execute_result"
    }
   ],
   "source": [
    "# 0, and, not ve \"bunu yazdır\" ifadelerini kullanarak çıktı olarak \"bunu yazdır\" döndürün.\n",
    "not 0 and \"bunu yazdır\""
   ]
  },
  {
   "cell_type": "code",
   "execution_count": 2,
   "metadata": {},
   "outputs": [
    {
     "data": {
      "text/plain": [
       "True"
      ]
     },
     "execution_count": 2,
     "metadata": {},
     "output_type": "execute_result"
    }
   ],
   "source": [
    "not 1 and \"\" or 14 and not 0"
   ]
  },
  {
   "cell_type": "code",
   "execution_count": 49,
   "metadata": {},
   "outputs": [
    {
     "name": "stdout",
     "output_type": "stream",
     "text": [
      "False\n"
     ]
    }
   ],
   "source": [
    "# alınan 2 sayı eşitse veya sayıların farkı 5 in katı ise true dönsün değilse False dönsün\n",
    "j = int(input(\"bir sayı girin\"))\n",
    "k = int(input(\"bir sayı girin\"))\n",
    "if j == k or (j - k) % 5 == 0:\n",
    "    print(True)\n",
    "else:\n",
    "    print(False)"
   ]
  },
  {
   "cell_type": "code",
   "execution_count": 56,
   "metadata": {},
   "outputs": [
    {
     "data": {
      "text/plain": [
       "True"
      ]
     },
     "execution_count": 56,
     "metadata": {},
     "output_type": "execute_result"
    }
   ],
   "source": [
    "j = int(input(\"bir sayı girin\"))\n",
    "k = int(input(\"bir sayı girin\"))\n",
    "j == k or (j - k) % 5 == 0"
   ]
  },
  {
   "cell_type": "code",
   "execution_count": 55,
   "metadata": {},
   "outputs": [
    {
     "data": {
      "text/plain": [
       "False"
      ]
     },
     "execution_count": 55,
     "metadata": {},
     "output_type": "execute_result"
    }
   ],
   "source": [
    "eval(\"{0} == {1} or ({0} - {1}) % 5 == 0\".format(int(input(\"bir sayı girin\")), int(input(\"bir sayı girin\"))))"
   ]
  }
 ],
 "metadata": {
  "kernelspec": {
   "display_name": "Python 3",
   "language": "python",
   "name": "python3"
  },
  "language_info": {
   "codemirror_mode": {
    "name": "ipython",
    "version": 3
   },
   "file_extension": ".py",
   "mimetype": "text/x-python",
   "name": "python",
   "nbconvert_exporter": "python",
   "pygments_lexer": "ipython3",
   "version": "3.11.1"
  },
  "orig_nbformat": 4,
  "vscode": {
   "interpreter": {
    "hash": "55cfa1d2dc12e3e5fc2931afa7a5a4f86432dfdad9e2fda08df56b7572964520"
   }
  }
 },
 "nbformat": 4,
 "nbformat_minor": 2
}
