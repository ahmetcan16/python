{
 "cells": [
  {
   "cell_type": "markdown",
   "id": "95f61b17-f2e4-41cb-9318-8154c4cfba00",
   "metadata": {},
   "source": [
    "# NumPy Assignment"
   ]
  },
  {
   "cell_type": "markdown",
   "id": "0b956e8b-c012-4b7d-9fe1-be68fe668606",
   "metadata": {},
   "source": [
    "## Import the numpy package under the name as np & print the numpy version"
   ]
  },
  {
   "cell_type": "code",
   "execution_count": 5,
   "id": "668e8221",
   "metadata": {
    "ExecuteTime": {
     "end_time": "2023-04-13T19:21:53.881683Z",
     "start_time": "2023-04-13T19:21:53.877706Z"
    }
   },
   "outputs": [
    {
     "data": {
      "text/plain": [
       "'1.23.5'"
      ]
     },
     "execution_count": 5,
     "metadata": {},
     "output_type": "execute_result"
    }
   ],
   "source": [
    "import numpy as np\n",
    "np.__version__"
   ]
  },
  {
   "cell_type": "markdown",
   "id": "8c171220-e212-4057-ad4c-e809ba8961fd",
   "metadata": {},
   "source": [
    "## Create a null vector of size 10"
   ]
  },
  {
   "cell_type": "code",
   "execution_count": 6,
   "id": "107c7c3b",
   "metadata": {
    "ExecuteTime": {
     "end_time": "2023-04-13T19:21:54.825741Z",
     "start_time": "2023-04-13T19:21:54.822238Z"
    }
   },
   "outputs": [
    {
     "name": "stdout",
     "output_type": "stream",
     "text": [
      "[0 0 0 0 0 0 0 0 0 0]\n"
     ]
    }
   ],
   "source": [
    "print(np.zeros(10, dtype=int))"
   ]
  },
  {
   "cell_type": "markdown",
   "id": "2891b252-a1db-4ab4-a164-47c9cce9a271",
   "metadata": {},
   "source": [
    "## Create a null vector of size 10 but the fifth value which is 1"
   ]
  },
  {
   "cell_type": "code",
   "execution_count": 7,
   "id": "51e58682",
   "metadata": {
    "ExecuteTime": {
     "end_time": "2023-04-13T19:21:57.994308Z",
     "start_time": "2023-04-13T19:21:57.990736Z"
    }
   },
   "outputs": [
    {
     "name": "stdout",
     "output_type": "stream",
     "text": [
      "[0 0 0 0 1 0 0 0 0 0]\n"
     ]
    }
   ],
   "source": [
    "a = np.zeros(10, dtype=int)\n",
    "a[4] = 1\n",
    "print(a)"
   ]
  },
  {
   "cell_type": "code",
   "execution_count": 8,
   "id": "62a74d94",
   "metadata": {
    "ExecuteTime": {
     "end_time": "2023-04-13T19:21:58.338037Z",
     "start_time": "2023-04-13T19:21:58.333054Z"
    }
   },
   "outputs": [
    {
     "data": {
      "text/plain": [
       "array([0, 0, 0, 0, 1, 0, 0, 0, 0, 0])"
      ]
     },
     "execution_count": 8,
     "metadata": {},
     "output_type": "execute_result"
    }
   ],
   "source": [
    "np.array([int(x == 4) for x in range(10)])"
   ]
  },
  {
   "cell_type": "code",
   "execution_count": 9,
   "id": "f3e63450",
   "metadata": {
    "ExecuteTime": {
     "end_time": "2023-04-13T19:21:58.641447Z",
     "start_time": "2023-04-13T19:21:58.637460Z"
    }
   },
   "outputs": [
    {
     "data": {
      "text/plain": [
       "array([0, 0, 0, 0, 1, 0, 0, 0, 0, 0])"
      ]
     },
     "execution_count": 9,
     "metadata": {},
     "output_type": "execute_result"
    }
   ],
   "source": [
    "(np.arange(10) == 4).astype(int)"
   ]
  },
  {
   "cell_type": "code",
   "execution_count": 10,
   "id": "f46eeab6",
   "metadata": {
    "ExecuteTime": {
     "end_time": "2023-04-13T19:21:58.985907Z",
     "start_time": "2023-04-13T19:21:58.981796Z"
    }
   },
   "outputs": [
    {
     "data": {
      "text/plain": [
       "array([0, 0, 0, 0, 1, 0, 0, 0, 0, 0])"
      ]
     },
     "execution_count": 10,
     "metadata": {},
     "output_type": "execute_result"
    }
   ],
   "source": [
    "(np.arange(10) == 4) * 1"
   ]
  },
  {
   "cell_type": "markdown",
   "id": "491e5318-b216-48d8-8f35-82cd66594408",
   "metadata": {},
   "source": [
    "## Create a vector with values ranging from 10 to 49"
   ]
  },
  {
   "cell_type": "code",
   "execution_count": 11,
   "id": "36253df9",
   "metadata": {
    "ExecuteTime": {
     "end_time": "2023-04-13T19:22:01.609591Z",
     "start_time": "2023-04-13T19:22:01.605118Z"
    }
   },
   "outputs": [
    {
     "name": "stdout",
     "output_type": "stream",
     "text": [
      "[10 11 12 13 14 15 16 17 18 19 20 21 22 23 24 25 26 27 28 29 30 31 32 33\n",
      " 34 35 36 37 38 39 40 41 42 43 44 45 46 47 48 49]\n"
     ]
    }
   ],
   "source": [
    "b = np.arange(10, 50)\n",
    "print(b)"
   ]
  },
  {
   "cell_type": "markdown",
   "id": "b7818669-03a5-4f61-b08f-b85b8dd94372",
   "metadata": {},
   "source": [
    "## Reverse a vector (first element becomes last)"
   ]
  },
  {
   "cell_type": "code",
   "execution_count": 12,
   "id": "027a4256",
   "metadata": {
    "ExecuteTime": {
     "end_time": "2023-04-13T19:22:02.322694Z",
     "start_time": "2023-04-13T19:22:02.318691Z"
    },
    "scrolled": false
   },
   "outputs": [
    {
     "name": "stdout",
     "output_type": "stream",
     "text": [
      "[49 48 47 46 45 44 43 42 41 40 39 38 37 36 35 34 33 32 31 30 29 28 27 26\n",
      " 25 24 23 22 21 20 19 18 17 16 15 14 13 12 11 10]\n"
     ]
    }
   ],
   "source": [
    "print(np.flip(b))"
   ]
  },
  {
   "cell_type": "code",
   "execution_count": 13,
   "id": "94ca02ba",
   "metadata": {
    "ExecuteTime": {
     "end_time": "2023-04-13T19:22:02.680678Z",
     "start_time": "2023-04-13T19:22:02.676734Z"
    }
   },
   "outputs": [
    {
     "data": {
      "text/plain": [
       "array([49, 48, 47, 46, 45, 44, 43, 42, 41, 40, 39, 38, 37, 36, 35, 34, 33,\n",
       "       32, 31, 30, 29, 28, 27, 26, 25, 24, 23, 22, 21, 20, 19, 18, 17, 16,\n",
       "       15, 14, 13, 12, 11, 10])"
      ]
     },
     "execution_count": 13,
     "metadata": {},
     "output_type": "execute_result"
    }
   ],
   "source": [
    "b[::-1]"
   ]
  },
  {
   "cell_type": "markdown",
   "id": "5f4a94e4-596a-4c85-8356-7eb86d6cacbe",
   "metadata": {},
   "source": [
    "## Create a 3x3 matrix with values ranging from 0 to 8"
   ]
  },
  {
   "cell_type": "code",
   "execution_count": 14,
   "id": "6bc73f48",
   "metadata": {
    "ExecuteTime": {
     "end_time": "2023-04-13T19:22:05.345790Z",
     "start_time": "2023-04-13T19:22:05.341717Z"
    }
   },
   "outputs": [
    {
     "name": "stdout",
     "output_type": "stream",
     "text": [
      "[[0 1 2]\n",
      " [3 4 5]\n",
      " [6 7 8]]\n"
     ]
    }
   ],
   "source": [
    "print(np.arange(0, 9).reshape(3, 3))"
   ]
  },
  {
   "cell_type": "markdown",
   "id": "0df95fd1-f316-4976-849b-756f927f382c",
   "metadata": {},
   "source": [
    "## Find indices of non­zero elements from [1,2,0,0,4,0]"
   ]
  },
  {
   "cell_type": "code",
   "execution_count": 15,
   "id": "dc06b7a0",
   "metadata": {
    "ExecuteTime": {
     "end_time": "2023-04-13T19:22:06.273349Z",
     "start_time": "2023-04-13T19:22:06.268689Z"
    }
   },
   "outputs": [
    {
     "data": {
      "text/plain": [
       "(array([0, 1, 4], dtype=int64),)"
      ]
     },
     "execution_count": 15,
     "metadata": {},
     "output_type": "execute_result"
    }
   ],
   "source": [
    "np.nonzero([1,2,0,0,4,0]) # 0 olmayanların indexlerini döndürdü"
   ]
  },
  {
   "cell_type": "code",
   "execution_count": 16,
   "id": "95edf755",
   "metadata": {
    "ExecuteTime": {
     "end_time": "2023-04-13T19:22:06.705264Z",
     "start_time": "2023-04-13T19:22:06.701032Z"
    }
   },
   "outputs": [
    {
     "data": {
      "text/plain": [
       "(array([0, 1, 4], dtype=int64),)"
      ]
     },
     "execution_count": 16,
     "metadata": {},
     "output_type": "execute_result"
    }
   ],
   "source": [
    "arr = np.array([1,2,0,0,4,0])\n",
    "np.where(arr != 0) # koşulu sağlayanların indexlerini döndürür"
   ]
  },
  {
   "cell_type": "code",
   "execution_count": 17,
   "id": "ae372328",
   "metadata": {
    "ExecuteTime": {
     "end_time": "2023-04-13T19:22:07.122024Z",
     "start_time": "2023-04-13T19:22:07.117256Z"
    }
   },
   "outputs": [
    {
     "data": {
      "text/plain": [
       "(array([2, 3, 5], dtype=int64),)"
      ]
     },
     "execution_count": 17,
     "metadata": {},
     "output_type": "execute_result"
    }
   ],
   "source": [
    "arr = np.array([1,2,0,0,4,0])\n",
    "np.where(arr == 0)"
   ]
  },
  {
   "cell_type": "markdown",
   "id": "efc45ac3-9297-4ea0-9fd8-8534c46935e4",
   "metadata": {},
   "source": [
    "## Create a 3x3 identity matrix\n",
    "Identity matrix, kare matrisler için özel bir türdür. Diagonalindeki tüm elemanlar 1, diğer elemanlar ise 0 olan kare matrisdir."
   ]
  },
  {
   "cell_type": "code",
   "execution_count": 18,
   "id": "bb3b3ade",
   "metadata": {
    "ExecuteTime": {
     "end_time": "2023-04-13T19:22:07.984453Z",
     "start_time": "2023-04-13T19:22:07.980607Z"
    }
   },
   "outputs": [
    {
     "name": "stdout",
     "output_type": "stream",
     "text": [
      "[[1 0 0]\n",
      " [0 1 0]\n",
      " [0 0 1]]\n"
     ]
    }
   ],
   "source": [
    "print(np.eye(3, 3, dtype=int))"
   ]
  },
  {
   "cell_type": "markdown",
   "id": "aa19488a-0613-48f3-8604-4499afe134e8",
   "metadata": {},
   "source": [
    "## Create a 3x3x3 array with random values"
   ]
  },
  {
   "cell_type": "code",
   "execution_count": 19,
   "id": "0465ead9",
   "metadata": {
    "ExecuteTime": {
     "end_time": "2023-04-13T19:24:22.397561Z",
     "start_time": "2023-04-13T19:24:22.382861Z"
    }
   },
   "outputs": [
    {
     "name": "stdout",
     "output_type": "stream",
     "text": [
      "[[[47  6 75]\n",
      "  [70 22 25]\n",
      "  [97 90 10]]\n",
      "\n",
      " [[ 1 58 71]\n",
      "  [80 29 16]\n",
      "  [54 44 65]]\n",
      "\n",
      " [[87 83 22]\n",
      "  [ 5 58 42]\n",
      "  [32 73 97]]]\n"
     ]
    }
   ],
   "source": [
    "print(np.random.randint(100, size=(3, 3, 3)))"
   ]
  },
  {
   "cell_type": "code",
   "execution_count": 21,
   "id": "112445f4",
   "metadata": {
    "ExecuteTime": {
     "end_time": "2023-04-13T19:25:10.426277Z",
     "start_time": "2023-04-13T19:25:10.422915Z"
    }
   },
   "outputs": [
    {
     "name": "stdout",
     "output_type": "stream",
     "text": [
      "[[[72  5 96]\n",
      "  [41  1  9]\n",
      "  [25 84 22]]\n",
      "\n",
      " [[76 85 84]\n",
      "  [32 88 79]\n",
      "  [21 66 55]]\n",
      "\n",
      " [[ 4 84 39]\n",
      "  [49 11 64]\n",
      "  [65 94 57]]]\n"
     ]
    }
   ],
   "source": [
    "print(np.random.randint(0, 100, 27).reshape(3, 3, 3))"
   ]
  },
  {
   "cell_type": "markdown",
   "id": "456bd772-149a-410a-9c86-04f1b19c6ae1",
   "metadata": {},
   "source": [
    "## Create a 10x10 array with random values and find the minimum and maximum values"
   ]
  },
  {
   "cell_type": "code",
   "execution_count": 77,
   "id": "ec01322d",
   "metadata": {
    "ExecuteTime": {
     "end_time": "2023-04-05T12:40:28.610555Z",
     "start_time": "2023-04-05T12:40:28.594778Z"
    }
   },
   "outputs": [
    {
     "name": "stdout",
     "output_type": "stream",
     "text": [
      "[[835 684 488 417 988 766 984 403 352 514]\n",
      " [ 36 513 587 261 122 368 427 668 276 699]\n",
      " [539 290 488 597 600 137 909 442 644 534]\n",
      " [ 36 928 753 462 843 627 775  60 491 348]\n",
      " [606 192 390 824 340 856 120  20  96 370]\n",
      " [ 10 124 192 100 569 350 541 231 758  97]\n",
      " [603  44 311 421 854 841 337 619 939 767]\n",
      " [442 103 521 606 821 280 331 753 617 756]\n",
      " [189 672 153 951 459 539 311 437 961   9]\n",
      " [ 93 532 392 155  82 676 407 543 347 678]]\n"
     ]
    },
    {
     "data": {
      "text/plain": [
       "'max : 988  min : 9'"
      ]
     },
     "execution_count": 77,
     "metadata": {},
     "output_type": "execute_result"
    }
   ],
   "source": [
    "c = np.random.randint(1000, size = (10, 10))\n",
    "print(c)\n",
    "f\"max : {np.max(c)}  min : {np.min(c)}\""
   ]
  },
  {
   "cell_type": "markdown",
   "id": "8cbf0c5f-e2dd-4418-b923-a52bbda70b7e",
   "metadata": {},
   "source": [
    "## Create a random vector of size 30 and find the mean value"
   ]
  },
  {
   "cell_type": "code",
   "execution_count": 65,
   "id": "625f82b7",
   "metadata": {
    "ExecuteTime": {
     "end_time": "2023-04-05T05:33:58.920313Z",
     "start_time": "2023-04-05T05:33:58.907607Z"
    }
   },
   "outputs": [
    {
     "name": "stdout",
     "output_type": "stream",
     "text": [
      "[98 40 66 91 78 14 34 30 98 87 41 12 62 71 34 52 38  7 85 37 37 47 47 32\n",
      "  1 26  5 14 27 91]\n"
     ]
    },
    {
     "data": {
      "text/plain": [
       "46.733333333333334"
      ]
     },
     "execution_count": 65,
     "metadata": {},
     "output_type": "execute_result"
    }
   ],
   "source": [
    "d = np.random.randint(100, size = (30))\n",
    "print(d)\n",
    "np.mean(d)"
   ]
  },
  {
   "cell_type": "markdown",
   "id": "7cc5ba2a-7b21-4c76-9d9c-cd84ecb98875",
   "metadata": {},
   "source": [
    "## Create a 2d array with 1 on the border and 0 inside"
   ]
  },
  {
   "cell_type": "code",
   "execution_count": 37,
   "id": "4e984821",
   "metadata": {
    "ExecuteTime": {
     "end_time": "2023-04-13T19:34:02.432035Z",
     "start_time": "2023-04-13T19:34:02.428173Z"
    }
   },
   "outputs": [
    {
     "name": "stdout",
     "output_type": "stream",
     "text": [
      "[[1 1 1 1 1]\n",
      " [1 1 1 1 1]\n",
      " [1 1 1 1 1]\n",
      " [1 1 1 1 1]\n",
      " [1 1 1 1 1]]\n",
      "---\n",
      "[[1 1 1 1 1]\n",
      " [1 0 0 0 1]\n",
      " [1 0 0 0 1]\n",
      " [1 0 0 0 1]\n",
      " [1 1 1 1 1]]\n"
     ]
    }
   ],
   "source": [
    "a = np.ones((5,5), dtype=int)\n",
    "print(a)\n",
    "print(\"---\")\n",
    "\n",
    "a[1:-1, 1:-1] = 0\n",
    "print(a)"
   ]
  },
  {
   "cell_type": "markdown",
   "id": "b0b05e7c-7eb0-486d-8b17-2a1f48b392a6",
   "metadata": {},
   "source": [
    "## Create a 5x5 matrix with values 1,2,3,4 just below the diagonal"
   ]
  },
  {
   "attachments": {
    "image.png": {
     "image/png": "[encoded data removed]"
    }
   },
   "cell_type": "markdown",
   "id": "f9f12720",
   "metadata": {},
   "source": [
    "![image.png](attachment:image.png)"
   ]
  },
  {
   "cell_type": "code",
   "execution_count": 38,
   "id": "6b88f35d",
   "metadata": {
    "ExecuteTime": {
     "end_time": "2023-04-13T19:36:08.323360Z",
     "start_time": "2023-04-13T19:36:08.318445Z"
    }
   },
   "outputs": [
    {
     "name": "stdout",
     "output_type": "stream",
     "text": [
      "[[0 0 0 0 0]\n",
      " [1 0 0 0 0]\n",
      " [0 2 0 0 0]\n",
      " [0 0 3 0 0]\n",
      " [0 0 0 4 0]]\n"
     ]
    }
   ],
   "source": [
    "e = np.zeros((5,5), dtype=int)\n",
    "for i in range(4):\n",
    "    e[i+1][i] = (i + 1)\n",
    "print(e)"
   ]
  },
  {
   "cell_type": "code",
   "execution_count": 44,
   "id": "ff622c19",
   "metadata": {
    "ExecuteTime": {
     "end_time": "2023-04-13T19:38:01.448693Z",
     "start_time": "2023-04-13T19:38:01.444022Z"
    }
   },
   "outputs": [
    {
     "data": {
      "text/plain": [
       "array([[0, 0, 0, 0, 0],\n",
       "       [1, 0, 0, 0, 0],\n",
       "       [0, 2, 0, 0, 0],\n",
       "       [0, 0, 3, 0, 0],\n",
       "       [0, 0, 0, 4, 0]])"
      ]
     },
     "execution_count": 44,
     "metadata": {},
     "output_type": "execute_result"
    }
   ],
   "source": [
    "np.diag([1, 2, 3, 4], k=-1)"
   ]
  },
  {
   "cell_type": "markdown",
   "id": "f22a8d4f-4061-46dc-96c5-f963eba56d40",
   "metadata": {},
   "source": [
    "## Create a 8x8 matrix and fill it with a checkerboard pattern"
   ]
  },
  {
   "attachments": {
    "image.png": {
     "image/png": "[encoded data removed]"
    }
   },
   "cell_type": "markdown",
   "id": "8a715d83",
   "metadata": {},
   "source": [
    "![image.png](attachment:image.png)"
   ]
  },
  {
   "cell_type": "code",
   "execution_count": 86,
   "id": "160416ac",
   "metadata": {
    "ExecuteTime": {
     "end_time": "2023-04-05T12:48:32.918447Z",
     "start_time": "2023-04-05T12:48:32.906209Z"
    }
   },
   "outputs": [
    {
     "data": {
      "text/plain": [
       "array([[0, 1, 0, 1, 0, 1, 0, 1],\n",
       "       [1, 0, 1, 0, 1, 0, 1, 0],\n",
       "       [0, 1, 0, 1, 0, 1, 0, 1],\n",
       "       [1, 0, 1, 0, 1, 0, 1, 0],\n",
       "       [0, 1, 0, 1, 0, 1, 0, 1],\n",
       "       [1, 0, 1, 0, 1, 0, 1, 0],\n",
       "       [0, 1, 0, 1, 0, 1, 0, 1],\n",
       "       [1, 0, 1, 0, 1, 0, 1, 0]])"
      ]
     },
     "execution_count": 86,
     "metadata": {},
     "output_type": "execute_result"
    }
   ],
   "source": [
    "g = np.array([[0, 1, 0, 1, 0, 1, 0, 1],\n",
    "              [1, 0, 1, 0, 1, 0, 1, 0]])\n",
    "np.resize(g, ((8, 8)))"
   ]
  },
  {
   "cell_type": "code",
   "execution_count": 50,
   "id": "25fa0d7a",
   "metadata": {
    "ExecuteTime": {
     "end_time": "2023-04-13T19:42:45.978926Z",
     "start_time": "2023-04-13T19:42:45.973563Z"
    }
   },
   "outputs": [
    {
     "data": {
      "text/plain": [
       "array([[0, 1, 0, 1, 0, 1, 0, 1],\n",
       "       [1, 0, 1, 0, 1, 0, 1, 0],\n",
       "       [0, 1, 0, 1, 0, 1, 0, 1],\n",
       "       [1, 0, 1, 0, 1, 0, 1, 0],\n",
       "       [0, 1, 0, 1, 0, 1, 0, 1],\n",
       "       [1, 0, 1, 0, 1, 0, 1, 0],\n",
       "       [0, 1, 0, 1, 0, 1, 0, 1],\n",
       "       [1, 0, 1, 0, 1, 0, 1, 0]])"
      ]
     },
     "execution_count": 50,
     "metadata": {},
     "output_type": "execute_result"
    }
   ],
   "source": [
    "a = np.zeros((8, 8), dtype=int)\n",
    "a[1::2, 0::2] = 1\n",
    "a[0::2, 1::2] = 1\n",
    "a"
   ]
  },
  {
   "cell_type": "markdown",
   "id": "b2c92c26-fa3b-4022-9c71-88a27064ba1b",
   "metadata": {},
   "source": [
    "## Create a checkerboard 8x8 matrix using the tile function"
   ]
  },
  {
   "cell_type": "code",
   "execution_count": 41,
   "id": "4efb7312",
   "metadata": {
    "ExecuteTime": {
     "end_time": "2023-04-05T11:50:22.788221Z",
     "start_time": "2023-04-05T11:50:22.768295Z"
    }
   },
   "outputs": [
    {
     "data": {
      "text/plain": [
       "array([[0, 1, 0, 1, 0, 1, 0, 1],\n",
       "       [1, 0, 1, 0, 1, 0, 1, 0],\n",
       "       [0, 1, 0, 1, 0, 1, 0, 1],\n",
       "       [1, 0, 1, 0, 1, 0, 1, 0],\n",
       "       [0, 1, 0, 1, 0, 1, 0, 1],\n",
       "       [1, 0, 1, 0, 1, 0, 1, 0],\n",
       "       [0, 1, 0, 1, 0, 1, 0, 1],\n",
       "       [1, 0, 1, 0, 1, 0, 1, 0]])"
      ]
     },
     "execution_count": 41,
     "metadata": {},
     "output_type": "execute_result"
    }
   ],
   "source": [
    "np.tile([[0,1], [1,0]], (4,4))"
   ]
  },
  {
   "cell_type": "markdown",
   "id": "7d1e507f-a32d-4ed4-9235-8c1c77b45e90",
   "metadata": {},
   "source": [
    "## Consider a (6,7,8) shape array, what is the index (x,y,z) of the 100th element?"
   ]
  },
  {
   "cell_type": "code",
   "execution_count": 53,
   "id": "f491e473",
   "metadata": {
    "ExecuteTime": {
     "end_time": "2023-04-13T19:49:44.265534Z",
     "start_time": "2023-04-13T19:49:44.261088Z"
    }
   },
   "outputs": [
    {
     "name": "stdout",
     "output_type": "stream",
     "text": [
      "(1, 5, 4)\n"
     ]
    }
   ],
   "source": [
    "print(np.unravel_index(100,(6,7,8)))"
   ]
  },
  {
   "cell_type": "code",
   "execution_count": 61,
   "id": "d12a2986",
   "metadata": {
    "ExecuteTime": {
     "end_time": "2023-04-13T19:51:22.872808Z",
     "start_time": "2023-04-13T19:51:22.868244Z"
    }
   },
   "outputs": [
    {
     "data": {
      "text/plain": [
       "(1, 5, 4)"
      ]
     },
     "execution_count": 61,
     "metadata": {},
     "output_type": "execute_result"
    }
   ],
   "source": [
    "m = np.arange(6*7*8).reshape(6, 7, 8)\n",
    "np.unravel_index(100, m.shape)"
   ]
  },
  {
   "cell_type": "markdown",
   "id": "dcdb4e96",
   "metadata": {},
   "source": [
    "## How can I create an array with dimensions (6, 7, 8) using arange, and find its last element?"
   ]
  },
  {
   "cell_type": "code",
   "execution_count": 66,
   "id": "844deeaf",
   "metadata": {
    "ExecuteTime": {
     "end_time": "2023-04-13T19:55:01.082518Z",
     "start_time": "2023-04-13T19:55:01.077117Z"
    }
   },
   "outputs": [
    {
     "data": {
      "text/plain": [
       "335"
      ]
     },
     "execution_count": 66,
     "metadata": {},
     "output_type": "execute_result"
    }
   ],
   "source": [
    "n = np.arange(6 * 7 * 8).reshape(6, 7, 8)\n",
    "n[(-1, -1, -1)]"
   ]
  },
  {
   "cell_type": "code",
   "execution_count": 67,
   "id": "1e70f659",
   "metadata": {
    "ExecuteTime": {
     "end_time": "2023-04-13T19:55:02.646723Z",
     "start_time": "2023-04-13T19:55:02.642257Z"
    }
   },
   "outputs": [
    {
     "data": {
      "text/plain": [
       "335"
      ]
     },
     "execution_count": 67,
     "metadata": {},
     "output_type": "execute_result"
    }
   ],
   "source": [
    "np.take(n,-1)"
   ]
  },
  {
   "cell_type": "markdown",
   "id": "b1854b8f-fa9e-492e-9d76-8ee86416e163",
   "metadata": {},
   "source": [
    "## Given a one-dimensional array, make all elements between 3 and 8 inclusive negative."
   ]
  },
  {
   "cell_type": "code",
   "execution_count": 92,
   "id": "8dca3314",
   "metadata": {
    "ExecuteTime": {
     "end_time": "2023-04-05T12:57:09.318715Z",
     "start_time": "2023-04-05T12:57:09.304771Z"
    }
   },
   "outputs": [
    {
     "name": "stdout",
     "output_type": "stream",
     "text": [
      "[ 0  1  2 -3 -4 -5 -6 -7 -8  9 10 11 12 13 14]\n"
     ]
    }
   ],
   "source": [
    "k = np.arange(15)\n",
    "for i in range(len(k)):\n",
    "    if k[i] >= 3 and k[i] <= 8:\n",
    "        k[i] = -k[i]\n",
    "print(k)"
   ]
  },
  {
   "cell_type": "code",
   "execution_count": 68,
   "id": "976ce300",
   "metadata": {
    "ExecuteTime": {
     "end_time": "2023-04-13T19:58:28.314104Z",
     "start_time": "2023-04-13T19:58:28.308297Z"
    }
   },
   "outputs": [
    {
     "name": "stdout",
     "output_type": "stream",
     "text": [
      "[ 1  4  6  8 10  2  5  7  9  3]\n",
      "[False  True  True  True False False  True  True False  True]\n"
     ]
    },
    {
     "data": {
      "text/plain": [
       "array([ 1, -4, -6, -8, 10,  2, -5, -7,  9, -3])"
      ]
     },
     "execution_count": 68,
     "metadata": {},
     "output_type": "execute_result"
    }
   ],
   "source": [
    "arr = np.array([1, 4, 6, 8, 10, 2, 5, 7, 9, 3])\n",
    "print(arr)\n",
    "arr_bool=(arr >= 3) & (arr <= 8)\n",
    "print(arr_bool)\n",
    "arr[arr_bool]*=-1\n",
    "arr"
   ]
  },
  {
   "cell_type": "markdown",
   "id": "afc74cce-1589-434f-929e-d4f809eac34d",
   "metadata": {},
   "source": [
    "## Create a 5x5 matrix with row values ranging from 0 to 4"
   ]
  },
  {
   "cell_type": "code",
   "execution_count": 70,
   "id": "d866c7de",
   "metadata": {
    "ExecuteTime": {
     "end_time": "2023-04-13T20:00:23.632519Z",
     "start_time": "2023-04-13T20:00:23.627432Z"
    }
   },
   "outputs": [
    {
     "data": {
      "text/plain": [
       "array([[0, 1, 2, 3, 4],\n",
       "       [0, 1, 2, 3, 4],\n",
       "       [0, 1, 2, 3, 4],\n",
       "       [0, 1, 2, 3, 4],\n",
       "       [0, 1, 2, 3, 4]])"
      ]
     },
     "execution_count": 70,
     "metadata": {},
     "output_type": "execute_result"
    }
   ],
   "source": [
    "np.full((5,5), [0, 1, 2, 3, 4])"
   ]
  },
  {
   "cell_type": "code",
   "execution_count": 71,
   "id": "d7f4d494",
   "metadata": {
    "ExecuteTime": {
     "end_time": "2023-04-13T20:00:50.830440Z",
     "start_time": "2023-04-13T20:00:50.826930Z"
    }
   },
   "outputs": [
    {
     "name": "stdout",
     "output_type": "stream",
     "text": [
      "[[0. 0. 0. 0. 0.]\n",
      " [0. 0. 0. 0. 0.]\n",
      " [0. 0. 0. 0. 0.]\n",
      " [0. 0. 0. 0. 0.]\n",
      " [0. 0. 0. 0. 0.]]\n",
      "[[0. 1. 2. 3. 4.]\n",
      " [0. 1. 2. 3. 4.]\n",
      " [0. 1. 2. 3. 4.]\n",
      " [0. 1. 2. 3. 4.]\n",
      " [0. 1. 2. 3. 4.]]\n"
     ]
    }
   ],
   "source": [
    "x = np.zeros((5,5))\n",
    "print(x)\n",
    "x += np.arange(5)\n",
    "print(x)"
   ]
  },
  {
   "cell_type": "code",
   "execution_count": 5,
   "id": "9cb0137c",
   "metadata": {
    "ExecuteTime": {
     "end_time": "2023-04-08T11:20:33.743064Z",
     "start_time": "2023-04-08T11:20:33.728405Z"
    }
   },
   "outputs": [
    {
     "data": {
      "text/plain": [
       "array([[0, 1, 2, 3, 4],\n",
       "       [0, 1, 2, 3, 4],\n",
       "       [0, 1, 2, 3, 4],\n",
       "       [0, 1, 2, 3, 4],\n",
       "       [0, 1, 2, 3, 4]])"
      ]
     },
     "execution_count": 5,
     "metadata": {},
     "output_type": "execute_result"
    }
   ],
   "source": [
    "array = np.arange(5)\n",
    "np.tile(array,(5,1))"
   ]
  },
  {
   "cell_type": "markdown",
   "id": "cbea287c-b2ef-4c94-b4bc-e047ee69abd1",
   "metadata": {},
   "source": [
    "## Create a vector of size 12 with values ranging from 0 to 1, both excluded"
   ]
  },
  {
   "cell_type": "code",
   "execution_count": 74,
   "id": "7aacff5b",
   "metadata": {
    "ExecuteTime": {
     "end_time": "2023-04-13T20:04:18.103841Z",
     "start_time": "2023-04-13T20:04:18.098834Z"
    }
   },
   "outputs": [
    {
     "data": {
      "text/plain": [
       "array([0.07692308, 0.15384615, 0.23076923, 0.30769231, 0.38461538,\n",
       "       0.46153846, 0.53846154, 0.61538462, 0.69230769, 0.76923077,\n",
       "       0.84615385, 0.92307692])"
      ]
     },
     "execution_count": 74,
     "metadata": {},
     "output_type": "execute_result"
    }
   ],
   "source": [
    "np.linspace(0, 1, 13, endpoint=False)[1::]"
   ]
  },
  {
   "cell_type": "code",
   "execution_count": 75,
   "id": "b6caf3c4",
   "metadata": {
    "ExecuteTime": {
     "end_time": "2023-04-13T20:04:21.311714Z",
     "start_time": "2023-04-13T20:04:21.307069Z"
    }
   },
   "outputs": [
    {
     "data": {
      "text/plain": [
       "array([0.84913989, 0.40232749, 0.92354936, 0.87131454, 0.99070993,\n",
       "       0.52598699, 0.49428946, 0.6630051 , 0.68689436, 0.33658569,\n",
       "       0.60993997, 0.23718143])"
      ]
     },
     "execution_count": 75,
     "metadata": {},
     "output_type": "execute_result"
    }
   ],
   "source": [
    "np.random.uniform(low=0.1, size=(12))"
   ]
  },
  {
   "cell_type": "markdown",
   "id": "1dc7d714-45a5-4bc7-a52e-37abe31bfb1f",
   "metadata": {},
   "source": [
    "## Create a random vector of size 10 and sort it"
   ]
  },
  {
   "cell_type": "code",
   "execution_count": 76,
   "id": "c0a59fbf",
   "metadata": {
    "ExecuteTime": {
     "end_time": "2023-04-13T20:06:03.224800Z",
     "start_time": "2023-04-13T20:06:03.220224Z"
    }
   },
   "outputs": [
    {
     "data": {
      "text/plain": [
       "array([11, 16, 17, 21, 26, 34, 66, 77, 80, 81])"
      ]
     },
     "execution_count": 76,
     "metadata": {},
     "output_type": "execute_result"
    }
   ],
   "source": [
    "np.sort(np.random.randint(100, size=(10)))"
   ]
  },
  {
   "cell_type": "markdown",
   "id": "0d58bab8-cab1-4318-9405-6e54a17ac346",
   "metadata": {},
   "source": [
    "## Consider two random array A anb B, check if they are equal"
   ]
  },
  {
   "cell_type": "code",
   "execution_count": 77,
   "id": "07d21f6d",
   "metadata": {
    "ExecuteTime": {
     "end_time": "2023-04-13T20:06:05.288723Z",
     "start_time": "2023-04-13T20:06:05.284037Z"
    }
   },
   "outputs": [
    {
     "data": {
      "text/plain": [
       "False"
      ]
     },
     "execution_count": 77,
     "metadata": {},
     "output_type": "execute_result"
    }
   ],
   "source": [
    "A = np.random.randint(100, size=(3, 3))\n",
    "B = np.random.randint(100, size=(3, 3))\n",
    "\n",
    "def is_equal(x, y):\n",
    "    return np.array_equal(x, y)\n",
    "\n",
    "is_equal(A, B)"
   ]
  },
  {
   "cell_type": "markdown",
   "id": "add060d3-6cca-47eb-8a48-2b9f33227130",
   "metadata": {},
   "source": [
    "## Create random vector of size 10 and replace the maximum value by 0"
   ]
  },
  {
   "cell_type": "code",
   "execution_count": 17,
   "id": "6edc3993",
   "metadata": {
    "ExecuteTime": {
     "end_time": "2023-04-08T11:56:12.547680Z",
     "start_time": "2023-04-08T11:56:12.540055Z"
    }
   },
   "outputs": [
    {
     "name": "stdout",
     "output_type": "stream",
     "text": [
      "[5 9 5 7 8 5 5 5 8 5]\n"
     ]
    },
    {
     "data": {
      "text/plain": [
       "array([5, 0, 5, 7, 8, 5, 5, 5, 8, 5])"
      ]
     },
     "execution_count": 17,
     "metadata": {},
     "output_type": "execute_result"
    }
   ],
   "source": [
    "array = np.random.randint(5, 10, 10)\n",
    "print(array)\n",
    "np.where(array==np.max(array),0,array)"
   ]
  },
  {
   "cell_type": "code",
   "execution_count": 78,
   "id": "0ac7e4ba",
   "metadata": {
    "ExecuteTime": {
     "end_time": "2023-04-13T20:11:29.290898Z",
     "start_time": "2023-04-13T20:11:29.277309Z"
    }
   },
   "outputs": [
    {
     "data": {
      "text/plain": [
       "array([19, 17, 13,  3, 17,  0,  6, 45, 26, 10])"
      ]
     },
     "execution_count": 78,
     "metadata": {},
     "output_type": "execute_result"
    }
   ],
   "source": [
    "x = np.random.randint(1,50,10)\n",
    "x[x.argmax()] = 0\n",
    "x"
   ]
  },
  {
   "cell_type": "code",
   "execution_count": 80,
   "id": "87b5fa74",
   "metadata": {
    "ExecuteTime": {
     "end_time": "2023-04-13T20:13:19.424389Z",
     "start_time": "2023-04-13T20:13:19.418396Z"
    }
   },
   "outputs": [
    {
     "data": {
      "text/plain": [
       "array([16,  8,  3,  4,  0, 13, 10,  7, 17,  8])"
      ]
     },
     "execution_count": 80,
     "metadata": {},
     "output_type": "execute_result"
    }
   ],
   "source": [
    "arr=np.random.randint(20, size=10)\n",
    "arr[arr == np.max(arr)] = 0\n",
    "arr"
   ]
  },
  {
   "cell_type": "markdown",
   "id": "874129d8-fe2e-41c7-aaa5-6e7578a8d6ad",
   "metadata": {},
   "source": [
    "## How to swap two rows of an array?"
   ]
  },
  {
   "cell_type": "code",
   "execution_count": 18,
   "id": "93900d73",
   "metadata": {
    "ExecuteTime": {
     "end_time": "2023-04-08T12:12:31.443832Z",
     "start_time": "2023-04-08T12:12:31.428860Z"
    }
   },
   "outputs": [
    {
     "name": "stdout",
     "output_type": "stream",
     "text": [
      "[[ 0  1  2  3  4]\n",
      " [ 5  6  7  8  9]\n",
      " [10 11 12 13 14]\n",
      " [15 16 17 18 19]\n",
      " [20 21 22 23 24]]\n",
      "[[ 5  6  7  8  9]\n",
      " [ 0  1  2  3  4]\n",
      " [10 11 12 13 14]\n",
      " [15 16 17 18 19]\n",
      " [20 21 22 23 24]]\n"
     ]
    }
   ],
   "source": [
    "A = np.arange(25).reshape(5,5)\n",
    "print(A)\n",
    "A[[0,1]] = A[[1,0]]\n",
    "print(A)"
   ]
  },
  {
   "cell_type": "markdown",
   "id": "3d99138b-91e6-4d19-9195-1f384a68063b",
   "metadata": {},
   "source": [
    "## How to find the most frequent value in an array?"
   ]
  },
  {
   "cell_type": "code",
   "execution_count": 21,
   "id": "19a6efab",
   "metadata": {
    "ExecuteTime": {
     "end_time": "2023-04-08T12:29:52.001259Z",
     "start_time": "2023-04-08T12:29:51.993179Z"
    }
   },
   "outputs": [
    {
     "name": "stdout",
     "output_type": "stream",
     "text": [
      "[5 6 2 2 6 6 9 2 9 2 9 6 8 6 8 5 1 1 9 2 4 0 3 7 0 6 6 2 5 4 8 0 0 1 3 0 4\n",
      " 0 1 8 2 6 8 8 4 5 3 8 2 6]\n"
     ]
    },
    {
     "data": {
      "text/plain": [
       "7"
      ]
     },
     "execution_count": 21,
     "metadata": {},
     "output_type": "execute_result"
    }
   ],
   "source": [
    "x = np.random.randint(0, 10, 50)\n",
    "print(x)\n",
    "np.bincount(Z).argmax()"
   ]
  },
  {
   "cell_type": "code",
   "execution_count": 84,
   "id": "63820913",
   "metadata": {
    "ExecuteTime": {
     "end_time": "2023-04-13T20:19:14.205943Z",
     "start_time": "2023-04-13T20:19:14.190261Z"
    }
   },
   "outputs": [
    {
     "name": "stdout",
     "output_type": "stream",
     "text": [
      "[69  1 81 14 33 47 20 93 16 74 68 85 90  9 83 49 49 29 42  0 25 36 86 47\n",
      " 37  8 68 10 16 64 69 91 15 35 40 63 78 19  2 13 88 39 17 22 94 33 14 21\n",
      " 11 81 27 37 85 68 57 41 15 93 37 56  2 90  1 36  8 96 28 38 24 25 22 95\n",
      " 67 86  7 26 61 11 88 28 99 97 75 35 58  3  4 23  1 78 66 78 26 64 49 60\n",
      " 28 48 19 36 77 93 13 51 30 24 13 40 78 15 92 66  5 86 30 27 65 68 96  9\n",
      " 95 15 96 28  5 90 86 31  6 75 30  8 13 99 28 16 65 43 81 24 69 16 51  4\n",
      " 17 33 58 40 92 27 74 87 32 94 17  2  5  9 17 14 70 82  7 12 35 40 33 73\n",
      " 88 51 70  5 82 81 71  3 84 29 16 75 58 75 16 23 68 81  9 58 36 53 22 30\n",
      " 91 81 53 31 74 40 86  3 21 70 32 82 88 27 11  7 61 31 81 16 79 11 98 80\n",
      "  5 55 32 34 36 98 20 43 46 23 63 64  9 34 88 38 47 63 28 12 62 24 50  4\n",
      " 49 20 24  9 64 72 23 97 69 10 31 57 51 72 85 12 75 50 39 75 31  4 89 66\n",
      " 46 30 84 77 54  8 90 33 15 26 37 54 20 44  7  4  8  7 26 31 37 50 79 77\n",
      "  3 67 71 44  0 58 13  1 37 10 41 57 36  4 91  1 98 66 23 88 78  6 10 61\n",
      " 53 15 44 86 40 11 64 29 96 37 30 49  7 20 75 35 50 77 24 27 76 49 93 91]\n"
     ]
    },
    {
     "data": {
      "text/plain": [
       "[81, 16, 37, 75]"
      ]
     },
     "execution_count": 84,
     "metadata": {},
     "output_type": "execute_result"
    }
   ],
   "source": [
    "import statistics as st\n",
    "array = np.random.randint(100,size=(6,7,8)).reshape((6*7*8,))\n",
    "print(array)\n",
    "st.multimode(array)"
   ]
  },
  {
   "cell_type": "code",
   "execution_count": null,
   "id": "177a8125",
   "metadata": {},
   "outputs": [],
   "source": []
  }
 ],
 "metadata": {
  "kernelspec": {
   "display_name": "Python 3 (ipykernel)",
   "language": "python",
   "name": "python3"
  },
  "language_info": {
   "codemirror_mode": {
    "name": "ipython",
    "version": 3
   },
   "file_extension": ".py",
   "mimetype": "text/x-python",
   "name": "python",
   "nbconvert_exporter": "python",
   "pygments_lexer": "ipython3",
   "version": "3.10.9"
  },
  "toc": {
   "base_numbering": 1,
   "nav_menu": {},
   "number_sections": true,
   "sideBar": true,
   "skip_h1_title": false,
   "title_cell": "Table of Contents",
   "title_sidebar": "Contents",
   "toc_cell": false,
   "toc_position": {
    "height": "calc(100% - 180px)",
    "left": "10px",
    "top": "150px",
    "width": "345.994px"
   },
   "toc_section_display": true,
   "toc_window_display": false
  },
  "varInspector": {
   "cols": {
    "lenName": 16,
    "lenType": 16,
    "lenVar": 40
   },
   "kernels_config": {
    "python": {
     "delete_cmd_postfix": "",
     "delete_cmd_prefix": "del ",
     "library": "var_list.py",
     "varRefreshCmd": "print(var_dic_list())"
    },
    "r": {
     "delete_cmd_postfix": ") ",
     "delete_cmd_prefix": "rm(",
     "library": "var_list.r",
     "varRefreshCmd": "cat(var_dic_list()) "
    }
   },
   "types_to_exclude": [
    "module",
    "function",
    "builtin_function_or_method",
    "instance",
    "_Feature"
   ],
   "window_display": false
  }
 },
 "nbformat": 4,
 "nbformat_minor": 5
}
