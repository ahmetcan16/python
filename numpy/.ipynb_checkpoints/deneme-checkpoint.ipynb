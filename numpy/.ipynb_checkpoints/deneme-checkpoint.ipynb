{
 "cells": [
  {
   "cell_type": "code",
   "execution_count": 10,
   "id": "610a0131",
   "metadata": {
    "ExecuteTime": {
     "end_time": "2023-04-04T13:36:39.026916Z",
     "start_time": "2023-04-04T13:36:34.929828Z"
    }
   },
   "outputs": [
    {
     "name": "stdout",
     "output_type": "stream",
     "text": [
      "2 2\n",
      "3 1\n",
      "2 4\n"
     ]
    },
    {
     "data": {
      "text/plain": [
       "array([[3, 1],\n",
       "       [2, 4]])"
      ]
     },
     "execution_count": 10,
     "metadata": {},
     "output_type": "execute_result"
    }
   ],
   "source": [
    "sayı, sayı2  = map(int, (input().split()))\n",
    "\n",
    "liste = []\n",
    "\n",
    "for i in range(sayı):\n",
    "    a = list(map(int,input().split()))\n",
    "    liste.extend(a)\n",
    "np.array(liste).reshape(sayı, sayı2)"
   ]
  },
  {
   "cell_type": "code",
   "execution_count": null,
   "id": "7b66dbfa",
   "metadata": {
    "ExecuteTime": {
     "start_time": "2023-04-04T13:12:14.429Z"
    }
   },
   "outputs": [],
   "source": [
    "sayı = int(input()[0])\n",
    "\n",
    "print(sayı)\n",
    "arr = np.array()\n",
    "print(arr)\n",
    "for i in range(sayı):\n",
    "    liste = list(map(int, input().split()))\n",
    "    arr += np.array(liste)"
   ]
  },
  {
   "cell_type": "code",
   "execution_count": null,
   "id": "10f40b2e",
   "metadata": {},
   "outputs": [],
   "source": [
    "np.arr"
   ]
  },
  {
   "cell_type": "code",
   "execution_count": 4,
   "id": "9cac05fe",
   "metadata": {
    "ExecuteTime": {
     "end_time": "2023-04-04T13:33:10.007434Z",
     "start_time": "2023-04-04T13:33:08.979339Z"
    }
   },
   "outputs": [
    {
     "name": "stdout",
     "output_type": "stream",
     "text": [
      "2 2\n"
     ]
    },
    {
     "data": {
      "text/plain": [
       "map"
      ]
     },
     "execution_count": 4,
     "metadata": {},
     "output_type": "execute_result"
    }
   ],
   "source": [
    "a = map(int,input().split())\n",
    "type(a)"
   ]
  },
  {
   "cell_type": "code",
   "execution_count": 2,
   "id": "0224d6ff",
   "metadata": {
    "ExecuteTime": {
     "end_time": "2023-04-04T14:33:01.490328Z",
     "start_time": "2023-04-04T14:33:01.476913Z"
    }
   },
   "outputs": [],
   "source": [
    "def prime(x):\n",
    "    for i in range(2, int(x/2)):\n",
    "        if x % i == 0:\n",
    "            return False\n",
    "    return True"
   ]
  },
  {
   "cell_type": "code",
   "execution_count": 3,
   "id": "8ae9b0af",
   "metadata": {
    "ExecuteTime": {
     "end_time": "2023-04-04T14:33:05.389139Z",
     "start_time": "2023-04-04T14:33:05.374178Z"
    }
   },
   "outputs": [
    {
     "data": {
      "text/plain": [
       "True"
      ]
     },
     "execution_count": 3,
     "metadata": {},
     "output_type": "execute_result"
    }
   ],
   "source": [
    "prime(13)"
   ]
  },
  {
   "cell_type": "code",
   "execution_count": null,
   "id": "c5d4d0c5",
   "metadata": {},
   "outputs": [],
   "source": [
    "a = np.array(filter(prime, np.arange(2_000_000)))\n",
    "print(sum(a))"
   ]
  },
  {
   "cell_type": "code",
   "execution_count": 9,
   "id": "c679cb0a",
   "metadata": {
    "ExecuteTime": {
     "end_time": "2023-04-04T14:35:18.108525Z",
     "start_time": "2023-04-04T14:35:18.101011Z"
    }
   },
   "outputs": [
    {
     "data": {
      "text/plain": [
       "<filter at 0x21d0e1e8970>"
      ]
     },
     "execution_count": 9,
     "metadata": {},
     "output_type": "execute_result"
    }
   ],
   "source": [
    "(filter(prime, np.arange(2_00)))"
   ]
  },
  {
   "cell_type": "code",
   "execution_count": 10,
   "id": "efeef741",
   "metadata": {
    "ExecuteTime": {
     "end_time": "2023-04-04T14:35:41.962288Z",
     "start_time": "2023-04-04T14:35:41.645793Z"
    }
   },
   "outputs": [
    {
     "ename": "TypeError",
     "evalue": "fromiter() missing required argument 'dtype' (pos 2)",
     "output_type": "error",
     "traceback": [
      "\u001b[1;31m---------------------------------------------------------------------------\u001b[0m",
      "\u001b[1;31mTypeError\u001b[0m                                 Traceback (most recent call last)",
      "Cell \u001b[1;32mIn[10], line 1\u001b[0m\n\u001b[1;32m----> 1\u001b[0m \u001b[43mnp\u001b[49m\u001b[38;5;241;43m.\u001b[39;49m\u001b[43mfromiter\u001b[49m\u001b[43m(\u001b[49m\u001b[43m(\u001b[49m\u001b[38;5;28;43mfilter\u001b[39;49m\u001b[43m(\u001b[49m\u001b[43mprime\u001b[49m\u001b[43m,\u001b[49m\u001b[43m \u001b[49m\u001b[43mnp\u001b[49m\u001b[38;5;241;43m.\u001b[39;49m\u001b[43marange\u001b[49m\u001b[43m(\u001b[49m\u001b[38;5;241;43m2_00\u001b[39;49m\u001b[43m)\u001b[49m\u001b[43m)\u001b[49m\u001b[43m)\u001b[49m\u001b[43m)\u001b[49m\n",
      "\u001b[1;31mTypeError\u001b[0m: fromiter() missing required argument 'dtype' (pos 2)"
     ]
    }
   ],
   "source": [
    "np.fromiter((filter(prime, np.arange(2_00))))"
   ]
  },
  {
   "cell_type": "code",
   "execution_count": 12,
   "id": "a76b1339",
   "metadata": {
    "ExecuteTime": {
     "end_time": "2023-04-04T14:50:09.494325Z",
     "start_time": "2023-04-04T14:50:09.452248Z"
    }
   },
   "outputs": [
    {
     "name": "stdout",
     "output_type": "stream",
     "text": [
      "142913828922\n"
     ]
    }
   ],
   "source": [
    "import numpy as np\n",
    "\n",
    "def sieve_of_eratosthenes(n):\n",
    "    primes = np.ones(n+1, dtype=bool) # Numpy array oluşturun ve bütün elemanlarını True olarak ayarlayın.\n",
    "    primes[0:2] = False # 0 ve 1 asal sayı olmadığından False olarak ayarlayın.\n",
    "    for i in range(2, int(n**0.5)+1):\n",
    "        if primes[i]:\n",
    "            primes[i*i::i] = False # i'nin katlarını False olarak ayarlayın.\n",
    "    return np.flatnonzero(primes) # True olarak işaretlenen bütün sayıların dizinlerini döndürün.\n",
    "\n",
    "primes = sieve_of_eratosthenes(2000000)\n",
    "print(sum(primes))\n"
   ]
  },
  {
   "cell_type": "code",
   "execution_count": 11,
   "id": "9ce2ca75",
   "metadata": {
    "ExecuteTime": {
     "end_time": "2023-04-04T14:47:51.192718Z",
     "start_time": "2023-04-04T14:47:51.173532Z"
    }
   },
   "outputs": [
    {
     "data": {
      "text/plain": [
       "array([1., 1., 1., 1., 1., 1., 1., 1., 1., 1., 1.])"
      ]
     },
     "execution_count": 11,
     "metadata": {},
     "output_type": "execute_result"
    }
   ],
   "source": [
    "i : 3 sayı : 2\n",
    "        primes[9::2]"
   ]
  },
  {
   "cell_type": "code",
   "execution_count": null,
   "id": "66ee3c98",
   "metadata": {},
   "outputs": [],
   "source": [
    "np.flatnonzero()"
   ]
  },
  {
   "cell_type": "code",
   "execution_count": 3,
   "id": "cab9f536",
   "metadata": {
    "ExecuteTime": {
     "end_time": "2023-04-05T11:04:14.530034Z",
     "start_time": "2023-04-05T11:04:14.524051Z"
    }
   },
   "outputs": [
    {
     "data": {
      "text/plain": [
       "array([ 0,  1,  2,  3,  4,  5,  6,  7,  8,  9, 10, 11, 12, 13, 14, 15, 16,\n",
       "       17, 18, 19, 20, 21, 22, 23, 24, 25, 26, 27, 28, 29, 30, 31, 32, 33,\n",
       "       34, 35, 36, 37, 38, 39, 40, 41, 42, 43, 44, 45, 46, 47, 48, 49, 50,\n",
       "       51, 52, 53, 54, 55, 56, 57, 58, 59])"
      ]
     },
     "execution_count": 3,
     "metadata": {},
     "output_type": "execute_result"
    }
   ],
   "source": [
    "arr = np.arange(60)\n",
    "arr"
   ]
  },
  {
   "cell_type": "code",
   "execution_count": 6,
   "id": "0cf5058e",
   "metadata": {
    "ExecuteTime": {
     "end_time": "2023-04-05T11:04:42.919508Z",
     "start_time": "2023-04-05T11:04:42.916449Z"
    }
   },
   "outputs": [
    {
     "data": {
      "text/plain": [
       "array([[[ 0,  1,  2,  3],\n",
       "        [ 4,  5,  6,  7],\n",
       "        [ 8,  9, 10, 11]],\n",
       "\n",
       "       [[12, 13, 14, 15],\n",
       "        [16, 17, 18, 19],\n",
       "        [20, 21, 22, 23]],\n",
       "\n",
       "       [[24, 25, 26, 27],\n",
       "        [28, 29, 30, 31],\n",
       "        [32, 33, 34, 35]],\n",
       "\n",
       "       [[36, 37, 38, 39],\n",
       "        [40, 41, 42, 43],\n",
       "        [44, 45, 46, 47]],\n",
       "\n",
       "       [[48, 49, 50, 51],\n",
       "        [52, 53, 54, 55],\n",
       "        [56, 57, 58, 59]]])"
      ]
     },
     "execution_count": 6,
     "metadata": {},
     "output_type": "execute_result"
    }
   ],
   "source": [
    "arr = arr.reshape(5, 3, -1)\n",
    "arr"
   ]
  },
  {
   "cell_type": "code",
   "execution_count": 8,
   "id": "b5e6d311",
   "metadata": {
    "ExecuteTime": {
     "end_time": "2023-04-05T11:04:56.768587Z",
     "start_time": "2023-04-05T11:04:56.764619Z"
    }
   },
   "outputs": [
    {
     "data": {
      "text/plain": [
       "(5, 3, 4)"
      ]
     },
     "execution_count": 8,
     "metadata": {},
     "output_type": "execute_result"
    }
   ],
   "source": [
    "np.shape(arr)"
   ]
  },
  {
   "cell_type": "code",
   "execution_count": 11,
   "id": "1217f199",
   "metadata": {
    "ExecuteTime": {
     "end_time": "2023-04-05T11:06:37.208284Z",
     "start_time": "2023-04-05T11:06:37.203192Z"
    }
   },
   "outputs": [
    {
     "data": {
      "text/plain": [
       "array([[[ 0,  1,  2,  3,  4,  5],\n",
       "        [ 6,  7,  8,  9, 10, 11],\n",
       "        [12, 13, 14, 15, 16, 17],\n",
       "        [18, 19, 20, 21, 22, 23],\n",
       "        [24, 25, 26, 27, 28, 29]],\n",
       "\n",
       "       [[30, 31, 32, 33, 34, 35],\n",
       "        [36, 37, 38, 39, 40, 41],\n",
       "        [42, 43, 44, 45, 46, 47],\n",
       "        [48, 49, 50, 51, 52, 53],\n",
       "        [54, 55, 56, 57, 58, 59]]])"
      ]
     },
     "execution_count": 11,
     "metadata": {},
     "output_type": "execute_result"
    }
   ],
   "source": [
    "arr = np.arange(60)\n",
    "arr.reshape(2, 5, 6)"
   ]
  },
  {
   "cell_type": "code",
   "execution_count": 17,
   "id": "9d8b1ca7",
   "metadata": {
    "ExecuteTime": {
     "end_time": "2023-04-06T12:08:06.127304Z",
     "start_time": "2023-04-06T12:08:06.119729Z"
    }
   },
   "outputs": [
    {
     "data": {
      "text/plain": [
       "(array([0, 1, 2], dtype=int64), array([0, 1, 4], dtype=int64))"
      ]
     },
     "execution_count": 17,
     "metadata": {},
     "output_type": "execute_result"
    }
   ],
   "source": [
    "arr = np.array([1,2,0,0,4,0])\n",
    "np.where((arr == 1, arr == 2, arr == 4))"
   ]
  },
  {
   "cell_type": "code",
   "execution_count": 19,
   "id": "9cbed461",
   "metadata": {
    "ExecuteTime": {
     "end_time": "2023-04-06T12:28:22.546536Z",
     "start_time": "2023-04-06T12:28:22.533764Z"
    }
   },
   "outputs": [
    {
     "ename": "ValueError",
     "evalue": "The truth value of an array with more than one element is ambiguous. Use a.any() or a.all()",
     "output_type": "error",
     "traceback": [
      "\u001b[1;31m---------------------------------------------------------------------------\u001b[0m",
      "\u001b[1;31mValueError\u001b[0m                                Traceback (most recent call last)",
      "Cell \u001b[1;32mIn[19], line 1\u001b[0m\n\u001b[1;32m----> 1\u001b[0m np\u001b[38;5;241m.\u001b[39mwhere(\u001b[43marr\u001b[49m\u001b[43m \u001b[49m\u001b[38;5;129;43;01min\u001b[39;49;00m\u001b[43m \u001b[49m\u001b[43m[\u001b[49m\u001b[38;5;241;43m1\u001b[39;49m\u001b[43m,\u001b[49m\u001b[43m \u001b[49m\u001b[38;5;241;43m2\u001b[39;49m\u001b[43m,\u001b[49m\u001b[43m \u001b[49m\u001b[38;5;241;43m4\u001b[39;49m\u001b[43m]\u001b[49m)\n",
      "\u001b[1;31mValueError\u001b[0m: The truth value of an array with more than one element is ambiguous. Use a.any() or a.all()"
     ]
    }
   ],
   "source": [
    "np.where(arr in [1, 2, 4])"
   ]
  },
  {
   "cell_type": "code",
   "execution_count": 1,
   "id": "06a2ba96",
   "metadata": {
    "ExecuteTime": {
     "end_time": "2023-04-06T15:19:56.376334Z",
     "start_time": "2023-04-06T15:19:56.373333Z"
    }
   },
   "outputs": [],
   "source": [
    "import numpy as np"
   ]
  },
  {
   "cell_type": "code",
   "execution_count": 2,
   "id": "0dbe3cb2",
   "metadata": {
    "ExecuteTime": {
     "end_time": "2023-04-06T15:20:32.596409Z",
     "start_time": "2023-04-06T15:20:32.589340Z"
    }
   },
   "outputs": [
    {
     "data": {
      "text/plain": [
       "array([[[[ 0,  1],\n",
       "         [ 2,  3]],\n",
       "\n",
       "        [[ 4,  5],\n",
       "         [ 6,  7]],\n",
       "\n",
       "        [[ 8,  9],\n",
       "         [10, 11]],\n",
       "\n",
       "        [[12, 13],\n",
       "         [14, 15]],\n",
       "\n",
       "        [[16, 17],\n",
       "         [18, 19]]],\n",
       "\n",
       "\n",
       "       [[[20, 21],\n",
       "         [22, 23]],\n",
       "\n",
       "        [[24, 25],\n",
       "         [26, 27]],\n",
       "\n",
       "        [[28, 29],\n",
       "         [30, 31]],\n",
       "\n",
       "        [[32, 33],\n",
       "         [34, 35]],\n",
       "\n",
       "        [[36, 37],\n",
       "         [38, 39]]],\n",
       "\n",
       "\n",
       "       [[[40, 41],\n",
       "         [42, 43]],\n",
       "\n",
       "        [[44, 45],\n",
       "         [46, 47]],\n",
       "\n",
       "        [[48, 49],\n",
       "         [50, 51]],\n",
       "\n",
       "        [[52, 53],\n",
       "         [54, 55]],\n",
       "\n",
       "        [[56, 57],\n",
       "         [58, 59]]]])"
      ]
     },
     "execution_count": 2,
     "metadata": {},
     "output_type": "execute_result"
    }
   ],
   "source": [
    "np.arange(60).reshape(3,5,2,2)"
   ]
  },
  {
   "cell_type": "code",
   "execution_count": null,
   "id": "68bdfd48",
   "metadata": {},
   "outputs": [],
   "source": []
  }
 ],
 "metadata": {
  "kernelspec": {
   "display_name": "Python 3 (ipykernel)",
   "language": "python",
   "name": "python3"
  },
  "language_info": {
   "codemirror_mode": {
    "name": "ipython",
    "version": 3
   },
   "file_extension": ".py",
   "mimetype": "text/x-python",
   "name": "python",
   "nbconvert_exporter": "python",
   "pygments_lexer": "ipython3",
   "version": "3.10.9"
  },
  "toc": {
   "base_numbering": 1,
   "nav_menu": {},
   "number_sections": true,
   "sideBar": true,
   "skip_h1_title": false,
   "title_cell": "Table of Contents",
   "title_sidebar": "Contents",
   "toc_cell": false,
   "toc_position": {},
   "toc_section_display": true,
   "toc_window_display": false
  },
  "varInspector": {
   "cols": {
    "lenName": 16,
    "lenType": 16,
    "lenVar": 40
   },
   "kernels_config": {
    "python": {
     "delete_cmd_postfix": "",
     "delete_cmd_prefix": "del ",
     "library": "var_list.py",
     "varRefreshCmd": "print(var_dic_list())"
    },
    "r": {
     "delete_cmd_postfix": ") ",
     "delete_cmd_prefix": "rm(",
     "library": "var_list.r",
     "varRefreshCmd": "cat(var_dic_list()) "
    }
   },
   "types_to_exclude": [
    "module",
    "function",
    "builtin_function_or_method",
    "instance",
    "_Feature"
   ],
   "window_display": false
  }
 },
 "nbformat": 4,
 "nbformat_minor": 5
}
