{
 "cells": [
  {
   "cell_type": "code",
   "execution_count": 3,
   "id": "604e2bd8",
   "metadata": {
    "ExecuteTime": {
     "end_time": "2023-04-04T10:42:04.738940Z",
     "start_time": "2023-04-04T10:42:04.722752Z"
    }
   },
   "outputs": [],
   "source": [
    "import numpy as np"
   ]
  },
  {
   "cell_type": "markdown",
   "id": "244269d3",
   "metadata": {},
   "source": [
    "# np.flip()"
   ]
  },
  {
   "cell_type": "markdown",
   "id": "1ae14e03",
   "metadata": {},
   "source": [
    "arrayı tersten sıralama"
   ]
  },
  {
   "cell_type": "code",
   "execution_count": 16,
   "id": "e9f3ba22",
   "metadata": {
    "ExecuteTime": {
     "end_time": "2023-04-01T13:20:42.376748Z",
     "start_time": "2023-04-01T13:20:42.361319Z"
    }
   },
   "outputs": [],
   "source": [
    "arr = np.array([1, 2, 3, 4])"
   ]
  },
  {
   "cell_type": "code",
   "execution_count": 15,
   "id": "1de83cf8",
   "metadata": {
    "ExecuteTime": {
     "end_time": "2023-04-01T13:17:47.532068Z",
     "start_time": "2023-04-01T13:17:47.510554Z"
    }
   },
   "outputs": [
    {
     "data": {
      "text/plain": [
       "array([4, 3, 2, 1])"
      ]
     },
     "execution_count": 15,
     "metadata": {},
     "output_type": "execute_result"
    }
   ],
   "source": [
    "np.flip(arr)"
   ]
  },
  {
   "cell_type": "code",
   "execution_count": 5,
   "id": "40a68c67",
   "metadata": {
    "ExecuteTime": {
     "end_time": "2023-04-04T10:42:12.023168Z",
     "start_time": "2023-04-04T10:42:11.967480Z"
    }
   },
   "outputs": [
    {
     "data": {
      "text/plain": [
       "array([4, 3, 5, 6, 1])"
      ]
     },
     "execution_count": 5,
     "metadata": {},
     "output_type": "execute_result"
    }
   ],
   "source": [
    "a = np.array([4, 3, 5, 6, 1])\n",
    "a"
   ]
  },
  {
   "cell_type": "code",
   "execution_count": 6,
   "id": "7fa6f6e3",
   "metadata": {
    "ExecuteTime": {
     "end_time": "2023-04-04T10:42:19.354019Z",
     "start_time": "2023-04-04T10:42:19.336052Z"
    }
   },
   "outputs": [
    {
     "data": {
      "text/plain": [
       "array([1, 6, 5, 3, 4])"
      ]
     },
     "execution_count": 6,
     "metadata": {},
     "output_type": "execute_result"
    }
   ],
   "source": [
    "np.flip(a)"
   ]
  },
  {
   "cell_type": "markdown",
   "id": "b26b22f7",
   "metadata": {},
   "source": [
    "# np.flatten()"
   ]
  },
  {
   "cell_type": "markdown",
   "id": "2f247033",
   "metadata": {},
   "source": [
    "arrayı (-1) haline getirdi. yani bütün elemanları bir vektöre topladı"
   ]
  },
  {
   "cell_type": "code",
   "execution_count": 2,
   "id": "955c7fe4",
   "metadata": {
    "ExecuteTime": {
     "end_time": "2023-04-04T12:52:22.293124Z",
     "start_time": "2023-04-04T12:52:22.287186Z"
    }
   },
   "outputs": [
    {
     "data": {
      "text/plain": [
       "array([1, 2, 3, 4, 5, 6])"
      ]
     },
     "execution_count": 2,
     "metadata": {},
     "output_type": "execute_result"
    }
   ],
   "source": [
    "my_array = np.array([[1,2,3],\n",
    "                        [4,5,6]])\n",
    "my_array.flatten()\n"
   ]
  },
  {
   "cell_type": "code",
   "execution_count": 6,
   "id": "01efbef4",
   "metadata": {
    "ExecuteTime": {
     "end_time": "2023-04-04T12:53:11.224534Z",
     "start_time": "2023-04-04T12:53:11.207486Z"
    }
   },
   "outputs": [
    {
     "data": {
      "text/plain": [
       "array([1, 2, 3, 4, 5, 6])"
      ]
     },
     "execution_count": 6,
     "metadata": {},
     "output_type": "execute_result"
    }
   ],
   "source": [
    "my_array = np.array([[1,2,3], [4,5,6]]).reshape(-1)\n",
    "my_array"
   ]
  },
  {
   "cell_type": "markdown",
   "id": "c288644d",
   "metadata": {},
   "source": [
    "# np.transpose()"
   ]
  },
  {
   "cell_type": "markdown",
   "id": "71301174",
   "metadata": {},
   "source": [
    "array'in transpozunu verir"
   ]
  },
  {
   "cell_type": "code",
   "execution_count": 12,
   "id": "2930e8fb",
   "metadata": {
    "ExecuteTime": {
     "end_time": "2023-04-04T12:59:47.180050Z",
     "start_time": "2023-04-04T12:59:47.168636Z"
    }
   },
   "outputs": [
    {
     "name": "stdout",
     "output_type": "stream",
     "text": [
      "[[1 2 3]\n",
      " [4 5 6]]\n",
      "[[1 4]\n",
      " [2 5]\n",
      " [3 6]]\n"
     ]
    }
   ],
   "source": [
    "my_array = np.array([[1,2,3],\n",
    "                        [4,5,6]])\n",
    "print(my_array)\n",
    "print(np.transpose(my_array))"
   ]
  },
  {
   "cell_type": "markdown",
   "id": "c55afe53",
   "metadata": {},
   "source": [
    "# np.tile()"
   ]
  },
  {
   "cell_type": "markdown",
   "id": "63861d07",
   "metadata": {},
   "source": [
    "tile() fonksiyonu, iki parametre alır: ilki tekrarlanacak dizi veya matris, ikincisi ise tekrarlama sayısıdır. Tekrarlama sayısı, her boyuttaki tekrarlanma sayılarını belirlemek için bir demet (tuple) olarak da verilebilir."
   ]
  },
  {
   "cell_type": "code",
   "execution_count": 1,
   "id": "cd9741c8",
   "metadata": {
    "ExecuteTime": {
     "end_time": "2023-04-05T05:58:31.119738Z",
     "start_time": "2023-04-05T05:58:31.107116Z"
    }
   },
   "outputs": [
    {
     "name": "stdout",
     "output_type": "stream",
     "text": [
      "[1 2 3 1 2 3 1 2 3]\n"
     ]
    }
   ],
   "source": [
    "a = np.array([1, 2, 3])\n",
    "b = np.tile(a, 3)\n",
    "\n",
    "print(b)"
   ]
  },
  {
   "cell_type": "code",
   "execution_count": 2,
   "id": "b7379fa9",
   "metadata": {
    "ExecuteTime": {
     "end_time": "2023-04-05T05:58:46.251354Z",
     "start_time": "2023-04-05T05:58:46.243169Z"
    }
   },
   "outputs": [
    {
     "name": "stdout",
     "output_type": "stream",
     "text": [
      "[[1 2 1 2 1 2]\n",
      " [3 4 3 4 3 4]\n",
      " [1 2 1 2 1 2]\n",
      " [3 4 3 4 3 4]]\n"
     ]
    }
   ],
   "source": [
    "a = np.array([[1, 2], [3, 4]])\n",
    "b = np.tile(a, (2, 3))\n",
    "\n",
    "print(b)"
   ]
  },
  {
   "cell_type": "code",
   "execution_count": null,
   "id": "e12873ff",
   "metadata": {},
   "outputs": [],
   "source": []
  },
  {
   "cell_type": "code",
   "execution_count": null,
   "id": "d92dd602",
   "metadata": {},
   "outputs": [],
   "source": []
  }
 ],
 "metadata": {
  "kernelspec": {
   "display_name": "Python 3 (ipykernel)",
   "language": "python",
   "name": "python3"
  },
  "language_info": {
   "codemirror_mode": {
    "name": "ipython",
    "version": 3
   },
   "file_extension": ".py",
   "mimetype": "text/x-python",
   "name": "python",
   "nbconvert_exporter": "python",
   "pygments_lexer": "ipython3",
   "version": "3.10.9"
  },
  "toc": {
   "base_numbering": 1,
   "nav_menu": {},
   "number_sections": true,
   "sideBar": true,
   "skip_h1_title": false,
   "title_cell": "Table of Contents",
   "title_sidebar": "Contents",
   "toc_cell": false,
   "toc_position": {
    "height": "calc(100% - 180px)",
    "left": "10px",
    "top": "150px",
    "width": "383.977px"
   },
   "toc_section_display": true,
   "toc_window_display": true
  },
  "varInspector": {
   "cols": {
    "lenName": 16,
    "lenType": 16,
    "lenVar": 40
   },
   "kernels_config": {
    "python": {
     "delete_cmd_postfix": "",
     "delete_cmd_prefix": "del ",
     "library": "var_list.py",
     "varRefreshCmd": "print(var_dic_list())"
    },
    "r": {
     "delete_cmd_postfix": ") ",
     "delete_cmd_prefix": "rm(",
     "library": "var_list.r",
     "varRefreshCmd": "cat(var_dic_list()) "
    }
   },
   "types_to_exclude": [
    "module",
    "function",
    "builtin_function_or_method",
    "instance",
    "_Feature"
   ],
   "window_display": false
  }
 },
 "nbformat": 4,
 "nbformat_minor": 5
}
