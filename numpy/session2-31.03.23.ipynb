{
 "cells": [
  {
   "cell_type": "markdown",
   "metadata": {},
   "source": [
    "# Importing Libraries"
   ]
  },
  {
   "cell_type": "markdown",
   "metadata": {},
   "source": [
    "[vectors-matrices](https://www.mathsisfun.com/algebra/matrix-introduction.html)"
   ]
  },
  {
   "cell_type": "markdown",
   "metadata": {},
   "source": [
    "NumPy Python Standard Library içerisinde bulunan bir module değildir.\n",
    "\n",
    "NumPy module'unu import etmek için önce ; NumPy module'unu Python pip aracı ile install etmemiz gerekiyor.\n",
    "\n",
    "\"pip\" aracı bize Standard Library'de bulunmayan module'leri/package'leri dışarıdan install etmeyi sağlar."
   ]
  },
  {
   "cell_type": "code",
   "execution_count": 1,
   "metadata": {
    "ExecuteTime": {
     "end_time": "2023-03-31T17:51:00.113520Z",
     "start_time": "2023-03-31T17:50:54.631641Z"
    }
   },
   "outputs": [
    {
     "name": "stdout",
     "output_type": "stream",
     "text": [
      "Requirement already satisfied: numpy in c:\\users\\user\\anaconda3\\lib\\site-packages (1.21.5)\n",
      "Note: you may need to restart the kernel to use updated packages.\n"
     ]
    }
   ],
   "source": [
    "#pip install numpy"
   ]
  },
  {
   "cell_type": "code",
   "execution_count": 1,
   "metadata": {
    "ExecuteTime": {
     "end_time": "2023-03-31T17:51:00.345531Z",
     "start_time": "2023-03-31T17:51:00.118480Z"
    }
   },
   "outputs": [],
   "source": [
    "import numpy as np"
   ]
  },
  {
   "cell_type": "markdown",
   "metadata": {},
   "source": [
    "# Create Array Methods"
   ]
  },
  {
   "cell_type": "markdown",
   "metadata": {},
   "source": [
    "[numpy source 01](https://stackabuse.com/numpy-tutorial-a-simple-example-based-guide/),\n",
    "[numpy source 02](https://sparkbyexamples.com/numpy/ways-to-create-numpy-array/),\n",
    "[numpy source 03](https://www.freecodecamp.org/news/the-ultimate-guide-to-the-numpy-scientific-computing-library-for-python/)"
   ]
  },
  {
   "cell_type": "markdown",
   "metadata": {},
   "source": [
    "## From a Python List"
   ]
  },
  {
   "cell_type": "markdown",
   "metadata": {},
   "source": [
    "### resize"
   ]
  },
  {
   "cell_type": "markdown",
   "metadata": {},
   "source": [
    "resize(), ndarray nesnesinin boyutunu yeniden şekillendirmek için kullanılır. \n",
    "\n",
    "Bu yöntem, ndarray nesnesinin boyutunu değiştirir ve yeni boyutlara uygun olarak verileri değiştirir. \n",
    "\n",
    "Yani, ndarray nesnesinin boyutunu değiştirmek ve verilerini yeniden boyutlandırmak istediğinizde, resize yöntemini kullanabilirsiniz. \n",
    "\n",
    "Ancak, bu işlem, orijinal verilerin değiştirilmesine neden olabilir, bu nedenle dikkatli kullanılmalıdır.\n",
    "\n",
    "reshape'den farkı: reshape sadece verilen dizenin sınırlarına göre yeni array oluşturabilir"
   ]
  },
  {
   "cell_type": "code",
   "execution_count": 1,
   "metadata": {
    "ExecuteTime": {
     "end_time": "2023-04-01T11:52:10.596781Z",
     "start_time": "2023-04-01T11:52:10.585793Z"
    }
   },
   "outputs": [
    {
     "data": {
      "text/plain": [
       "array([[1, 2, 3],\n",
       "       [4, 5, 6]])"
      ]
     },
     "execution_count": 1,
     "metadata": {},
     "output_type": "execute_result"
    }
   ],
   "source": [
    "arr = np.array([[1, 2, 3], [4, 5, 6]])\n",
    "arr"
   ]
  },
  {
   "cell_type": "code",
   "execution_count": 3,
   "metadata": {},
   "outputs": [
    {
     "data": {
      "text/plain": [
       "array([[1, 2],\n",
       "       [3, 4],\n",
       "       [5, 6]])"
      ]
     },
     "execution_count": 3,
     "metadata": {},
     "output_type": "execute_result"
    }
   ],
   "source": [
    "np.resize(arr, (3, 2))"
   ]
  },
  {
   "cell_type": "code",
   "execution_count": 4,
   "metadata": {},
   "outputs": [
    {
     "data": {
      "text/plain": [
       "array([[1, 2, 3],\n",
       "       [4, 5, 6],\n",
       "       [1, 2, 3],\n",
       "       [4, 5, 6],\n",
       "       [1, 2, 3],\n",
       "       [4, 5, 6]])"
      ]
     },
     "execution_count": 4,
     "metadata": {},
     "output_type": "execute_result"
    }
   ],
   "source": [
    "np.resize(arr, (6, 3)) # arr 6 elemanlı olmasına rağmen 18 elemanlı bir array oluşturabildik"
   ]
  },
  {
   "cell_type": "code",
   "execution_count": 5,
   "metadata": {},
   "outputs": [
    {
     "data": {
      "text/plain": [
       "array([[1, 2, 3],\n",
       "       [4, 5, 6]])"
      ]
     },
     "execution_count": 5,
     "metadata": {},
     "output_type": "execute_result"
    }
   ],
   "source": [
    "arr"
   ]
  },
  {
   "cell_type": "code",
   "execution_count": 6,
   "metadata": {},
   "outputs": [
    {
     "data": {
      "text/plain": [
       "array([[1, 2],\n",
       "       [3, 4]])"
      ]
     },
     "execution_count": 6,
     "metadata": {},
     "output_type": "execute_result"
    }
   ],
   "source": [
    "np.resize(arr, (2, 2))"
   ]
  },
  {
   "cell_type": "code",
   "execution_count": null,
   "metadata": {},
   "outputs": [],
   "source": []
  },
  {
   "cell_type": "markdown",
   "metadata": {},
   "source": [
    "### fromiter"
   ]
  },
  {
   "cell_type": "markdown",
   "metadata": {},
   "source": [
    "fromiter(), bir array oluşturmak için bir iterator nesnesinden verileri alır.\n",
    "\n",
    "Verilerin bellekte tutulmasına gerek kalmadan, yineleyiciden elemanları tek tek çekerek NumPy dizisine dönüştürür. \n",
    "\n",
    "Bu özellikle büyük verilerle çalışırken bellek kullanımını azaltmak için yararlıdır."
   ]
  },
  {
   "cell_type": "code",
   "execution_count": 12,
   "metadata": {},
   "outputs": [
    {
     "data": {
      "text/plain": [
       "<generator object <genexpr> at 0x000001BEE2E88970>"
      ]
     },
     "execution_count": 12,
     "metadata": {},
     "output_type": "execute_result"
    }
   ],
   "source": [
    "my_iter = (i for i in range(5))\n",
    "my_iter"
   ]
  },
  {
   "cell_type": "code",
   "execution_count": 13,
   "metadata": {},
   "outputs": [
    {
     "data": {
      "text/plain": [
       "array([0, 1, 2, 3, 4])"
      ]
     },
     "execution_count": 13,
     "metadata": {},
     "output_type": "execute_result"
    }
   ],
   "source": [
    "np.fromiter(my_iter, int)"
   ]
  },
  {
   "cell_type": "markdown",
   "metadata": {},
   "source": [
    "## From Built-in Methods"
   ]
  },
  {
   "cell_type": "markdown",
   "metadata": {},
   "source": [
    "### arange\n",
    "\n",
    "Python’daki range() fonksiyonuna benzer. \n",
    "\n",
    "Belirtilen başlangıç değerinden başlayıp, her seferinde adım sayısı kadar arttırarak ,bitiş değerine kadar olan sayıları bulunduran bir numpy dizisi dödürür.\n",
    "\n",
    "Not: Bitiş değerinin diziye dahil edilmediğine dikkat edelim."
   ]
  },
  {
   "cell_type": "code",
   "execution_count": 14,
   "metadata": {},
   "outputs": [
    {
     "data": {
      "text/plain": [
       "array([0, 1, 2, 3, 4, 5, 6, 7, 8, 9])"
      ]
     },
     "execution_count": 14,
     "metadata": {},
     "output_type": "execute_result"
    }
   ],
   "source": [
    "np.arange(10)"
   ]
  },
  {
   "cell_type": "code",
   "execution_count": 15,
   "metadata": {},
   "outputs": [
    {
     "data": {
      "text/plain": [
       "array([[0, 1, 2, 3, 4],\n",
       "       [5, 6, 7, 8, 9]])"
      ]
     },
     "execution_count": 15,
     "metadata": {},
     "output_type": "execute_result"
    }
   ],
   "source": [
    "np.arange(10).reshape(2,5)"
   ]
  },
  {
   "cell_type": "code",
   "execution_count": 17,
   "metadata": {},
   "outputs": [
    {
     "data": {
      "text/plain": [
       "array([1, 3, 5, 7, 9])"
      ]
     },
     "execution_count": 17,
     "metadata": {},
     "output_type": "execute_result"
    }
   ],
   "source": [
    "np.arange(1, 10, 2)"
   ]
  },
  {
   "cell_type": "markdown",
   "metadata": {},
   "source": [
    "### linspace"
   ]
  },
  {
   "cell_type": "markdown",
   "metadata": {},
   "source": [
    "Verilen başlangıç ve bitiş değerleri arasında, belirtilen sayıda eşit aralıklı değerlerden oluşan bir numpy dizisi oluşturur.\n",
    "\n",
    "Bu fonksiyon, özellikle grafik çizme ve veri analizi gibi durumlarda yararlıdır.\n"
   ]
  },
  {
   "cell_type": "code",
   "execution_count": 39,
   "metadata": {},
   "outputs": [
    {
     "data": {
      "text/plain": [
       "array([ 0. ,  0.5,  1. ,  1.5,  2. ,  2.5,  3. ,  3.5,  4. ,  4.5,  5. ,\n",
       "        5.5,  6. ,  6.5,  7. ,  7.5,  8. ,  8.5,  9. ,  9.5, 10. , 10.5,\n",
       "       11. , 11.5, 12. , 12.5, 13. , 13.5, 14. , 14.5, 15. , 15.5, 16. ,\n",
       "       16.5, 17. , 17.5, 18. , 18.5, 19. , 19.5, 20. , 20.5, 21. , 21.5,\n",
       "       22. , 22.5, 23. , 23.5, 24. , 24.5])"
      ]
     },
     "execution_count": 39,
     "metadata": {},
     "output_type": "execute_result"
    }
   ],
   "source": [
    "np.linspace(0, 24.5) # default 50 olduğu için 50 adet sayı üretti"
   ]
  },
  {
   "cell_type": "code",
   "execution_count": 37,
   "metadata": {},
   "outputs": [
    {
     "data": {
      "text/plain": [
       "array([ 0.,  6., 12., 18., 24.])"
      ]
     },
     "execution_count": 37,
     "metadata": {},
     "output_type": "execute_result"
    }
   ],
   "source": [
    "np.linspace(0, 24, 5)"
   ]
  },
  {
   "cell_type": "code",
   "execution_count": 31,
   "metadata": {},
   "outputs": [
    {
     "data": {
      "text/plain": [
       "array([ 0,  6, 12, 18, 24])"
      ]
     },
     "execution_count": 31,
     "metadata": {},
     "output_type": "execute_result"
    }
   ],
   "source": [
    "np.linspace(0, 24.5, 5, dtype=int)"
   ]
  },
  {
   "cell_type": "code",
   "execution_count": 42,
   "metadata": {},
   "outputs": [
    {
     "data": {
      "text/plain": [
       "array([ 0,  5, 10, 15, 20])"
      ]
     },
     "execution_count": 42,
     "metadata": {},
     "output_type": "execute_result"
    }
   ],
   "source": [
    "np.linspace(0, 25, 5, dtype=int, endpoint=False) # son değeri almadı"
   ]
  },
  {
   "cell_type": "code",
   "execution_count": 43,
   "metadata": {},
   "outputs": [
    {
     "data": {
      "text/plain": [
       "(array([ 0,  6, 12, 18, 25]), 6.25)"
      ]
     },
     "execution_count": 43,
     "metadata": {},
     "output_type": "execute_result"
    }
   ],
   "source": [
    "np.linspace(0, 25, 5, dtype=int, retstep=True) # retstep ile adımın değerini gördük"
   ]
  },
  {
   "cell_type": "code",
   "execution_count": 52,
   "metadata": {},
   "outputs": [
    {
     "data": {
      "text/plain": [
       "array([[ 0. ,  2.5,  5. ,  7.5, 10. ],\n",
       "       [ 0. ,  5. , 10. , 15. , 20. ]])"
      ]
     },
     "execution_count": 52,
     "metadata": {},
     "output_type": "execute_result"
    }
   ],
   "source": [
    "np.linspace(0, [10, 20], 5, axis = 1 ) # 0'dan başla 10 ve 20'ye kadar iki ayrı satır şeklinde oluştur"
   ]
  },
  {
   "cell_type": "code",
   "execution_count": 48,
   "metadata": {},
   "outputs": [
    {
     "data": {
      "text/plain": [
       "array([[ 0. ,  0. ],\n",
       "       [ 2.5,  5. ],\n",
       "       [ 5. , 10. ],\n",
       "       [ 7.5, 15. ],\n",
       "       [10. , 20. ]])"
      ]
     },
     "execution_count": 48,
     "metadata": {},
     "output_type": "execute_result"
    }
   ],
   "source": [
    "np.linspace(0, [10, 20], 5, axis = 0 )"
   ]
  },
  {
   "cell_type": "code",
   "execution_count": 55,
   "metadata": {},
   "outputs": [
    {
     "data": {
      "text/plain": [
       "array([[ 0. ,  2.5,  5. ,  7.5, 10. ],\n",
       "       [ 0. ,  5. , 10. , 15. , 20. ],\n",
       "       [ 0. ,  7.5, 15. , 22.5, 30. ]])"
      ]
     },
     "execution_count": 55,
     "metadata": {},
     "output_type": "execute_result"
    }
   ],
   "source": [
    "np.linspace(0, [10, 20, 30], 5, axis = 1 )"
   ]
  },
  {
   "cell_type": "markdown",
   "metadata": {},
   "source": [
    "### logspace"
   ]
  },
  {
   "cell_type": "markdown",
   "metadata": {},
   "source": [
    "logspace() logaritmik aralıklarda bir dizi oluşturur. \n",
    "\n",
    "logspace() fonksiyonu, linspace() fonksiyonuna benzer şekilde çalışır, ancak aralıklar logaritmik olarak hesaplanır.\n",
    "\n",
    "Logspace : Başlangıç değeri 10a ,bitiş değeri değeri 10b olan n elemanlı ve elemanları arasındaki katları eşit olan bir dizi oluşturur.\n"
   ]
  },
  {
   "cell_type": "code",
   "execution_count": 56,
   "metadata": {
    "ExecuteTime": {
     "end_time": "2023-03-31T20:25:28.258192Z",
     "start_time": "2023-03-31T20:25:28.252048Z"
    }
   },
   "outputs": [
    {
     "data": {
      "text/plain": [
       "array([ 100.        ,  104.81131342,  109.8541142 ,  115.13953993,\n",
       "        120.67926406,  126.48552169,  132.57113656,  138.94954944,\n",
       "        145.63484775,  152.64179672,  159.98587196,  167.68329368,\n",
       "        175.75106249,  184.20699693,  193.06977289,  202.35896477,\n",
       "        212.09508879,  222.29964825,  232.99518105,  244.20530945,\n",
       "        255.95479227,  268.26957953,  281.1768698 ,  294.70517026,\n",
       "        308.88435965,  323.74575428,  339.32217719,  355.64803062,\n",
       "        372.75937203,  390.69399371,  409.49150624,  429.19342601,\n",
       "        449.8432669 ,  471.48663635,  494.17133613,  517.94746792,\n",
       "        542.86754393,  568.9866029 ,  596.36233166,  625.05519253,\n",
       "        655.12855686,  686.648845  ,  719.685673  ,  754.31200634,\n",
       "        790.60432109,  828.64277285,  868.51137375,  910.29817799,\n",
       "        954.09547635, 1000.        ])"
      ]
     },
     "execution_count": 56,
     "metadata": {},
     "output_type": "execute_result"
    }
   ],
   "source": [
    "np.logspace(2 ,3) # 10 üzeri 2 ile 10 üzeri 3 arasında default 50 adet sayı oluşturdu"
   ]
  },
  {
   "cell_type": "code",
   "execution_count": 57,
   "metadata": {
    "ExecuteTime": {
     "end_time": "2023-03-31T20:26:20.880167Z",
     "start_time": "2023-03-31T20:26:20.865219Z"
    },
    "scrolled": true
   },
   "outputs": [
    {
     "data": {
      "text/plain": [
       "array([ 100.        ,  177.827941  ,  316.22776602,  562.34132519,\n",
       "       1000.        ])"
      ]
     },
     "execution_count": 57,
     "metadata": {},
     "output_type": "execute_result"
    }
   ],
   "source": [
    "np.logspace(2 ,3, 5)"
   ]
  },
  {
   "cell_type": "code",
   "execution_count": 58,
   "metadata": {
    "ExecuteTime": {
     "end_time": "2023-03-31T20:26:41.057621Z",
     "start_time": "2023-03-31T20:26:41.040897Z"
    }
   },
   "outputs": [
    {
     "data": {
      "text/plain": [
       "array([4.        , 4.75682846, 5.65685425, 6.72717132, 8.        ])"
      ]
     },
     "execution_count": 58,
     "metadata": {},
     "output_type": "execute_result"
    }
   ],
   "source": [
    "np.logspace(2 ,3, 5, base=2) # 2 üzeri 2 ve 2 üzeri 3 arasında 5 adet sayı üretti"
   ]
  },
  {
   "cell_type": "markdown",
   "metadata": {},
   "source": [
    "### zeros\n",
    "Belirtilen satır ve sütuna sahip 0'lardan oluşan bir matris döndürür."
   ]
  },
  {
   "cell_type": "code",
   "execution_count": 63,
   "metadata": {
    "ExecuteTime": {
     "end_time": "2023-03-31T20:29:24.365770Z",
     "start_time": "2023-03-31T20:29:24.346150Z"
    }
   },
   "outputs": [
    {
     "data": {
      "text/plain": [
       "array([0., 0., 0., 0., 0.])"
      ]
     },
     "execution_count": 63,
     "metadata": {},
     "output_type": "execute_result"
    }
   ],
   "source": [
    "np.zeros(5)"
   ]
  },
  {
   "cell_type": "code",
   "execution_count": 62,
   "metadata": {
    "ExecuteTime": {
     "end_time": "2023-03-31T20:29:06.692528Z",
     "start_time": "2023-03-31T20:29:06.685400Z"
    }
   },
   "outputs": [
    {
     "data": {
      "text/plain": [
       "array([[0., 0., 0., 0., 0.],\n",
       "       [0., 0., 0., 0., 0.],\n",
       "       [0., 0., 0., 0., 0.],\n",
       "       [0., 0., 0., 0., 0.],\n",
       "       [0., 0., 0., 0., 0.]])"
      ]
     },
     "execution_count": 62,
     "metadata": {},
     "output_type": "execute_result"
    }
   ],
   "source": [
    "np.zeros((5, 5))"
   ]
  },
  {
   "cell_type": "code",
   "execution_count": 65,
   "metadata": {
    "ExecuteTime": {
     "end_time": "2023-03-31T20:32:11.736272Z",
     "start_time": "2023-03-31T20:32:11.732285Z"
    }
   },
   "outputs": [
    {
     "data": {
      "text/plain": [
       "array([[False, False],\n",
       "       [False, False]])"
      ]
     },
     "execution_count": 65,
     "metadata": {},
     "output_type": "execute_result"
    }
   ],
   "source": [
    "np.zeros((2, 2), dtype=bool)"
   ]
  },
  {
   "cell_type": "code",
   "execution_count": 68,
   "metadata": {
    "ExecuteTime": {
     "end_time": "2023-03-31T20:32:41.273904Z",
     "start_time": "2023-03-31T20:32:41.270172Z"
    }
   },
   "outputs": [
    {
     "data": {
      "text/plain": [
       "array([[ 0,  1,  2],\n",
       "       [ 3,  4,  5],\n",
       "       [ 6,  7,  8],\n",
       "       [ 9, 10, 11]])"
      ]
     },
     "execution_count": 68,
     "metadata": {},
     "output_type": "execute_result"
    }
   ],
   "source": [
    "arr = np.arange(12).reshape(4, 3)\n",
    "arr"
   ]
  },
  {
   "cell_type": "code",
   "execution_count": 69,
   "metadata": {
    "ExecuteTime": {
     "end_time": "2023-03-31T20:33:07.569408Z",
     "start_time": "2023-03-31T20:33:07.565343Z"
    }
   },
   "outputs": [
    {
     "data": {
      "text/plain": [
       "array([[0, 0, 0],\n",
       "       [0, 0, 0],\n",
       "       [0, 0, 0],\n",
       "       [0, 0, 0]])"
      ]
     },
     "execution_count": 69,
     "metadata": {},
     "output_type": "execute_result"
    }
   ],
   "source": [
    "np.zeros_like(arr) #verilen arrayin bütün elemanlarını 0 a çevirir"
   ]
  },
  {
   "cell_type": "markdown",
   "metadata": {},
   "source": [
    "### ones\n",
    "Belirtilen satır ve sütuna sahip 1'lerdan oluşan bir matris döndürür."
   ]
  },
  {
   "cell_type": "code",
   "execution_count": 70,
   "metadata": {
    "ExecuteTime": {
     "end_time": "2023-03-31T20:34:01.610869Z",
     "start_time": "2023-03-31T20:34:01.606199Z"
    }
   },
   "outputs": [
    {
     "data": {
      "text/plain": [
       "array([[1., 1., 1., 1., 1.],\n",
       "       [1., 1., 1., 1., 1.],\n",
       "       [1., 1., 1., 1., 1.]])"
      ]
     },
     "execution_count": 70,
     "metadata": {},
     "output_type": "execute_result"
    }
   ],
   "source": [
    "np.ones((3, 5))"
   ]
  },
  {
   "cell_type": "code",
   "execution_count": 73,
   "metadata": {
    "ExecuteTime": {
     "end_time": "2023-03-31T20:36:10.768864Z",
     "start_time": "2023-03-31T20:36:10.765560Z"
    }
   },
   "outputs": [
    {
     "data": {
      "text/plain": [
       "array([[1, 1, 1, 1, 1],\n",
       "       [1, 1, 1, 1, 1],\n",
       "       [1, 1, 1, 1, 1]])"
      ]
     },
     "execution_count": 73,
     "metadata": {},
     "output_type": "execute_result"
    }
   ],
   "source": [
    "np.ones((3, 5), dtype=int)"
   ]
  },
  {
   "cell_type": "code",
   "execution_count": 76,
   "metadata": {
    "ExecuteTime": {
     "end_time": "2023-03-31T20:37:41.338199Z",
     "start_time": "2023-03-31T20:37:41.335000Z"
    }
   },
   "outputs": [
    {
     "data": {
      "text/plain": [
       "array([[55., 55., 55., 55., 55.],\n",
       "       [55., 55., 55., 55., 55.],\n",
       "       [55., 55., 55., 55., 55.]])"
      ]
     },
     "execution_count": 76,
     "metadata": {},
     "output_type": "execute_result"
    }
   ],
   "source": [
    "np.ones((3, 5)) * 55 # bütün elemanları 55 ile çarptı"
   ]
  },
  {
   "cell_type": "code",
   "execution_count": 78,
   "metadata": {
    "ExecuteTime": {
     "end_time": "2023-03-31T20:37:57.987939Z",
     "start_time": "2023-03-31T20:37:57.982911Z"
    }
   },
   "outputs": [
    {
     "data": {
      "text/plain": [
       "array([[0.5, 0.5, 0.5, 0.5, 0.5],\n",
       "       [0.5, 0.5, 0.5, 0.5, 0.5],\n",
       "       [0.5, 0.5, 0.5, 0.5, 0.5]])"
      ]
     },
     "execution_count": 78,
     "metadata": {},
     "output_type": "execute_result"
    }
   ],
   "source": [
    "np.ones((3, 5)) - 0.5 #bütün elemanlardan 0.5 çıkardı"
   ]
  },
  {
   "cell_type": "code",
   "execution_count": 80,
   "metadata": {
    "ExecuteTime": {
     "end_time": "2023-03-31T20:38:34.427849Z",
     "start_time": "2023-03-31T20:38:34.423746Z"
    }
   },
   "outputs": [
    {
     "data": {
      "text/plain": [
       "array([[1, 1, 1],\n",
       "       [1, 1, 1],\n",
       "       [1, 1, 1],\n",
       "       [1, 1, 1]])"
      ]
     },
     "execution_count": 80,
     "metadata": {},
     "output_type": "execute_result"
    }
   ],
   "source": [
    "np.ones_like(arr) #verilen array in bütün elemanlarını 1 e çevirdi"
   ]
  },
  {
   "cell_type": "markdown",
   "metadata": {},
   "source": [
    "### eye\n",
    "Belirlenen boyutlarda birim matris oluşturmamızı sağlayan fonksiyon."
   ]
  },
  {
   "cell_type": "code",
   "execution_count": 84,
   "metadata": {
    "ExecuteTime": {
     "end_time": "2023-03-31T20:39:10.737059Z",
     "start_time": "2023-03-31T20:39:10.732511Z"
    }
   },
   "outputs": [
    {
     "data": {
      "text/plain": [
       "array([[1., 0., 0.],\n",
       "       [0., 1., 0.],\n",
       "       [0., 0., 1.]])"
      ]
     },
     "execution_count": 84,
     "metadata": {},
     "output_type": "execute_result"
    }
   ],
   "source": [
    "np.eye(3, 3) # diagonelleri 1 olacak şekilde array oluşturdu"
   ]
  },
  {
   "cell_type": "code",
   "execution_count": 91,
   "metadata": {
    "ExecuteTime": {
     "end_time": "2023-03-31T20:41:44.842763Z",
     "start_time": "2023-03-31T20:41:44.838472Z"
    }
   },
   "outputs": [
    {
     "data": {
      "text/plain": [
       "array([[0., 1., 0.],\n",
       "       [0., 0., 1.],\n",
       "       [0., 0., 0.]])"
      ]
     },
     "execution_count": 91,
     "metadata": {},
     "output_type": "execute_result"
    }
   ],
   "source": [
    "np.eye(3, 3 , k = 1)"
   ]
  },
  {
   "cell_type": "markdown",
   "metadata": {},
   "source": [
    "### full\n",
    "Sabit sayıdan oluşan matris oluşturur"
   ]
  },
  {
   "cell_type": "code",
   "execution_count": 93,
   "metadata": {
    "ExecuteTime": {
     "end_time": "2023-03-31T20:42:13.993310Z",
     "start_time": "2023-03-31T20:42:13.988777Z"
    }
   },
   "outputs": [
    {
     "data": {
      "text/plain": [
       "array([[5, 5, 5],\n",
       "       [5, 5, 5],\n",
       "       [5, 5, 5]])"
      ]
     },
     "execution_count": 93,
     "metadata": {},
     "output_type": "execute_result"
    }
   ],
   "source": [
    "np.full((3, 3), 5) # tüm elemanları istediğimiz sayı olan array oluşturur"
   ]
  },
  {
   "cell_type": "code",
   "execution_count": 95,
   "metadata": {
    "ExecuteTime": {
     "end_time": "2023-03-31T20:43:50.921817Z",
     "start_time": "2023-03-31T20:43:50.918242Z"
    }
   },
   "outputs": [
    {
     "data": {
      "text/plain": [
       "array([[-2, -2, -2],\n",
       "       [-2, -2, -2],\n",
       "       [-2, -2, -2],\n",
       "       [-2, -2, -2]])"
      ]
     },
     "execution_count": 95,
     "metadata": {},
     "output_type": "execute_result"
    }
   ],
   "source": [
    "np.full_like(arr, -2)"
   ]
  },
  {
   "cell_type": "markdown",
   "metadata": {},
   "source": [
    "# Various Built-in Methods"
   ]
  },
  {
   "cell_type": "markdown",
   "metadata": {},
   "source": [
    "## rand"
   ]
  },
  {
   "cell_type": "markdown",
   "metadata": {},
   "source": [
    "random.rand(), 0-1 aralığında random float sayılar üretir."
   ]
  },
  {
   "cell_type": "code",
   "execution_count": 97,
   "metadata": {
    "ExecuteTime": {
     "end_time": "2023-03-31T20:47:55.331541Z",
     "start_time": "2023-03-31T20:47:55.326789Z"
    }
   },
   "outputs": [
    {
     "data": {
      "text/plain": [
       "array([[0.89986704, 0.20682122, 0.31665925],\n",
       "       [0.19174532, 0.66600966, 0.83158549],\n",
       "       [0.4992682 , 0.99475423, 0.02869038]])"
      ]
     },
     "execution_count": 97,
     "metadata": {},
     "output_type": "execute_result"
    }
   ],
   "source": [
    "np.random.rand(3, 3) # 0 ile 1 arasında değerler üretti"
   ]
  },
  {
   "cell_type": "code",
   "execution_count": 98,
   "metadata": {
    "ExecuteTime": {
     "end_time": "2023-03-31T20:48:16.334419Z",
     "start_time": "2023-03-31T20:48:15.127108Z"
    }
   },
   "outputs": [],
   "source": [
    "import matplotlib.pyplot as plt"
   ]
  },
  {
   "cell_type": "code",
   "execution_count": 99,
   "metadata": {
    "ExecuteTime": {
     "end_time": "2023-03-31T20:49:29.993206Z",
     "start_time": "2023-03-31T20:49:29.824109Z"
    }
   },
   "outputs": [
    {
     "data": {
      "text/plain": [
       "(array([2440., 2495., 2595., 2523., 2503., 2512., 2402., 2529., 2491.,\n",
       "        2486., 2472., 2546., 2529., 2500., 2562., 2476., 2481., 2462.,\n",
       "        2526., 2470.]),\n",
       " array([9.16031335e-06, 5.00080565e-02, 1.00006953e-01, 1.50005849e-01,\n",
       "        2.00004745e-01, 2.50003641e-01, 3.00002537e-01, 3.50001433e-01,\n",
       "        4.00000330e-01, 4.49999226e-01, 4.99998122e-01, 5.49997018e-01,\n",
       "        5.99995914e-01, 6.49994810e-01, 6.99993707e-01, 7.49992603e-01,\n",
       "        7.99991499e-01, 8.49990395e-01, 8.99989291e-01, 9.49988187e-01,\n",
       "        9.99987084e-01]),\n",
       " <BarContainer object of 20 artists>)"
      ]
     },
     "execution_count": 99,
     "metadata": {},
     "output_type": "execute_result"
    },
    {
     "data": {
      "image/png": "[encoded data removed]",
      "text/plain": [
       "<Figure size 640x480 with 1 Axes>"
      ]
     },
     "metadata": {},
     "output_type": "display_data"
    }
   ],
   "source": [
    "plt.hist(np.random.rand(50000), bins=20)"
   ]
  },
  {
   "cell_type": "markdown",
   "metadata": {},
   "source": [
    "## randn"
   ]
  },
  {
   "cell_type": "markdown",
   "metadata": {},
   "source": [
    "random.randn(), ortalama değeri 0 ve standart sapması 1 olan normal dağılıma sahip rastgele sayılar üretmek için kullanılır. \n",
    "\n",
    "Fonksiyon, normal dağılımdan rastgele sayılar üretir ve bu sayıları NumPy dizisi olarak döndürür."
   ]
  },
  {
   "cell_type": "code",
   "execution_count": 100,
   "metadata": {
    "ExecuteTime": {
     "end_time": "2023-03-31T20:51:50.152409Z",
     "start_time": "2023-03-31T20:51:50.139205Z"
    }
   },
   "outputs": [
    {
     "data": {
      "text/plain": [
       "array([[-0.96161918,  0.55674158,  0.42679085],\n",
       "       [ 0.33299968, -1.00268065, -0.11084198],\n",
       "       [ 0.47648474, -0.03022534, -0.50090866]])"
      ]
     },
     "execution_count": 100,
     "metadata": {},
     "output_type": "execute_result"
    }
   ],
   "source": [
    "np.random.randn(3, 3) "
   ]
  },
  {
   "cell_type": "code",
   "execution_count": 105,
   "metadata": {
    "ExecuteTime": {
     "end_time": "2023-03-31T20:53:22.752211Z",
     "start_time": "2023-03-31T20:53:22.630388Z"
    }
   },
   "outputs": [
    {
     "data": {
      "text/plain": [
       "(array([ 1.,  2.,  1.,  1.,  1.,  3.,  1.,  7.,  2.,  6.,  3.,  8.,  7.,\n",
       "        12., 12.,  7., 11., 21., 14., 23., 15., 18., 27., 22., 24., 25.,\n",
       "        32., 24., 25., 16., 16., 15., 11., 17.,  8.,  9., 10.,  7., 10.,\n",
       "         7.,  3.,  3.,  3.,  3.,  1.,  1.,  2.,  1.,  0.,  2.]),\n",
       " array([-2.83226012, -2.71734936, -2.6024386 , -2.48752784, -2.37261709,\n",
       "        -2.25770633, -2.14279557, -2.02788481, -1.91297405, -1.79806329,\n",
       "        -1.68315253, -1.56824177, -1.45333101, -1.33842025, -1.22350949,\n",
       "        -1.10859873, -0.99368797, -0.87877721, -0.76386645, -0.64895569,\n",
       "        -0.53404493, -0.41913417, -0.30422341, -0.18931266, -0.0744019 ,\n",
       "         0.04050886,  0.15541962,  0.27033038,  0.38524114,  0.5001519 ,\n",
       "         0.61506266,  0.72997342,  0.84488418,  0.95979494,  1.0747057 ,\n",
       "         1.18961646,  1.30452722,  1.41943798,  1.53434874,  1.6492595 ,\n",
       "         1.76417026,  1.87908101,  1.99399177,  2.10890253,  2.22381329,\n",
       "         2.33872405,  2.45363481,  2.56854557,  2.68345633,  2.79836709,\n",
       "         2.91327785]),\n",
       " <BarContainer object of 50 artists>)"
      ]
     },
     "execution_count": 105,
     "metadata": {},
     "output_type": "execute_result"
    },
    {
     "data": {
      "image/png": "[encoded data removed]",
      "text/plain": [
       "<Figure size 640x480 with 1 Axes>"
      ]
     },
     "metadata": {},
     "output_type": "display_data"
    }
   ],
   "source": [
    "plt.hist(np.random.randn(500), bins=50)"
   ]
  },
  {
   "cell_type": "markdown",
   "metadata": {},
   "source": [
    "## randint"
   ]
  },
  {
   "cell_type": "markdown",
   "metadata": {},
   "source": [
    "random.randint(), 0-100 aralığında integer değerler üretir\n",
    "\n",
    "Bitiş(100) dahil değil"
   ]
  },
  {
   "cell_type": "code",
   "execution_count": 1,
   "metadata": {
    "ExecuteTime": {
     "end_time": "2023-04-02T20:05:56.962351Z",
     "start_time": "2023-04-02T20:05:56.919066Z"
    }
   },
   "outputs": [
    {
     "data": {
      "text/plain": [
       "6"
      ]
     },
     "execution_count": 1,
     "metadata": {},
     "output_type": "execute_result"
    }
   ],
   "source": [
    "np.random.randint(10) # 0 ile 10 arasında bir sayı üretti"
   ]
  },
  {
   "cell_type": "code",
   "execution_count": 108,
   "metadata": {
    "ExecuteTime": {
     "end_time": "2023-03-31T20:54:39.315409Z",
     "start_time": "2023-03-31T20:54:39.311891Z"
    }
   },
   "outputs": [
    {
     "data": {
      "text/plain": [
       "74"
      ]
     },
     "execution_count": 108,
     "metadata": {},
     "output_type": "execute_result"
    }
   ],
   "source": [
    "np.random.randint(1, 100)"
   ]
  },
  {
   "cell_type": "code",
   "execution_count": 111,
   "metadata": {
    "ExecuteTime": {
     "end_time": "2023-03-31T20:57:01.797075Z",
     "start_time": "2023-03-31T20:57:01.792546Z"
    }
   },
   "outputs": [
    {
     "data": {
      "text/plain": [
       "array([20, 46,  2])"
      ]
     },
     "execution_count": 111,
     "metadata": {},
     "output_type": "execute_result"
    }
   ],
   "source": [
    "np.random.randint(1, 100, size= 3)"
   ]
  },
  {
   "cell_type": "code",
   "execution_count": 112,
   "metadata": {
    "ExecuteTime": {
     "end_time": "2023-03-31T20:57:13.212072Z",
     "start_time": "2023-03-31T20:57:13.208549Z"
    }
   },
   "outputs": [
    {
     "data": {
      "text/plain": [
       "array([[96, 61, 84],\n",
       "       [64, 19, 13]])"
      ]
     },
     "execution_count": 112,
     "metadata": {},
     "output_type": "execute_result"
    }
   ],
   "source": [
    "np.random.randint(1, 100, size= (2, 3))"
   ]
  },
  {
   "cell_type": "markdown",
   "metadata": {},
   "source": [
    "## max & argmax & min & argmin"
   ]
  },
  {
   "cell_type": "markdown",
   "metadata": {},
   "source": [
    "min(), bir dizinin içindeki en küçük değeri döndürür\n",
    "\n",
    "max(), bir dizinin içindeki en büyük değeri döndürür\n",
    "\n",
    "argmin(), bir dizinin içindeki en küçük değerin indeksini döndürür\n",
    "\n",
    "argmax(), bir dizinin içindeki en büyük değerin indeksini döndürür"
   ]
  },
  {
   "cell_type": "code",
   "execution_count": 114,
   "metadata": {
    "ExecuteTime": {
     "end_time": "2023-03-31T20:59:59.644236Z",
     "start_time": "2023-03-31T20:59:59.639241Z"
    }
   },
   "outputs": [
    {
     "data": {
      "text/plain": [
       "array([ 7,  3, 37, 12,  4, 33,  8, 44, 31, 40])"
      ]
     },
     "execution_count": 114,
     "metadata": {},
     "output_type": "execute_result"
    }
   ],
   "source": [
    "myarr = np.random.randint(0, 50, 10)\n",
    "myarr"
   ]
  },
  {
   "cell_type": "code",
   "execution_count": 115,
   "metadata": {
    "ExecuteTime": {
     "end_time": "2023-03-31T21:00:16.826981Z",
     "start_time": "2023-03-31T21:00:16.823573Z"
    }
   },
   "outputs": [
    {
     "data": {
      "text/plain": [
       "44"
      ]
     },
     "execution_count": 115,
     "metadata": {},
     "output_type": "execute_result"
    }
   ],
   "source": [
    "myarr.max()"
   ]
  },
  {
   "cell_type": "code",
   "execution_count": 116,
   "metadata": {
    "ExecuteTime": {
     "end_time": "2023-03-31T21:00:36.401771Z",
     "start_time": "2023-03-31T21:00:36.398698Z"
    }
   },
   "outputs": [
    {
     "data": {
      "text/plain": [
       "7"
      ]
     },
     "execution_count": 116,
     "metadata": {},
     "output_type": "execute_result"
    }
   ],
   "source": [
    "myarr.argmax() # max elemanın indexini verir"
   ]
  },
  {
   "cell_type": "code",
   "execution_count": 120,
   "metadata": {
    "ExecuteTime": {
     "end_time": "2023-03-31T21:02:26.754584Z",
     "start_time": "2023-03-31T21:02:26.751106Z"
    }
   },
   "outputs": [
    {
     "data": {
      "text/plain": [
       "1"
      ]
     },
     "execution_count": 120,
     "metadata": {},
     "output_type": "execute_result"
    }
   ],
   "source": [
    "myarr.argmin()"
   ]
  },
  {
   "cell_type": "code",
   "execution_count": 129,
   "metadata": {
    "ExecuteTime": {
     "end_time": "2023-03-31T21:04:18.171390Z",
     "start_time": "2023-03-31T21:04:18.165985Z"
    }
   },
   "outputs": [
    {
     "name": "stdout",
     "output_type": "stream",
     "text": [
      "[[40 39  5 28 41]\n",
      " [28 11 19 21 29]]\n",
      "41\n"
     ]
    },
    {
     "data": {
      "text/plain": [
       "4"
      ]
     },
     "execution_count": 129,
     "metadata": {},
     "output_type": "execute_result"
    }
   ],
   "source": [
    "a = np.random.randint(0, 50, size = (2, 5))\n",
    "print(a)\n",
    "print(a.max())\n",
    "a.argmax()"
   ]
  },
  {
   "cell_type": "markdown",
   "metadata": {
    "ExecuteTime": {
     "end_time": "2023-03-30T01:25:39.211356Z",
     "start_time": "2023-03-30T01:25:39.197336Z"
    }
   },
   "source": [
    "## ndim"
   ]
  },
  {
   "cell_type": "markdown",
   "metadata": {},
   "source": [
    "array in kaç boyutlu olduğunu söyler"
   ]
  },
  {
   "cell_type": "code",
   "execution_count": 122,
   "metadata": {
    "ExecuteTime": {
     "end_time": "2023-03-31T21:02:41.770801Z",
     "start_time": "2023-03-31T21:02:41.767213Z"
    }
   },
   "outputs": [
    {
     "data": {
      "text/plain": [
       "array([[ 0,  1,  2],\n",
       "       [ 3,  4,  5],\n",
       "       [ 6,  7,  8],\n",
       "       [ 9, 10, 11]])"
      ]
     },
     "execution_count": 122,
     "metadata": {},
     "output_type": "execute_result"
    }
   ],
   "source": [
    "arr"
   ]
  },
  {
   "cell_type": "code",
   "execution_count": 123,
   "metadata": {
    "ExecuteTime": {
     "end_time": "2023-03-31T21:02:46.827790Z",
     "start_time": "2023-03-31T21:02:46.822858Z"
    }
   },
   "outputs": [
    {
     "data": {
      "text/plain": [
       "2"
      ]
     },
     "execution_count": 123,
     "metadata": {},
     "output_type": "execute_result"
    }
   ],
   "source": [
    "arr.ndim"
   ]
  },
  {
   "cell_type": "code",
   "execution_count": 124,
   "metadata": {
    "ExecuteTime": {
     "end_time": "2023-03-31T21:03:35.884770Z",
     "start_time": "2023-03-31T21:03:35.880230Z"
    }
   },
   "outputs": [
    {
     "data": {
      "text/plain": [
       "1"
      ]
     },
     "execution_count": 124,
     "metadata": {},
     "output_type": "execute_result"
    }
   ],
   "source": [
    "myarr.ndim"
   ]
  },
  {
   "cell_type": "markdown",
   "metadata": {},
   "source": [
    "## size\n",
    "Bir dizideki toplam eleman sayısı\n",
    "\n",
    "2x3'lük bir matris için size=6"
   ]
  },
  {
   "cell_type": "code",
   "execution_count": 131,
   "metadata": {
    "ExecuteTime": {
     "end_time": "2023-03-31T21:04:44.851431Z",
     "start_time": "2023-03-31T21:04:44.846770Z"
    }
   },
   "outputs": [
    {
     "data": {
      "text/plain": [
       "12"
      ]
     },
     "execution_count": 131,
     "metadata": {},
     "output_type": "execute_result"
    }
   ],
   "source": [
    "arr.size"
   ]
  },
  {
   "cell_type": "code",
   "execution_count": 132,
   "metadata": {
    "ExecuteTime": {
     "end_time": "2023-03-31T21:04:53.444178Z",
     "start_time": "2023-03-31T21:04:53.439600Z"
    }
   },
   "outputs": [
    {
     "data": {
      "text/plain": [
       "10"
      ]
     },
     "execution_count": 132,
     "metadata": {},
     "output_type": "execute_result"
    }
   ],
   "source": [
    "myarr.size"
   ]
  },
  {
   "cell_type": "code",
   "execution_count": 133,
   "metadata": {
    "ExecuteTime": {
     "end_time": "2023-03-31T21:06:39.098855Z",
     "start_time": "2023-03-31T21:06:39.095334Z"
    }
   },
   "outputs": [
    {
     "data": {
      "text/plain": [
       "(4, 3)"
      ]
     },
     "execution_count": 133,
     "metadata": {},
     "output_type": "execute_result"
    }
   ],
   "source": [
    "arr.shape"
   ]
  },
  {
   "cell_type": "code",
   "execution_count": 136,
   "metadata": {
    "ExecuteTime": {
     "end_time": "2023-03-31T21:06:52.674681Z",
     "start_time": "2023-03-31T21:06:52.671442Z"
    }
   },
   "outputs": [
    {
     "data": {
      "text/plain": [
       "4"
      ]
     },
     "execution_count": 136,
     "metadata": {},
     "output_type": "execute_result"
    }
   ],
   "source": [
    "len(arr)"
   ]
  },
  {
   "cell_type": "code",
   "execution_count": null,
   "metadata": {},
   "outputs": [],
   "source": []
  },
  {
   "cell_type": "code",
   "execution_count": null,
   "metadata": {},
   "outputs": [],
   "source": []
  },
  {
   "cell_type": "markdown",
   "metadata": {},
   "source": [
    "## itemsize"
   ]
  },
  {
   "cell_type": "markdown",
   "metadata": {},
   "source": [
    "itemsize(), NumPy dizisinin her bir elemanının bellekte kaç byte kapladığını gösterir. \n",
    "\n",
    "Bu özellik, NumPy dizisinin veri tipine (dtype) bağlıdır ve bu veri tipinin boyutuna göre değişir.\n",
    "\n",
    "itemsize(), bir NumPy dizisinin bellekte kapladığı toplam alanı hesaplamak için de kullanılabilir. Bu hesaplama, dizinin eleman sayısının itemsize() ile çarpımı ile yapılabilir.\n",
    "\n",
    "float32 tipi 32 bit (4 byte) bellek kullanır ve yaklaşık 7 basamak hassasiyetle ondalık sayıları temsil edebilir. \n",
    "\n",
    "32 bitlik bir sayı, 2^32 farklı sayıyı ifade edebilir.\n",
    "\n",
    "float64 tipi ise 64 bit (8 byte) bellek kullanır ve yaklaşık 15-16 basamak hassasiyetle ondalık sayıları temsil edebilir\n",
    "\n",
    "64 bitlik bir sayı, 2^64 farklı sayıyı ifade edebilir."
   ]
  },
  {
   "cell_type": "code",
   "execution_count": 137,
   "metadata": {
    "ExecuteTime": {
     "end_time": "2023-03-31T21:11:17.626890Z",
     "start_time": "2023-03-31T21:11:17.623851Z"
    }
   },
   "outputs": [
    {
     "data": {
      "text/plain": [
       "dtype('int32')"
      ]
     },
     "execution_count": 137,
     "metadata": {},
     "output_type": "execute_result"
    }
   ],
   "source": [
    "arr.dtype"
   ]
  },
  {
   "cell_type": "code",
   "execution_count": 139,
   "metadata": {
    "ExecuteTime": {
     "end_time": "2023-03-31T21:12:08.581187Z",
     "start_time": "2023-03-31T21:12:08.578019Z"
    }
   },
   "outputs": [
    {
     "data": {
      "text/plain": [
       "4"
      ]
     },
     "execution_count": 139,
     "metadata": {},
     "output_type": "execute_result"
    }
   ],
   "source": [
    "arr.itemsize # 1 elemanın ne kadar yer kağladığı"
   ]
  },
  {
   "cell_type": "code",
   "execution_count": 140,
   "metadata": {
    "ExecuteTime": {
     "end_time": "2023-03-31T21:12:34.179279Z",
     "start_time": "2023-03-31T21:12:34.175434Z"
    }
   },
   "outputs": [
    {
     "data": {
      "text/plain": [
       "48"
      ]
     },
     "execution_count": 140,
     "metadata": {},
     "output_type": "execute_result"
    }
   ],
   "source": [
    "arr.itemsize * arr.size # bütün arrayin ne kadar kapladığını hesapladık"
   ]
  },
  {
   "cell_type": "code",
   "execution_count": null,
   "metadata": {},
   "outputs": [],
   "source": []
  },
  {
   "cell_type": "code",
   "execution_count": null,
   "metadata": {},
   "outputs": [],
   "source": []
  },
  {
   "cell_type": "code",
   "execution_count": null,
   "metadata": {},
   "outputs": [],
   "source": []
  },
  {
   "cell_type": "markdown",
   "metadata": {},
   "source": [
    "## copy"
   ]
  },
  {
   "cell_type": "markdown",
   "metadata": {},
   "source": [
    "copy(), Numpy dizilerinde bir kopya oluşturmak için kullanılır. \n",
    "\n",
    "Bu fonksiyon, orijinal dizinin aynısını oluşturur ancak bu kopya bağımsızdır. Yani, kopya dizisi üzerinde yapılan herhangi bir değişiklik, orijinal diziyi etkilemez ve orijinal dizi üzerinde yapılan değişiklikler de kopya dizisini etkilemez."
   ]
  },
  {
   "cell_type": "code",
   "execution_count": 142,
   "metadata": {
    "ExecuteTime": {
     "end_time": "2023-03-31T21:15:22.099067Z",
     "start_time": "2023-03-31T21:15:22.095993Z"
    }
   },
   "outputs": [
    {
     "data": {
      "text/plain": [
       "array([[ 0,  1,  2],\n",
       "       [ 3,  4,  5],\n",
       "       [ 6,  7,  8],\n",
       "       [ 9, 10, 11]])"
      ]
     },
     "execution_count": 142,
     "metadata": {},
     "output_type": "execute_result"
    }
   ],
   "source": [
    "x = arr.copy()\n",
    "x"
   ]
  },
  {
   "cell_type": "code",
   "execution_count": 144,
   "metadata": {
    "ExecuteTime": {
     "end_time": "2023-03-31T21:15:42.834773Z",
     "start_time": "2023-03-31T21:15:42.830555Z"
    }
   },
   "outputs": [
    {
     "name": "stdout",
     "output_type": "stream",
     "text": [
      "[[ 0  1  2]\n",
      " [ 3  4  5]\n",
      " [ 6  7  8]\n",
      " [ 9 10 11]]\n"
     ]
    },
    {
     "data": {
      "text/plain": [
       "array([[42, 42, 42],\n",
       "       [ 3,  4,  5],\n",
       "       [ 6,  7,  8],\n",
       "       [ 9, 10, 11]])"
      ]
     },
     "execution_count": 144,
     "metadata": {},
     "output_type": "execute_result"
    }
   ],
   "source": [
    "print(arr)\n",
    "arr[0] = 42\n",
    "arr"
   ]
  },
  {
   "cell_type": "code",
   "execution_count": 145,
   "metadata": {
    "ExecuteTime": {
     "end_time": "2023-03-31T21:16:07.979926Z",
     "start_time": "2023-03-31T21:16:07.975938Z"
    }
   },
   "outputs": [
    {
     "data": {
      "text/plain": [
       "array([[ 0,  1,  2],\n",
       "       [ 3,  4,  5],\n",
       "       [ 6,  7,  8],\n",
       "       [ 9, 10, 11]])"
      ]
     },
     "execution_count": 145,
     "metadata": {},
     "output_type": "execute_result"
    }
   ],
   "source": [
    "x # orjinal arr'da yaptığımız değişiklikler kopya olan x arrayini etkilemez"
   ]
  },
  {
   "cell_type": "markdown",
   "metadata": {},
   "source": [
    "## transpose"
   ]
  },
  {
   "cell_type": "markdown",
   "metadata": {},
   "source": [
    "transpose() fonksiyonu, NumPy dizilerinin boyutlarını değiştiren bir işlevdir. Özellikle matrislerin transpozunu almak için kullanılır.\n",
    "\n",
    "Bir matrisin transpozunu almak, matrisin satırlarını sütunlarına, sütunlarını da satırlarına dönüştürür."
   ]
  },
  {
   "cell_type": "code",
   "execution_count": 146,
   "metadata": {
    "ExecuteTime": {
     "end_time": "2023-03-31T21:18:54.669062Z",
     "start_time": "2023-03-31T21:18:54.664935Z"
    }
   },
   "outputs": [
    {
     "data": {
      "text/plain": [
       "array([[42, 42, 42],\n",
       "       [ 3,  4,  5],\n",
       "       [ 6,  7,  8],\n",
       "       [ 9, 10, 11]])"
      ]
     },
     "execution_count": 146,
     "metadata": {},
     "output_type": "execute_result"
    }
   ],
   "source": [
    "arr"
   ]
  },
  {
   "cell_type": "code",
   "execution_count": 147,
   "metadata": {
    "ExecuteTime": {
     "end_time": "2023-03-31T21:19:00.530822Z",
     "start_time": "2023-03-31T21:19:00.527280Z"
    }
   },
   "outputs": [
    {
     "data": {
      "text/plain": [
       "array([[42,  3,  6,  9],\n",
       "       [42,  4,  7, 10],\n",
       "       [42,  5,  8, 11]])"
      ]
     },
     "execution_count": 147,
     "metadata": {},
     "output_type": "execute_result"
    }
   ],
   "source": [
    "arr.transpose()"
   ]
  },
  {
   "cell_type": "code",
   "execution_count": 149,
   "metadata": {
    "ExecuteTime": {
     "end_time": "2023-03-31T21:19:33.899768Z",
     "start_time": "2023-03-31T21:19:33.896232Z"
    }
   },
   "outputs": [
    {
     "data": {
      "text/plain": [
       "array([[42, 42, 42],\n",
       "       [ 3,  4,  5],\n",
       "       [ 6,  7,  8],\n",
       "       [ 9, 10, 11]])"
      ]
     },
     "execution_count": 149,
     "metadata": {},
     "output_type": "execute_result"
    }
   ],
   "source": [
    "arr"
   ]
  },
  {
   "cell_type": "code",
   "execution_count": 150,
   "metadata": {
    "ExecuteTime": {
     "end_time": "2023-03-31T21:19:36.805345Z",
     "start_time": "2023-03-31T21:19:36.800820Z"
    }
   },
   "outputs": [
    {
     "data": {
      "text/plain": [
       "array([[ 1, 42, 42],\n",
       "       [ 3,  4,  5],\n",
       "       [ 6,  7,  8],\n",
       "       [ 9, 10, 11]])"
      ]
     },
     "execution_count": 150,
     "metadata": {},
     "output_type": "execute_result"
    }
   ],
   "source": [
    "arr[0][0] = 1\n",
    "arr"
   ]
  },
  {
   "cell_type": "markdown",
   "metadata": {},
   "source": [
    "# Concatenation of the Arrays"
   ]
  },
  {
   "cell_type": "markdown",
   "metadata": {},
   "source": [
    "[numpy.concatenate 01](https://numpy.org/doc/stable/reference/generated/numpy.concatenate.html),\n",
    "[numpy.concatenate 02](https://sparkbyexamples.com/numpy/numpy-concatenate-arrays/),\n",
    "[numpy.concatenate 03](https://www.tutorialspoint.com/numpy/numpy_concatenate.htm),\n",
    "[numpy.concatenate 04](https://www.w3resource.com/numpy/manipulation/concatenate.php)"
   ]
  },
  {
   "cell_type": "markdown",
   "metadata": {},
   "source": [
    "concatenate() fonksiyonu, iki veya daha fazla diziyi birleştirmek için kullanılır. \n",
    "\n",
    "Fonksiyonun ilk parametresi birleştirilecek dizilerin bir listesidir. \n",
    "\n",
    "İkinci parametre ise, birleştirme işleminin hangi eksen veya boyuta göre yapılacağını belirten bir parametredir.\n",
    "\n",
    "Örneğin, axis=0 parametresi, dizilerin satır bazında (dikey birleştirme) birleştirilmesini, axis=1 parametresi ise sütun bazında (yatay birleştirme) birleştirilmesini sağlar."
   ]
  },
  {
   "cell_type": "code",
   "execution_count": null,
   "metadata": {},
   "outputs": [],
   "source": []
  },
  {
   "cell_type": "code",
   "execution_count": null,
   "metadata": {},
   "outputs": [],
   "source": []
  },
  {
   "cell_type": "markdown",
   "metadata": {},
   "source": [
    "# Splitting of the Arrays"
   ]
  },
  {
   "cell_type": "markdown",
   "metadata": {},
   "source": [
    "[numpy.split 01](https://www.w3resource.com/numpy/manipulation/split.php),\n",
    "[numpy.split 02](https://sparkbyexamples.com/numpy/numpy-split-array/),\n",
    "[numpy.split 03](https://numpy.org/doc/stable/reference/generated/numpy.array_split.html),\n",
    "[numpy.split 04](https://www.w3schools.com/python/numpy/numpy_array_split.asp)"
   ]
  },
  {
   "cell_type": "markdown",
   "metadata": {},
   "source": [
    "split(), numpy dizisini belirtilen eksende eşit parçalara bölmek için kullanılır."
   ]
  },
  {
   "cell_type": "code",
   "execution_count": null,
   "metadata": {},
   "outputs": [],
   "source": []
  },
  {
   "cell_type": "code",
   "execution_count": null,
   "metadata": {},
   "outputs": [],
   "source": []
  },
  {
   "cell_type": "markdown",
   "metadata": {},
   "source": [
    "# Sorting of the Arrays"
   ]
  },
  {
   "cell_type": "markdown",
   "metadata": {},
   "source": [
    "[numpy.sort 01](https://www.w3schools.com/python/numpy/numpy_array_sort.asp),\n",
    "[numpy.sort 02](https://sparkbyexamples.com/python/numpy-sort-arrays-examples/),\n",
    "[numpy.sort 03](https://numpy.org/doc/stable/reference/generated/numpy.ndarray.sort.html),\n",
    "[numpy.sort 04](https://www.geeksforgeeks.org/how-to-sort-a-numpy-array-python/)"
   ]
  },
  {
   "cell_type": "markdown",
   "metadata": {},
   "source": [
    "sort(), numerik ya da alfabetik array elemanlarını, numerik veya alfabetik sıralarına göre sıralamasını yapar."
   ]
  },
  {
   "cell_type": "code",
   "execution_count": null,
   "metadata": {},
   "outputs": [],
   "source": []
  },
  {
   "cell_type": "code",
   "execution_count": null,
   "metadata": {},
   "outputs": [],
   "source": []
  }
 ],
 "metadata": {
  "kernelspec": {
   "display_name": "Python 3 (ipykernel)",
   "language": "python",
   "name": "python3"
  },
  "language_info": {
   "codemirror_mode": {
    "name": "ipython",
    "version": 3
   },
   "file_extension": ".py",
   "mimetype": "text/x-python",
   "name": "python",
   "nbconvert_exporter": "python",
   "pygments_lexer": "ipython3",
   "version": "3.10.9"
  },
  "toc": {
   "base_numbering": 1,
   "nav_menu": {},
   "number_sections": true,
   "sideBar": true,
   "skip_h1_title": false,
   "title_cell": "Table of Contents",
   "title_sidebar": "Contents",
   "toc_cell": false,
   "toc_position": {
    "height": "calc(100% - 180px)",
    "left": "10px",
    "top": "150px",
    "width": "383.991px"
   },
   "toc_section_display": true,
   "toc_window_display": true
  },
  "varInspector": {
   "cols": {
    "lenName": 16,
    "lenType": 16,
    "lenVar": 40
   },
   "kernels_config": {
    "python": {
     "delete_cmd_postfix": "",
     "delete_cmd_prefix": "del ",
     "library": "var_list.py",
     "varRefreshCmd": "print(var_dic_list())"
    },
    "r": {
     "delete_cmd_postfix": ") ",
     "delete_cmd_prefix": "rm(",
     "library": "var_list.r",
     "varRefreshCmd": "cat(var_dic_list()) "
    }
   },
   "types_to_exclude": [
    "module",
    "function",
    "builtin_function_or_method",
    "instance",
    "_Feature"
   ],
   "window_display": false
  }
 },
 "nbformat": 4,
 "nbformat_minor": 4
}
