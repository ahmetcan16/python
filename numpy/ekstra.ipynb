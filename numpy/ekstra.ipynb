{
 "cells": [
  {
   "cell_type": "code",
   "execution_count": 3,
   "id": "604e2bd8",
   "metadata": {
    "ExecuteTime": {
     "end_time": "2023-04-04T10:42:04.738940Z",
     "start_time": "2023-04-04T10:42:04.722752Z"
    }
   },
   "outputs": [],
   "source": [
    "import numpy as np"
   ]
  },
  {
   "cell_type": "markdown",
   "id": "244269d3",
   "metadata": {},
   "source": [
    "# np.flip()"
   ]
  },
  {
   "cell_type": "markdown",
   "id": "1ae14e03",
   "metadata": {},
   "source": [
    "arrayı tersten sıralama"
   ]
  },
  {
   "cell_type": "code",
   "execution_count": 5,
   "id": "40a68c67",
   "metadata": {
    "ExecuteTime": {
     "end_time": "2023-04-04T10:42:12.023168Z",
     "start_time": "2023-04-04T10:42:11.967480Z"
    }
   },
   "outputs": [
    {
     "data": {
      "text/plain": [
       "array([4, 3, 5, 6, 1])"
      ]
     },
     "execution_count": 5,
     "metadata": {},
     "output_type": "execute_result"
    }
   ],
   "source": [
    "a = np.array([4, 3, 5, 6, 1])\n",
    "a"
   ]
  },
  {
   "cell_type": "code",
   "execution_count": 6,
   "id": "7fa6f6e3",
   "metadata": {
    "ExecuteTime": {
     "end_time": "2023-04-04T10:42:19.354019Z",
     "start_time": "2023-04-04T10:42:19.336052Z"
    }
   },
   "outputs": [
    {
     "data": {
      "text/plain": [
       "array([1, 6, 5, 3, 4])"
      ]
     },
     "execution_count": 6,
     "metadata": {},
     "output_type": "execute_result"
    }
   ],
   "source": [
    "np.flip(a)"
   ]
  },
  {
   "cell_type": "markdown",
   "id": "b26b22f7",
   "metadata": {},
   "source": [
    "# np.flatten()"
   ]
  },
  {
   "cell_type": "markdown",
   "id": "2f247033",
   "metadata": {},
   "source": [
    "arrayı (-1) haline getirdi. yani bütün elemanları bir vektöre topladı"
   ]
  },
  {
   "cell_type": "code",
   "execution_count": 2,
   "id": "955c7fe4",
   "metadata": {
    "ExecuteTime": {
     "end_time": "2023-04-04T12:52:22.293124Z",
     "start_time": "2023-04-04T12:52:22.287186Z"
    }
   },
   "outputs": [
    {
     "data": {
      "text/plain": [
       "array([1, 2, 3, 4, 5, 6])"
      ]
     },
     "execution_count": 2,
     "metadata": {},
     "output_type": "execute_result"
    }
   ],
   "source": [
    "my_array = np.array([[1,2,3],\n",
    "                        [4,5,6]])\n",
    "my_array.flatten()\n"
   ]
  },
  {
   "cell_type": "code",
   "execution_count": 6,
   "id": "01efbef4",
   "metadata": {
    "ExecuteTime": {
     "end_time": "2023-04-04T12:53:11.224534Z",
     "start_time": "2023-04-04T12:53:11.207486Z"
    }
   },
   "outputs": [
    {
     "data": {
      "text/plain": [
       "array([1, 2, 3, 4, 5, 6])"
      ]
     },
     "execution_count": 6,
     "metadata": {},
     "output_type": "execute_result"
    }
   ],
   "source": [
    "my_array = np.array([[1,2,3], [4,5,6]]).reshape(-1)\n",
    "my_array"
   ]
  },
  {
   "cell_type": "markdown",
   "id": "c288644d",
   "metadata": {},
   "source": [
    "# np.transpose()"
   ]
  },
  {
   "cell_type": "markdown",
   "id": "71301174",
   "metadata": {},
   "source": [
    "array'in transpozunu verir"
   ]
  },
  {
   "cell_type": "code",
   "execution_count": 12,
   "id": "2930e8fb",
   "metadata": {
    "ExecuteTime": {
     "end_time": "2023-04-04T12:59:47.180050Z",
     "start_time": "2023-04-04T12:59:47.168636Z"
    }
   },
   "outputs": [
    {
     "name": "stdout",
     "output_type": "stream",
     "text": [
      "[[1 2 3]\n",
      " [4 5 6]]\n",
      "[[1 4]\n",
      " [2 5]\n",
      " [3 6]]\n"
     ]
    }
   ],
   "source": [
    "my_array = np.array([[1,2,3],\n",
    "                        [4,5,6]])\n",
    "print(my_array)\n",
    "print(np.transpose(my_array))"
   ]
  },
  {
   "cell_type": "markdown",
   "id": "c55afe53",
   "metadata": {},
   "source": [
    "# np.tile()"
   ]
  },
  {
   "cell_type": "markdown",
   "id": "63861d07",
   "metadata": {},
   "source": [
    "tile() fonksiyonu, iki parametre alır: ilki tekrarlanacak dizi veya matris, ikincisi ise tekrarlama sayısıdır. Tekrarlama sayısı, her boyuttaki tekrarlanma sayılarını belirlemek için bir demet (tuple) olarak da verilebilir."
   ]
  },
  {
   "cell_type": "code",
   "execution_count": 1,
   "id": "cd9741c8",
   "metadata": {
    "ExecuteTime": {
     "end_time": "2023-04-05T05:58:31.119738Z",
     "start_time": "2023-04-05T05:58:31.107116Z"
    }
   },
   "outputs": [
    {
     "name": "stdout",
     "output_type": "stream",
     "text": [
      "[1 2 3 1 2 3 1 2 3]\n"
     ]
    }
   ],
   "source": [
    "a = np.array([1, 2, 3])\n",
    "b = np.tile(a, 3)\n",
    "\n",
    "print(b)"
   ]
  },
  {
   "cell_type": "code",
   "execution_count": 2,
   "id": "b7379fa9",
   "metadata": {
    "ExecuteTime": {
     "end_time": "2023-04-05T05:58:46.251354Z",
     "start_time": "2023-04-05T05:58:46.243169Z"
    }
   },
   "outputs": [
    {
     "name": "stdout",
     "output_type": "stream",
     "text": [
      "[[1 2 1 2 1 2]\n",
      " [3 4 3 4 3 4]\n",
      " [1 2 1 2 1 2]\n",
      " [3 4 3 4 3 4]]\n"
     ]
    }
   ],
   "source": [
    "a = np.array([[1, 2], [3, 4]])\n",
    "b = np.tile(a, (2, 3))\n",
    "\n",
    "print(b)"
   ]
  },
  {
   "cell_type": "markdown",
   "id": "13d8dbc2",
   "metadata": {},
   "source": [
    "# np.where()"
   ]
  },
  {
   "cell_type": "markdown",
   "id": "34e950a1",
   "metadata": {},
   "source": [
    "Bu fonksiyon, belirli bir koşulu sağlayan dizinin elemanlarının indekslerini veya değerlerini döndürür."
   ]
  },
  {
   "cell_type": "code",
   "execution_count": 1,
   "id": "9bab1b1e",
   "metadata": {
    "ExecuteTime": {
     "end_time": "2023-04-05T12:34:51.565149Z",
     "start_time": "2023-04-05T12:34:51.546583Z"
    }
   },
   "outputs": [
    {
     "name": "stdout",
     "output_type": "stream",
     "text": [
      "(array([0, 2, 4], dtype=int64),)\n",
      "(array([1, 3, 5], dtype=int64),)\n"
     ]
    }
   ],
   "source": [
    "arr = np.array([1, -2, 3, -4, 5, -6])\n",
    "\n",
    "positive_indices = np.where(arr > 0)\n",
    "negative_indices = np.where(arr < 0)\n",
    "\n",
    "print(positive_indices) # index numaralarını döndürdü\n",
    "print(negative_indices)"
   ]
  },
  {
   "cell_type": "code",
   "execution_count": 10,
   "id": "9be7d938",
   "metadata": {
    "ExecuteTime": {
     "end_time": "2023-04-05T12:38:44.038298Z",
     "start_time": "2023-04-05T12:38:44.028821Z"
    }
   },
   "outputs": [
    {
     "name": "stdout",
     "output_type": "stream",
     "text": [
      "[  1 100   3 100   5 100]\n",
      "[-100   -2 -100   -4 -100   -6]\n"
     ]
    }
   ],
   "source": [
    "arr = np.array([1, -2, 3, -4, 5, -6])\n",
    "\n",
    "positive_values = np.where(arr > 0, arr, 100)\n",
    "negative_values = np.where(arr < 0, arr, -100)\n",
    "\n",
    "print(positive_values)  # negatif olan değerler yerine 100 yazdırdık\n",
    "print(negative_values) # bir üstteki kod bloğundan farklı olarak burada index değerleri değil elemanların kendisi döndü"
   ]
  },
  {
   "cell_type": "markdown",
   "id": "1cdddac5",
   "metadata": {},
   "source": [
    "# Selection on a Condition- koşullu işlemler"
   ]
  },
  {
   "cell_type": "code",
   "execution_count": 21,
   "id": "0f2724c0",
   "metadata": {
    "ExecuteTime": {
     "end_time": "2023-04-05T13:04:05.552967Z",
     "start_time": "2023-04-05T13:04:05.543241Z"
    }
   },
   "outputs": [
    {
     "name": "stdout",
     "output_type": "stream",
     "text": [
      "[ 1  2 -3 -4 -5 -6 -7 -8  9 10]\n"
     ]
    }
   ],
   "source": [
    "# dizideki between 3 and 8 olanları -1 ile çarptı\n",
    "arr = np.array([1, 2, 3, 4, 5, 6, 7, 8, 9, 10])\n",
    "arr[(arr >= 3) & (arr <= 8)] *= -1\n",
    "print(arr)"
   ]
  },
  {
   "cell_type": "code",
   "execution_count": 23,
   "id": "d63d3b11",
   "metadata": {
    "ExecuteTime": {
     "end_time": "2023-04-05T13:04:30.047747Z",
     "start_time": "2023-04-05T13:04:30.031254Z"
    }
   },
   "outputs": [
    {
     "name": "stdout",
     "output_type": "stream",
     "text": [
      "5\n"
     ]
    }
   ],
   "source": [
    "# dizideki 5 ten büyük eleman sayısını döndürdü\n",
    "arr = np.array([1, 2, 3, 4, 5, 6, 7, 8, 9, 10])\n",
    "\n",
    "count = np.count_nonzero(arr > 5)\n",
    "\n",
    "print(count)"
   ]
  },
  {
   "cell_type": "code",
   "execution_count": 26,
   "id": "2a47e05b",
   "metadata": {
    "ExecuteTime": {
     "end_time": "2023-04-05T13:06:20.293438Z",
     "start_time": "2023-04-05T13:06:20.277454Z"
    }
   },
   "outputs": [
    {
     "name": "stdout",
     "output_type": "stream",
     "text": [
      "30\n"
     ]
    }
   ],
   "source": [
    "#dizideki çift sayıların toplamını hesapladık\n",
    "arr = np.array([1, 2, 3, 4, 5, 6, 7, 8, 9, 10])\n",
    "sum_val = np.sum(arr[arr % 2 == 0])\n",
    "\n",
    "print(sum_val)"
   ]
  },
  {
   "cell_type": "code",
   "execution_count": 27,
   "id": "59cb92e8",
   "metadata": {
    "ExecuteTime": {
     "end_time": "2023-04-05T13:06:41.942130Z",
     "start_time": "2023-04-05T13:06:41.925150Z"
    }
   },
   "outputs": [
    {
     "name": "stdout",
     "output_type": "stream",
     "text": [
      "8.0\n"
     ]
    }
   ],
   "source": [
    "#dizideki 5 ten büyük elemanların ortalamasını hesapladı\n",
    "arr = np.array([1, 2, 3, 4, 5, 6, 7, 8, 9, 10])\n",
    "mean_val = np.mean(arr[arr > 5])\n",
    "\n",
    "print(mean_val)"
   ]
  },
  {
   "cell_type": "code",
   "execution_count": 28,
   "id": "f13887e8",
   "metadata": {
    "ExecuteTime": {
     "end_time": "2023-04-05T13:07:49.515582Z",
     "start_time": "2023-04-05T13:07:49.508402Z"
    }
   },
   "outputs": [
    {
     "name": "stdout",
     "output_type": "stream",
     "text": [
      "6\n",
      "4\n"
     ]
    }
   ],
   "source": [
    "# dizideki 7 den küçük elemanlar arasındaki max\n",
    "# dizideki 3 ten büyükler arasındaki min\n",
    "\n",
    "arr = np.array([1, 2, 3, 4, 5, 6, 7, 8, 9, 10])\n",
    "max_val = np.max(arr[arr < 7])\n",
    "min_val = np.min(arr[arr > 3])\n",
    "\n",
    "print(max_val)\n",
    "print(min_val)"
   ]
  },
  {
   "cell_type": "code",
   "execution_count": 30,
   "id": "3f29f0a7",
   "metadata": {
    "ExecuteTime": {
     "end_time": "2023-04-05T13:09:35.293059Z",
     "start_time": "2023-04-05T13:09:35.278338Z"
    }
   },
   "outputs": [
    {
     "name": "stdout",
     "output_type": "stream",
     "text": [
      "[[ 4 12 25]\n",
      " [16 64  1]]\n"
     ]
    }
   ],
   "source": [
    "#eleman 0 dan büyük ve 10 dan küçükse karesini al\n",
    "arr = np.array([[2, 12, 5], [4, 8, 1]])\n",
    "arr[(arr > 0) & (arr < 10)] **= 2\n",
    "\n",
    "print(arr)\n",
    "# çıktı: [[4, 0, 25], [16, 64, 1]]"
   ]
  },
  {
   "cell_type": "code",
   "execution_count": 31,
   "id": "a8ceacbb",
   "metadata": {
    "ExecuteTime": {
     "end_time": "2023-04-05T13:10:37.424294Z",
     "start_time": "2023-04-05T13:10:37.405152Z"
    }
   },
   "outputs": [
    {
     "name": "stdout",
     "output_type": "stream",
     "text": [
      "[  1  -2  -3  -4   5  -6   7  -8  -9 -10]\n"
     ]
    }
   ],
   "source": [
    "# 2 veya 3' e tam bölünenleri -1 ile çarp\n",
    "arr = np.array([1, 2, 3, 4, 5, 6, 7, 8, 9, 10])\n",
    "arr[(arr % 2 == 0) | (arr % 3 == 0)] *= -1\n",
    "\n",
    "print(arr)\n",
    "# çıktı: [ 1 -2 -3 -4  5  6 -7 -8 -9 10]"
   ]
  },
  {
   "cell_type": "markdown",
   "id": "dc9a0c97",
   "metadata": {},
   "source": [
    "# np.array_equal()"
   ]
  },
  {
   "cell_type": "code",
   "execution_count": 32,
   "id": "a433c6b0",
   "metadata": {
    "ExecuteTime": {
     "end_time": "2023-04-05T13:12:55.091809Z",
     "start_time": "2023-04-05T13:12:55.076605Z"
    }
   },
   "outputs": [
    {
     "name": "stdout",
     "output_type": "stream",
     "text": [
      "Diziler eşit değildir.\n"
     ]
    }
   ],
   "source": [
    "\n",
    "A = np.random.randint(0, 5, 5)\n",
    "B = np.random.randint(0, 5, 5)\n",
    "\n",
    "# Dizilerin eşitliğini kontrol etme\n",
    "if np.array_equal(A, B):\n",
    "    print(\"Diziler eşittir.\")\n",
    "else:\n",
    "    print(\"Diziler eşit değildir.\")"
   ]
  },
  {
   "cell_type": "code",
   "execution_count": 1,
   "id": "192f247d",
   "metadata": {
    "ExecuteTime": {
     "end_time": "2023-04-08T12:32:22.114683Z",
     "start_time": "2023-04-08T12:32:22.107594Z"
    }
   },
   "outputs": [
    {
     "name": "stdout",
     "output_type": "stream",
     "text": [
      "[1 3 1 2 1 2 0 1]\n"
     ]
    }
   ],
   "source": [
    "arr = np.array([0, 1, 1, 3, 2, 1, 7, 5, 4, 5, 3])\n",
    "\n",
    "# Bincount() fonksiyonunu kullanarak her bir benzersiz değerin sayısını bulun\n",
    "count = np.bincount(arr)\n",
    "\n",
    "print(count)"
   ]
  },
  {
   "cell_type": "markdown",
   "id": "cc109ab5",
   "metadata": {},
   "source": [
    "# np.bincount()"
   ]
  },
  {
   "cell_type": "code",
   "execution_count": 2,
   "id": "0452bf57",
   "metadata": {
    "ExecuteTime": {
     "end_time": "2023-04-08T12:38:45.734722Z",
     "start_time": "2023-04-08T12:38:45.730000Z"
    }
   },
   "outputs": [
    {
     "name": "stdout",
     "output_type": "stream",
     "text": [
      "[1 3 1 2 1 2 0 1]\n"
     ]
    }
   ],
   "source": [
    "arr = np.array([0, 1, 1, 3, 2, 1, 7, 5, 4, 5, 3])\n",
    "\n",
    "# Bincount() fonksiyonunu kullanarak her bir benzersiz değerin sayısını bulun\n",
    "count = np.bincount(arr)\n",
    "\n",
    "print(count) # 0'dan 1 adet, 1'den 3 adet, 2'den 1 adet ....."
   ]
  },
  {
   "cell_type": "markdown",
   "id": "ec621eaf",
   "metadata": {},
   "source": [
    "# np.nonzero()"
   ]
  },
  {
   "cell_type": "code",
   "execution_count": 1,
   "id": "4118b519",
   "metadata": {
    "ExecuteTime": {
     "end_time": "2023-04-10T15:09:07.985060Z",
     "start_time": "2023-04-10T15:09:07.976027Z"
    }
   },
   "outputs": [
    {
     "name": "stdout",
     "output_type": "stream",
     "text": [
      "(array([0, 0, 1, 1], dtype=int64), array([1, 2, 0, 2], dtype=int64))\n"
     ]
    }
   ],
   "source": [
    "arr = np.array([[0, 1, 2], [3, 0, 5]])\n",
    "\n",
    "# arr içinde sıfırdan farklı elemanların indislerini döndürür\n",
    "nonzero_indices = np.nonzero(arr)\n",
    "\n",
    "print(nonzero_indices)"
   ]
  },
  {
   "cell_type": "markdown",
   "id": "32a762b1",
   "metadata": {},
   "source": [
    "# np.unravel_index()\n",
    "Örneğin, bu kod np.unravel_index(100, (6,7,8)) 7 satır, 8 sütun ve 6 derinlikli bir dizi içindeki 100 numaralı elemanın indislerini hesaplar. İndisler, tuple formatında (x, y, z) olarak döndürülür."
   ]
  },
  {
   "cell_type": "code",
   "execution_count": 2,
   "id": "7e787ef2",
   "metadata": {
    "ExecuteTime": {
     "end_time": "2023-04-10T15:37:44.657061Z",
     "start_time": "2023-04-10T15:37:44.648519Z"
    }
   },
   "outputs": [
    {
     "name": "stdout",
     "output_type": "stream",
     "text": [
      "(1, 5, 4)\n"
     ]
    }
   ],
   "source": [
    "print(np.unravel_index(100,(6,7,8)))"
   ]
  },
  {
   "cell_type": "markdown",
   "id": "c2439773",
   "metadata": {},
   "source": [
    "# np.random.seed()"
   ]
  },
  {
   "cell_type": "code",
   "execution_count": null,
   "id": "610fccee",
   "metadata": {},
   "outputs": [],
   "source": [
    "# np.random.seed(42)\n",
    "# np.random.seed(101)"
   ]
  },
  {
   "cell_type": "markdown",
   "id": "3b88dbc6",
   "metadata": {},
   "source": [
    "# np.diag()"
   ]
  },
  {
   "cell_type": "code",
   "execution_count": null,
   "id": "71b7cd3d",
   "metadata": {},
   "outputs": [],
   "source": []
  },
  {
   "cell_type": "code",
   "execution_count": null,
   "id": "8e5b598f",
   "metadata": {},
   "outputs": [],
   "source": []
  },
  {
   "cell_type": "markdown",
   "id": "d0e696e8",
   "metadata": {},
   "source": [
    "# np.corrcoef()"
   ]
  },
  {
   "cell_type": "code",
   "execution_count": null,
   "id": "ac67f72c",
   "metadata": {},
   "outputs": [],
   "source": []
  },
  {
   "cell_type": "markdown",
   "id": "e88d380a",
   "metadata": {},
   "source": [
    "# np.take()"
   ]
  },
  {
   "cell_type": "code",
   "execution_count": null,
   "id": "81a5bab5",
   "metadata": {},
   "outputs": [],
   "source": []
  },
  {
   "cell_type": "code",
   "execution_count": null,
   "id": "08de4006",
   "metadata": {},
   "outputs": [],
   "source": []
  },
  {
   "cell_type": "code",
   "execution_count": null,
   "id": "71f6b8e1",
   "metadata": {},
   "outputs": [],
   "source": []
  },
  {
   "cell_type": "code",
   "execution_count": null,
   "id": "cb358aa2",
   "metadata": {},
   "outputs": [],
   "source": []
  },
  {
   "cell_type": "code",
   "execution_count": null,
   "id": "09b9cf5d",
   "metadata": {},
   "outputs": [],
   "source": []
  },
  {
   "cell_type": "code",
   "execution_count": null,
   "id": "fbdcf7fb",
   "metadata": {},
   "outputs": [],
   "source": []
  }
 ],
 "metadata": {
  "kernelspec": {
   "display_name": "Python 3 (ipykernel)",
   "language": "python",
   "name": "python3"
  },
  "language_info": {
   "codemirror_mode": {
    "name": "ipython",
    "version": 3
   },
   "file_extension": ".py",
   "mimetype": "text/x-python",
   "name": "python",
   "nbconvert_exporter": "python",
   "pygments_lexer": "ipython3",
   "version": "3.10.9"
  },
  "toc": {
   "base_numbering": 1,
   "nav_menu": {},
   "number_sections": true,
   "sideBar": true,
   "skip_h1_title": false,
   "title_cell": "Table of Contents",
   "title_sidebar": "Contents",
   "toc_cell": false,
   "toc_position": {
    "height": "calc(100% - 180px)",
    "left": "10px",
    "top": "150px",
    "width": "383.935px"
   },
   "toc_section_display": true,
   "toc_window_display": true
  },
  "varInspector": {
   "cols": {
    "lenName": 16,
    "lenType": 16,
    "lenVar": 40
   },
   "kernels_config": {
    "python": {
     "delete_cmd_postfix": "",
     "delete_cmd_prefix": "del ",
     "library": "var_list.py",
     "varRefreshCmd": "print(var_dic_list())"
    },
    "r": {
     "delete_cmd_postfix": ") ",
     "delete_cmd_prefix": "rm(",
     "library": "var_list.r",
     "varRefreshCmd": "cat(var_dic_list()) "
    }
   },
   "types_to_exclude": [
    "module",
    "function",
    "builtin_function_or_method",
    "instance",
    "_Feature"
   ],
   "window_display": false
  }
 },
 "nbformat": 4,
 "nbformat_minor": 5
}
